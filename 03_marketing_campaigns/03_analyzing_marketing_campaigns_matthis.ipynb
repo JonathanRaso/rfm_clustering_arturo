{
 "cells": [
  {
   "cell_type": "markdown",
   "id": "copyrighted-revelation",
   "metadata": {},
   "source": [
    "# Customer analysis in marketing campaigns"
   ]
  },
  {
   "cell_type": "markdown",
   "id": "professional-uganda",
   "metadata": {},
   "source": [
    "In this exercise, you work for a consulting firm as data scientist. In this scenario, your client is the marketing team of a grocery store. They would like to find <strong>which are the ideal customers</strong> according to the results of the last marketing campaigns. Your analysis will be helpful to adapt and modify products according to the different needs and behavior of their customers.\n",
    "\n",
    "You dispose of a dataset from the mall dataset with several features:\n",
    "\n",
    "\n",
    "People\n",
    "\n",
    "- ID: Customer's unique identifier\n",
    "- Year_Birth: Customer's birth year\n",
    "- Education: Customer's education level\n",
    "- Marital_Status: Customer's marital status\n",
    "- Income: Customer's yearly household income\n",
    "- Kidhome: Number of children in customer's household\n",
    "- Teenhome: Number of teenagers in customer's household\n",
    "- Dt_Customer: Date of customer's enrollment with the company\n",
    "- Recency: Number of days since customer's last purchase\n",
    "- Complain: 1 if customer complained in the last 2 years, 0 otherwise \n",
    "\n",
    "Products\n",
    "\n",
    "- MntWines: Amount spent on wine in last 2 years\n",
    "- MntFruits: Amount spent on fruits in last 2 years\n",
    "- MntMeatProducts: Amount spent on meat in last 2 years\n",
    "- MntFishProducts: Amount spent on fish in last 2 years\n",
    "- MntSweetProducts: Amount spent on sweets in last 2 years\n",
    "- MntGoldProds: Amount spent on gold in last 2 years\n",
    "\n",
    "Promotion\n",
    "\n",
    "- NumDealsPurchases: Number of purchases made with a discount\n",
    "- AcceptedCmp1: 1 if customer accepted the offer in the 1st campaign, 0 otherwise\n",
    "- AcceptedCmp2: 1 if customer accepted the offer in the 2nd campaign, 0 otherwise\n",
    "- AcceptedCmp3: 1 if customer accepted the offer in the 3rd campaign, 0 otherwise\n",
    "- AcceptedCmp4: 1 if customer accepted the offer in the 4th campaign, 0 otherwise\n",
    "- AcceptedCmp5: 1 if customer accepted the offer in the 5th campaign, 0 otherwise\n",
    "- Response: 1 if customer accepted the offer in the last campaign, 0 otherwise\n",
    "\n",
    "Place\n",
    "\n",
    "- NumWebPurchases: Number of purchases made through the company’s web site\n",
    "- NumCatalogPurchases: Number of purchases made using a catalogue\n",
    "- NumStorePurchases: Number of purchases made directly in stores\n",
    "- NumWebVisitsMonth: Number of visits to company’s web site in the last month\n",
    "\n",
    "'Z_CostContact' and 'Z_Revenue' contains constant value across all the observations and therefore they will not contribute anything in the analysis."
   ]
  },
  {
   "cell_type": "markdown",
   "id": "heard-nightmare",
   "metadata": {},
   "source": [
    "You have two days to do this study"
   ]
  },
  {
   "cell_type": "markdown",
   "id": "45116917",
   "metadata": {},
   "source": [
    "# Import des librairies "
   ]
  },
  {
   "cell_type": "code",
   "execution_count": 1,
   "id": "seventh-circuit",
   "metadata": {},
   "outputs": [],
   "source": [
    "import numpy as np\n",
    "import pandas as pd\n",
    "import matplotlib.pyplot as plt\n",
    "from sklearn.linear_model import LinearRegression\n",
    "import seaborn as sns\n",
    "from sklearn.impute import MissingIndicator \n",
    "from sklearn.model_selection import train_test_split\n",
    "from sklearn.neighbors import KNeighborsRegressor"
   ]
  },
  {
   "cell_type": "markdown",
   "id": "f29aa3d9",
   "metadata": {},
   "source": [
    "# Data cleaning"
   ]
  },
  {
   "cell_type": "code",
   "execution_count": 2,
   "id": "mental-devices",
   "metadata": {},
   "outputs": [
    {
     "data": {
      "text/plain": [
       "0"
      ]
     },
     "execution_count": 2,
     "metadata": {},
     "output_type": "execute_result"
    }
   ],
   "source": [
    "campaign_df = pd.read_csv('marketing_campaign.txt', sep=\"\\t\")\n",
    "campaign_df.duplicated().sum()"
   ]
  },
  {
   "cell_type": "code",
   "execution_count": 3,
   "id": "controlling-attack",
   "metadata": {},
   "outputs": [],
   "source": [
    "df = campaign_df.drop(['Z_CostContact','Z_Revenue'],axis=1)"
   ]
  },
  {
   "cell_type": "code",
   "execution_count": 4,
   "id": "9d25a13a",
   "metadata": {},
   "outputs": [
    {
     "data": {
      "text/plain": [
       "count    2240.000000\n",
       "mean     1968.805804\n",
       "std        11.984069\n",
       "min      1893.000000\n",
       "25%      1959.000000\n",
       "50%      1970.000000\n",
       "75%      1977.000000\n",
       "max      1996.000000\n",
       "Name: Year_Birth, dtype: float64"
      ]
     },
     "execution_count": 4,
     "metadata": {},
     "output_type": "execute_result"
    }
   ],
   "source": [
    "df['Year_Birth'].describe()"
   ]
  },
  {
   "cell_type": "code",
   "execution_count": 5,
   "id": "370fc9bf",
   "metadata": {},
   "outputs": [],
   "source": [
    "df.drop(df.index[df['Year_Birth'] <= 1920], inplace=True)"
   ]
  },
  {
   "cell_type": "code",
   "execution_count": 6,
   "id": "ea4f8652",
   "metadata": {},
   "outputs": [],
   "source": [
    "df = df.dropna()"
   ]
  },
  {
   "cell_type": "code",
   "execution_count": 7,
   "id": "dabdf142",
   "metadata": {
    "scrolled": true
   },
   "outputs": [
    {
     "data": {
      "text/plain": [
       "0"
      ]
     },
     "execution_count": 7,
     "metadata": {},
     "output_type": "execute_result"
    }
   ],
   "source": [
    "df.duplicated().sum()"
   ]
  },
  {
   "cell_type": "code",
   "execution_count": 8,
   "id": "07dc5fb2",
   "metadata": {},
   "outputs": [
    {
     "data": {
      "text/plain": [
       "2213"
      ]
     },
     "execution_count": 8,
     "metadata": {},
     "output_type": "execute_result"
    }
   ],
   "source": [
    "df['ID'].nunique()"
   ]
  },
  {
   "cell_type": "markdown",
   "id": "dominican-buying",
   "metadata": {},
   "source": [
    "# EDA"
   ]
  },
  {
   "cell_type": "markdown",
   "id": "d668759d",
   "metadata": {},
   "source": [
    "## Product"
   ]
  },
  {
   "cell_type": "code",
   "execution_count": 9,
   "id": "dimensional-saying",
   "metadata": {},
   "outputs": [],
   "source": [
    "df_product= df[['Marital_Status','MntWines','MntFruits','MntMeatProducts','MntFishProducts','MntSweetProducts','MntGoldProds']]"
   ]
  },
  {
   "cell_type": "code",
   "execution_count": 10,
   "id": "7905f9ec",
   "metadata": {},
   "outputs": [
    {
     "data": {
      "text/plain": [
       "<AxesSubplot:xlabel='MntWines', ylabel='Marital_Status'>"
      ]
     },
     "execution_count": 10,
     "metadata": {},
     "output_type": "execute_result"
    },
    {
     "data": {
      "image/png": "[encoded data removed]",
      "text/plain": [
       "<Figure size 432x288 with 1 Axes>"
      ]
     },
     "metadata": {
      "needs_background": "light"
     },
     "output_type": "display_data"
    }
   ],
   "source": [
    "sns.pie(x=df_product['MntWines'], y=df_product['Marital_Status'])"
   ]
  },
  {
   "cell_type": "code",
   "execution_count": 11,
   "id": "8a26cd22",
   "metadata": {},
   "outputs": [
    {
     "data": {
      "text/plain": [
       "Married     857\n",
       "Together    572\n",
       "Single      470\n",
       "Divorced    231\n",
       "Widow        76\n",
       "Alone         3\n",
       "Absurd        2\n",
       "YOLO          2\n",
       "Name: Marital_Status, dtype: int64"
      ]
     },
     "execution_count": 11,
     "metadata": {},
     "output_type": "execute_result"
    }
   ],
   "source": [
    "df['Marital_Status'].value_counts()"
   ]
  },
  {
   "cell_type": "code",
   "execution_count": 12,
   "id": "8f022283",
   "metadata": {},
   "outputs": [],
   "source": [
    "df.drop(df.index[df['Marital_Status'] == 'YOLO'], inplace = True)"
   ]
  },
  {
   "cell_type": "code",
   "execution_count": 13,
   "id": "6b21a412",
   "metadata": {},
   "outputs": [],
   "source": [
    "df.drop(df.index[df['Marital_Status'] == 'Absurd'], inplace = True)"
   ]
  },
  {
   "cell_type": "code",
   "execution_count": 14,
   "id": "333e13e9",
   "metadata": {},
   "outputs": [],
   "source": [
    "df.drop(df.index[df['Marital_Status'] == 'Alone'], inplace = True)"
   ]
  },
  {
   "cell_type": "code",
   "execution_count": 15,
   "id": "36d1cd7f",
   "metadata": {},
   "outputs": [
    {
     "data": {
      "text/plain": [
       "Married     857\n",
       "Together    572\n",
       "Single      470\n",
       "Divorced    231\n",
       "Widow        76\n",
       "Name: Marital_Status, dtype: int64"
      ]
     },
     "execution_count": 15,
     "metadata": {},
     "output_type": "execute_result"
    }
   ],
   "source": [
    "df['Marital_Status'].value_counts()"
   ]
  },
  {
   "cell_type": "code",
   "execution_count": 16,
   "id": "d7402729",
   "metadata": {},
   "outputs": [
    {
     "data": {
      "text/plain": [
       "(2206, 27)"
      ]
     },
     "execution_count": 16,
     "metadata": {},
     "output_type": "execute_result"
    }
   ],
   "source": [
    "df.shape"
   ]
  },
  {
   "cell_type": "markdown",
   "id": "specific-sewing",
   "metadata": {},
   "source": [
    "# Customer Segmentation"
   ]
  },
  {
   "cell_type": "markdown",
   "id": "379fc791",
   "metadata": {},
   "source": [
    "# RFM Score"
   ]
  },
  {
   "cell_type": "code",
   "execution_count": 17,
   "id": "afd19de7",
   "metadata": {},
   "outputs": [
    {
     "data": {
      "text/html": [
       "<div>\n",
       "<style scoped>\n",
       "    .dataframe tbody tr th:only-of-type {\n",
       "        vertical-align: middle;\n",
       "    }\n",
       "\n",
       "    .dataframe tbody tr th {\n",
       "        vertical-align: top;\n",
       "    }\n",
       "\n",
       "    .dataframe thead th {\n",
       "        text-align: right;\n",
       "    }\n",
       "</style>\n",
       "<table border=\"1\" class=\"dataframe\">\n",
       "  <thead>\n",
       "    <tr style=\"text-align: right;\">\n",
       "      <th></th>\n",
       "      <th>MntWines</th>\n",
       "      <th>MntFruits</th>\n",
       "      <th>MntMeatProducts</th>\n",
       "      <th>MntFishProducts</th>\n",
       "      <th>MntSweetProducts</th>\n",
       "      <th>MntGoldProds</th>\n",
       "    </tr>\n",
       "  </thead>\n",
       "  <tbody>\n",
       "    <tr>\n",
       "      <th>0</th>\n",
       "      <td>635</td>\n",
       "      <td>88</td>\n",
       "      <td>546</td>\n",
       "      <td>172</td>\n",
       "      <td>88</td>\n",
       "      <td>88</td>\n",
       "    </tr>\n",
       "    <tr>\n",
       "      <th>1</th>\n",
       "      <td>11</td>\n",
       "      <td>1</td>\n",
       "      <td>6</td>\n",
       "      <td>2</td>\n",
       "      <td>1</td>\n",
       "      <td>6</td>\n",
       "    </tr>\n",
       "    <tr>\n",
       "      <th>2</th>\n",
       "      <td>426</td>\n",
       "      <td>49</td>\n",
       "      <td>127</td>\n",
       "      <td>111</td>\n",
       "      <td>21</td>\n",
       "      <td>42</td>\n",
       "    </tr>\n",
       "    <tr>\n",
       "      <th>3</th>\n",
       "      <td>11</td>\n",
       "      <td>4</td>\n",
       "      <td>20</td>\n",
       "      <td>10</td>\n",
       "      <td>3</td>\n",
       "      <td>5</td>\n",
       "    </tr>\n",
       "    <tr>\n",
       "      <th>4</th>\n",
       "      <td>173</td>\n",
       "      <td>43</td>\n",
       "      <td>118</td>\n",
       "      <td>46</td>\n",
       "      <td>27</td>\n",
       "      <td>15</td>\n",
       "    </tr>\n",
       "    <tr>\n",
       "      <th>...</th>\n",
       "      <td>...</td>\n",
       "      <td>...</td>\n",
       "      <td>...</td>\n",
       "      <td>...</td>\n",
       "      <td>...</td>\n",
       "      <td>...</td>\n",
       "    </tr>\n",
       "    <tr>\n",
       "      <th>2235</th>\n",
       "      <td>709</td>\n",
       "      <td>43</td>\n",
       "      <td>182</td>\n",
       "      <td>42</td>\n",
       "      <td>118</td>\n",
       "      <td>247</td>\n",
       "    </tr>\n",
       "    <tr>\n",
       "      <th>2236</th>\n",
       "      <td>406</td>\n",
       "      <td>0</td>\n",
       "      <td>30</td>\n",
       "      <td>0</td>\n",
       "      <td>0</td>\n",
       "      <td>8</td>\n",
       "    </tr>\n",
       "    <tr>\n",
       "      <th>2237</th>\n",
       "      <td>908</td>\n",
       "      <td>48</td>\n",
       "      <td>217</td>\n",
       "      <td>32</td>\n",
       "      <td>12</td>\n",
       "      <td>24</td>\n",
       "    </tr>\n",
       "    <tr>\n",
       "      <th>2238</th>\n",
       "      <td>428</td>\n",
       "      <td>30</td>\n",
       "      <td>214</td>\n",
       "      <td>80</td>\n",
       "      <td>30</td>\n",
       "      <td>61</td>\n",
       "    </tr>\n",
       "    <tr>\n",
       "      <th>2239</th>\n",
       "      <td>84</td>\n",
       "      <td>3</td>\n",
       "      <td>61</td>\n",
       "      <td>2</td>\n",
       "      <td>1</td>\n",
       "      <td>21</td>\n",
       "    </tr>\n",
       "  </tbody>\n",
       "</table>\n",
       "<p>2206 rows × 6 columns</p>\n",
       "</div>"
      ],
      "text/plain": [
       "      MntWines  MntFruits  MntMeatProducts  MntFishProducts  MntSweetProducts  \\\n",
       "0          635         88              546              172                88   \n",
       "1           11          1                6                2                 1   \n",
       "2          426         49              127              111                21   \n",
       "3           11          4               20               10                 3   \n",
       "4          173         43              118               46                27   \n",
       "...        ...        ...              ...              ...               ...   \n",
       "2235       709         43              182               42               118   \n",
       "2236       406          0               30                0                 0   \n",
       "2237       908         48              217               32                12   \n",
       "2238       428         30              214               80                30   \n",
       "2239        84          3               61                2                 1   \n",
       "\n",
       "      MntGoldProds  \n",
       "0               88  \n",
       "1                6  \n",
       "2               42  \n",
       "3                5  \n",
       "4               15  \n",
       "...            ...  \n",
       "2235           247  \n",
       "2236             8  \n",
       "2237            24  \n",
       "2238            61  \n",
       "2239            21  \n",
       "\n",
       "[2206 rows x 6 columns]"
      ]
     },
     "execution_count": 17,
     "metadata": {},
     "output_type": "execute_result"
    }
   ],
   "source": [
    "df[['MntWines','MntFruits','MntMeatProducts','MntFishProducts','MntSweetProducts','MntGoldProds']]"
   ]
  },
  {
   "cell_type": "code",
   "execution_count": 18,
   "id": "9dd2e824",
   "metadata": {},
   "outputs": [],
   "source": [
    "montant= df['MntWines']+df['MntFruits']+df['MntMeatProducts']+df['MntFishProducts']+df['MntSweetProducts']+df['MntGoldProds']\n",
    "df['montant']= montant"
   ]
  },
  {
   "cell_type": "code",
   "execution_count": 21,
   "id": "2df25c07",
   "metadata": {},
   "outputs": [],
   "source": [
    "frequence = df['NumWebPurchases']+df['NumCatalogPurchases']+df['NumStorePurchases']+df['NumWebVisitsMonth']+df['NumDealsPurchases']\n",
    "df['frequence'] = frequence"
   ]
  },
  {
   "cell_type": "code",
   "execution_count": 22,
   "id": "22c7386d",
   "metadata": {},
   "outputs": [
    {
     "data": {
      "text/html": [
       "<div>\n",
       "<style scoped>\n",
       "    .dataframe tbody tr th:only-of-type {\n",
       "        vertical-align: middle;\n",
       "    }\n",
       "\n",
       "    .dataframe tbody tr th {\n",
       "        vertical-align: top;\n",
       "    }\n",
       "\n",
       "    .dataframe thead th {\n",
       "        text-align: right;\n",
       "    }\n",
       "</style>\n",
       "<table border=\"1\" class=\"dataframe\">\n",
       "  <thead>\n",
       "    <tr style=\"text-align: right;\">\n",
       "      <th></th>\n",
       "      <th>ID</th>\n",
       "      <th>Recency</th>\n",
       "      <th>frequence</th>\n",
       "      <th>montant</th>\n",
       "    </tr>\n",
       "  </thead>\n",
       "  <tbody>\n",
       "    <tr>\n",
       "      <th>0</th>\n",
       "      <td>5524</td>\n",
       "      <td>58</td>\n",
       "      <td>32</td>\n",
       "      <td>1617</td>\n",
       "    </tr>\n",
       "    <tr>\n",
       "      <th>1</th>\n",
       "      <td>2174</td>\n",
       "      <td>38</td>\n",
       "      <td>11</td>\n",
       "      <td>27</td>\n",
       "    </tr>\n",
       "    <tr>\n",
       "      <th>2</th>\n",
       "      <td>4141</td>\n",
       "      <td>26</td>\n",
       "      <td>25</td>\n",
       "      <td>776</td>\n",
       "    </tr>\n",
       "    <tr>\n",
       "      <th>3</th>\n",
       "      <td>6182</td>\n",
       "      <td>26</td>\n",
       "      <td>14</td>\n",
       "      <td>53</td>\n",
       "    </tr>\n",
       "    <tr>\n",
       "      <th>4</th>\n",
       "      <td>5324</td>\n",
       "      <td>94</td>\n",
       "      <td>24</td>\n",
       "      <td>422</td>\n",
       "    </tr>\n",
       "    <tr>\n",
       "      <th>...</th>\n",
       "      <td>...</td>\n",
       "      <td>...</td>\n",
       "      <td>...</td>\n",
       "      <td>...</td>\n",
       "    </tr>\n",
       "    <tr>\n",
       "      <th>2235</th>\n",
       "      <td>10870</td>\n",
       "      <td>46</td>\n",
       "      <td>23</td>\n",
       "      <td>1341</td>\n",
       "    </tr>\n",
       "    <tr>\n",
       "      <th>2236</th>\n",
       "      <td>4001</td>\n",
       "      <td>56</td>\n",
       "      <td>29</td>\n",
       "      <td>444</td>\n",
       "    </tr>\n",
       "    <tr>\n",
       "      <th>2237</th>\n",
       "      <td>7270</td>\n",
       "      <td>91</td>\n",
       "      <td>25</td>\n",
       "      <td>1241</td>\n",
       "    </tr>\n",
       "    <tr>\n",
       "      <th>2238</th>\n",
       "      <td>8235</td>\n",
       "      <td>8</td>\n",
       "      <td>26</td>\n",
       "      <td>843</td>\n",
       "    </tr>\n",
       "    <tr>\n",
       "      <th>2239</th>\n",
       "      <td>9405</td>\n",
       "      <td>40</td>\n",
       "      <td>18</td>\n",
       "      <td>172</td>\n",
       "    </tr>\n",
       "  </tbody>\n",
       "</table>\n",
       "<p>2206 rows × 4 columns</p>\n",
       "</div>"
      ],
      "text/plain": [
       "         ID  Recency  frequence  montant\n",
       "0      5524       58         32     1617\n",
       "1      2174       38         11       27\n",
       "2      4141       26         25      776\n",
       "3      6182       26         14       53\n",
       "4      5324       94         24      422\n",
       "...     ...      ...        ...      ...\n",
       "2235  10870       46         23     1341\n",
       "2236   4001       56         29      444\n",
       "2237   7270       91         25     1241\n",
       "2238   8235        8         26      843\n",
       "2239   9405       40         18      172\n",
       "\n",
       "[2206 rows x 4 columns]"
      ]
     },
     "execution_count": 22,
     "metadata": {},
     "output_type": "execute_result"
    }
   ],
   "source": [
    "df_rfm = df[['ID','Recency','frequence','montant']]\n",
    "df_rfm"
   ]
  },
  {
   "cell_type": "code",
   "execution_count": 23,
   "id": "3ea79e5a",
   "metadata": {},
   "outputs": [
    {
     "data": {
      "text/html": [
       "<div>\n",
       "<style scoped>\n",
       "    .dataframe tbody tr th:only-of-type {\n",
       "        vertical-align: middle;\n",
       "    }\n",
       "\n",
       "    .dataframe tbody tr th {\n",
       "        vertical-align: top;\n",
       "    }\n",
       "\n",
       "    .dataframe thead th {\n",
       "        text-align: right;\n",
       "    }\n",
       "</style>\n",
       "<table border=\"1\" class=\"dataframe\">\n",
       "  <thead>\n",
       "    <tr style=\"text-align: right;\">\n",
       "      <th></th>\n",
       "      <th>ID</th>\n",
       "      <th>Recency</th>\n",
       "      <th>frequence</th>\n",
       "      <th>montant</th>\n",
       "    </tr>\n",
       "  </thead>\n",
       "  <tbody>\n",
       "    <tr>\n",
       "      <th>count</th>\n",
       "      <td>2206.000000</td>\n",
       "      <td>2206.000000</td>\n",
       "      <td>2206.000000</td>\n",
       "      <td>2206.000000</td>\n",
       "    </tr>\n",
       "    <tr>\n",
       "      <th>mean</th>\n",
       "      <td>5590.160925</td>\n",
       "      <td>49.071170</td>\n",
       "      <td>20.205349</td>\n",
       "      <td>607.133273</td>\n",
       "    </tr>\n",
       "    <tr>\n",
       "      <th>std</th>\n",
       "      <td>3244.322900</td>\n",
       "      <td>28.941679</td>\n",
       "      <td>7.282133</td>\n",
       "      <td>602.942728</td>\n",
       "    </tr>\n",
       "    <tr>\n",
       "      <th>min</th>\n",
       "      <td>0.000000</td>\n",
       "      <td>0.000000</td>\n",
       "      <td>0.000000</td>\n",
       "      <td>5.000000</td>\n",
       "    </tr>\n",
       "    <tr>\n",
       "      <th>25%</th>\n",
       "      <td>2826.750000</td>\n",
       "      <td>24.000000</td>\n",
       "      <td>14.000000</td>\n",
       "      <td>69.000000</td>\n",
       "    </tr>\n",
       "    <tr>\n",
       "      <th>50%</th>\n",
       "      <td>5458.500000</td>\n",
       "      <td>49.000000</td>\n",
       "      <td>19.000000</td>\n",
       "      <td>396.000000</td>\n",
       "    </tr>\n",
       "    <tr>\n",
       "      <th>75%</th>\n",
       "      <td>8425.250000</td>\n",
       "      <td>74.000000</td>\n",
       "      <td>25.000000</td>\n",
       "      <td>1047.750000</td>\n",
       "    </tr>\n",
       "    <tr>\n",
       "      <th>max</th>\n",
       "      <td>11191.000000</td>\n",
       "      <td>99.000000</td>\n",
       "      <td>46.000000</td>\n",
       "      <td>2525.000000</td>\n",
       "    </tr>\n",
       "  </tbody>\n",
       "</table>\n",
       "</div>"
      ],
      "text/plain": [
       "                 ID      Recency    frequence      montant\n",
       "count   2206.000000  2206.000000  2206.000000  2206.000000\n",
       "mean    5590.160925    49.071170    20.205349   607.133273\n",
       "std     3244.322900    28.941679     7.282133   602.942728\n",
       "min        0.000000     0.000000     0.000000     5.000000\n",
       "25%     2826.750000    24.000000    14.000000    69.000000\n",
       "50%     5458.500000    49.000000    19.000000   396.000000\n",
       "75%     8425.250000    74.000000    25.000000  1047.750000\n",
       "max    11191.000000    99.000000    46.000000  2525.000000"
      ]
     },
     "execution_count": 23,
     "metadata": {},
     "output_type": "execute_result"
    }
   ],
   "source": [
    "df_rfm.describe()"
   ]
  },
  {
   "cell_type": "code",
   "execution_count": 24,
   "id": "7dff39e4",
   "metadata": {},
   "outputs": [],
   "source": [
    "###Calculating quantile values\n",
    "quintiles = df_rfm[['Recency', 'frequence', 'montant']].quantile([.1, .2, .3, .4, .5, .6, .7, .8, .9]).to_dict()\n",
    "###Benchmark to give score for recency indicator\n",
    "def r_score(r):\n",
    "    if r <= quintiles['Recency'][.3]:\n",
    "        return 1\n",
    "    elif r <= quintiles['Recency'][.6]:\n",
    "        return 2\n",
    "    else:\n",
    "        return 3\n",
    "\n",
    "def f_score(f):\n",
    "    if f <= quintiles['frequence'][.3]:\n",
    "        return 3\n",
    "    elif f <= quintiles['frequence'][.6]:\n",
    "        return 2\n",
    "    else:\n",
    "        return 1\n",
    "def m_score(m):\n",
    "    if m <= df_rfm['montant'][350]:\n",
    "        return 3\n",
    "    elif m > df_rfm['montant'][350] and m <= df_rfm['montant'][1048]:\n",
    "        return 2\n",
    "    else:\n",
    "        return 1"
   ]
  },
  {
   "cell_type": "code",
   "execution_count": 25,
   "id": "fdb463e0",
   "metadata": {},
   "outputs": [
    {
     "name": "stderr",
     "output_type": "stream",
     "text": [
      "<ipython-input-25-5064fd246259>:1: SettingWithCopyWarning: \n",
      "A value is trying to be set on a copy of a slice from a DataFrame.\n",
      "Try using .loc[row_indexer,col_indexer] = value instead\n",
      "\n",
      "See the caveats in the documentation: https://pandas.pydata.org/pandas-docs/stable/user_guide/indexing.html#returning-a-view-versus-a-copy\n",
      "  df_rfm['R_score'] = df_rfm.Recency.apply(lambda x: r_score(x))\n",
      "<ipython-input-25-5064fd246259>:2: SettingWithCopyWarning: \n",
      "A value is trying to be set on a copy of a slice from a DataFrame.\n",
      "Try using .loc[row_indexer,col_indexer] = value instead\n",
      "\n",
      "See the caveats in the documentation: https://pandas.pydata.org/pandas-docs/stable/user_guide/indexing.html#returning-a-view-versus-a-copy\n",
      "  df_rfm['F_score'] = df_rfm.frequence.apply(lambda x: f_score(x))\n",
      "<ipython-input-25-5064fd246259>:3: SettingWithCopyWarning: \n",
      "A value is trying to be set on a copy of a slice from a DataFrame.\n",
      "Try using .loc[row_indexer,col_indexer] = value instead\n",
      "\n",
      "See the caveats in the documentation: https://pandas.pydata.org/pandas-docs/stable/user_guide/indexing.html#returning-a-view-versus-a-copy\n",
      "  df_rfm['M_score'] = df_rfm.montant.apply(lambda x: m_score(x))\n"
     ]
    }
   ],
   "source": [
    "df_rfm['R_score'] = df_rfm.Recency.apply(lambda x: r_score(x))\n",
    "df_rfm['F_score'] = df_rfm.frequence.apply(lambda x: f_score(x))\n",
    "df_rfm['M_score'] = df_rfm.montant.apply(lambda x: m_score(x))"
   ]
  },
  {
   "cell_type": "code",
   "execution_count": 26,
   "id": "37f88028",
   "metadata": {},
   "outputs": [
    {
     "name": "stderr",
     "output_type": "stream",
     "text": [
      "<ipython-input-26-a56d4d74d6af>:1: SettingWithCopyWarning: \n",
      "A value is trying to be set on a copy of a slice from a DataFrame.\n",
      "Try using .loc[row_indexer,col_indexer] = value instead\n",
      "\n",
      "See the caveats in the documentation: https://pandas.pydata.org/pandas-docs/stable/user_guide/indexing.html#returning-a-view-versus-a-copy\n",
      "  df_rfm['RFM_Score'] = df_rfm['R_score'].map(str) + df_rfm['F_score'].map(str) + df_rfm['M_score'].map(str)\n"
     ]
    },
    {
     "data": {
      "text/html": [
       "<div>\n",
       "<style scoped>\n",
       "    .dataframe tbody tr th:only-of-type {\n",
       "        vertical-align: middle;\n",
       "    }\n",
       "\n",
       "    .dataframe tbody tr th {\n",
       "        vertical-align: top;\n",
       "    }\n",
       "\n",
       "    .dataframe thead th {\n",
       "        text-align: right;\n",
       "    }\n",
       "</style>\n",
       "<table border=\"1\" class=\"dataframe\">\n",
       "  <thead>\n",
       "    <tr style=\"text-align: right;\">\n",
       "      <th></th>\n",
       "      <th>ID</th>\n",
       "      <th>Recency</th>\n",
       "      <th>frequence</th>\n",
       "      <th>montant</th>\n",
       "      <th>R_score</th>\n",
       "      <th>F_score</th>\n",
       "      <th>M_score</th>\n",
       "      <th>RFM_Score</th>\n",
       "    </tr>\n",
       "  </thead>\n",
       "  <tbody>\n",
       "    <tr>\n",
       "      <th>0</th>\n",
       "      <td>5524</td>\n",
       "      <td>58</td>\n",
       "      <td>32</td>\n",
       "      <td>1617</td>\n",
       "      <td>2</td>\n",
       "      <td>1</td>\n",
       "      <td>1</td>\n",
       "      <td>211</td>\n",
       "    </tr>\n",
       "    <tr>\n",
       "      <th>1</th>\n",
       "      <td>2174</td>\n",
       "      <td>38</td>\n",
       "      <td>11</td>\n",
       "      <td>27</td>\n",
       "      <td>2</td>\n",
       "      <td>3</td>\n",
       "      <td>3</td>\n",
       "      <td>233</td>\n",
       "    </tr>\n",
       "    <tr>\n",
       "      <th>2</th>\n",
       "      <td>4141</td>\n",
       "      <td>26</td>\n",
       "      <td>25</td>\n",
       "      <td>776</td>\n",
       "      <td>1</td>\n",
       "      <td>1</td>\n",
       "      <td>3</td>\n",
       "      <td>113</td>\n",
       "    </tr>\n",
       "    <tr>\n",
       "      <th>3</th>\n",
       "      <td>6182</td>\n",
       "      <td>26</td>\n",
       "      <td>14</td>\n",
       "      <td>53</td>\n",
       "      <td>1</td>\n",
       "      <td>3</td>\n",
       "      <td>3</td>\n",
       "      <td>133</td>\n",
       "    </tr>\n",
       "    <tr>\n",
       "      <th>4</th>\n",
       "      <td>5324</td>\n",
       "      <td>94</td>\n",
       "      <td>24</td>\n",
       "      <td>422</td>\n",
       "      <td>3</td>\n",
       "      <td>1</td>\n",
       "      <td>3</td>\n",
       "      <td>313</td>\n",
       "    </tr>\n",
       "  </tbody>\n",
       "</table>\n",
       "</div>"
      ],
      "text/plain": [
       "     ID  Recency  frequence  montant  R_score  F_score  M_score RFM_Score\n",
       "0  5524       58         32     1617        2        1        1       211\n",
       "1  2174       38         11       27        2        3        3       233\n",
       "2  4141       26         25      776        1        1        3       113\n",
       "3  6182       26         14       53        1        3        3       133\n",
       "4  5324       94         24      422        3        1        3       313"
      ]
     },
     "execution_count": 26,
     "metadata": {},
     "output_type": "execute_result"
    }
   ],
   "source": [
    "df_rfm['RFM_Score'] = df_rfm['R_score'].map(str) + df_rfm['F_score'].map(str) + df_rfm['M_score'].map(str)\n",
    "df_rfm.head()"
   ]
  },
  {
   "cell_type": "code",
   "execution_count": 27,
   "id": "cbf2cf8d",
   "metadata": {},
   "outputs": [],
   "source": [
    "def categ(x):\n",
    "    if x in[\"111\"]:\n",
    "        return \"champion\"\n",
    "    elif x in[\"113\"]:\n",
    "         return \"Loyal Customers\" #Buy on a regular basis. Responsive to promotions.\n",
    "    elif x in['121','123']:\n",
    "        return \"Potential Loyalist\"#Recent customers with average frequency\n",
    "    elif x in['131']:\n",
    "         return \"Recent Customers\"#Bought most recently, but not often.\n",
    "    elif x in['133']:\n",
    "         return \"Promising\"#Recent shoppers, but haven’t spent much\n",
    "    elif x in['211','213']:\n",
    "        return \"Customers Needing Attention\"#Above average recency, frequency and monetary values. May not have bought very recently though.\n",
    "    elif x in['223','221','231','233']:\n",
    "         return \"About To Sleep\" #Below average recency and frequency. Will lose them if not reactivated.\n",
    "    elif x in['311','313']:\n",
    "        return \"At Risk\"#Purchased often but a long time ago\n",
    "    elif x in[\"321\",'323']:\n",
    "         return \"Can’t Lose Them\"#Used to purchase frequently but haven’t returned for a long time.\n",
    "    else:\n",
    "         return \"Hibernating\"#Last purchase was long back and low number of orders. May be lost."
   ]
  },
  {
   "cell_type": "code",
   "execution_count": 28,
   "id": "76dc7ec3",
   "metadata": {},
   "outputs": [
    {
     "data": {
      "text/plain": [
       "333    265\n",
       "133    223\n",
       "233    219\n",
       "311    201\n",
       "323    158\n",
       "211    148\n",
       "111    144\n",
       "313    143\n",
       "123    129\n",
       "223    127\n",
       "113    112\n",
       "213     97\n",
       "321     95\n",
       "121     71\n",
       "221     57\n",
       "331      9\n",
       "231      5\n",
       "131      3\n",
       "Name: RFM_Score, dtype: int64"
      ]
     },
     "execution_count": 28,
     "metadata": {},
     "output_type": "execute_result"
    }
   ],
   "source": [
    "df_rfm['RFM_Score'].value_counts()"
   ]
  },
  {
   "cell_type": "code",
   "execution_count": 29,
   "id": "da279edd",
   "metadata": {},
   "outputs": [
    {
     "name": "stderr",
     "output_type": "stream",
     "text": [
      "<ipython-input-29-43ef2888f37a>:1: SettingWithCopyWarning: \n",
      "A value is trying to be set on a copy of a slice from a DataFrame.\n",
      "Try using .loc[row_indexer,col_indexer] = value instead\n",
      "\n",
      "See the caveats in the documentation: https://pandas.pydata.org/pandas-docs/stable/user_guide/indexing.html#returning-a-view-versus-a-copy\n",
      "  df_rfm['Status'] = df_rfm['RFM_Score'].apply(lambda x: categ(x))\n"
     ]
    }
   ],
   "source": [
    "df_rfm['Status'] = df_rfm['RFM_Score'].apply(lambda x: categ(x))"
   ]
  },
  {
   "cell_type": "code",
   "execution_count": 30,
   "id": "82d2e0db",
   "metadata": {},
   "outputs": [
    {
     "data": {
      "text/plain": [
       "About To Sleep                 408\n",
       "At Risk                        344\n",
       "Hibernating                    274\n",
       "Can’t Lose Them                253\n",
       "Customers Needing Attention    245\n",
       "Promising                      223\n",
       "Potential Loyalist             200\n",
       "champion                       144\n",
       "Loyal Customers                112\n",
       "Recent Customers                 3\n",
       "Name: Status, dtype: int64"
      ]
     },
     "execution_count": 30,
     "metadata": {},
     "output_type": "execute_result"
    }
   ],
   "source": [
    "df_rfm['Status'].value_counts()"
   ]
  },
  {
   "cell_type": "code",
   "execution_count": 31,
   "id": "ancient-sector",
   "metadata": {},
   "outputs": [],
   "source": [
    "df = df.drop(['montant','frequence','Recency'],axis=1)"
   ]
  },
  {
   "cell_type": "code",
   "execution_count": 32,
   "id": "04f1b852",
   "metadata": {},
   "outputs": [],
   "source": [
    "df_powerBi = df.merge(df_rfm, left_on='ID',right_on = 'ID',how ='left')"
   ]
  },
  {
   "cell_type": "code",
   "execution_count": 36,
   "id": "f94098c9",
   "metadata": {},
   "outputs": [],
   "source": [
    "df_powerBi.to_csv('df_powerBi.csv', index=False)"
   ]
  },
  {
   "cell_type": "code",
   "execution_count": 49,
   "id": "6db56508",
   "metadata": {},
   "outputs": [
    {
     "data": {
      "text/plain": [
       "[Text(0.5, 0, 'Status des Clients'),\n",
       " Text(0, 0.5, 'Montant total'),\n",
       " Text(0.5, 1.0, 'Montant dépensé selon le  status des clients')]"
      ]
     },
     "execution_count": 49,
     "metadata": {},
     "output_type": "execute_result"
    },
    {
     "data": {
      "image/png": "[encoded data removed]",
      "text/plain": [
       "<Figure size 1440x720 with 1 Axes>"
      ]
     },
     "metadata": {},
     "output_type": "display_data"
    }
   ],
   "source": [
    "sns.set(rc={'figure.figsize':(20,10)})\n",
    "ax3 = sns.boxplot(x = df_powerBi['Status'], y = df_powerBi['montant'])\n",
    "ax3.set(xlabel='Status des Clients', ylabel='Montant total', title='Montant dépensé selon le  status des clients')"
   ]
  },
  {
   "cell_type": "code",
   "execution_count": 59,
   "id": "66c31a1e",
   "metadata": {},
   "outputs": [
    {
     "data": {
      "text/html": [
       "<div>\n",
       "<style scoped>\n",
       "    .dataframe tbody tr th:only-of-type {\n",
       "        vertical-align: middle;\n",
       "    }\n",
       "\n",
       "    .dataframe tbody tr th {\n",
       "        vertical-align: top;\n",
       "    }\n",
       "\n",
       "    .dataframe thead th {\n",
       "        text-align: right;\n",
       "    }\n",
       "</style>\n",
       "<table border=\"1\" class=\"dataframe\">\n",
       "  <thead>\n",
       "    <tr style=\"text-align: right;\">\n",
       "      <th></th>\n",
       "      <th>ID</th>\n",
       "      <th>Year_Birth</th>\n",
       "      <th>Education</th>\n",
       "      <th>Marital_Status</th>\n",
       "      <th>Income</th>\n",
       "      <th>Kidhome</th>\n",
       "      <th>Teenhome</th>\n",
       "      <th>Dt_Customer</th>\n",
       "      <th>MntWines</th>\n",
       "      <th>MntFruits</th>\n",
       "      <th>...</th>\n",
       "      <th>Complain</th>\n",
       "      <th>Response</th>\n",
       "      <th>Recency</th>\n",
       "      <th>frequence</th>\n",
       "      <th>montant</th>\n",
       "      <th>R_score</th>\n",
       "      <th>F_score</th>\n",
       "      <th>M_score</th>\n",
       "      <th>RFM_Score</th>\n",
       "      <th>Status</th>\n",
       "    </tr>\n",
       "  </thead>\n",
       "  <tbody>\n",
       "    <tr>\n",
       "      <th>14</th>\n",
       "      <td>2114</td>\n",
       "      <td>1946</td>\n",
       "      <td>PhD</td>\n",
       "      <td>Single</td>\n",
       "      <td>82800.0</td>\n",
       "      <td>0</td>\n",
       "      <td>0</td>\n",
       "      <td>24-11-2012</td>\n",
       "      <td>1006</td>\n",
       "      <td>22</td>\n",
       "      <td>...</td>\n",
       "      <td>0</td>\n",
       "      <td>1</td>\n",
       "      <td>23</td>\n",
       "      <td>29</td>\n",
       "      <td>1315</td>\n",
       "      <td>1</td>\n",
       "      <td>1</td>\n",
       "      <td>1</td>\n",
       "      <td>111</td>\n",
       "      <td>champion</td>\n",
       "    </tr>\n",
       "    <tr>\n",
       "      <th>32</th>\n",
       "      <td>8755</td>\n",
       "      <td>1946</td>\n",
       "      <td>Master</td>\n",
       "      <td>Married</td>\n",
       "      <td>68657.0</td>\n",
       "      <td>0</td>\n",
       "      <td>0</td>\n",
       "      <td>20-02-2013</td>\n",
       "      <td>482</td>\n",
       "      <td>34</td>\n",
       "      <td>...</td>\n",
       "      <td>0</td>\n",
       "      <td>0</td>\n",
       "      <td>4</td>\n",
       "      <td>25</td>\n",
       "      <td>1196</td>\n",
       "      <td>1</td>\n",
       "      <td>1</td>\n",
       "      <td>1</td>\n",
       "      <td>111</td>\n",
       "      <td>champion</td>\n",
       "    </tr>\n",
       "    <tr>\n",
       "      <th>38</th>\n",
       "      <td>8601</td>\n",
       "      <td>1980</td>\n",
       "      <td>Graduation</td>\n",
       "      <td>Married</td>\n",
       "      <td>80011.0</td>\n",
       "      <td>0</td>\n",
       "      <td>1</td>\n",
       "      <td>29-04-2013</td>\n",
       "      <td>421</td>\n",
       "      <td>76</td>\n",
       "      <td>...</td>\n",
       "      <td>0</td>\n",
       "      <td>0</td>\n",
       "      <td>3</td>\n",
       "      <td>25</td>\n",
       "      <td>1395</td>\n",
       "      <td>1</td>\n",
       "      <td>1</td>\n",
       "      <td>1</td>\n",
       "      <td>111</td>\n",
       "      <td>champion</td>\n",
       "    </tr>\n",
       "    <tr>\n",
       "      <th>47</th>\n",
       "      <td>4114</td>\n",
       "      <td>1964</td>\n",
       "      <td>Master</td>\n",
       "      <td>Married</td>\n",
       "      <td>79143.0</td>\n",
       "      <td>0</td>\n",
       "      <td>0</td>\n",
       "      <td>11-08-2012</td>\n",
       "      <td>650</td>\n",
       "      <td>37</td>\n",
       "      <td>...</td>\n",
       "      <td>0</td>\n",
       "      <td>0</td>\n",
       "      <td>2</td>\n",
       "      <td>32</td>\n",
       "      <td>1693</td>\n",
       "      <td>1</td>\n",
       "      <td>1</td>\n",
       "      <td>1</td>\n",
       "      <td>111</td>\n",
       "      <td>champion</td>\n",
       "    </tr>\n",
       "    <tr>\n",
       "      <th>57</th>\n",
       "      <td>1012</td>\n",
       "      <td>1952</td>\n",
       "      <td>Graduation</td>\n",
       "      <td>Single</td>\n",
       "      <td>61823.0</td>\n",
       "      <td>0</td>\n",
       "      <td>1</td>\n",
       "      <td>18-02-2013</td>\n",
       "      <td>523</td>\n",
       "      <td>7</td>\n",
       "      <td>...</td>\n",
       "      <td>0</td>\n",
       "      <td>0</td>\n",
       "      <td>26</td>\n",
       "      <td>31</td>\n",
       "      <td>884</td>\n",
       "      <td>1</td>\n",
       "      <td>1</td>\n",
       "      <td>1</td>\n",
       "      <td>111</td>\n",
       "      <td>champion</td>\n",
       "    </tr>\n",
       "  </tbody>\n",
       "</table>\n",
       "<p>5 rows × 34 columns</p>\n",
       "</div>"
      ],
      "text/plain": [
       "      ID  Year_Birth   Education Marital_Status   Income  Kidhome  Teenhome  \\\n",
       "14  2114        1946         PhD         Single  82800.0        0         0   \n",
       "32  8755        1946      Master        Married  68657.0        0         0   \n",
       "38  8601        1980  Graduation        Married  80011.0        0         1   \n",
       "47  4114        1964      Master        Married  79143.0        0         0   \n",
       "57  1012        1952  Graduation         Single  61823.0        0         1   \n",
       "\n",
       "   Dt_Customer  MntWines  MntFruits  ...  Complain  Response  Recency  \\\n",
       "14  24-11-2012      1006         22  ...         0         1       23   \n",
       "32  20-02-2013       482         34  ...         0         0        4   \n",
       "38  29-04-2013       421         76  ...         0         0        3   \n",
       "47  11-08-2012       650         37  ...         0         0        2   \n",
       "57  18-02-2013       523          7  ...         0         0       26   \n",
       "\n",
       "    frequence  montant  R_score  F_score  M_score  RFM_Score    Status  \n",
       "14         29     1315        1        1        1        111  champion  \n",
       "32         25     1196        1        1        1        111  champion  \n",
       "38         25     1395        1        1        1        111  champion  \n",
       "47         32     1693        1        1        1        111  champion  \n",
       "57         31      884        1        1        1        111  champion  \n",
       "\n",
       "[5 rows x 34 columns]"
      ]
     },
     "execution_count": 59,
     "metadata": {},
     "output_type": "execute_result"
    }
   ],
   "source": [
    "champion_df = df_powerBi[df_powerBi['Status'] == \"champion\"]\n",
    "champion_df.head()"
   ]
  },
  {
   "cell_type": "markdown",
   "id": "forty-processor",
   "metadata": {},
   "source": [
    "# Conlusions"
   ]
  },
  {
   "attachments": {},
   "cell_type": "markdown",
   "id": "b73efabc",
   "metadata": {},
   "source": [
    "With the RFM method we find the best of your customer.\n",
    "You will find them in the champion_df dataframe. \n"
   ]
  },
  {
   "cell_type": "code",
   "execution_count": 60,
   "id": "4f87ed8c",
   "metadata": {
    "code_folding": []
   },
   "outputs": [
    {
     "data": {
      "image/png": "[encoded data removed]",
      "text/plain": [
       "<Figure size 1440x720 with 1 Axes>"
      ]
     },
     "metadata": {},
     "output_type": "display_data"
    }
   ],
   "source": [
    "labels = ['About to sleep','At risque','Hibernating',\"can't lose them\",'Customers needing attention','Promising','Potential Loyalist','Champion','Loyal Customers','Recent Customers']\n",
    "sizes = df_powerBi['Status'].value_counts()\n",
    "explode = (0, 0, 0, 0, 0,0, 0, 0, 0, 0.5)  # only \"explode\" the 2nd slice (i.e. 'Hogs')\n",
    "\n",
    "fig1, ax1 = plt.subplots()\n",
    "ax1.pie(sizes, explode=explode, labels=labels, autopct='%1.1f%%',\n",
    "        shadow=False, startangle=90)\n",
    "ax1.axis('equal')  # Equal aspect ratio ensures that pie is drawn as a circle.\n",
    "\n",
    "plt.show()"
   ]
  }
 ],
 "metadata": {
  "kernelspec": {
   "display_name": "Python 3",
   "language": "python",
   "name": "python3"
  },
  "language_info": {
   "codemirror_mode": {
    "name": "ipython",
    "version": 3
   },
   "file_extension": ".py",
   "mimetype": "text/x-python",
   "name": "python",
   "nbconvert_exporter": "python",
   "pygments_lexer": "ipython3",
   "version": "3.8.8"
  },
  "toc": {
   "base_numbering": 1,
   "nav_menu": {},
   "number_sections": true,
   "sideBar": true,
   "skip_h1_title": false,
   "title_cell": "Table of Contents",
   "title_sidebar": "Contents",
   "toc_cell": false,
   "toc_position": {},
   "toc_section_display": true,
   "toc_window_display": false
  },
  "varInspector": {
   "cols": {
    "lenName": 16,
    "lenType": 16,
    "lenVar": 40
   },
   "kernels_config": {
    "python": {
     "delete_cmd_postfix": "",
     "delete_cmd_prefix": "del ",
     "library": "var_list.py",
     "varRefreshCmd": "print(var_dic_list())"
    },
    "r": {
     "delete_cmd_postfix": ") ",
     "delete_cmd_prefix": "rm(",
     "library": "var_list.r",
     "varRefreshCmd": "cat(var_dic_list()) "
    }
   },
   "types_to_exclude": [
    "module",
    "function",
    "builtin_function_or_method",
    "instance",
    "_Feature"
   ],
   "window_display": false
  }
 },
 "nbformat": 4,
 "nbformat_minor": 5
}
