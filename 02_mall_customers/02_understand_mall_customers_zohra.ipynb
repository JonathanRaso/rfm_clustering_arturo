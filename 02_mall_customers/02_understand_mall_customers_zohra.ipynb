{
 "cells": [
  {
   "cell_type": "markdown",
   "id": "serial-reminder",
   "metadata": {},
   "source": [
    "# Understanding Mall customers"
   ]
  },
  {
   "cell_type": "markdown",
   "id": "perfect-baseball",
   "metadata": {},
   "source": [
    "In this exercise, you work for a consulting firm as data scientist. In this scenario, your client is the owner of a Mall and he wants to understand the customers who can easily buy.  \n",
    "\n",
    "You dispose of a dataset from the mall dataset with 5 features :\n",
    "- CustomerID of the customer\n",
    "- Gender of the customer\n",
    "- Age of the customer\n",
    "- Annual Income of the customer in k$\n",
    "- Spending Score assigned by the mall based on customer behavior and spending nature (1-99)\n"
   ]
  },
  {
   "cell_type": "markdown",
   "id": "social-necessity",
   "metadata": {},
   "source": [
    "# Customer Segmentation using different clustering methods"
   ]
  },
  {
   "cell_type": "markdown",
   "id": "wrong-chrome",
   "metadata": {},
   "source": [
    "Try to perform different Clustering methods (e.g. k-means, agglomerative, DBSCAN, Gaussian) to create clusters and understand behaviors\n",
    "\n",
    "https://machinelearningmastery.com/clustering-algorithms-with-python/\n",
    "\n",
    "https://towardsdatascience.com/the-5-clustering-algorithms-data-scientists-need-to-know-a36d136ef68"
   ]
  },
  {
   "cell_type": "markdown",
   "id": "administrative-floor",
   "metadata": {},
   "source": [
    "You have one day to perform this analysis"
   ]
  },
  {
   "cell_type": "markdown",
   "id": "37e0cb43",
   "metadata": {},
   "source": [
    "## 🕶 Importations"
   ]
  },
  {
   "cell_type": "markdown",
   "id": "a398edfe",
   "metadata": {},
   "source": [
    "📌 Modules pip install"
   ]
  },
  {
   "cell_type": "code",
   "execution_count": 49,
   "id": "9bb581eb",
   "metadata": {
    "collapsed": true
   },
   "outputs": [
    {
     "name": "stdout",
     "output_type": "stream",
     "text": [
      "Collecting mglearn\n",
      "  Downloading mglearn-0.1.9.tar.gz (540 kB)\n",
      "Requirement already satisfied: numpy in c:\\users\\zaome\\anaconda3\\lib\\site-packages (from mglearn) (1.19.5)\n",
      "Requirement already satisfied: matplotlib in c:\\users\\zaome\\anaconda3\\lib\\site-packages (from mglearn) (3.3.4)\n",
      "Requirement already satisfied: scikit-learn in c:\\users\\zaome\\anaconda3\\lib\\site-packages (from mglearn) (0.24.1)\n",
      "Requirement already satisfied: pandas in c:\\users\\zaome\\anaconda3\\lib\\site-packages (from mglearn) (1.2.4)\n",
      "Requirement already satisfied: pillow in c:\\users\\zaome\\anaconda3\\lib\\site-packages (from mglearn) (8.2.0)\n",
      "Requirement already satisfied: cycler in c:\\users\\zaome\\anaconda3\\lib\\site-packages (from mglearn) (0.10.0)\n",
      "Requirement already satisfied: imageio in c:\\users\\zaome\\anaconda3\\lib\\site-packages (from mglearn) (2.9.0)\n",
      "Requirement already satisfied: joblib in c:\\users\\zaome\\anaconda3\\lib\\site-packages (from mglearn) (1.0.1)\n",
      "Requirement already satisfied: six in c:\\users\\zaome\\anaconda3\\lib\\site-packages (from cycler->mglearn) (1.15.0)\n",
      "Requirement already satisfied: pyparsing!=2.0.4,!=2.1.2,!=2.1.6,>=2.0.3 in c:\\users\\zaome\\anaconda3\\lib\\site-packages (from matplotlib->mglearn) (2.4.7)\n",
      "Requirement already satisfied: kiwisolver>=1.0.1 in c:\\users\\zaome\\anaconda3\\lib\\site-packages (from matplotlib->mglearn) (1.3.1)\n",
      "Requirement already satisfied: python-dateutil>=2.1 in c:\\users\\zaome\\anaconda3\\lib\\site-packages (from matplotlib->mglearn) (2.8.1)\n",
      "Requirement already satisfied: pytz>=2017.3 in c:\\users\\zaome\\anaconda3\\lib\\site-packages (from pandas->mglearn) (2021.1)\n",
      "Requirement already satisfied: threadpoolctl>=2.0.0 in c:\\users\\zaome\\anaconda3\\lib\\site-packages (from scikit-learn->mglearn) (2.1.0)\n",
      "Requirement already satisfied: scipy>=0.19.1 in c:\\users\\zaome\\anaconda3\\lib\\site-packages (from scikit-learn->mglearn) (1.6.2)\n",
      "Building wheels for collected packages: mglearn\n",
      "  Building wheel for mglearn (setup.py): started\n",
      "  Building wheel for mglearn (setup.py): finished with status 'done'\n",
      "  Created wheel for mglearn: filename=mglearn-0.1.9-py2.py3-none-any.whl size=582638 sha256=ca9f61db5d5b27f9cfd7fee86cb1cf246b737d04d669a7d260140f3cbc54116a\n",
      "  Stored in directory: c:\\users\\zaome\\appdata\\local\\pip\\cache\\wheels\\87\\75\\37\\404e66d0c4bad150f101c9a0914b11a8eccc2681559936e7f7\n",
      "Successfully built mglearn\n",
      "Installing collected packages: mglearn\n",
      "Successfully installed mglearn-0.1.9\n"
     ]
    }
   ],
   "source": [
    "!pip install mglearn"
   ]
  },
  {
   "cell_type": "code",
   "execution_count": 165,
   "id": "883838e9",
   "metadata": {
    "collapsed": true
   },
   "outputs": [
    {
     "name": "stdout",
     "output_type": "stream",
     "text": [
      "Collecting plotly\n",
      "  Downloading plotly-5.3.1-py2.py3-none-any.whl (23.9 MB)\n",
      "Requirement already satisfied: six in c:\\users\\zaome\\anaconda3\\lib\\site-packages (from plotly) (1.15.0)\n",
      "Collecting tenacity>=6.2.0\n",
      "  Downloading tenacity-8.0.1-py3-none-any.whl (24 kB)\n",
      "Installing collected packages: tenacity, plotly\n",
      "Successfully installed plotly-5.3.1 tenacity-8.0.1\n"
     ]
    }
   ],
   "source": [
    "!pip install plotly --upgrade"
   ]
  },
  {
   "cell_type": "markdown",
   "id": "75828a60",
   "metadata": {},
   "source": [
    "📌 Import librairies "
   ]
  },
  {
   "cell_type": "code",
   "execution_count": 247,
   "id": "biological-torture",
   "metadata": {},
   "outputs": [],
   "source": [
    "import pandas as pd\n",
    "import numpy as np\n",
    "import matplotlib.pyplot as plt\n",
    "import seaborn as sns\n",
    "from sklearn.cluster import KMeans\n",
    "import mglearn"
   ]
  },
  {
   "cell_type": "markdown",
   "id": "d2fdc500",
   "metadata": {},
   "source": [
    "📌 Import Dataset"
   ]
  },
  {
   "cell_type": "code",
   "execution_count": 248,
   "id": "interior-orbit",
   "metadata": {},
   "outputs": [
    {
     "data": {
      "text/html": [
       "<div>\n",
       "<style scoped>\n",
       "    .dataframe tbody tr th:only-of-type {\n",
       "        vertical-align: middle;\n",
       "    }\n",
       "\n",
       "    .dataframe tbody tr th {\n",
       "        vertical-align: top;\n",
       "    }\n",
       "\n",
       "    .dataframe thead th {\n",
       "        text-align: right;\n",
       "    }\n",
       "</style>\n",
       "<table border=\"1\" class=\"dataframe\">\n",
       "  <thead>\n",
       "    <tr style=\"text-align: right;\">\n",
       "      <th></th>\n",
       "      <th>CustomerID</th>\n",
       "      <th>Gender</th>\n",
       "      <th>Age</th>\n",
       "      <th>Annual Income (k$)</th>\n",
       "      <th>Spending Score (1-100)</th>\n",
       "    </tr>\n",
       "  </thead>\n",
       "  <tbody>\n",
       "    <tr>\n",
       "      <th>0</th>\n",
       "      <td>1</td>\n",
       "      <td>Male</td>\n",
       "      <td>19</td>\n",
       "      <td>15</td>\n",
       "      <td>39</td>\n",
       "    </tr>\n",
       "    <tr>\n",
       "      <th>1</th>\n",
       "      <td>2</td>\n",
       "      <td>Male</td>\n",
       "      <td>21</td>\n",
       "      <td>15</td>\n",
       "      <td>81</td>\n",
       "    </tr>\n",
       "    <tr>\n",
       "      <th>2</th>\n",
       "      <td>3</td>\n",
       "      <td>Female</td>\n",
       "      <td>20</td>\n",
       "      <td>16</td>\n",
       "      <td>6</td>\n",
       "    </tr>\n",
       "    <tr>\n",
       "      <th>3</th>\n",
       "      <td>4</td>\n",
       "      <td>Female</td>\n",
       "      <td>23</td>\n",
       "      <td>16</td>\n",
       "      <td>77</td>\n",
       "    </tr>\n",
       "    <tr>\n",
       "      <th>4</th>\n",
       "      <td>5</td>\n",
       "      <td>Female</td>\n",
       "      <td>31</td>\n",
       "      <td>17</td>\n",
       "      <td>40</td>\n",
       "    </tr>\n",
       "  </tbody>\n",
       "</table>\n",
       "</div>"
      ],
      "text/plain": [
       "   CustomerID  Gender  Age  Annual Income (k$)  Spending Score (1-100)\n",
       "0           1    Male   19                  15                      39\n",
       "1           2    Male   21                  15                      81\n",
       "2           3  Female   20                  16                       6\n",
       "3           4  Female   23                  16                      77\n",
       "4           5  Female   31                  17                      40"
      ]
     },
     "execution_count": 248,
     "metadata": {},
     "output_type": "execute_result"
    }
   ],
   "source": [
    "mall_df = pd.read_csv('C:/Users/zaome/Documents/Projet_analyse_clients/Projet_centre_commercial/Mall_Customers.csv')\n",
    "mall_df.head()"
   ]
  },
  {
   "cell_type": "markdown",
   "id": "8c21aa44",
   "metadata": {},
   "source": [
    "## 🕶 Exploration du Dataset"
   ]
  },
  {
   "cell_type": "markdown",
   "id": "2699b7ab",
   "metadata": {},
   "source": [
    "📌 Data shape"
   ]
  },
  {
   "cell_type": "code",
   "execution_count": 249,
   "id": "connected-bangladesh",
   "metadata": {},
   "outputs": [
    {
     "data": {
      "text/plain": [
       "(200, 5)"
      ]
     },
     "execution_count": 249,
     "metadata": {},
     "output_type": "execute_result"
    }
   ],
   "source": [
    "mall_df.shape"
   ]
  },
  {
   "cell_type": "markdown",
   "id": "a12c5271",
   "metadata": {},
   "source": [
    "📌 Information sur le Dataset"
   ]
  },
  {
   "cell_type": "code",
   "execution_count": 250,
   "id": "a25fc5f5",
   "metadata": {},
   "outputs": [
    {
     "name": "stdout",
     "output_type": "stream",
     "text": [
      "<class 'pandas.core.frame.DataFrame'>\n",
      "RangeIndex: 200 entries, 0 to 199\n",
      "Data columns (total 5 columns):\n",
      " #   Column                  Non-Null Count  Dtype \n",
      "---  ------                  --------------  ----- \n",
      " 0   CustomerID              200 non-null    int64 \n",
      " 1   Gender                  200 non-null    object\n",
      " 2   Age                     200 non-null    int64 \n",
      " 3   Annual Income (k$)      200 non-null    int64 \n",
      " 4   Spending Score (1-100)  200 non-null    int64 \n",
      "dtypes: int64(4), object(1)\n",
      "memory usage: 7.9+ KB\n"
     ]
    }
   ],
   "source": [
    "mall_df.info()"
   ]
  },
  {
   "cell_type": "markdown",
   "id": "0010ba17",
   "metadata": {},
   "source": [
    "📌 Description des statistiques"
   ]
  },
  {
   "cell_type": "code",
   "execution_count": 251,
   "id": "a390c124",
   "metadata": {},
   "outputs": [
    {
     "data": {
      "text/html": [
       "<div>\n",
       "<style scoped>\n",
       "    .dataframe tbody tr th:only-of-type {\n",
       "        vertical-align: middle;\n",
       "    }\n",
       "\n",
       "    .dataframe tbody tr th {\n",
       "        vertical-align: top;\n",
       "    }\n",
       "\n",
       "    .dataframe thead th {\n",
       "        text-align: right;\n",
       "    }\n",
       "</style>\n",
       "<table border=\"1\" class=\"dataframe\">\n",
       "  <thead>\n",
       "    <tr style=\"text-align: right;\">\n",
       "      <th></th>\n",
       "      <th>CustomerID</th>\n",
       "      <th>Age</th>\n",
       "      <th>Annual Income (k$)</th>\n",
       "      <th>Spending Score (1-100)</th>\n",
       "    </tr>\n",
       "  </thead>\n",
       "  <tbody>\n",
       "    <tr>\n",
       "      <th>count</th>\n",
       "      <td>200.000000</td>\n",
       "      <td>200.000000</td>\n",
       "      <td>200.000000</td>\n",
       "      <td>200.000000</td>\n",
       "    </tr>\n",
       "    <tr>\n",
       "      <th>mean</th>\n",
       "      <td>100.500000</td>\n",
       "      <td>38.850000</td>\n",
       "      <td>60.560000</td>\n",
       "      <td>50.200000</td>\n",
       "    </tr>\n",
       "    <tr>\n",
       "      <th>std</th>\n",
       "      <td>57.879185</td>\n",
       "      <td>13.969007</td>\n",
       "      <td>26.264721</td>\n",
       "      <td>25.823522</td>\n",
       "    </tr>\n",
       "    <tr>\n",
       "      <th>min</th>\n",
       "      <td>1.000000</td>\n",
       "      <td>18.000000</td>\n",
       "      <td>15.000000</td>\n",
       "      <td>1.000000</td>\n",
       "    </tr>\n",
       "    <tr>\n",
       "      <th>25%</th>\n",
       "      <td>50.750000</td>\n",
       "      <td>28.750000</td>\n",
       "      <td>41.500000</td>\n",
       "      <td>34.750000</td>\n",
       "    </tr>\n",
       "    <tr>\n",
       "      <th>50%</th>\n",
       "      <td>100.500000</td>\n",
       "      <td>36.000000</td>\n",
       "      <td>61.500000</td>\n",
       "      <td>50.000000</td>\n",
       "    </tr>\n",
       "    <tr>\n",
       "      <th>75%</th>\n",
       "      <td>150.250000</td>\n",
       "      <td>49.000000</td>\n",
       "      <td>78.000000</td>\n",
       "      <td>73.000000</td>\n",
       "    </tr>\n",
       "    <tr>\n",
       "      <th>max</th>\n",
       "      <td>200.000000</td>\n",
       "      <td>70.000000</td>\n",
       "      <td>137.000000</td>\n",
       "      <td>99.000000</td>\n",
       "    </tr>\n",
       "  </tbody>\n",
       "</table>\n",
       "</div>"
      ],
      "text/plain": [
       "       CustomerID         Age  Annual Income (k$)  Spending Score (1-100)\n",
       "count  200.000000  200.000000          200.000000              200.000000\n",
       "mean   100.500000   38.850000           60.560000               50.200000\n",
       "std     57.879185   13.969007           26.264721               25.823522\n",
       "min      1.000000   18.000000           15.000000                1.000000\n",
       "25%     50.750000   28.750000           41.500000               34.750000\n",
       "50%    100.500000   36.000000           61.500000               50.000000\n",
       "75%    150.250000   49.000000           78.000000               73.000000\n",
       "max    200.000000   70.000000          137.000000               99.000000"
      ]
     },
     "execution_count": 251,
     "metadata": {},
     "output_type": "execute_result"
    }
   ],
   "source": [
    "mall_df.describe()"
   ]
  },
  {
   "cell_type": "markdown",
   "id": "50acd55b",
   "metadata": {},
   "source": [
    "📌 Type"
   ]
  },
  {
   "cell_type": "code",
   "execution_count": 252,
   "id": "0e8725ab",
   "metadata": {},
   "outputs": [
    {
     "data": {
      "text/plain": [
       "int64     4\n",
       "object    1\n",
       "dtype: int64"
      ]
     },
     "execution_count": 252,
     "metadata": {},
     "output_type": "execute_result"
    }
   ],
   "source": [
    "mall_dtype = mall_df.dtypes\n",
    "mall_dtype.value_counts()"
   ]
  },
  {
   "cell_type": "markdown",
   "id": "f83178d4",
   "metadata": {},
   "source": [
    "📌 Missing value"
   ]
  },
  {
   "cell_type": "code",
   "execution_count": 253,
   "id": "095af2fc",
   "metadata": {},
   "outputs": [
    {
     "data": {
      "text/plain": [
       "CustomerID                0\n",
       "Gender                    0\n",
       "Age                       0\n",
       "Annual Income (k$)        0\n",
       "Spending Score (1-100)    0\n",
       "dtype: int64"
      ]
     },
     "execution_count": 253,
     "metadata": {},
     "output_type": "execute_result"
    }
   ],
   "source": [
    "mall_df.isna().sum()"
   ]
  },
  {
   "cell_type": "markdown",
   "id": "82207ba3",
   "metadata": {},
   "source": [
    "📌 Valeur nulle"
   ]
  },
  {
   "cell_type": "code",
   "execution_count": 254,
   "id": "36ab2df7",
   "metadata": {},
   "outputs": [
    {
     "data": {
      "text/plain": [
       "CustomerID                0\n",
       "Gender                    0\n",
       "Age                       0\n",
       "Annual Income (k$)        0\n",
       "Spending Score (1-100)    0\n",
       "dtype: int64"
      ]
     },
     "execution_count": 254,
     "metadata": {},
     "output_type": "execute_result"
    }
   ],
   "source": [
    "mall_df.isnull().sum()"
   ]
  },
  {
   "cell_type": "markdown",
   "id": "a1c25fb6",
   "metadata": {},
   "source": [
    "📌 Outliers"
   ]
  },
  {
   "cell_type": "code",
   "execution_count": 265,
   "id": "7241be2d",
   "metadata": {},
   "outputs": [
    {
     "data": {
      "image/png": "[encoded data removed]",
      "text/plain": [
       "<Figure size 648x432 with 4 Axes>"
      ]
     },
     "metadata": {
      "needs_background": "light"
     },
     "output_type": "display_data"
    }
   ],
   "source": [
    "mall_df.plot(kind='box', subplots=True, layout=(2, 2), figsize = (9, 6), color='royalblue')\n",
    "plt.show()"
   ]
  },
  {
   "cell_type": "markdown",
   "id": "c5b8a51f",
   "metadata": {},
   "source": [
    "## 🕶 Visualisations"
   ]
  },
  {
   "cell_type": "markdown",
   "id": "287691aa",
   "metadata": {},
   "source": [
    "📌 Correlation"
   ]
  },
  {
   "cell_type": "code",
   "execution_count": 256,
   "id": "ee376b6a",
   "metadata": {},
   "outputs": [
    {
     "data": {
      "text/plain": [
       "<AxesSubplot:>"
      ]
     },
     "execution_count": 256,
     "metadata": {},
     "output_type": "execute_result"
    },
    {
     "data": {
      "image/png": "[encoded data removed]",
      "text/plain": [
       "<Figure size 504x504 with 2 Axes>"
      ]
     },
     "metadata": {
      "needs_background": "light"
     },
     "output_type": "display_data"
    }
   ],
   "source": [
    "corr = mall_df.corr()\n",
    "plt.figure(figsize=(7,7))\n",
    "sns.heatmap(corr,cbar=True, square=True, annot=True, cmap='Blues')"
   ]
  },
  {
   "cell_type": "markdown",
   "id": "c3bc6859",
   "metadata": {},
   "source": [
    "💡 Nous pouvons voir qu'il n'y a pratiquement aucune corrélation entre les variables. Il y a juste une légère relation inverse entre l'Age et le Spending Score, mais elle n'est pas assez efficace pour que nous en tenions compte.\n",
    "\n",
    "💡 L'Annual Income et le Spending Score ont une corrélation positive, comme cela n'est pas pertinent, nous pouvons supposer que la plupart des personnes peuvent maintenir leur score élevé indépendamment du montant de leur revenu.\n",
    "\n",
    "! Ils peuvent compter sur leur carte de crédit pour continuer à dépenser !\n"
   ]
  },
  {
   "cell_type": "markdown",
   "id": "283b75b7",
   "metadata": {},
   "source": [
    "📌 Barplots"
   ]
  },
  {
   "cell_type": "code",
   "execution_count": 262,
   "id": "bcbb5797",
   "metadata": {},
   "outputs": [
    {
     "data": {
      "image/png": "[encoded data removed]",
      "text/plain": [
       "<Figure size 504x360 with 1 Axes>"
      ]
     },
     "metadata": {
      "needs_background": "light"
     },
     "output_type": "display_data"
    }
   ],
   "source": [
    "plt.figure(figsize = (7,5))\n",
    "sns.countplot(x = \"Gender\", data = mall_df, palette=\"Blues\")"
   ]
  },
  {
   "cell_type": "markdown",
   "id": "72e1483f",
   "metadata": {},
   "source": [
    "💡 D'après les données, les femmes ont tendance à faire plus d'achats que les hommes."
   ]
  },
  {
   "cell_type": "markdown",
   "id": "9b346dbd",
   "metadata": {},
   "source": [
    "📌 Histogramme "
   ]
  },
  {
   "cell_type": "code",
   "execution_count": 270,
   "id": "3c000a65",
   "metadata": {},
   "outputs": [
    {
     "data": {
      "text/plain": [
       "<AxesSubplot:xlabel='Age', ylabel='count'>"
      ]
     },
     "execution_count": 270,
     "metadata": {},
     "output_type": "execute_result"
    },
    {
     "data": {
      "image/png": "[encoded data removed]",
      "text/plain": [
       "<Figure size 1080x432 with 1 Axes>"
      ]
     },
     "metadata": {
      "needs_background": "light"
     },
     "output_type": "display_data"
    }
   ],
   "source": [
    "plt.figure(figsize=(15,6))\n",
    "sns.countplot(x = \"Age\", data = mall_df, palette=\"Blues\")"
   ]
  },
  {
   "cell_type": "markdown",
   "id": "f25a39f8",
   "metadata": {},
   "source": [
    "💡 Cette visualisation nous indique que les gens ont tendance à faire plus d'achats dans la trentaine."
   ]
  },
  {
   "cell_type": "markdown",
   "id": "42d5bec7",
   "metadata": {},
   "source": [
    "## 🕶 Agglomerative clustering "
   ]
  },
  {
   "cell_type": "markdown",
   "id": "fe2e7915",
   "metadata": {},
   "source": [
    "📝 Le clustering hiérarchique agglomératif est une suite d'algorithmes de clustering qui reposent sur les mêmes principes (bottom-up) : les algorithmes déclarent d'abord tous les points de données comme des clusters qui leur sont propres, puis les deux clusters les plus similaires fusionnent ensemble et ainsi de suite jusqu'à ce qu'un critère d'arrêt soit atteint. Pour scikit-learn, le critère d'arrêt est le nombre de clusters (n_clusters). L'algorithme prend également un paramètre \"linkage\" qui nous indique \"comment identifier les deux clusters les plus similaires\". Il existe quatre types de liens mis en œuvre par scikit-learn : \n",
    "\n",
    "* Ward : minimise la variance des clusters fusionnés.\n",
    "* Average : utilise la distance moyenne de chaque observation des deux ensembles.\n",
    "* Complete/Maximum : utilise la distance maximale entre toutes les observations des deux ensembles\n",
    "* Single : utilise la distance minimale entre toutes les observations des deux ensembles Ward fonctionne sur la plupart des ensembles de données et c'est l'option par défaut de scikit-learn, si les clusters ont un nombre de membres très dissemblables (si l'un est beaucoup plus grand que tous les autres), average ou complete pourrait mieux fonctionner."
   ]
  },
  {
   "cell_type": "code",
   "execution_count": 71,
   "id": "d2a7729a",
   "metadata": {},
   "outputs": [],
   "source": [
    "from sklearn.cluster import AgglomerativeClustering "
   ]
  },
  {
   "cell_type": "markdown",
   "id": "9d8ede9f",
   "metadata": {},
   "source": [
    "📌 Agglomerative clustering avec 3 clusters"
   ]
  },
  {
   "cell_type": "code",
   "execution_count": 123,
   "id": "daccaad3",
   "metadata": {},
   "outputs": [
    {
     "data": {
      "image/png": "[encoded data removed]",
      "text/plain": [
       "<Figure size 1440x576 with 10 Axes>"
      ]
     },
     "metadata": {},
     "output_type": "display_data"
    }
   ],
   "source": [
    "mglearn.plots.plot_agglomerative_algorithm()"
   ]
  },
  {
   "cell_type": "markdown",
   "id": "9ade5399",
   "metadata": {},
   "source": [
    "💡 Tout d'abord, tous les points sont initialisés en tant que clusters individuels. Ensuite, à chaque étape, les deux clusters les plus proches sont fusionnés. \n",
    "\n",
    "Dans les quatre premières étapes, 4 ensembles de clusters de deux points sont formés. Dans les étapes 5 à 7, trois clusters de 3 points sont formés et finalement dans l'étape 9, 3 clusters principaux sont formés de points différents."
   ]
  },
  {
   "cell_type": "markdown",
   "id": "42e0f343",
   "metadata": {},
   "source": [
    "📌 Agglomerative clustering avec 5 clusters"
   ]
  },
  {
   "cell_type": "code",
   "execution_count": 221,
   "id": "439995bd",
   "metadata": {},
   "outputs": [],
   "source": [
    "X = mall_df[['Annual Income (k$)','Spending Score (1-100)']].values\n",
    "Y = mall_df[['Age','Spending Score (1-100)']].values"
   ]
  },
  {
   "cell_type": "code",
   "execution_count": 127,
   "id": "f2f8c088",
   "metadata": {},
   "outputs": [],
   "source": [
    "agglo = AgglomerativeClustering(n_clusters = 5, affinity = 'euclidean', linkage = 'ward')\n",
    "y_ch = agglo.fit_predict(X)"
   ]
  },
  {
   "cell_type": "markdown",
   "id": "d8561d11",
   "metadata": {},
   "source": [
    "📌 Drop colonne "
   ]
  },
  {
   "cell_type": "code",
   "execution_count": 131,
   "id": "d77a9048",
   "metadata": {},
   "outputs": [],
   "source": [
    "mall_df = pd.get_dummies(mall_df,columns=['Gender'], prefix = ['sex'])"
   ]
  },
  {
   "cell_type": "code",
   "execution_count": 132,
   "id": "71168708",
   "metadata": {},
   "outputs": [],
   "source": [
    "df = mall_df.drop('CustomerID',axis=1)"
   ]
  },
  {
   "cell_type": "markdown",
   "id": "4a86c3cf",
   "metadata": {},
   "source": [
    "📌 Nouvelle feature \"cluster\""
   ]
  },
  {
   "cell_type": "code",
   "execution_count": 133,
   "id": "3be320e7",
   "metadata": {},
   "outputs": [],
   "source": [
    "agg_pred = agglo.fit_predict(df)"
   ]
  },
  {
   "cell_type": "code",
   "execution_count": 136,
   "id": "c6553f39",
   "metadata": {},
   "outputs": [
    {
     "data": {
      "text/html": [
       "<div>\n",
       "<style scoped>\n",
       "    .dataframe tbody tr th:only-of-type {\n",
       "        vertical-align: middle;\n",
       "    }\n",
       "\n",
       "    .dataframe tbody tr th {\n",
       "        vertical-align: top;\n",
       "    }\n",
       "\n",
       "    .dataframe thead th {\n",
       "        text-align: right;\n",
       "    }\n",
       "</style>\n",
       "<table border=\"1\" class=\"dataframe\">\n",
       "  <thead>\n",
       "    <tr style=\"text-align: right;\">\n",
       "      <th></th>\n",
       "      <th>Age</th>\n",
       "      <th>Annual Income (k$)</th>\n",
       "      <th>Spending Score (1-100)</th>\n",
       "      <th>sex_Female</th>\n",
       "      <th>sex_Male</th>\n",
       "      <th>cluster</th>\n",
       "    </tr>\n",
       "  </thead>\n",
       "  <tbody>\n",
       "    <tr>\n",
       "      <th>0</th>\n",
       "      <td>19</td>\n",
       "      <td>15</td>\n",
       "      <td>39</td>\n",
       "      <td>0</td>\n",
       "      <td>1</td>\n",
       "      <td>4</td>\n",
       "    </tr>\n",
       "    <tr>\n",
       "      <th>1</th>\n",
       "      <td>21</td>\n",
       "      <td>15</td>\n",
       "      <td>81</td>\n",
       "      <td>0</td>\n",
       "      <td>1</td>\n",
       "      <td>3</td>\n",
       "    </tr>\n",
       "    <tr>\n",
       "      <th>2</th>\n",
       "      <td>20</td>\n",
       "      <td>16</td>\n",
       "      <td>6</td>\n",
       "      <td>1</td>\n",
       "      <td>0</td>\n",
       "      <td>4</td>\n",
       "    </tr>\n",
       "    <tr>\n",
       "      <th>3</th>\n",
       "      <td>23</td>\n",
       "      <td>16</td>\n",
       "      <td>77</td>\n",
       "      <td>1</td>\n",
       "      <td>0</td>\n",
       "      <td>3</td>\n",
       "    </tr>\n",
       "    <tr>\n",
       "      <th>4</th>\n",
       "      <td>31</td>\n",
       "      <td>17</td>\n",
       "      <td>40</td>\n",
       "      <td>1</td>\n",
       "      <td>0</td>\n",
       "      <td>4</td>\n",
       "    </tr>\n",
       "    <tr>\n",
       "      <th>...</th>\n",
       "      <td>...</td>\n",
       "      <td>...</td>\n",
       "      <td>...</td>\n",
       "      <td>...</td>\n",
       "      <td>...</td>\n",
       "      <td>...</td>\n",
       "    </tr>\n",
       "    <tr>\n",
       "      <th>195</th>\n",
       "      <td>35</td>\n",
       "      <td>120</td>\n",
       "      <td>79</td>\n",
       "      <td>1</td>\n",
       "      <td>0</td>\n",
       "      <td>2</td>\n",
       "    </tr>\n",
       "    <tr>\n",
       "      <th>196</th>\n",
       "      <td>45</td>\n",
       "      <td>126</td>\n",
       "      <td>28</td>\n",
       "      <td>1</td>\n",
       "      <td>0</td>\n",
       "      <td>1</td>\n",
       "    </tr>\n",
       "    <tr>\n",
       "      <th>197</th>\n",
       "      <td>32</td>\n",
       "      <td>126</td>\n",
       "      <td>74</td>\n",
       "      <td>0</td>\n",
       "      <td>1</td>\n",
       "      <td>2</td>\n",
       "    </tr>\n",
       "    <tr>\n",
       "      <th>198</th>\n",
       "      <td>32</td>\n",
       "      <td>137</td>\n",
       "      <td>18</td>\n",
       "      <td>0</td>\n",
       "      <td>1</td>\n",
       "      <td>1</td>\n",
       "    </tr>\n",
       "    <tr>\n",
       "      <th>199</th>\n",
       "      <td>30</td>\n",
       "      <td>137</td>\n",
       "      <td>83</td>\n",
       "      <td>0</td>\n",
       "      <td>1</td>\n",
       "      <td>2</td>\n",
       "    </tr>\n",
       "  </tbody>\n",
       "</table>\n",
       "<p>200 rows × 6 columns</p>\n",
       "</div>"
      ],
      "text/plain": [
       "     Age  Annual Income (k$)  Spending Score (1-100)  sex_Female  sex_Male  \\\n",
       "0     19                  15                      39           0         1   \n",
       "1     21                  15                      81           0         1   \n",
       "2     20                  16                       6           1         0   \n",
       "3     23                  16                      77           1         0   \n",
       "4     31                  17                      40           1         0   \n",
       "..   ...                 ...                     ...         ...       ...   \n",
       "195   35                 120                      79           1         0   \n",
       "196   45                 126                      28           1         0   \n",
       "197   32                 126                      74           0         1   \n",
       "198   32                 137                      18           0         1   \n",
       "199   30                 137                      83           0         1   \n",
       "\n",
       "     cluster  \n",
       "0          4  \n",
       "1          3  \n",
       "2          4  \n",
       "3          3  \n",
       "4          4  \n",
       "..       ...  \n",
       "195        2  \n",
       "196        1  \n",
       "197        2  \n",
       "198        1  \n",
       "199        2  \n",
       "\n",
       "[200 rows x 6 columns]"
      ]
     },
     "execution_count": 136,
     "metadata": {},
     "output_type": "execute_result"
    }
   ],
   "source": [
    "df['cluster'] = agg_pred\n",
    "df"
   ]
  },
  {
   "cell_type": "markdown",
   "id": "f5084ce9",
   "metadata": {},
   "source": [
    "📌 Boxplots Annual Income"
   ]
  },
  {
   "cell_type": "code",
   "execution_count": 238,
   "id": "90256d68",
   "metadata": {},
   "outputs": [
    {
     "data": {
      "text/plain": [
       "<AxesSubplot:xlabel='cluster', ylabel='Annual Income (k$)'>"
      ]
     },
     "execution_count": 238,
     "metadata": {},
     "output_type": "execute_result"
    },
    {
     "data": {
      "image/png": "[encoded data removed]",
      "text/plain": [
       "<Figure size 648x360 with 1 Axes>"
      ]
     },
     "metadata": {
      "needs_background": "light"
     },
     "output_type": "display_data"
    }
   ],
   "source": [
    "plt.figure(figsize=(9,5))\n",
    "sns.boxplot(x='cluster',y='Annual Income (k$)', data=df, palette='Blues')"
   ]
  },
  {
   "cell_type": "markdown",
   "id": "5cf3f087",
   "metadata": {},
   "source": [
    "📌 Boxplots Spending Score"
   ]
  },
  {
   "cell_type": "code",
   "execution_count": 240,
   "id": "752dc205",
   "metadata": {},
   "outputs": [
    {
     "data": {
      "text/plain": [
       "<AxesSubplot:xlabel='cluster', ylabel='Spending Score (1-100)'>"
      ]
     },
     "execution_count": 240,
     "metadata": {},
     "output_type": "execute_result"
    },
    {
     "data": {
      "image/png": "[encoded data removed]",
      "text/plain": [
       "<Figure size 648x360 with 1 Axes>"
      ]
     },
     "metadata": {
      "needs_background": "light"
     },
     "output_type": "display_data"
    }
   ],
   "source": [
    "plt.figure(figsize=(9,5))\n",
    "sns.boxplot(x='cluster',y='Spending Score (1-100)', data=df, palette='Blues')"
   ]
  },
  {
   "cell_type": "markdown",
   "id": "50ec4347",
   "metadata": {},
   "source": [
    "📌 Boxplots Age"
   ]
  },
  {
   "cell_type": "code",
   "execution_count": 237,
   "id": "a5abf17c",
   "metadata": {},
   "outputs": [
    {
     "data": {
      "text/plain": [
       "<AxesSubplot:xlabel='cluster', ylabel='Age'>"
      ]
     },
     "execution_count": 237,
     "metadata": {},
     "output_type": "execute_result"
    },
    {
     "data": {
      "image/png": "[encoded data removed]",
      "text/plain": [
       "<Figure size 648x360 with 1 Axes>"
      ]
     },
     "metadata": {
      "needs_background": "light"
     },
     "output_type": "display_data"
    }
   ],
   "source": [
    "plt.figure(figsize=(9,5))\n",
    "sns.boxplot(x='cluster',y='Age', data=df, palette='Blues')"
   ]
  },
  {
   "cell_type": "markdown",
   "id": "41f9013a",
   "metadata": {},
   "source": [
    "📌 Pairplot"
   ]
  },
  {
   "cell_type": "code",
   "execution_count": 157,
   "id": "74bbba1d",
   "metadata": {},
   "outputs": [
    {
     "data": {
      "text/plain": [
       "<seaborn.axisgrid.PairGrid at 0x28031e901f0>"
      ]
     },
     "execution_count": 157,
     "metadata": {},
     "output_type": "execute_result"
    },
    {
     "data": {
      "image/png": "[encoded data removed]",
      "text/plain": [
       "<Figure size 942.375x900 with 30 Axes>"
      ]
     },
     "metadata": {
      "needs_background": "light"
     },
     "output_type": "display_data"
    }
   ],
   "source": [
    "sns.pairplot(df,hue='cluster', palette=\"mako\")"
   ]
  },
  {
   "cell_type": "markdown",
   "id": "17cc5668",
   "metadata": {},
   "source": [
    "📌 Affichage des 5 clusters avec Age"
   ]
  },
  {
   "cell_type": "code",
   "execution_count": 224,
   "id": "578cdb87",
   "metadata": {},
   "outputs": [
    {
     "data": {
      "image/png": "[encoded data removed]",
      "text/plain": [
       "<Figure size 360x432 with 1 Axes>"
      ]
     },
     "metadata": {
      "needs_background": "light"
     },
     "output_type": "display_data"
    }
   ],
   "source": [
    "plt.figure(figsize=(5,6))\n",
    "\n",
    "plt.scatter(Y[y_hc == 0, 0], Y[y_hc == 0, 1], c = 'paleturquoise', label = 'Cluster 0')\n",
    "plt.scatter(Y[y_hc == 1, 0], Y[y_hc == 1, 1], c = 'skyblue', label = 'Cluster 1')\n",
    "plt.scatter(Y[y_hc == 2, 0], Y[y_hc == 2, 1], c = 'royalblue', label = 'Cluster 2')\n",
    "plt.scatter(Y[y_hc == 3, 0], Y[y_hc == 3, 1], c = 'blue', label = 'Cluster 3')\n",
    "plt.scatter(Y[y_hc == 4, 0], Y[y_hc == 4, 1], c = 'navy', label = 'Cluster 4')\n",
    "\n",
    "plt.title('Clusters of customers')\n",
    "plt.xlabel('Age')\n",
    "plt.ylabel('Spending Score')\n",
    "plt.legend()\n",
    "plt.show()"
   ]
  },
  {
   "cell_type": "markdown",
   "id": "b33fee8c",
   "metadata": {},
   "source": [
    "💡 Il n'y a pas de groupes distincts pour l'\"Age\" par rapport au \"Spending Score\"."
   ]
  },
  {
   "cell_type": "markdown",
   "id": "42618c0a",
   "metadata": {},
   "source": [
    "📌 Affichage des 5 clusters avec Income"
   ]
  },
  {
   "cell_type": "code",
   "execution_count": 229,
   "id": "9abc00a3",
   "metadata": {
    "scrolled": false
   },
   "outputs": [
    {
     "data": {
      "image/png": "[encoded data removed]",
      "text/plain": [
       "<Figure size 360x432 with 1 Axes>"
      ]
     },
     "metadata": {
      "needs_background": "light"
     },
     "output_type": "display_data"
    }
   ],
   "source": [
    "plt.figure(figsize=(5,6))\n",
    "\n",
    "plt.scatter(X[y_hc == 0, 0], X[y_hc == 0, 1], c = 'paleturquoise', label = 'Cluster 0')\n",
    "plt.scatter(X[y_hc == 1, 0], X[y_hc == 1, 1], c = 'skyblue', label = 'Cluster 1')\n",
    "plt.scatter(X[y_hc == 2, 0], X[y_hc == 2, 1], c = 'royalblue', label = 'Cluster 2')\n",
    "plt.scatter(X[y_hc == 3, 0], X[y_hc == 3, 1], c = 'blue', label = 'Cluster 3')\n",
    "plt.scatter(X[y_hc == 4, 0], X[y_hc == 4, 1], c = 'navy', label = 'Cluster 4')\n",
    "\n",
    "plt.title('Clusters of customers')\n",
    "plt.xlabel('Annual Income')\n",
    "plt.ylabel('Spending Score')\n",
    "plt.legend()\n",
    "plt.show()"
   ]
  },
  {
   "cell_type": "markdown",
   "id": "3720c3cc",
   "metadata": {},
   "source": [
    "💡 5 clusters permettent de mieux différencier chacun des sous-groupes. Les cinq groupes sont les suivants :\n",
    "\n",
    "* Faible revenu avec un score de dépenses élevé (Cluster 0)\n",
    "* Faible revenu avec un faible score de dépenses (Cluster 1)\n",
    "* Revenu élevé avec un score de dépenses élevé (Cluster 2)\n",
    "* Revenu moyen avec un score de dépenses moyen (Cluster 3)\n",
    "* Revenu élevé avec un score de dépenses faible (Cluster 4)"
   ]
  },
  {
   "cell_type": "markdown",
   "id": "bf22ac08",
   "metadata": {},
   "source": [
    "💡 Nous pouvons voir que les clusters sont identiques à ceux qui utilisent la liaison \"complète\". Cela pourrait indiquer que les clusters sont bien définis puisque le changement de lien n'affecte pas les clusters. Ce graphique utilise le couplage 'ward' et 5 clusters."
   ]
  },
  {
   "cell_type": "markdown",
   "id": "75ccf48c",
   "metadata": {},
   "source": [
    "📌 Import librairies"
   ]
  },
  {
   "cell_type": "code",
   "execution_count": 209,
   "id": "1453d129",
   "metadata": {},
   "outputs": [],
   "source": [
    "import plotly.figure_factory as ff\n",
    "import plotly.graph_objects as go\n",
    "import plotly.express as px\n",
    "from scipy.cluster.hierarchy import ward\n",
    "from scipy.cluster.hierarchy import dendrogram, linkage"
   ]
  },
  {
   "cell_type": "markdown",
   "id": "7fe68249",
   "metadata": {},
   "source": [
    "📌 Dendogramme"
   ]
  },
  {
   "cell_type": "code",
   "execution_count": 212,
   "id": "4a70c1e6",
   "metadata": {},
   "outputs": [
    {
     "data": {
      "image/png": "[encoded data removed]",
      "text/plain": [
       "<Figure size 1224x504 with 1 Axes>"
      ]
     },
     "metadata": {
      "needs_background": "light"
     },
     "output_type": "display_data"
    }
   ],
   "source": [
    "plt.figure(figsize = (17, 7))\n",
    "dendo = dendrogram(linkage(X, method = 'ward'))\n",
    "plt.show()"
   ]
  },
  {
   "cell_type": "markdown",
   "id": "7d44b9ac",
   "metadata": {},
   "source": [
    "📌 Dendrogramme interactif"
   ]
  },
  {
   "cell_type": "code",
   "execution_count": 201,
   "id": "3097bd1b",
   "metadata": {},
   "outputs": [
    {
     "data": {
      "application/vnd.plotly.v1+json": {
       "config": {
        "plotlyServerURL": "https://plot.ly"
       },
       "data": [
        {
         "hoverinfo": "text",
         "marker": {
          "color": "rgb(61,153,112)"
         },
         "mode": "lines",
         "type": "scatter",
         "x": [
          15,
          15,
          25,
          25
         ],
         "xaxis": "x",
         "y": [
          0,
          3.9468715330175166,
          3.9468715330175166,
          0
         ],
         "yaxis": "y"
        },
        {
         "hoverinfo": "text",
         "marker": {
          "color": "rgb(61,153,112)"
         },
         "mode": "lines",
         "type": "scatter",
         "x": [
          5,
          5,
          20,
          20
         ],
         "xaxis": "x",
         "y": [
          0,
          6.197248011693843,
          6.197248011693843,
          3.9468715330175166
         ],
         "yaxis": "y"
        },
        {
         "hoverinfo": "text",
         "marker": {
          "color": "rgb(61,153,112)"
         },
         "mode": "lines",
         "type": "scatter",
         "x": [
          45,
          45,
          55,
          55
         ],
         "xaxis": "x",
         "y": [
          0,
          3.1622776601683795,
          3.1622776601683795,
          0
         ],
         "yaxis": "y"
        },
        {
         "hoverinfo": "text",
         "marker": {
          "color": "rgb(61,153,112)"
         },
         "mode": "lines",
         "type": "scatter",
         "x": [
          35,
          35,
          50,
          50
         ],
         "xaxis": "x",
         "y": [
          0,
          5.231881401755059,
          5.231881401755059,
          3.1622776601683795
         ],
         "yaxis": "y"
        },
        {
         "hoverinfo": "text",
         "marker": {
          "color": "rgb(61,153,112)"
         },
         "mode": "lines",
         "type": "scatter",
         "x": [
          75,
          75,
          85,
          85
         ],
         "xaxis": "x",
         "y": [
          0,
          4.265734578946192,
          4.265734578946192,
          0
         ],
         "yaxis": "y"
        },
        {
         "hoverinfo": "text",
         "marker": {
          "color": "rgb(61,153,112)"
         },
         "mode": "lines",
         "type": "scatter",
         "x": [
          65,
          65,
          80,
          80
         ],
         "xaxis": "x",
         "y": [
          0,
          5.420075958722,
          5.420075958722,
          4.265734578946192
         ],
         "yaxis": "y"
        },
        {
         "hoverinfo": "text",
         "marker": {
          "color": "rgb(61,153,112)"
         },
         "mode": "lines",
         "type": "scatter",
         "x": [
          42.5,
          42.5,
          72.5,
          72.5
         ],
         "xaxis": "x",
         "y": [
          5.231881401755059,
          12.755460741135655,
          12.755460741135655,
          5.420075958722
         ],
         "yaxis": "y"
        },
        {
         "hoverinfo": "text",
         "marker": {
          "color": "rgb(61,153,112)"
         },
         "mode": "lines",
         "type": "scatter",
         "x": [
          12.5,
          12.5,
          57.5,
          57.5
         ],
         "xaxis": "x",
         "y": [
          6.197248011693843,
          24.18028725017582,
          24.18028725017582,
          12.755460741135655
         ],
         "yaxis": "y"
        },
        {
         "hoverinfo": "text",
         "marker": {
          "color": "rgb(61,153,112)"
         },
         "mode": "lines",
         "type": "scatter",
         "x": [
          105,
          105,
          115,
          115
         ],
         "xaxis": "x",
         "y": [
          0,
          1.5307337294603591,
          1.5307337294603591,
          0
         ],
         "yaxis": "y"
        },
        {
         "hoverinfo": "text",
         "marker": {
          "color": "rgb(61,153,112)"
         },
         "mode": "lines",
         "type": "scatter",
         "x": [
          95,
          95,
          110,
          110
         ],
         "xaxis": "x",
         "y": [
          0,
          3.2673299006472,
          3.2673299006472,
          1.5307337294603591
         ],
         "yaxis": "y"
        },
        {
         "hoverinfo": "text",
         "marker": {
          "color": "rgb(61,153,112)"
         },
         "mode": "lines",
         "type": "scatter",
         "x": [
          125,
          125,
          135,
          135
         ],
         "xaxis": "x",
         "y": [
          0,
          6.164414002968976,
          6.164414002968976,
          0
         ],
         "yaxis": "y"
        },
        {
         "hoverinfo": "text",
         "marker": {
          "color": "rgb(61,153,112)"
         },
         "mode": "lines",
         "type": "scatter",
         "x": [
          145,
          145,
          155,
          155
         ],
         "xaxis": "x",
         "y": [
          0,
          3.216076141901435,
          3.216076141901435,
          0
         ],
         "yaxis": "y"
        },
        {
         "hoverinfo": "text",
         "marker": {
          "color": "rgb(61,153,112)"
         },
         "mode": "lines",
         "type": "scatter",
         "x": [
          165,
          165,
          175,
          175
         ],
         "xaxis": "x",
         "y": [
          0,
          3.584184810857109,
          3.584184810857109,
          0
         ],
         "yaxis": "y"
        },
        {
         "hoverinfo": "text",
         "marker": {
          "color": "rgb(61,153,112)"
         },
         "mode": "lines",
         "type": "scatter",
         "x": [
          150,
          150,
          170,
          170
         ],
         "xaxis": "x",
         "y": [
          3.216076141901435,
          6.221075366739497,
          6.221075366739497,
          3.584184810857109
         ],
         "yaxis": "y"
        },
        {
         "hoverinfo": "text",
         "marker": {
          "color": "rgb(61,153,112)"
         },
         "mode": "lines",
         "type": "scatter",
         "x": [
          130,
          130,
          160,
          160
         ],
         "xaxis": "x",
         "y": [
          6.164414002968976,
          14.43436487550895,
          14.43436487550895,
          6.221075366739497
         ],
         "yaxis": "y"
        },
        {
         "hoverinfo": "text",
         "marker": {
          "color": "rgb(61,153,112)"
         },
         "mode": "lines",
         "type": "scatter",
         "x": [
          102.5,
          102.5,
          145,
          145
         ],
         "xaxis": "x",
         "y": [
          3.2673299006472,
          28.34656705925782,
          28.34656705925782,
          14.43436487550895
         ],
         "yaxis": "y"
        },
        {
         "hoverinfo": "text",
         "marker": {
          "color": "rgb(61,153,112)"
         },
         "mode": "lines",
         "type": "scatter",
         "x": [
          35,
          35,
          123.75,
          123.75
         ],
         "xaxis": "x",
         "y": [
          24.18028725017582,
          59.43998196651814,
          59.43998196651814,
          28.34656705925782
         ],
         "yaxis": "y"
        },
        {
         "hoverinfo": "text",
         "marker": {
          "color": "rgb(61,153,112)"
         },
         "mode": "lines",
         "type": "scatter",
         "x": [
          185,
          185,
          195,
          195
         ],
         "xaxis": "x",
         "y": [
          0,
          2.248494627523233,
          2.248494627523233,
          0
         ],
         "yaxis": "y"
        },
        {
         "hoverinfo": "text",
         "marker": {
          "color": "rgb(61,153,112)"
         },
         "mode": "lines",
         "type": "scatter",
         "x": [
          205,
          205,
          215,
          215
         ],
         "xaxis": "x",
         "y": [
          0,
          2.23606797749979,
          2.23606797749979,
          0
         ],
         "yaxis": "y"
        },
        {
         "hoverinfo": "text",
         "marker": {
          "color": "rgb(61,153,112)"
         },
         "mode": "lines",
         "type": "scatter",
         "x": [
          225,
          225,
          235,
          235
         ],
         "xaxis": "x",
         "y": [
          0,
          3.6980325417258353,
          3.6980325417258353,
          0
         ],
         "yaxis": "y"
        },
        {
         "hoverinfo": "text",
         "marker": {
          "color": "rgb(61,153,112)"
         },
         "mode": "lines",
         "type": "scatter",
         "x": [
          210,
          210,
          230,
          230
         ],
         "xaxis": "x",
         "y": [
          2.23606797749979,
          5.845645633739169,
          5.845645633739169,
          3.6980325417258353
         ],
         "yaxis": "y"
        },
        {
         "hoverinfo": "text",
         "marker": {
          "color": "rgb(61,153,112)"
         },
         "mode": "lines",
         "type": "scatter",
         "x": [
          190,
          190,
          220,
          220
         ],
         "xaxis": "x",
         "y": [
          2.248494627523233,
          12.865763251552565,
          12.865763251552565,
          5.845645633739169
         ],
         "yaxis": "y"
        },
        {
         "hoverinfo": "text",
         "marker": {
          "color": "rgb(61,153,112)"
         },
         "mode": "lines",
         "type": "scatter",
         "x": [
          255,
          255,
          265,
          265
         ],
         "xaxis": "x",
         "y": [
          0,
          3.1622776601683795,
          3.1622776601683795,
          0
         ],
         "yaxis": "y"
        },
        {
         "hoverinfo": "text",
         "marker": {
          "color": "rgb(61,153,112)"
         },
         "mode": "lines",
         "type": "scatter",
         "x": [
          245,
          245,
          260,
          260
         ],
         "xaxis": "x",
         "y": [
          0,
          5.385164807134504,
          5.385164807134504,
          3.1622776601683795
         ],
         "yaxis": "y"
        },
        {
         "hoverinfo": "text",
         "marker": {
          "color": "rgb(61,153,112)"
         },
         "mode": "lines",
         "type": "scatter",
         "x": [
          295,
          295,
          305,
          305
         ],
         "xaxis": "x",
         "y": [
          0,
          1.4736257582079006,
          1.4736257582079006,
          0
         ],
         "yaxis": "y"
        },
        {
         "hoverinfo": "text",
         "marker": {
          "color": "rgb(61,153,112)"
         },
         "mode": "lines",
         "type": "scatter",
         "x": [
          285,
          285,
          300,
          300
         ],
         "xaxis": "x",
         "y": [
          0,
          3.3166247903554,
          3.3166247903554,
          1.4736257582079006
         ],
         "yaxis": "y"
        },
        {
         "hoverinfo": "text",
         "marker": {
          "color": "rgb(61,153,112)"
         },
         "mode": "lines",
         "type": "scatter",
         "x": [
          275,
          275,
          292.5,
          292.5
         ],
         "xaxis": "x",
         "y": [
          0,
          8.12403840463596,
          8.12403840463596,
          3.3166247903554
         ],
         "yaxis": "y"
        },
        {
         "hoverinfo": "text",
         "marker": {
          "color": "rgb(61,153,112)"
         },
         "mode": "lines",
         "type": "scatter",
         "x": [
          252.5,
          252.5,
          283.75,
          283.75
         ],
         "xaxis": "x",
         "y": [
          5.385164807134504,
          13.19090595827292,
          13.19090595827292,
          8.12403840463596
         ],
         "yaxis": "y"
        },
        {
         "hoverinfo": "text",
         "marker": {
          "color": "rgb(61,153,112)"
         },
         "mode": "lines",
         "type": "scatter",
         "x": [
          205,
          205,
          268.125,
          268.125
         ],
         "xaxis": "x",
         "y": [
          12.865763251552565,
          33.129799156273215,
          33.129799156273215,
          13.19090595827292
         ],
         "yaxis": "y"
        },
        {
         "hoverinfo": "text",
         "marker": {
          "color": "rgb(61,153,112)"
         },
         "mode": "lines",
         "type": "scatter",
         "x": [
          325,
          325,
          335,
          335
         ],
         "xaxis": "x",
         "y": [
          0,
          1.87826090972485,
          1.87826090972485,
          0
         ],
         "yaxis": "y"
        },
        {
         "hoverinfo": "text",
         "marker": {
          "color": "rgb(61,153,112)"
         },
         "mode": "lines",
         "type": "scatter",
         "x": [
          315,
          315,
          330,
          330
         ],
         "xaxis": "x",
         "y": [
          0,
          5.0990195135927845,
          5.0990195135927845,
          1.87826090972485
         ],
         "yaxis": "y"
        },
        {
         "hoverinfo": "text",
         "marker": {
          "color": "rgb(61,153,112)"
         },
         "mode": "lines",
         "type": "scatter",
         "x": [
          355,
          355,
          365,
          365
         ],
         "xaxis": "x",
         "y": [
          0,
          2.274109248750774,
          2.274109248750774,
          0
         ],
         "yaxis": "y"
        },
        {
         "hoverinfo": "text",
         "marker": {
          "color": "rgb(61,153,112)"
         },
         "mode": "lines",
         "type": "scatter",
         "x": [
          345,
          345,
          360,
          360
         ],
         "xaxis": "x",
         "y": [
          0,
          7.222989192519521,
          7.222989192519521,
          2.274109248750774
         ],
         "yaxis": "y"
        },
        {
         "hoverinfo": "text",
         "marker": {
          "color": "rgb(61,153,112)"
         },
         "mode": "lines",
         "type": "scatter",
         "x": [
          322.5,
          322.5,
          352.5,
          352.5
         ],
         "xaxis": "x",
         "y": [
          5.0990195135927845,
          17,
          17,
          7.222989192519521
         ],
         "yaxis": "y"
        },
        {
         "hoverinfo": "text",
         "marker": {
          "color": "rgb(61,153,112)"
         },
         "mode": "lines",
         "type": "scatter",
         "x": [
          375,
          375,
          385,
          385
         ],
         "xaxis": "x",
         "y": [
          0,
          2.23606797749979,
          2.23606797749979,
          0
         ],
         "yaxis": "y"
        },
        {
         "hoverinfo": "text",
         "marker": {
          "color": "rgb(61,153,112)"
         },
         "mode": "lines",
         "type": "scatter",
         "x": [
          395,
          395,
          405,
          405
         ],
         "xaxis": "x",
         "y": [
          0,
          4.123105625617661,
          4.123105625617661,
          0
         ],
         "yaxis": "y"
        },
        {
         "hoverinfo": "text",
         "marker": {
          "color": "rgb(61,153,112)"
         },
         "mode": "lines",
         "type": "scatter",
         "x": [
          380,
          380,
          400,
          400
         ],
         "xaxis": "x",
         "y": [
          2.23606797749979,
          6.4031242374328485,
          6.4031242374328485,
          4.123105625617661
         ],
         "yaxis": "y"
        },
        {
         "hoverinfo": "text",
         "marker": {
          "color": "rgb(61,153,112)"
         },
         "mode": "lines",
         "type": "scatter",
         "x": [
          435,
          435,
          445,
          445
         ],
         "xaxis": "x",
         "y": [
          0,
          2.449489742783178,
          2.449489742783178,
          0
         ],
         "yaxis": "y"
        },
        {
         "hoverinfo": "text",
         "marker": {
          "color": "rgb(61,153,112)"
         },
         "mode": "lines",
         "type": "scatter",
         "x": [
          425,
          425,
          440,
          440
         ],
         "xaxis": "x",
         "y": [
          0,
          4.242640687119285,
          4.242640687119285,
          2.449489742783178
         ],
         "yaxis": "y"
        },
        {
         "hoverinfo": "text",
         "marker": {
          "color": "rgb(61,153,112)"
         },
         "mode": "lines",
         "type": "scatter",
         "x": [
          415,
          415,
          432.5,
          432.5
         ],
         "xaxis": "x",
         "y": [
          0,
          9.228844612152368,
          9.228844612152368,
          4.242640687119285
         ],
         "yaxis": "y"
        },
        {
         "hoverinfo": "text",
         "marker": {
          "color": "rgb(61,153,112)"
         },
         "mode": "lines",
         "type": "scatter",
         "x": [
          390,
          390,
          423.75,
          423.75
         ],
         "xaxis": "x",
         "y": [
          6.4031242374328485,
          21.93171219946131,
          21.93171219946131,
          9.228844612152368
         ],
         "yaxis": "y"
        },
        {
         "hoverinfo": "text",
         "marker": {
          "color": "rgb(61,153,112)"
         },
         "mode": "lines",
         "type": "scatter",
         "x": [
          337.5,
          337.5,
          406.875,
          406.875
         ],
         "xaxis": "x",
         "y": [
          17,
          45.28796749689701,
          45.28796749689701,
          21.93171219946131
         ],
         "yaxis": "y"
        },
        {
         "hoverinfo": "text",
         "marker": {
          "color": "rgb(61,153,112)"
         },
         "mode": "lines",
         "type": "scatter",
         "x": [
          236.5625,
          236.5625,
          372.1875,
          372.1875
         ],
         "xaxis": "x",
         "y": [
          33.129799156273215,
          87.05170877128145,
          87.05170877128145,
          45.28796749689701
         ],
         "yaxis": "y"
        },
        {
         "hoverinfo": "text",
         "marker": {
          "color": "rgb(61,153,112)"
         },
         "mode": "lines",
         "type": "scatter",
         "x": [
          79.375,
          79.375,
          304.375,
          304.375
         ],
         "xaxis": "x",
         "y": [
          59.43998196651814,
          152.74661326538472,
          152.74661326538472,
          87.05170877128145
         ],
         "yaxis": "y"
        },
        {
         "hoverinfo": "text",
         "marker": {
          "color": "rgb(255,65,54)"
         },
         "mode": "lines",
         "type": "scatter",
         "x": [
          465,
          465,
          475,
          475
         ],
         "xaxis": "x",
         "y": [
          0,
          14.662373481200856,
          14.662373481200856,
          0
         ],
         "yaxis": "y"
        },
        {
         "hoverinfo": "text",
         "marker": {
          "color": "rgb(255,65,54)"
         },
         "mode": "lines",
         "type": "scatter",
         "x": [
          455,
          455,
          470,
          470
         ],
         "xaxis": "x",
         "y": [
          0,
          17.43056369042882,
          17.43056369042882,
          14.662373481200856
         ],
         "yaxis": "y"
        },
        {
         "hoverinfo": "text",
         "marker": {
          "color": "rgb(255,65,54)"
         },
         "mode": "lines",
         "type": "scatter",
         "x": [
          495,
          495,
          505,
          505
         ],
         "xaxis": "x",
         "y": [
          0,
          14.525491540596597,
          14.525491540596597,
          0
         ],
         "yaxis": "y"
        },
        {
         "hoverinfo": "text",
         "marker": {
          "color": "rgb(255,65,54)"
         },
         "mode": "lines",
         "type": "scatter",
         "x": [
          485,
          485,
          500,
          500
         ],
         "xaxis": "x",
         "y": [
          0,
          32.96462750686965,
          32.96462750686965,
          14.525491540596597
         ],
         "yaxis": "y"
        },
        {
         "hoverinfo": "text",
         "marker": {
          "color": "rgb(255,65,54)"
         },
         "mode": "lines",
         "type": "scatter",
         "x": [
          462.5,
          462.5,
          492.5,
          492.5
         ],
         "xaxis": "x",
         "y": [
          17.43056369042882,
          64.11323563266453,
          64.11323563266453,
          32.96462750686965
         ],
         "yaxis": "y"
        },
        {
         "hoverinfo": "text",
         "marker": {
          "color": "rgb(255,65,54)"
         },
         "mode": "lines",
         "type": "scatter",
         "x": [
          515,
          515,
          525,
          525
         ],
         "xaxis": "x",
         "y": [
          0,
          6.492221359163514,
          6.492221359163514,
          0
         ],
         "yaxis": "y"
        },
        {
         "hoverinfo": "text",
         "marker": {
          "color": "rgb(255,65,54)"
         },
         "mode": "lines",
         "type": "scatter",
         "x": [
          535,
          535,
          545,
          545
         ],
         "xaxis": "x",
         "y": [
          0,
          14.151467186257163,
          14.151467186257163,
          0
         ],
         "yaxis": "y"
        },
        {
         "hoverinfo": "text",
         "marker": {
          "color": "rgb(255,65,54)"
         },
         "mode": "lines",
         "type": "scatter",
         "x": [
          520,
          520,
          540,
          540
         ],
         "xaxis": "x",
         "y": [
          6.492221359163514,
          15.346571494984921,
          15.346571494984921,
          14.151467186257163
         ],
         "yaxis": "y"
        },
        {
         "hoverinfo": "text",
         "marker": {
          "color": "rgb(255,65,54)"
         },
         "mode": "lines",
         "type": "scatter",
         "x": [
          575,
          575,
          585,
          585
         ],
         "xaxis": "x",
         "y": [
          0,
          8.180268744946137,
          8.180268744946137,
          0
         ],
         "yaxis": "y"
        },
        {
         "hoverinfo": "text",
         "marker": {
          "color": "rgb(255,65,54)"
         },
         "mode": "lines",
         "type": "scatter",
         "x": [
          565,
          565,
          580,
          580
         ],
         "xaxis": "x",
         "y": [
          0,
          14.849463449510802,
          14.849463449510802,
          8.180268744946137
         ],
         "yaxis": "y"
        },
        {
         "hoverinfo": "text",
         "marker": {
          "color": "rgb(255,65,54)"
         },
         "mode": "lines",
         "type": "scatter",
         "x": [
          555,
          555,
          572.5,
          572.5
         ],
         "xaxis": "x",
         "y": [
          0,
          31.827668159581457,
          31.827668159581457,
          14.849463449510802
         ],
         "yaxis": "y"
        },
        {
         "hoverinfo": "text",
         "marker": {
          "color": "rgb(255,65,54)"
         },
         "mode": "lines",
         "type": "scatter",
         "x": [
          595,
          595,
          605,
          605
         ],
         "xaxis": "x",
         "y": [
          0,
          6.743061804681732,
          6.743061804681732,
          0
         ],
         "yaxis": "y"
        },
        {
         "hoverinfo": "text",
         "marker": {
          "color": "rgb(255,65,54)"
         },
         "mode": "lines",
         "type": "scatter",
         "x": [
          625,
          625,
          635,
          635
         ],
         "xaxis": "x",
         "y": [
          0,
          4.564281202263774,
          4.564281202263774,
          0
         ],
         "yaxis": "y"
        },
        {
         "hoverinfo": "text",
         "marker": {
          "color": "rgb(255,65,54)"
         },
         "mode": "lines",
         "type": "scatter",
         "x": [
          615,
          615,
          630,
          630
         ],
         "xaxis": "x",
         "y": [
          0,
          16.815833590953442,
          16.815833590953442,
          4.564281202263774
         ],
         "yaxis": "y"
        },
        {
         "hoverinfo": "text",
         "marker": {
          "color": "rgb(255,65,54)"
         },
         "mode": "lines",
         "type": "scatter",
         "x": [
          645,
          645,
          655,
          655
         ],
         "xaxis": "x",
         "y": [
          0,
          20.395756686156023,
          20.395756686156023,
          0
         ],
         "yaxis": "y"
        },
        {
         "hoverinfo": "text",
         "marker": {
          "color": "rgb(255,65,54)"
         },
         "mode": "lines",
         "type": "scatter",
         "x": [
          622.5,
          622.5,
          650,
          650
         ],
         "xaxis": "x",
         "y": [
          16.815833590953442,
          29.948333379096287,
          29.948333379096287,
          20.395756686156023
         ],
         "yaxis": "y"
        },
        {
         "hoverinfo": "text",
         "marker": {
          "color": "rgb(255,65,54)"
         },
         "mode": "lines",
         "type": "scatter",
         "x": [
          600,
          600,
          636.25,
          636.25
         ],
         "xaxis": "x",
         "y": [
          6.743061804681732,
          38.31903861563023,
          38.31903861563023,
          29.948333379096287
         ],
         "yaxis": "y"
        },
        {
         "hoverinfo": "text",
         "marker": {
          "color": "rgb(255,65,54)"
         },
         "mode": "lines",
         "type": "scatter",
         "x": [
          563.75,
          563.75,
          618.125,
          618.125
         ],
         "xaxis": "x",
         "y": [
          31.827668159581457,
          58.08052670879919,
          58.08052670879919,
          38.31903861563023
         ],
         "yaxis": "y"
        },
        {
         "hoverinfo": "text",
         "marker": {
          "color": "rgb(255,65,54)"
         },
         "mode": "lines",
         "type": "scatter",
         "x": [
          530,
          530,
          590.9375,
          590.9375
         ],
         "xaxis": "x",
         "y": [
          15.346571494984921,
          70.20862925869228,
          70.20862925869228,
          58.08052670879919
         ],
         "yaxis": "y"
        },
        {
         "hoverinfo": "text",
         "marker": {
          "color": "rgb(255,65,54)"
         },
         "mode": "lines",
         "type": "scatter",
         "x": [
          477.5,
          477.5,
          560.46875,
          560.46875
         ],
         "xaxis": "x",
         "y": [
          64.11323563266453,
          111.23403361626232,
          111.23403361626232,
          70.20862925869228
         ],
         "yaxis": "y"
        },
        {
         "hoverinfo": "text",
         "marker": {
          "color": "rgb(255,65,54)"
         },
         "mode": "lines",
         "type": "scatter",
         "x": [
          665,
          665,
          675,
          675
         ],
         "xaxis": "x",
         "y": [
          0,
          6.847937238230762,
          6.847937238230762,
          0
         ],
         "yaxis": "y"
        },
        {
         "hoverinfo": "text",
         "marker": {
          "color": "rgb(255,65,54)"
         },
         "mode": "lines",
         "type": "scatter",
         "x": [
          685,
          685,
          695,
          695
         ],
         "xaxis": "x",
         "y": [
          0,
          23.84350287106634,
          23.84350287106634,
          0
         ],
         "yaxis": "y"
        },
        {
         "hoverinfo": "text",
         "marker": {
          "color": "rgb(255,65,54)"
         },
         "mode": "lines",
         "type": "scatter",
         "x": [
          670,
          670,
          690,
          690
         ],
         "xaxis": "x",
         "y": [
          6.847937238230762,
          32.19717217792585,
          32.19717217792585,
          23.84350287106634
         ],
         "yaxis": "y"
        },
        {
         "hoverinfo": "text",
         "marker": {
          "color": "rgb(255,65,54)"
         },
         "mode": "lines",
         "type": "scatter",
         "x": [
          715,
          715,
          725,
          725
         ],
         "xaxis": "x",
         "y": [
          0,
          3.0579223926264847,
          3.0579223926264847,
          0
         ],
         "yaxis": "y"
        },
        {
         "hoverinfo": "text",
         "marker": {
          "color": "rgb(255,65,54)"
         },
         "mode": "lines",
         "type": "scatter",
         "x": [
          705,
          705,
          720,
          720
         ],
         "xaxis": "x",
         "y": [
          0,
          5.904054909659043,
          5.904054909659043,
          3.0579223926264847
         ],
         "yaxis": "y"
        },
        {
         "hoverinfo": "text",
         "marker": {
          "color": "rgb(255,65,54)"
         },
         "mode": "lines",
         "type": "scatter",
         "x": [
          735,
          735,
          745,
          745
         ],
         "xaxis": "x",
         "y": [
          0,
          5.986190352753875,
          5.986190352753875,
          0
         ],
         "yaxis": "y"
        },
        {
         "hoverinfo": "text",
         "marker": {
          "color": "rgb(255,65,54)"
         },
         "mode": "lines",
         "type": "scatter",
         "x": [
          712.5,
          712.5,
          740,
          740
         ],
         "xaxis": "x",
         "y": [
          5.904054909659043,
          10.99077153718196,
          10.99077153718196,
          5.986190352753875
         ],
         "yaxis": "y"
        },
        {
         "hoverinfo": "text",
         "marker": {
          "color": "rgb(255,65,54)"
         },
         "mode": "lines",
         "type": "scatter",
         "x": [
          765,
          765,
          775,
          775
         ],
         "xaxis": "x",
         "y": [
          0,
          5.094292318124025,
          5.094292318124025,
          0
         ],
         "yaxis": "y"
        },
        {
         "hoverinfo": "text",
         "marker": {
          "color": "rgb(255,65,54)"
         },
         "mode": "lines",
         "type": "scatter",
         "x": [
          755,
          755,
          770,
          770
         ],
         "xaxis": "x",
         "y": [
          0,
          7.1961505521007005,
          7.1961505521007005,
          5.094292318124025
         ],
         "yaxis": "y"
        },
        {
         "hoverinfo": "text",
         "marker": {
          "color": "rgb(255,65,54)"
         },
         "mode": "lines",
         "type": "scatter",
         "x": [
          785,
          785,
          795,
          795
         ],
         "xaxis": "x",
         "y": [
          0,
          1.4142135623730951,
          1.4142135623730951,
          0
         ],
         "yaxis": "y"
        },
        {
         "hoverinfo": "text",
         "marker": {
          "color": "rgb(255,65,54)"
         },
         "mode": "lines",
         "type": "scatter",
         "x": [
          815,
          815,
          825,
          825
         ],
         "xaxis": "x",
         "y": [
          0,
          3.571716005916156,
          3.571716005916156,
          0
         ],
         "yaxis": "y"
        },
        {
         "hoverinfo": "text",
         "marker": {
          "color": "rgb(255,65,54)"
         },
         "mode": "lines",
         "type": "scatter",
         "x": [
          805,
          805,
          820,
          820
         ],
         "xaxis": "x",
         "y": [
          0,
          5.238545485895926,
          5.238545485895926,
          3.571716005916156
         ],
         "yaxis": "y"
        },
        {
         "hoverinfo": "text",
         "marker": {
          "color": "rgb(255,65,54)"
         },
         "mode": "lines",
         "type": "scatter",
         "x": [
          790,
          790,
          812.5,
          812.5
         ],
         "xaxis": "x",
         "y": [
          1.4142135623730951,
          13.045937739312464,
          13.045937739312464,
          5.238545485895926
         ],
         "yaxis": "y"
        },
        {
         "hoverinfo": "text",
         "marker": {
          "color": "rgb(255,65,54)"
         },
         "mode": "lines",
         "type": "scatter",
         "x": [
          762.5,
          762.5,
          801.25,
          801.25
         ],
         "xaxis": "x",
         "y": [
          7.1961505521007005,
          25.98836760425753,
          25.98836760425753,
          13.045937739312464
         ],
         "yaxis": "y"
        },
        {
         "hoverinfo": "text",
         "marker": {
          "color": "rgb(255,65,54)"
         },
         "mode": "lines",
         "type": "scatter",
         "x": [
          726.25,
          726.25,
          781.875,
          781.875
         ],
         "xaxis": "x",
         "y": [
          10.99077153718196,
          45.645557499559814,
          45.645557499559814,
          25.98836760425753
         ],
         "yaxis": "y"
        },
        {
         "hoverinfo": "text",
         "marker": {
          "color": "rgb(255,65,54)"
         },
         "mode": "lines",
         "type": "scatter",
         "x": [
          680,
          680,
          754.0625,
          754.0625
         ],
         "xaxis": "x",
         "y": [
          32.19717217792585,
          56.895271738261506,
          56.895271738261506,
          45.645557499559814
         ],
         "yaxis": "y"
        },
        {
         "hoverinfo": "text",
         "marker": {
          "color": "rgb(255,65,54)"
         },
         "mode": "lines",
         "type": "scatter",
         "x": [
          835,
          835,
          845,
          845
         ],
         "xaxis": "x",
         "y": [
          0,
          3.2804178196918876,
          3.2804178196918876,
          0
         ],
         "yaxis": "y"
        },
        {
         "hoverinfo": "text",
         "marker": {
          "color": "rgb(255,65,54)"
         },
         "mode": "lines",
         "type": "scatter",
         "x": [
          855,
          855,
          865,
          865
         ],
         "xaxis": "x",
         "y": [
          0,
          3.722615260306798,
          3.722615260306798,
          0
         ],
         "yaxis": "y"
        },
        {
         "hoverinfo": "text",
         "marker": {
          "color": "rgb(255,65,54)"
         },
         "mode": "lines",
         "type": "scatter",
         "x": [
          840,
          840,
          860,
          860
         ],
         "xaxis": "x",
         "y": [
          3.2804178196918876,
          17.97762632593644,
          17.97762632593644,
          3.722615260306798
         ],
         "yaxis": "y"
        },
        {
         "hoverinfo": "text",
         "marker": {
          "color": "rgb(255,65,54)"
         },
         "mode": "lines",
         "type": "scatter",
         "x": [
          875,
          875,
          885,
          885
         ],
         "xaxis": "x",
         "y": [
          0,
          9.213738817441836,
          9.213738817441836,
          0
         ],
         "yaxis": "y"
        },
        {
         "hoverinfo": "text",
         "marker": {
          "color": "rgb(255,65,54)"
         },
         "mode": "lines",
         "type": "scatter",
         "x": [
          905,
          905,
          915,
          915
         ],
         "xaxis": "x",
         "y": [
          0,
          9.285175684417116,
          9.285175684417116,
          0
         ],
         "yaxis": "y"
        },
        {
         "hoverinfo": "text",
         "marker": {
          "color": "rgb(255,65,54)"
         },
         "mode": "lines",
         "type": "scatter",
         "x": [
          895,
          895,
          910,
          910
         ],
         "xaxis": "x",
         "y": [
          0,
          17.677929143237392,
          17.677929143237392,
          9.285175684417116
         ],
         "yaxis": "y"
        },
        {
         "hoverinfo": "text",
         "marker": {
          "color": "rgb(255,65,54)"
         },
         "mode": "lines",
         "type": "scatter",
         "x": [
          880,
          880,
          902.5,
          902.5
         ],
         "xaxis": "x",
         "y": [
          9.213738817441836,
          23.023893551438363,
          23.023893551438363,
          17.677929143237392
         ],
         "yaxis": "y"
        },
        {
         "hoverinfo": "text",
         "marker": {
          "color": "rgb(255,65,54)"
         },
         "mode": "lines",
         "type": "scatter",
         "x": [
          850,
          850,
          891.25,
          891.25
         ],
         "xaxis": "x",
         "y": [
          17.97762632593644,
          50.064403394481396,
          50.064403394481396,
          23.023893551438363
         ],
         "yaxis": "y"
        },
        {
         "hoverinfo": "text",
         "marker": {
          "color": "rgb(255,65,54)"
         },
         "mode": "lines",
         "type": "scatter",
         "x": [
          935,
          935,
          945,
          945
         ],
         "xaxis": "x",
         "y": [
          0,
          2.4037726279056324,
          2.4037726279056324,
          0
         ],
         "yaxis": "y"
        },
        {
         "hoverinfo": "text",
         "marker": {
          "color": "rgb(255,65,54)"
         },
         "mode": "lines",
         "type": "scatter",
         "x": [
          925,
          925,
          940,
          940
         ],
         "xaxis": "x",
         "y": [
          0,
          10.997177007130007,
          10.997177007130007,
          2.4037726279056324
         ],
         "yaxis": "y"
        },
        {
         "hoverinfo": "text",
         "marker": {
          "color": "rgb(255,65,54)"
         },
         "mode": "lines",
         "type": "scatter",
         "x": [
          955,
          955,
          965,
          965
         ],
         "xaxis": "x",
         "y": [
          0,
          7.851792833254822,
          7.851792833254822,
          0
         ],
         "yaxis": "y"
        },
        {
         "hoverinfo": "text",
         "marker": {
          "color": "rgb(255,65,54)"
         },
         "mode": "lines",
         "type": "scatter",
         "x": [
          985,
          985,
          995,
          995
         ],
         "xaxis": "x",
         "y": [
          0,
          9.31769397735468,
          9.31769397735468,
          0
         ],
         "yaxis": "y"
        },
        {
         "hoverinfo": "text",
         "marker": {
          "color": "rgb(255,65,54)"
         },
         "mode": "lines",
         "type": "scatter",
         "x": [
          975,
          975,
          990,
          990
         ],
         "xaxis": "x",
         "y": [
          0,
          21.436706966551764,
          21.436706966551764,
          9.31769397735468
         ],
         "yaxis": "y"
        },
        {
         "hoverinfo": "text",
         "marker": {
          "color": "rgb(255,65,54)"
         },
         "mode": "lines",
         "type": "scatter",
         "x": [
          960,
          960,
          982.5,
          982.5
         ],
         "xaxis": "x",
         "y": [
          7.851792833254822,
          22.203778902196554,
          22.203778902196554,
          21.436706966551764
         ],
         "yaxis": "y"
        },
        {
         "hoverinfo": "text",
         "marker": {
          "color": "rgb(255,65,54)"
         },
         "mode": "lines",
         "type": "scatter",
         "x": [
          932.5,
          932.5,
          971.25,
          971.25
         ],
         "xaxis": "x",
         "y": [
          10.997177007130007,
          52.36463387549657,
          52.36463387549657,
          22.203778902196554
         ],
         "yaxis": "y"
        },
        {
         "hoverinfo": "text",
         "marker": {
          "color": "rgb(255,65,54)"
         },
         "mode": "lines",
         "type": "scatter",
         "x": [
          870.625,
          870.625,
          951.875,
          951.875
         ],
         "xaxis": "x",
         "y": [
          50.064403394481396,
          107.01068725636192,
          107.01068725636192,
          52.36463387549657
         ],
         "yaxis": "y"
        },
        {
         "hoverinfo": "text",
         "marker": {
          "color": "rgb(255,65,54)"
         },
         "mode": "lines",
         "type": "scatter",
         "x": [
          717.03125,
          717.03125,
          911.25,
          911.25
         ],
         "xaxis": "x",
         "y": [
          56.895271738261506,
          118.25821283290237,
          118.25821283290237,
          107.01068725636192
         ],
         "yaxis": "y"
        },
        {
         "hoverinfo": "text",
         "marker": {
          "color": "rgb(255,65,54)"
         },
         "mode": "lines",
         "type": "scatter",
         "x": [
          518.984375,
          518.984375,
          814.140625,
          814.140625
         ],
         "xaxis": "x",
         "y": [
          111.23403361626232,
          185.14636412862816,
          185.14636412862816,
          118.25821283290237
         ],
         "yaxis": "y"
        },
        {
         "hoverinfo": "text",
         "marker": {
          "color": "rgb(35,205,205)"
         },
         "mode": "lines",
         "type": "scatter",
         "x": [
          1015,
          1015,
          1025,
          1025
         ],
         "xaxis": "x",
         "y": [
          0,
          16.27885193786109,
          16.27885193786109,
          0
         ],
         "yaxis": "y"
        },
        {
         "hoverinfo": "text",
         "marker": {
          "color": "rgb(35,205,205)"
         },
         "mode": "lines",
         "type": "scatter",
         "x": [
          1055,
          1055,
          1065,
          1065
         ],
         "xaxis": "x",
         "y": [
          0,
          3.7446261084261634,
          3.7446261084261634,
          0
         ],
         "yaxis": "y"
        },
        {
         "hoverinfo": "text",
         "marker": {
          "color": "rgb(35,205,205)"
         },
         "mode": "lines",
         "type": "scatter",
         "x": [
          1045,
          1045,
          1060,
          1060
         ],
         "xaxis": "x",
         "y": [
          0,
          7.220558511294455,
          7.220558511294455,
          3.7446261084261634
         ],
         "yaxis": "y"
        },
        {
         "hoverinfo": "text",
         "marker": {
          "color": "rgb(35,205,205)"
         },
         "mode": "lines",
         "type": "scatter",
         "x": [
          1035,
          1035,
          1052.5,
          1052.5
         ],
         "xaxis": "x",
         "y": [
          0,
          33.6175023643195,
          33.6175023643195,
          7.220558511294455
         ],
         "yaxis": "y"
        },
        {
         "hoverinfo": "text",
         "marker": {
          "color": "rgb(35,205,205)"
         },
         "mode": "lines",
         "type": "scatter",
         "x": [
          1020,
          1020,
          1043.75,
          1043.75
         ],
         "xaxis": "x",
         "y": [
          16.27885193786109,
          38.350153399156376,
          38.350153399156376,
          33.6175023643195
         ],
         "yaxis": "y"
        },
        {
         "hoverinfo": "text",
         "marker": {
          "color": "rgb(35,205,205)"
         },
         "mode": "lines",
         "type": "scatter",
         "x": [
          1005,
          1005,
          1031.875,
          1031.875
         ],
         "xaxis": "x",
         "y": [
          0,
          75.9714786147863,
          75.9714786147863,
          38.350153399156376
         ],
         "yaxis": "y"
        },
        {
         "hoverinfo": "text",
         "marker": {
          "color": "rgb(35,205,205)"
         },
         "mode": "lines",
         "type": "scatter",
         "x": [
          1085,
          1085,
          1095,
          1095
         ],
         "xaxis": "x",
         "y": [
          0,
          2.449489742783178,
          2.449489742783178,
          0
         ],
         "yaxis": "y"
        },
        {
         "hoverinfo": "text",
         "marker": {
          "color": "rgb(35,205,205)"
         },
         "mode": "lines",
         "type": "scatter",
         "x": [
          1075,
          1075,
          1090,
          1090
         ],
         "xaxis": "x",
         "y": [
          0,
          7.280109889280518,
          7.280109889280518,
          2.449489742783178
         ],
         "yaxis": "y"
        },
        {
         "hoverinfo": "text",
         "marker": {
          "color": "rgb(35,205,205)"
         },
         "mode": "lines",
         "type": "scatter",
         "x": [
          1125,
          1125,
          1135,
          1135
         ],
         "xaxis": "x",
         "y": [
          0,
          2.449489742783178,
          2.449489742783178,
          0
         ],
         "yaxis": "y"
        },
        {
         "hoverinfo": "text",
         "marker": {
          "color": "rgb(35,205,205)"
         },
         "mode": "lines",
         "type": "scatter",
         "x": [
          1115,
          1115,
          1130,
          1130
         ],
         "xaxis": "x",
         "y": [
          0,
          3.4641016151377544,
          3.4641016151377544,
          2.449489742783178
         ],
         "yaxis": "y"
        },
        {
         "hoverinfo": "text",
         "marker": {
          "color": "rgb(35,205,205)"
         },
         "mode": "lines",
         "type": "scatter",
         "x": [
          1105,
          1105,
          1122.5,
          1122.5
         ],
         "xaxis": "x",
         "y": [
          0,
          8.48528137423857,
          8.48528137423857,
          3.4641016151377544
         ],
         "yaxis": "y"
        },
        {
         "hoverinfo": "text",
         "marker": {
          "color": "rgb(35,205,205)"
         },
         "mode": "lines",
         "type": "scatter",
         "x": [
          1082.5,
          1082.5,
          1113.75,
          1113.75
         ],
         "xaxis": "x",
         "y": [
          7.280109889280518,
          22.02271554554524,
          22.02271554554524,
          8.48528137423857
         ],
         "yaxis": "y"
        },
        {
         "hoverinfo": "text",
         "marker": {
          "color": "rgb(35,205,205)"
         },
         "mode": "lines",
         "type": "scatter",
         "x": [
          1145,
          1145,
          1155,
          1155
         ],
         "xaxis": "x",
         "y": [
          0,
          3.7416573867739413,
          3.7416573867739413,
          0
         ],
         "yaxis": "y"
        },
        {
         "hoverinfo": "text",
         "marker": {
          "color": "rgb(35,205,205)"
         },
         "mode": "lines",
         "type": "scatter",
         "x": [
          1165,
          1165,
          1175,
          1175
         ],
         "xaxis": "x",
         "y": [
          0,
          1.6356786602701772,
          1.6356786602701772,
          0
         ],
         "yaxis": "y"
        },
        {
         "hoverinfo": "text",
         "marker": {
          "color": "rgb(35,205,205)"
         },
         "mode": "lines",
         "type": "scatter",
         "x": [
          1195,
          1195,
          1205,
          1205
         ],
         "xaxis": "x",
         "y": [
          0,
          1.4142135623730951,
          1.4142135623730951,
          0
         ],
         "yaxis": "y"
        },
        {
         "hoverinfo": "text",
         "marker": {
          "color": "rgb(35,205,205)"
         },
         "mode": "lines",
         "type": "scatter",
         "x": [
          1185,
          1185,
          1200,
          1200
         ],
         "xaxis": "x",
         "y": [
          0,
          4.358898943540674,
          4.358898943540674,
          1.4142135623730951
         ],
         "yaxis": "y"
        },
        {
         "hoverinfo": "text",
         "marker": {
          "color": "rgb(35,205,205)"
         },
         "mode": "lines",
         "type": "scatter",
         "x": [
          1170,
          1170,
          1192.5,
          1192.5
         ],
         "xaxis": "x",
         "y": [
          1.6356786602701772,
          8.249589571002963,
          8.249589571002963,
          4.358898943540674
         ],
         "yaxis": "y"
        },
        {
         "hoverinfo": "text",
         "marker": {
          "color": "rgb(35,205,205)"
         },
         "mode": "lines",
         "type": "scatter",
         "x": [
          1150,
          1150,
          1181.25,
          1181.25
         ],
         "xaxis": "x",
         "y": [
          3.7416573867739413,
          10.44030650891055,
          10.44030650891055,
          8.249589571002963
         ],
         "yaxis": "y"
        },
        {
         "hoverinfo": "text",
         "marker": {
          "color": "rgb(35,205,205)"
         },
         "mode": "lines",
         "type": "scatter",
         "x": [
          1215,
          1215,
          1225,
          1225
         ],
         "xaxis": "x",
         "y": [
          0,
          4.282889883070498,
          4.282889883070498,
          0
         ],
         "yaxis": "y"
        },
        {
         "hoverinfo": "text",
         "marker": {
          "color": "rgb(35,205,205)"
         },
         "mode": "lines",
         "type": "scatter",
         "x": [
          1235,
          1235,
          1245,
          1245
         ],
         "xaxis": "x",
         "y": [
          0,
          6.458771458453852,
          6.458771458453852,
          0
         ],
         "yaxis": "y"
        },
        {
         "hoverinfo": "text",
         "marker": {
          "color": "rgb(35,205,205)"
         },
         "mode": "lines",
         "type": "scatter",
         "x": [
          1220,
          1220,
          1240,
          1240
         ],
         "xaxis": "x",
         "y": [
          4.282889883070498,
          11.666681455324033,
          11.666681455324033,
          6.458771458453852
         ],
         "yaxis": "y"
        },
        {
         "hoverinfo": "text",
         "marker": {
          "color": "rgb(35,205,205)"
         },
         "mode": "lines",
         "type": "scatter",
         "x": [
          1165.625,
          1165.625,
          1230,
          1230
         ],
         "xaxis": "x",
         "y": [
          10.44030650891055,
          31.176914536239792,
          31.176914536239792,
          11.666681455324033
         ],
         "yaxis": "y"
        },
        {
         "hoverinfo": "text",
         "marker": {
          "color": "rgb(35,205,205)"
         },
         "mode": "lines",
         "type": "scatter",
         "x": [
          1098.125,
          1098.125,
          1197.8125,
          1197.8125
         ],
         "xaxis": "x",
         "y": [
          22.02271554554524,
          60.14149981501958,
          60.14149981501958,
          31.176914536239792
         ],
         "yaxis": "y"
        },
        {
         "hoverinfo": "text",
         "marker": {
          "color": "rgb(35,205,205)"
         },
         "mode": "lines",
         "type": "scatter",
         "x": [
          1275,
          1275,
          1285,
          1285
         ],
         "xaxis": "x",
         "y": [
          0,
          2.23606797749979,
          2.23606797749979,
          0
         ],
         "yaxis": "y"
        },
        {
         "hoverinfo": "text",
         "marker": {
          "color": "rgb(35,205,205)"
         },
         "mode": "lines",
         "type": "scatter",
         "x": [
          1265,
          1265,
          1280,
          1280
         ],
         "xaxis": "x",
         "y": [
          0,
          7.702813338860896,
          7.702813338860896,
          2.23606797749979
         ],
         "yaxis": "y"
        },
        {
         "hoverinfo": "text",
         "marker": {
          "color": "rgb(35,205,205)"
         },
         "mode": "lines",
         "type": "scatter",
         "x": [
          1295,
          1295,
          1305,
          1305
         ],
         "xaxis": "x",
         "y": [
          0,
          11.9164438547753,
          11.9164438547753,
          0
         ],
         "yaxis": "y"
        },
        {
         "hoverinfo": "text",
         "marker": {
          "color": "rgb(35,205,205)"
         },
         "mode": "lines",
         "type": "scatter",
         "x": [
          1272.5,
          1272.5,
          1300,
          1300
         ],
         "xaxis": "x",
         "y": [
          7.702813338860896,
          23.02595341591021,
          23.02595341591021,
          11.9164438547753
         ],
         "yaxis": "y"
        },
        {
         "hoverinfo": "text",
         "marker": {
          "color": "rgb(35,205,205)"
         },
         "mode": "lines",
         "type": "scatter",
         "x": [
          1255,
          1255,
          1286.25,
          1286.25
         ],
         "xaxis": "x",
         "y": [
          0,
          29.26909348931329,
          29.26909348931329,
          23.02595341591021
         ],
         "yaxis": "y"
        },
        {
         "hoverinfo": "text",
         "marker": {
          "color": "rgb(35,205,205)"
         },
         "mode": "lines",
         "type": "scatter",
         "x": [
          1325,
          1325,
          1335,
          1335
         ],
         "xaxis": "x",
         "y": [
          0,
          9.36107142177504,
          9.36107142177504,
          0
         ],
         "yaxis": "y"
        },
        {
         "hoverinfo": "text",
         "marker": {
          "color": "rgb(35,205,205)"
         },
         "mode": "lines",
         "type": "scatter",
         "x": [
          1315,
          1315,
          1330,
          1330
         ],
         "xaxis": "x",
         "y": [
          0,
          17.12860360401087,
          17.12860360401087,
          9.36107142177504
         ],
         "yaxis": "y"
        },
        {
         "hoverinfo": "text",
         "marker": {
          "color": "rgb(35,205,205)"
         },
         "mode": "lines",
         "type": "scatter",
         "x": [
          1355,
          1355,
          1365,
          1365
         ],
         "xaxis": "x",
         "y": [
          0,
          11.430142711931467,
          11.430142711931467,
          0
         ],
         "yaxis": "y"
        },
        {
         "hoverinfo": "text",
         "marker": {
          "color": "rgb(35,205,205)"
         },
         "mode": "lines",
         "type": "scatter",
         "x": [
          1345,
          1345,
          1360,
          1360
         ],
         "xaxis": "x",
         "y": [
          0,
          19.805310474775915,
          19.805310474775915,
          11.430142711931467
         ],
         "yaxis": "y"
        },
        {
         "hoverinfo": "text",
         "marker": {
          "color": "rgb(35,205,205)"
         },
         "mode": "lines",
         "type": "scatter",
         "x": [
          1322.5,
          1322.5,
          1352.5,
          1352.5
         ],
         "xaxis": "x",
         "y": [
          17.12860360401087,
          32.98511112647634,
          32.98511112647634,
          19.805310474775915
         ],
         "yaxis": "y"
        },
        {
         "hoverinfo": "text",
         "marker": {
          "color": "rgb(35,205,205)"
         },
         "mode": "lines",
         "type": "scatter",
         "x": [
          1270.625,
          1270.625,
          1337.5,
          1337.5
         ],
         "xaxis": "x",
         "y": [
          29.26909348931329,
          61.46962435728529,
          61.46962435728529,
          32.98511112647634
         ],
         "yaxis": "y"
        },
        {
         "hoverinfo": "text",
         "marker": {
          "color": "rgb(35,205,205)"
         },
         "mode": "lines",
         "type": "scatter",
         "x": [
          1375,
          1375,
          1385,
          1385
         ],
         "xaxis": "x",
         "y": [
          0,
          2.494462949298634,
          2.494462949298634,
          0
         ],
         "yaxis": "y"
        },
        {
         "hoverinfo": "text",
         "marker": {
          "color": "rgb(35,205,205)"
         },
         "mode": "lines",
         "type": "scatter",
         "x": [
          1395,
          1395,
          1405,
          1405
         ],
         "xaxis": "x",
         "y": [
          0,
          15.012168370867855,
          15.012168370867855,
          0
         ],
         "yaxis": "y"
        },
        {
         "hoverinfo": "text",
         "marker": {
          "color": "rgb(35,205,205)"
         },
         "mode": "lines",
         "type": "scatter",
         "x": [
          1380,
          1380,
          1400,
          1400
         ],
         "xaxis": "x",
         "y": [
          2.494462949298634,
          30.54748297660887,
          30.54748297660887,
          15.012168370867855
         ],
         "yaxis": "y"
        },
        {
         "hoverinfo": "text",
         "marker": {
          "color": "rgb(35,205,205)"
         },
         "mode": "lines",
         "type": "scatter",
         "x": [
          1415,
          1415,
          1425,
          1425
         ],
         "xaxis": "x",
         "y": [
          0,
          15.69918238843491,
          15.69918238843491,
          0
         ],
         "yaxis": "y"
        },
        {
         "hoverinfo": "text",
         "marker": {
          "color": "rgb(35,205,205)"
         },
         "mode": "lines",
         "type": "scatter",
         "x": [
          1445,
          1445,
          1455,
          1455
         ],
         "xaxis": "x",
         "y": [
          0,
          7.251538843506078,
          7.251538843506078,
          0
         ],
         "yaxis": "y"
        },
        {
         "hoverinfo": "text",
         "marker": {
          "color": "rgb(35,205,205)"
         },
         "mode": "lines",
         "type": "scatter",
         "x": [
          1435,
          1435,
          1450,
          1450
         ],
         "xaxis": "x",
         "y": [
          0,
          8.440019326965489,
          8.440019326965489,
          7.251538843506078
         ],
         "yaxis": "y"
        },
        {
         "hoverinfo": "text",
         "marker": {
          "color": "rgb(35,205,205)"
         },
         "mode": "lines",
         "type": "scatter",
         "x": [
          1465,
          1465,
          1475,
          1475
         ],
         "xaxis": "x",
         "y": [
          0,
          29.745884822783996,
          29.745884822783996,
          0
         ],
         "yaxis": "y"
        },
        {
         "hoverinfo": "text",
         "marker": {
          "color": "rgb(35,205,205)"
         },
         "mode": "lines",
         "type": "scatter",
         "x": [
          1442.5,
          1442.5,
          1470,
          1470
         ],
         "xaxis": "x",
         "y": [
          8.440019326965489,
          33.27930742256387,
          33.27930742256387,
          29.745884822783996
         ],
         "yaxis": "y"
        },
        {
         "hoverinfo": "text",
         "marker": {
          "color": "rgb(35,205,205)"
         },
         "mode": "lines",
         "type": "scatter",
         "x": [
          1420,
          1420,
          1456.25,
          1456.25
         ],
         "xaxis": "x",
         "y": [
          15.69918238843491,
          69.87883701998359,
          69.87883701998359,
          33.27930742256387
         ],
         "yaxis": "y"
        },
        {
         "hoverinfo": "text",
         "marker": {
          "color": "rgb(35,205,205)"
         },
         "mode": "lines",
         "type": "scatter",
         "x": [
          1390,
          1390,
          1438.125,
          1438.125
         ],
         "xaxis": "x",
         "y": [
          30.54748297660887,
          77.73767106566152,
          77.73767106566152,
          69.87883701998359
         ],
         "yaxis": "y"
        },
        {
         "hoverinfo": "text",
         "marker": {
          "color": "rgb(35,205,205)"
         },
         "mode": "lines",
         "type": "scatter",
         "x": [
          1304.0625,
          1304.0625,
          1414.0625,
          1414.0625
         ],
         "xaxis": "x",
         "y": [
          61.46962435728529,
          125.26746287555665,
          125.26746287555665,
          77.73767106566152
         ],
         "yaxis": "y"
        },
        {
         "hoverinfo": "text",
         "marker": {
          "color": "rgb(35,205,205)"
         },
         "mode": "lines",
         "type": "scatter",
         "x": [
          1147.96875,
          1147.96875,
          1359.0625,
          1359.0625
         ],
         "xaxis": "x",
         "y": [
          60.14149981501958,
          170.72590117885844,
          170.72590117885844,
          125.26746287555665
         ],
         "yaxis": "y"
        },
        {
         "hoverinfo": "text",
         "marker": {
          "color": "rgb(35,205,205)"
         },
         "mode": "lines",
         "type": "scatter",
         "x": [
          1018.4375,
          1018.4375,
          1253.515625,
          1253.515625
         ],
         "xaxis": "x",
         "y": [
          75.9714786147863,
          248.12244393106147,
          248.12244393106147,
          170.72590117885844
         ],
         "yaxis": "y"
        },
        {
         "hoverinfo": "text",
         "marker": {
          "color": "rgb(0,116,217)"
         },
         "mode": "lines",
         "type": "scatter",
         "x": [
          666.5625,
          666.5625,
          1135.9765625,
          1135.9765625
         ],
         "xaxis": "x",
         "y": [
          185.14636412862816,
          266.09230329420984,
          266.09230329420984,
          248.12244393106147
         ],
         "yaxis": "y"
        },
        {
         "hoverinfo": "text",
         "marker": {
          "color": "rgb(0,116,217)"
         },
         "mode": "lines",
         "type": "scatter",
         "x": [
          191.875,
          191.875,
          901.26953125,
          901.26953125
         ],
         "xaxis": "x",
         "y": [
          152.74661326538472,
          396.69609759589895,
          396.69609759589895,
          266.09230329420984
         ],
         "yaxis": "y"
        },
        {
         "hoverinfo": "text",
         "marker": {
          "color": "rgb(133,20,75)"
         },
         "mode": "lines",
         "type": "scatter",
         "x": [
          1485,
          1485,
          1495,
          1495
         ],
         "xaxis": "x",
         "y": [
          0,
          27.42045921928204,
          27.42045921928204,
          0
         ],
         "yaxis": "y"
        },
        {
         "hoverinfo": "text",
         "marker": {
          "color": "rgb(133,20,75)"
         },
         "mode": "lines",
         "type": "scatter",
         "x": [
          1505,
          1505,
          1515,
          1515
         ],
         "xaxis": "x",
         "y": [
          0,
          129.5208411129068,
          129.5208411129068,
          0
         ],
         "yaxis": "y"
        },
        {
         "hoverinfo": "text",
         "marker": {
          "color": "rgb(133,20,75)"
         },
         "mode": "lines",
         "type": "scatter",
         "x": [
          1490,
          1490,
          1510,
          1510
         ],
         "xaxis": "x",
         "y": [
          27.42045921928204,
          184.7044689396338,
          184.7044689396338,
          129.5208411129068
         ],
         "yaxis": "y"
        },
        {
         "hoverinfo": "text",
         "marker": {
          "color": "rgb(255,220,0)"
         },
         "mode": "lines",
         "type": "scatter",
         "x": [
          1525,
          1525,
          1535,
          1535
         ],
         "xaxis": "x",
         "y": [
          0,
          12.212964629252008,
          12.212964629252008,
          0
         ],
         "yaxis": "y"
        },
        {
         "hoverinfo": "text",
         "marker": {
          "color": "rgb(255,220,0)"
         },
         "mode": "lines",
         "type": "scatter",
         "x": [
          1545,
          1545,
          1555,
          1555
         ],
         "xaxis": "x",
         "y": [
          0,
          12.473336570147328,
          12.473336570147328,
          0
         ],
         "yaxis": "y"
        },
        {
         "hoverinfo": "text",
         "marker": {
          "color": "rgb(255,220,0)"
         },
         "mode": "lines",
         "type": "scatter",
         "x": [
          1530,
          1530,
          1550,
          1550
         ],
         "xaxis": "x",
         "y": [
          12.212964629252008,
          21.1447756815977,
          21.1447756815977,
          12.473336570147328
         ],
         "yaxis": "y"
        },
        {
         "hoverinfo": "text",
         "marker": {
          "color": "rgb(255,220,0)"
         },
         "mode": "lines",
         "type": "scatter",
         "x": [
          1575,
          1575,
          1585,
          1585
         ],
         "xaxis": "x",
         "y": [
          0,
          11.459384840648196,
          11.459384840648196,
          0
         ],
         "yaxis": "y"
        },
        {
         "hoverinfo": "text",
         "marker": {
          "color": "rgb(255,220,0)"
         },
         "mode": "lines",
         "type": "scatter",
         "x": [
          1565,
          1565,
          1580,
          1580
         ],
         "xaxis": "x",
         "y": [
          0,
          24.212614267706442,
          24.212614267706442,
          11.459384840648196
         ],
         "yaxis": "y"
        },
        {
         "hoverinfo": "text",
         "marker": {
          "color": "rgb(255,220,0)"
         },
         "mode": "lines",
         "type": "scatter",
         "x": [
          1540,
          1540,
          1572.5,
          1572.5
         ],
         "xaxis": "x",
         "y": [
          21.1447756815977,
          38.2350725022753,
          38.2350725022753,
          24.212614267706442
         ],
         "yaxis": "y"
        },
        {
         "hoverinfo": "text",
         "marker": {
          "color": "rgb(255,220,0)"
         },
         "mode": "lines",
         "type": "scatter",
         "x": [
          1605,
          1605,
          1615,
          1615
         ],
         "xaxis": "x",
         "y": [
          0,
          15.390486984335292,
          15.390486984335292,
          0
         ],
         "yaxis": "y"
        },
        {
         "hoverinfo": "text",
         "marker": {
          "color": "rgb(255,220,0)"
         },
         "mode": "lines",
         "type": "scatter",
         "x": [
          1595,
          1595,
          1610,
          1610
         ],
         "xaxis": "x",
         "y": [
          0,
          39.73606171009287,
          39.73606171009287,
          15.390486984335292
         ],
         "yaxis": "y"
        },
        {
         "hoverinfo": "text",
         "marker": {
          "color": "rgb(255,220,0)"
         },
         "mode": "lines",
         "type": "scatter",
         "x": [
          1556.25,
          1556.25,
          1602.5,
          1602.5
         ],
         "xaxis": "x",
         "y": [
          38.2350725022753,
          45.99550057109475,
          45.99550057109475,
          39.73606171009287
         ],
         "yaxis": "y"
        },
        {
         "hoverinfo": "text",
         "marker": {
          "color": "rgb(255,220,0)"
         },
         "mode": "lines",
         "type": "scatter",
         "x": [
          1635,
          1635,
          1645,
          1645
         ],
         "xaxis": "x",
         "y": [
          0,
          9.063124458449925,
          9.063124458449925,
          0
         ],
         "yaxis": "y"
        },
        {
         "hoverinfo": "text",
         "marker": {
          "color": "rgb(255,220,0)"
         },
         "mode": "lines",
         "type": "scatter",
         "x": [
          1625,
          1625,
          1640,
          1640
         ],
         "xaxis": "x",
         "y": [
          0,
          53.584993781145414,
          53.584993781145414,
          9.063124458449925
         ],
         "yaxis": "y"
        },
        {
         "hoverinfo": "text",
         "marker": {
          "color": "rgb(255,220,0)"
         },
         "mode": "lines",
         "type": "scatter",
         "x": [
          1579.375,
          1579.375,
          1632.5,
          1632.5
         ],
         "xaxis": "x",
         "y": [
          45.99550057109475,
          95.6004226903073,
          95.6004226903073,
          53.584993781145414
         ],
         "yaxis": "y"
        },
        {
         "hoverinfo": "text",
         "marker": {
          "color": "rgb(255,220,0)"
         },
         "mode": "lines",
         "type": "scatter",
         "x": [
          1655,
          1655,
          1665,
          1665
         ],
         "xaxis": "x",
         "y": [
          0,
          7.852955113194321,
          7.852955113194321,
          0
         ],
         "yaxis": "y"
        },
        {
         "hoverinfo": "text",
         "marker": {
          "color": "rgb(255,220,0)"
         },
         "mode": "lines",
         "type": "scatter",
         "x": [
          1685,
          1685,
          1695,
          1695
         ],
         "xaxis": "x",
         "y": [
          0,
          7.544345428919216,
          7.544345428919216,
          0
         ],
         "yaxis": "y"
        },
        {
         "hoverinfo": "text",
         "marker": {
          "color": "rgb(255,220,0)"
         },
         "mode": "lines",
         "type": "scatter",
         "x": [
          1675,
          1675,
          1690,
          1690
         ],
         "xaxis": "x",
         "y": [
          0,
          14.1808739251261,
          14.1808739251261,
          7.544345428919216
         ],
         "yaxis": "y"
        },
        {
         "hoverinfo": "text",
         "marker": {
          "color": "rgb(255,220,0)"
         },
         "mode": "lines",
         "type": "scatter",
         "x": [
          1715,
          1715,
          1725,
          1725
         ],
         "xaxis": "x",
         "y": [
          0,
          12.44087365531204,
          12.44087365531204,
          0
         ],
         "yaxis": "y"
        },
        {
         "hoverinfo": "text",
         "marker": {
          "color": "rgb(255,220,0)"
         },
         "mode": "lines",
         "type": "scatter",
         "x": [
          1705,
          1705,
          1720,
          1720
         ],
         "xaxis": "x",
         "y": [
          0,
          22.46290850612406,
          22.46290850612406,
          12.44087365531204
         ],
         "yaxis": "y"
        },
        {
         "hoverinfo": "text",
         "marker": {
          "color": "rgb(255,220,0)"
         },
         "mode": "lines",
         "type": "scatter",
         "x": [
          1682.5,
          1682.5,
          1712.5,
          1712.5
         ],
         "xaxis": "x",
         "y": [
          14.1808739251261,
          24.75246815028476,
          24.75246815028476,
          22.46290850612406
         ],
         "yaxis": "y"
        },
        {
         "hoverinfo": "text",
         "marker": {
          "color": "rgb(255,220,0)"
         },
         "mode": "lines",
         "type": "scatter",
         "x": [
          1660,
          1660,
          1697.5,
          1697.5
         ],
         "xaxis": "x",
         "y": [
          7.852955113194321,
          28.978178100958452,
          28.978178100958452,
          24.75246815028476
         ],
         "yaxis": "y"
        },
        {
         "hoverinfo": "text",
         "marker": {
          "color": "rgb(255,220,0)"
         },
         "mode": "lines",
         "type": "scatter",
         "x": [
          1735,
          1735,
          1745,
          1745
         ],
         "xaxis": "x",
         "y": [
          0,
          9.681256652219655,
          9.681256652219655,
          0
         ],
         "yaxis": "y"
        },
        {
         "hoverinfo": "text",
         "marker": {
          "color": "rgb(255,220,0)"
         },
         "mode": "lines",
         "type": "scatter",
         "x": [
          1755,
          1755,
          1765,
          1765
         ],
         "xaxis": "x",
         "y": [
          0,
          4.7233722377027725,
          4.7233722377027725,
          0
         ],
         "yaxis": "y"
        },
        {
         "hoverinfo": "text",
         "marker": {
          "color": "rgb(255,220,0)"
         },
         "mode": "lines",
         "type": "scatter",
         "x": [
          1775,
          1775,
          1785,
          1785
         ],
         "xaxis": "x",
         "y": [
          0,
          8.308619118015764,
          8.308619118015764,
          0
         ],
         "yaxis": "y"
        },
        {
         "hoverinfo": "text",
         "marker": {
          "color": "rgb(255,220,0)"
         },
         "mode": "lines",
         "type": "scatter",
         "x": [
          1760,
          1760,
          1780,
          1780
         ],
         "xaxis": "x",
         "y": [
          4.7233722377027725,
          11.236667411221337,
          11.236667411221337,
          8.308619118015764
         ],
         "yaxis": "y"
        },
        {
         "hoverinfo": "text",
         "marker": {
          "color": "rgb(255,220,0)"
         },
         "mode": "lines",
         "type": "scatter",
         "x": [
          1795,
          1795,
          1805,
          1805
         ],
         "xaxis": "x",
         "y": [
          0,
          13.081913326798738,
          13.081913326798738,
          0
         ],
         "yaxis": "y"
        },
        {
         "hoverinfo": "text",
         "marker": {
          "color": "rgb(255,220,0)"
         },
         "mode": "lines",
         "type": "scatter",
         "x": [
          1770,
          1770,
          1800,
          1800
         ],
         "xaxis": "x",
         "y": [
          11.236667411221337,
          25.67869497068007,
          25.67869497068007,
          13.081913326798738
         ],
         "yaxis": "y"
        },
        {
         "hoverinfo": "text",
         "marker": {
          "color": "rgb(255,220,0)"
         },
         "mode": "lines",
         "type": "scatter",
         "x": [
          1740,
          1740,
          1785,
          1785
         ],
         "xaxis": "x",
         "y": [
          9.681256652219655,
          39.34029854585916,
          39.34029854585916,
          25.67869497068007
         ],
         "yaxis": "y"
        },
        {
         "hoverinfo": "text",
         "marker": {
          "color": "rgb(255,220,0)"
         },
         "mode": "lines",
         "type": "scatter",
         "x": [
          1678.75,
          1678.75,
          1762.5,
          1762.5
         ],
         "xaxis": "x",
         "y": [
          28.978178100958452,
          49.51297168349179,
          49.51297168349179,
          39.34029854585916
         ],
         "yaxis": "y"
        },
        {
         "hoverinfo": "text",
         "marker": {
          "color": "rgb(255,220,0)"
         },
         "mode": "lines",
         "type": "scatter",
         "x": [
          1825,
          1825,
          1835,
          1835
         ],
         "xaxis": "x",
         "y": [
          0,
          14.069254324439443,
          14.069254324439443,
          0
         ],
         "yaxis": "y"
        },
        {
         "hoverinfo": "text",
         "marker": {
          "color": "rgb(255,220,0)"
         },
         "mode": "lines",
         "type": "scatter",
         "x": [
          1815,
          1815,
          1830,
          1830
         ],
         "xaxis": "x",
         "y": [
          0,
          33.57397817746408,
          33.57397817746408,
          14.069254324439443
         ],
         "yaxis": "y"
        },
        {
         "hoverinfo": "text",
         "marker": {
          "color": "rgb(255,220,0)"
         },
         "mode": "lines",
         "type": "scatter",
         "x": [
          1845,
          1845,
          1855,
          1855
         ],
         "xaxis": "x",
         "y": [
          0,
          12.363454191860814,
          12.363454191860814,
          0
         ],
         "yaxis": "y"
        },
        {
         "hoverinfo": "text",
         "marker": {
          "color": "rgb(255,220,0)"
         },
         "mode": "lines",
         "type": "scatter",
         "x": [
          1885,
          1885,
          1895,
          1895
         ],
         "xaxis": "x",
         "y": [
          0,
          7.603488824751174,
          7.603488824751174,
          0
         ],
         "yaxis": "y"
        },
        {
         "hoverinfo": "text",
         "marker": {
          "color": "rgb(255,220,0)"
         },
         "mode": "lines",
         "type": "scatter",
         "x": [
          1875,
          1875,
          1890,
          1890
         ],
         "xaxis": "x",
         "y": [
          0,
          8.775044792106096,
          8.775044792106096,
          7.603488824751174
         ],
         "yaxis": "y"
        },
        {
         "hoverinfo": "text",
         "marker": {
          "color": "rgb(255,220,0)"
         },
         "mode": "lines",
         "type": "scatter",
         "x": [
          1865,
          1865,
          1882.5,
          1882.5
         ],
         "xaxis": "x",
         "y": [
          0,
          16.321450311071292,
          16.321450311071292,
          8.775044792106096
         ],
         "yaxis": "y"
        },
        {
         "hoverinfo": "text",
         "marker": {
          "color": "rgb(255,220,0)"
         },
         "mode": "lines",
         "type": "scatter",
         "x": [
          1850,
          1850,
          1873.75,
          1873.75
         ],
         "xaxis": "x",
         "y": [
          12.363454191860814,
          21.259683417493637,
          21.259683417493637,
          16.321450311071292
         ],
         "yaxis": "y"
        },
        {
         "hoverinfo": "text",
         "marker": {
          "color": "rgb(255,220,0)"
         },
         "mode": "lines",
         "type": "scatter",
         "x": [
          1905,
          1905,
          1915,
          1915
         ],
         "xaxis": "x",
         "y": [
          0,
          15.8761168543806,
          15.8761168543806,
          0
         ],
         "yaxis": "y"
        },
        {
         "hoverinfo": "text",
         "marker": {
          "color": "rgb(255,220,0)"
         },
         "mode": "lines",
         "type": "scatter",
         "x": [
          1935,
          1935,
          1945,
          1945
         ],
         "xaxis": "x",
         "y": [
          0,
          9.780924174241038,
          9.780924174241038,
          0
         ],
         "yaxis": "y"
        },
        {
         "hoverinfo": "text",
         "marker": {
          "color": "rgb(255,220,0)"
         },
         "mode": "lines",
         "type": "scatter",
         "x": [
          1925,
          1925,
          1940,
          1940
         ],
         "xaxis": "x",
         "y": [
          0,
          11.963694311326961,
          11.963694311326961,
          9.780924174241038
         ],
         "yaxis": "y"
        },
        {
         "hoverinfo": "text",
         "marker": {
          "color": "rgb(255,220,0)"
         },
         "mode": "lines",
         "type": "scatter",
         "x": [
          1975,
          1975,
          1985,
          1985
         ],
         "xaxis": "x",
         "y": [
          0,
          5.9234612459111755,
          5.9234612459111755,
          0
         ],
         "yaxis": "y"
        },
        {
         "hoverinfo": "text",
         "marker": {
          "color": "rgb(255,220,0)"
         },
         "mode": "lines",
         "type": "scatter",
         "x": [
          1965,
          1965,
          1980,
          1980
         ],
         "xaxis": "x",
         "y": [
          0,
          9.96906141655212,
          9.96906141655212,
          5.9234612459111755
         ],
         "yaxis": "y"
        },
        {
         "hoverinfo": "text",
         "marker": {
          "color": "rgb(255,220,0)"
         },
         "mode": "lines",
         "type": "scatter",
         "x": [
          1955,
          1955,
          1972.5,
          1972.5
         ],
         "xaxis": "x",
         "y": [
          0,
          12.748309169851696,
          12.748309169851696,
          9.96906141655212
         ],
         "yaxis": "y"
        },
        {
         "hoverinfo": "text",
         "marker": {
          "color": "rgb(255,220,0)"
         },
         "mode": "lines",
         "type": "scatter",
         "x": [
          1932.5,
          1932.5,
          1963.75,
          1963.75
         ],
         "xaxis": "x",
         "y": [
          11.963694311326961,
          32.60044441265444,
          32.60044441265444,
          12.748309169851696
         ],
         "yaxis": "y"
        },
        {
         "hoverinfo": "text",
         "marker": {
          "color": "rgb(255,220,0)"
         },
         "mode": "lines",
         "type": "scatter",
         "x": [
          1910,
          1910,
          1948.125,
          1948.125
         ],
         "xaxis": "x",
         "y": [
          15.8761168543806,
          35.146369353794775,
          35.146369353794775,
          32.60044441265444
         ],
         "yaxis": "y"
        },
        {
         "hoverinfo": "text",
         "marker": {
          "color": "rgb(255,220,0)"
         },
         "mode": "lines",
         "type": "scatter",
         "x": [
          1861.875,
          1861.875,
          1929.0625,
          1929.0625
         ],
         "xaxis": "x",
         "y": [
          21.259683417493637,
          58.05231241509914,
          58.05231241509914,
          35.146369353794775
         ],
         "yaxis": "y"
        },
        {
         "hoverinfo": "text",
         "marker": {
          "color": "rgb(255,220,0)"
         },
         "mode": "lines",
         "type": "scatter",
         "x": [
          1822.5,
          1822.5,
          1895.46875,
          1895.46875
         ],
         "xaxis": "x",
         "y": [
          33.57397817746408,
          69.7159201682357,
          69.7159201682357,
          58.05231241509914
         ],
         "yaxis": "y"
        },
        {
         "hoverinfo": "text",
         "marker": {
          "color": "rgb(255,220,0)"
         },
         "mode": "lines",
         "type": "scatter",
         "x": [
          1720.625,
          1720.625,
          1858.984375,
          1858.984375
         ],
         "xaxis": "x",
         "y": [
          49.51297168349179,
          114.86798747107433,
          114.86798747107433,
          69.7159201682357
         ],
         "yaxis": "y"
        },
        {
         "hoverinfo": "text",
         "marker": {
          "color": "rgb(255,220,0)"
         },
         "mode": "lines",
         "type": "scatter",
         "x": [
          1605.9375,
          1605.9375,
          1789.8046875,
          1789.8046875
         ],
         "xaxis": "x",
         "y": [
          95.6004226903073,
          193.4717317685548,
          193.4717317685548,
          114.86798747107433
         ],
         "yaxis": "y"
        },
        {
         "hoverinfo": "text",
         "marker": {
          "color": "rgb(0,116,217)"
         },
         "mode": "lines",
         "type": "scatter",
         "x": [
          1500,
          1500,
          1697.87109375,
          1697.87109375
         ],
         "xaxis": "x",
         "y": [
          184.7044689396338,
          471.566358168931,
          471.566358168931,
          193.4717317685548
         ],
         "yaxis": "y"
        },
        {
         "hoverinfo": "text",
         "marker": {
          "color": "rgb(0,116,217)"
         },
         "mode": "lines",
         "type": "scatter",
         "x": [
          546.572265625,
          546.572265625,
          1598.935546875,
          1598.935546875
         ],
         "xaxis": "x",
         "y": [
          396.69609759589895,
          716.393678115113,
          716.393678115113,
          471.566358168931
         ],
         "yaxis": "y"
        }
       ],
       "layout": {
        "autosize": false,
        "height": 500,
        "hovermode": "closest",
        "shapes": [
         {
          "line": {
           "color": "Black",
           "dash": "dash"
          },
          "type": "line",
          "x0": 0,
          "x1": 1985,
          "y0": 260,
          "y1": 260
         },
         {
          "line": {
           "color": "Black",
           "dash": "dash"
          },
          "type": "line",
          "x0": 0,
          "x1": 1985,
          "y0": 260,
          "y1": 260
         },
         {
          "line": {
           "color": "Black",
           "dash": "dash"
          },
          "type": "line",
          "x0": 0,
          "x1": 1985,
          "y0": 260,
          "y1": 260
         },
         {
          "line": {
           "color": "Black",
           "dash": "dash"
          },
          "type": "line",
          "x0": 0,
          "x1": 1985,
          "y0": 260,
          "y1": 260
         },
         {
          "line": {
           "color": "Black",
           "dash": "dash"
          },
          "type": "line",
          "x0": 0,
          "x1": 1985,
          "y0": 260,
          "y1": 260
         }
        ],
        "showlegend": false,
        "template": {
         "data": {
          "bar": [
           {
            "error_x": {
             "color": "#2a3f5f"
            },
            "error_y": {
             "color": "#2a3f5f"
            },
            "marker": {
             "line": {
              "color": "#E5ECF6",
              "width": 0.5
             },
             "pattern": {
              "fillmode": "overlay",
              "size": 10,
              "solidity": 0.2
             }
            },
            "type": "bar"
           }
          ],
          "barpolar": [
           {
            "marker": {
             "line": {
              "color": "#E5ECF6",
              "width": 0.5
             },
             "pattern": {
              "fillmode": "overlay",
              "size": 10,
              "solidity": 0.2
             }
            },
            "type": "barpolar"
           }
          ],
          "carpet": [
           {
            "aaxis": {
             "endlinecolor": "#2a3f5f",
             "gridcolor": "white",
             "linecolor": "white",
             "minorgridcolor": "white",
             "startlinecolor": "#2a3f5f"
            },
            "baxis": {
             "endlinecolor": "#2a3f5f",
             "gridcolor": "white",
             "linecolor": "white",
             "minorgridcolor": "white",
             "startlinecolor": "#2a3f5f"
            },
            "type": "carpet"
           }
          ],
          "choropleth": [
           {
            "colorbar": {
             "outlinewidth": 0,
             "ticks": ""
            },
            "type": "choropleth"
           }
          ],
          "contour": [
           {
            "colorbar": {
             "outlinewidth": 0,
             "ticks": ""
            },
            "colorscale": [
             [
              0,
              "#0d0887"
             ],
             [
              0.1111111111111111,
              "#46039f"
             ],
             [
              0.2222222222222222,
              "#7201a8"
             ],
             [
              0.3333333333333333,
              "#9c179e"
             ],
             [
              0.4444444444444444,
              "#bd3786"
             ],
             [
              0.5555555555555556,
              "#d8576b"
             ],
             [
              0.6666666666666666,
              "#ed7953"
             ],
             [
              0.7777777777777778,
              "#fb9f3a"
             ],
             [
              0.8888888888888888,
              "#fdca26"
             ],
             [
              1,
              "#f0f921"
             ]
            ],
            "type": "contour"
           }
          ],
          "contourcarpet": [
           {
            "colorbar": {
             "outlinewidth": 0,
             "ticks": ""
            },
            "type": "contourcarpet"
           }
          ],
          "heatmap": [
           {
            "colorbar": {
             "outlinewidth": 0,
             "ticks": ""
            },
            "colorscale": [
             [
              0,
              "#0d0887"
             ],
             [
              0.1111111111111111,
              "#46039f"
             ],
             [
              0.2222222222222222,
              "#7201a8"
             ],
             [
              0.3333333333333333,
              "#9c179e"
             ],
             [
              0.4444444444444444,
              "#bd3786"
             ],
             [
              0.5555555555555556,
              "#d8576b"
             ],
             [
              0.6666666666666666,
              "#ed7953"
             ],
             [
              0.7777777777777778,
              "#fb9f3a"
             ],
             [
              0.8888888888888888,
              "#fdca26"
             ],
             [
              1,
              "#f0f921"
             ]
            ],
            "type": "heatmap"
           }
          ],
          "heatmapgl": [
           {
            "colorbar": {
             "outlinewidth": 0,
             "ticks": ""
            },
            "colorscale": [
             [
              0,
              "#0d0887"
             ],
             [
              0.1111111111111111,
              "#46039f"
             ],
             [
              0.2222222222222222,
              "#7201a8"
             ],
             [
              0.3333333333333333,
              "#9c179e"
             ],
             [
              0.4444444444444444,
              "#bd3786"
             ],
             [
              0.5555555555555556,
              "#d8576b"
             ],
             [
              0.6666666666666666,
              "#ed7953"
             ],
             [
              0.7777777777777778,
              "#fb9f3a"
             ],
             [
              0.8888888888888888,
              "#fdca26"
             ],
             [
              1,
              "#f0f921"
             ]
            ],
            "type": "heatmapgl"
           }
          ],
          "histogram": [
           {
            "marker": {
             "pattern": {
              "fillmode": "overlay",
              "size": 10,
              "solidity": 0.2
             }
            },
            "type": "histogram"
           }
          ],
          "histogram2d": [
           {
            "colorbar": {
             "outlinewidth": 0,
             "ticks": ""
            },
            "colorscale": [
             [
              0,
              "#0d0887"
             ],
             [
              0.1111111111111111,
              "#46039f"
             ],
             [
              0.2222222222222222,
              "#7201a8"
             ],
             [
              0.3333333333333333,
              "#9c179e"
             ],
             [
              0.4444444444444444,
              "#bd3786"
             ],
             [
              0.5555555555555556,
              "#d8576b"
             ],
             [
              0.6666666666666666,
              "#ed7953"
             ],
             [
              0.7777777777777778,
              "#fb9f3a"
             ],
             [
              0.8888888888888888,
              "#fdca26"
             ],
             [
              1,
              "#f0f921"
             ]
            ],
            "type": "histogram2d"
           }
          ],
          "histogram2dcontour": [
           {
            "colorbar": {
             "outlinewidth": 0,
             "ticks": ""
            },
            "colorscale": [
             [
              0,
              "#0d0887"
             ],
             [
              0.1111111111111111,
              "#46039f"
             ],
             [
              0.2222222222222222,
              "#7201a8"
             ],
             [
              0.3333333333333333,
              "#9c179e"
             ],
             [
              0.4444444444444444,
              "#bd3786"
             ],
             [
              0.5555555555555556,
              "#d8576b"
             ],
             [
              0.6666666666666666,
              "#ed7953"
             ],
             [
              0.7777777777777778,
              "#fb9f3a"
             ],
             [
              0.8888888888888888,
              "#fdca26"
             ],
             [
              1,
              "#f0f921"
             ]
            ],
            "type": "histogram2dcontour"
           }
          ],
          "mesh3d": [
           {
            "colorbar": {
             "outlinewidth": 0,
             "ticks": ""
            },
            "type": "mesh3d"
           }
          ],
          "parcoords": [
           {
            "line": {
             "colorbar": {
              "outlinewidth": 0,
              "ticks": ""
             }
            },
            "type": "parcoords"
           }
          ],
          "pie": [
           {
            "automargin": true,
            "type": "pie"
           }
          ],
          "scatter": [
           {
            "marker": {
             "colorbar": {
              "outlinewidth": 0,
              "ticks": ""
             }
            },
            "type": "scatter"
           }
          ],
          "scatter3d": [
           {
            "line": {
             "colorbar": {
              "outlinewidth": 0,
              "ticks": ""
             }
            },
            "marker": {
             "colorbar": {
              "outlinewidth": 0,
              "ticks": ""
             }
            },
            "type": "scatter3d"
           }
          ],
          "scattercarpet": [
           {
            "marker": {
             "colorbar": {
              "outlinewidth": 0,
              "ticks": ""
             }
            },
            "type": "scattercarpet"
           }
          ],
          "scattergeo": [
           {
            "marker": {
             "colorbar": {
              "outlinewidth": 0,
              "ticks": ""
             }
            },
            "type": "scattergeo"
           }
          ],
          "scattergl": [
           {
            "marker": {
             "colorbar": {
              "outlinewidth": 0,
              "ticks": ""
             }
            },
            "type": "scattergl"
           }
          ],
          "scattermapbox": [
           {
            "marker": {
             "colorbar": {
              "outlinewidth": 0,
              "ticks": ""
             }
            },
            "type": "scattermapbox"
           }
          ],
          "scatterpolar": [
           {
            "marker": {
             "colorbar": {
              "outlinewidth": 0,
              "ticks": ""
             }
            },
            "type": "scatterpolar"
           }
          ],
          "scatterpolargl": [
           {
            "marker": {
             "colorbar": {
              "outlinewidth": 0,
              "ticks": ""
             }
            },
            "type": "scatterpolargl"
           }
          ],
          "scatterternary": [
           {
            "marker": {
             "colorbar": {
              "outlinewidth": 0,
              "ticks": ""
             }
            },
            "type": "scatterternary"
           }
          ],
          "surface": [
           {
            "colorbar": {
             "outlinewidth": 0,
             "ticks": ""
            },
            "colorscale": [
             [
              0,
              "#0d0887"
             ],
             [
              0.1111111111111111,
              "#46039f"
             ],
             [
              0.2222222222222222,
              "#7201a8"
             ],
             [
              0.3333333333333333,
              "#9c179e"
             ],
             [
              0.4444444444444444,
              "#bd3786"
             ],
             [
              0.5555555555555556,
              "#d8576b"
             ],
             [
              0.6666666666666666,
              "#ed7953"
             ],
             [
              0.7777777777777778,
              "#fb9f3a"
             ],
             [
              0.8888888888888888,
              "#fdca26"
             ],
             [
              1,
              "#f0f921"
             ]
            ],
            "type": "surface"
           }
          ],
          "table": [
           {
            "cells": {
             "fill": {
              "color": "#EBF0F8"
             },
             "line": {
              "color": "white"
             }
            },
            "header": {
             "fill": {
              "color": "#C8D4E3"
             },
             "line": {
              "color": "white"
             }
            },
            "type": "table"
           }
          ]
         },
         "layout": {
          "annotationdefaults": {
           "arrowcolor": "#2a3f5f",
           "arrowhead": 0,
           "arrowwidth": 1
          },
          "autotypenumbers": "strict",
          "coloraxis": {
           "colorbar": {
            "outlinewidth": 0,
            "ticks": ""
           }
          },
          "colorscale": {
           "diverging": [
            [
             0,
             "#8e0152"
            ],
            [
             0.1,
             "#c51b7d"
            ],
            [
             0.2,
             "#de77ae"
            ],
            [
             0.3,
             "#f1b6da"
            ],
            [
             0.4,
             "#fde0ef"
            ],
            [
             0.5,
             "#f7f7f7"
            ],
            [
             0.6,
             "#e6f5d0"
            ],
            [
             0.7,
             "#b8e186"
            ],
            [
             0.8,
             "#7fbc41"
            ],
            [
             0.9,
             "#4d9221"
            ],
            [
             1,
             "#276419"
            ]
           ],
           "sequential": [
            [
             0,
             "#0d0887"
            ],
            [
             0.1111111111111111,
             "#46039f"
            ],
            [
             0.2222222222222222,
             "#7201a8"
            ],
            [
             0.3333333333333333,
             "#9c179e"
            ],
            [
             0.4444444444444444,
             "#bd3786"
            ],
            [
             0.5555555555555556,
             "#d8576b"
            ],
            [
             0.6666666666666666,
             "#ed7953"
            ],
            [
             0.7777777777777778,
             "#fb9f3a"
            ],
            [
             0.8888888888888888,
             "#fdca26"
            ],
            [
             1,
             "#f0f921"
            ]
           ],
           "sequentialminus": [
            [
             0,
             "#0d0887"
            ],
            [
             0.1111111111111111,
             "#46039f"
            ],
            [
             0.2222222222222222,
             "#7201a8"
            ],
            [
             0.3333333333333333,
             "#9c179e"
            ],
            [
             0.4444444444444444,
             "#bd3786"
            ],
            [
             0.5555555555555556,
             "#d8576b"
            ],
            [
             0.6666666666666666,
             "#ed7953"
            ],
            [
             0.7777777777777778,
             "#fb9f3a"
            ],
            [
             0.8888888888888888,
             "#fdca26"
            ],
            [
             1,
             "#f0f921"
            ]
           ]
          },
          "colorway": [
           "#636efa",
           "#EF553B",
           "#00cc96",
           "#ab63fa",
           "#FFA15A",
           "#19d3f3",
           "#FF6692",
           "#B6E880",
           "#FF97FF",
           "#FECB52"
          ],
          "font": {
           "color": "#2a3f5f"
          },
          "geo": {
           "bgcolor": "white",
           "lakecolor": "white",
           "landcolor": "#E5ECF6",
           "showlakes": true,
           "showland": true,
           "subunitcolor": "white"
          },
          "hoverlabel": {
           "align": "left"
          },
          "hovermode": "closest",
          "mapbox": {
           "style": "light"
          },
          "paper_bgcolor": "white",
          "plot_bgcolor": "#E5ECF6",
          "polar": {
           "angularaxis": {
            "gridcolor": "white",
            "linecolor": "white",
            "ticks": ""
           },
           "bgcolor": "#E5ECF6",
           "radialaxis": {
            "gridcolor": "white",
            "linecolor": "white",
            "ticks": ""
           }
          },
          "scene": {
           "xaxis": {
            "backgroundcolor": "#E5ECF6",
            "gridcolor": "white",
            "gridwidth": 2,
            "linecolor": "white",
            "showbackground": true,
            "ticks": "",
            "zerolinecolor": "white"
           },
           "yaxis": {
            "backgroundcolor": "#E5ECF6",
            "gridcolor": "white",
            "gridwidth": 2,
            "linecolor": "white",
            "showbackground": true,
            "ticks": "",
            "zerolinecolor": "white"
           },
           "zaxis": {
            "backgroundcolor": "#E5ECF6",
            "gridcolor": "white",
            "gridwidth": 2,
            "linecolor": "white",
            "showbackground": true,
            "ticks": "",
            "zerolinecolor": "white"
           }
          },
          "shapedefaults": {
           "line": {
            "color": "#2a3f5f"
           }
          },
          "ternary": {
           "aaxis": {
            "gridcolor": "white",
            "linecolor": "white",
            "ticks": ""
           },
           "baxis": {
            "gridcolor": "white",
            "linecolor": "white",
            "ticks": ""
           },
           "bgcolor": "#E5ECF6",
           "caxis": {
            "gridcolor": "white",
            "linecolor": "white",
            "ticks": ""
           }
          },
          "title": {
           "x": 0.05
          },
          "xaxis": {
           "automargin": true,
           "gridcolor": "white",
           "linecolor": "white",
           "ticks": "",
           "title": {
            "standoff": 15
           },
           "zerolinecolor": "white",
           "zerolinewidth": 2
          },
          "yaxis": {
           "automargin": true,
           "gridcolor": "white",
           "linecolor": "white",
           "ticks": "",
           "title": {
            "standoff": 15
           },
           "zerolinecolor": "white",
           "zerolinewidth": 2
          }
         }
        },
        "width": 1000,
        "xaxis": {
         "mirror": "allticks",
         "rangemode": "tozero",
         "showgrid": false,
         "showline": true,
         "showticklabels": false,
         "tickmode": "array",
         "ticks": "outside",
         "ticktext": [
          "73",
          "26",
          "101",
          "87",
          "27",
          "68",
          "99",
          "76",
          "83",
          "53",
          "25",
          "43",
          "4",
          "72",
          "28",
          "42",
          "90",
          "118",
          "44",
          "55",
          "13",
          "16",
          "32",
          "56",
          "14",
          "17",
          "18",
          "75",
          "45",
          "15",
          "33",
          "1",
          "5",
          "54",
          "29",
          "6",
          "30",
          "9",
          "11",
          "10",
          "12",
          "31",
          "8",
          "0",
          "7",
          "162",
          "150",
          "166",
          "140",
          "113",
          "133",
          "110",
          "120",
          "129",
          "136",
          "141",
          "138",
          "139",
          "151",
          "103",
          "122",
          "148",
          "98",
          "109",
          "121",
          "160",
          "39",
          "104",
          "63",
          "108",
          "59",
          "51",
          "79",
          "21",
          "111",
          "157",
          "134",
          "144",
          "61",
          "62",
          "60",
          "102",
          "127",
          "65",
          "97",
          "58",
          "77",
          "88",
          "107",
          "105",
          "82",
          "100",
          "106",
          "66",
          "81",
          "96",
          "128",
          "137",
          "115",
          "132",
          "156",
          "114",
          "116",
          "123",
          "126",
          "125",
          "131",
          "46",
          "20",
          "74",
          "94",
          "34",
          "3",
          "47",
          "2",
          "50",
          "36",
          "57",
          "49",
          "19",
          "22",
          "35",
          "48",
          "78",
          "95",
          "85",
          "69",
          "37",
          "38",
          "24",
          "80",
          "64",
          "41",
          "124",
          "67",
          "52",
          "71",
          "89",
          "112",
          "86",
          "92",
          "40",
          "91",
          "23",
          "70",
          "84",
          "93",
          "119",
          "195",
          "196",
          "197",
          "198",
          "184",
          "185",
          "186",
          "188",
          "187",
          "182",
          "183",
          "189",
          "190",
          "191",
          "192",
          "193",
          "194",
          "172",
          "176",
          "181",
          "177",
          "179",
          "175",
          "171",
          "174",
          "178",
          "180",
          "164",
          "170",
          "168",
          "169",
          "158",
          "163",
          "167",
          "165",
          "173",
          "143",
          "147",
          "161",
          "153",
          "152",
          "159",
          "142",
          "155",
          "149",
          "146",
          "154",
          "117",
          "145",
          "130",
          "135"
         ],
         "tickvals": [
          5,
          15,
          25,
          35,
          45,
          55,
          65,
          75,
          85,
          95,
          105,
          115,
          125,
          135,
          145,
          155,
          165,
          175,
          185,
          195,
          205,
          215,
          225,
          235,
          245,
          255,
          265,
          275,
          285,
          295,
          305,
          315,
          325,
          335,
          345,
          355,
          365,
          375,
          385,
          395,
          405,
          415,
          425,
          435,
          445,
          455,
          465,
          475,
          485,
          495,
          505,
          515,
          525,
          535,
          545,
          555,
          565,
          575,
          585,
          595,
          605,
          615,
          625,
          635,
          645,
          655,
          665,
          675,
          685,
          695,
          705,
          715,
          725,
          735,
          745,
          755,
          765,
          775,
          785,
          795,
          805,
          815,
          825,
          835,
          845,
          855,
          865,
          875,
          885,
          895,
          905,
          915,
          925,
          935,
          945,
          955,
          965,
          975,
          985,
          995,
          1005,
          1015,
          1025,
          1035,
          1045,
          1055,
          1065,
          1075,
          1085,
          1095,
          1105,
          1115,
          1125,
          1135,
          1145,
          1155,
          1165,
          1175,
          1185,
          1195,
          1205,
          1215,
          1225,
          1235,
          1245,
          1255,
          1265,
          1275,
          1285,
          1295,
          1305,
          1315,
          1325,
          1335,
          1345,
          1355,
          1365,
          1375,
          1385,
          1395,
          1405,
          1415,
          1425,
          1435,
          1445,
          1455,
          1465,
          1475,
          1485,
          1495,
          1505,
          1515,
          1525,
          1535,
          1545,
          1555,
          1565,
          1575,
          1585,
          1595,
          1605,
          1615,
          1625,
          1635,
          1645,
          1655,
          1665,
          1675,
          1685,
          1695,
          1705,
          1715,
          1725,
          1735,
          1745,
          1755,
          1765,
          1775,
          1785,
          1795,
          1805,
          1815,
          1825,
          1835,
          1845,
          1855,
          1865,
          1875,
          1885,
          1895,
          1905,
          1915,
          1925,
          1935,
          1945,
          1955,
          1965,
          1975,
          1985
         ],
         "title": {
          "text": "Sample index"
         },
         "type": "linear",
         "zeroline": false
        },
        "yaxis": {
         "mirror": "allticks",
         "rangemode": "tozero",
         "showgrid": false,
         "showline": true,
         "showticklabels": true,
         "ticks": "outside",
         "title": {
          "text": "Distance entre les clusters"
         },
         "type": "linear",
         "zeroline": false
        }
       }
      },
      "text/html": [
       "<div>                            <div id=\"8a5855a4-6075-4c38-9610-8e635b1d2eaf\" class=\"plotly-graph-div\" style=\"height:500px; width:1000px;\"></div>            <script type=\"text/javascript\">                require([\"plotly\"], function(Plotly) {                    window.PLOTLYENV=window.PLOTLYENV || {};                                    if (document.getElementById(\"8a5855a4-6075-4c38-9610-8e635b1d2eaf\")) {                    Plotly.newPlot(                        \"8a5855a4-6075-4c38-9610-8e635b1d2eaf\",                        [{\"hoverinfo\":\"text\",\"marker\":{\"color\":\"rgb(61,153,112)\"},\"mode\":\"lines\",\"type\":\"scatter\",\"x\":[15.0,15.0,25.0,25.0],\"xaxis\":\"x\",\"y\":[0.0,3.9468715330175166,3.9468715330175166,0.0],\"yaxis\":\"y\"},{\"hoverinfo\":\"text\",\"marker\":{\"color\":\"rgb(61,153,112)\"},\"mode\":\"lines\",\"type\":\"scatter\",\"x\":[5.0,5.0,20.0,20.0],\"xaxis\":\"x\",\"y\":[0.0,6.197248011693843,6.197248011693843,3.9468715330175166],\"yaxis\":\"y\"},{\"hoverinfo\":\"text\",\"marker\":{\"color\":\"rgb(61,153,112)\"},\"mode\":\"lines\",\"type\":\"scatter\",\"x\":[45.0,45.0,55.0,55.0],\"xaxis\":\"x\",\"y\":[0.0,3.1622776601683795,3.1622776601683795,0.0],\"yaxis\":\"y\"},{\"hoverinfo\":\"text\",\"marker\":{\"color\":\"rgb(61,153,112)\"},\"mode\":\"lines\",\"type\":\"scatter\",\"x\":[35.0,35.0,50.0,50.0],\"xaxis\":\"x\",\"y\":[0.0,5.231881401755059,5.231881401755059,3.1622776601683795],\"yaxis\":\"y\"},{\"hoverinfo\":\"text\",\"marker\":{\"color\":\"rgb(61,153,112)\"},\"mode\":\"lines\",\"type\":\"scatter\",\"x\":[75.0,75.0,85.0,85.0],\"xaxis\":\"x\",\"y\":[0.0,4.265734578946192,4.265734578946192,0.0],\"yaxis\":\"y\"},{\"hoverinfo\":\"text\",\"marker\":{\"color\":\"rgb(61,153,112)\"},\"mode\":\"lines\",\"type\":\"scatter\",\"x\":[65.0,65.0,80.0,80.0],\"xaxis\":\"x\",\"y\":[0.0,5.420075958722,5.420075958722,4.265734578946192],\"yaxis\":\"y\"},{\"hoverinfo\":\"text\",\"marker\":{\"color\":\"rgb(61,153,112)\"},\"mode\":\"lines\",\"type\":\"scatter\",\"x\":[42.5,42.5,72.5,72.5],\"xaxis\":\"x\",\"y\":[5.231881401755059,12.755460741135655,12.755460741135655,5.420075958722],\"yaxis\":\"y\"},{\"hoverinfo\":\"text\",\"marker\":{\"color\":\"rgb(61,153,112)\"},\"mode\":\"lines\",\"type\":\"scatter\",\"x\":[12.5,12.5,57.5,57.5],\"xaxis\":\"x\",\"y\":[6.197248011693843,24.18028725017582,24.18028725017582,12.755460741135655],\"yaxis\":\"y\"},{\"hoverinfo\":\"text\",\"marker\":{\"color\":\"rgb(61,153,112)\"},\"mode\":\"lines\",\"type\":\"scatter\",\"x\":[105.0,105.0,115.0,115.0],\"xaxis\":\"x\",\"y\":[0.0,1.5307337294603591,1.5307337294603591,0.0],\"yaxis\":\"y\"},{\"hoverinfo\":\"text\",\"marker\":{\"color\":\"rgb(61,153,112)\"},\"mode\":\"lines\",\"type\":\"scatter\",\"x\":[95.0,95.0,110.0,110.0],\"xaxis\":\"x\",\"y\":[0.0,3.2673299006472,3.2673299006472,1.5307337294603591],\"yaxis\":\"y\"},{\"hoverinfo\":\"text\",\"marker\":{\"color\":\"rgb(61,153,112)\"},\"mode\":\"lines\",\"type\":\"scatter\",\"x\":[125.0,125.0,135.0,135.0],\"xaxis\":\"x\",\"y\":[0.0,6.164414002968976,6.164414002968976,0.0],\"yaxis\":\"y\"},{\"hoverinfo\":\"text\",\"marker\":{\"color\":\"rgb(61,153,112)\"},\"mode\":\"lines\",\"type\":\"scatter\",\"x\":[145.0,145.0,155.0,155.0],\"xaxis\":\"x\",\"y\":[0.0,3.216076141901435,3.216076141901435,0.0],\"yaxis\":\"y\"},{\"hoverinfo\":\"text\",\"marker\":{\"color\":\"rgb(61,153,112)\"},\"mode\":\"lines\",\"type\":\"scatter\",\"x\":[165.0,165.0,175.0,175.0],\"xaxis\":\"x\",\"y\":[0.0,3.584184810857109,3.584184810857109,0.0],\"yaxis\":\"y\"},{\"hoverinfo\":\"text\",\"marker\":{\"color\":\"rgb(61,153,112)\"},\"mode\":\"lines\",\"type\":\"scatter\",\"x\":[150.0,150.0,170.0,170.0],\"xaxis\":\"x\",\"y\":[3.216076141901435,6.221075366739497,6.221075366739497,3.584184810857109],\"yaxis\":\"y\"},{\"hoverinfo\":\"text\",\"marker\":{\"color\":\"rgb(61,153,112)\"},\"mode\":\"lines\",\"type\":\"scatter\",\"x\":[130.0,130.0,160.0,160.0],\"xaxis\":\"x\",\"y\":[6.164414002968976,14.43436487550895,14.43436487550895,6.221075366739497],\"yaxis\":\"y\"},{\"hoverinfo\":\"text\",\"marker\":{\"color\":\"rgb(61,153,112)\"},\"mode\":\"lines\",\"type\":\"scatter\",\"x\":[102.5,102.5,145.0,145.0],\"xaxis\":\"x\",\"y\":[3.2673299006472,28.34656705925782,28.34656705925782,14.43436487550895],\"yaxis\":\"y\"},{\"hoverinfo\":\"text\",\"marker\":{\"color\":\"rgb(61,153,112)\"},\"mode\":\"lines\",\"type\":\"scatter\",\"x\":[35.0,35.0,123.75,123.75],\"xaxis\":\"x\",\"y\":[24.18028725017582,59.43998196651814,59.43998196651814,28.34656705925782],\"yaxis\":\"y\"},{\"hoverinfo\":\"text\",\"marker\":{\"color\":\"rgb(61,153,112)\"},\"mode\":\"lines\",\"type\":\"scatter\",\"x\":[185.0,185.0,195.0,195.0],\"xaxis\":\"x\",\"y\":[0.0,2.248494627523233,2.248494627523233,0.0],\"yaxis\":\"y\"},{\"hoverinfo\":\"text\",\"marker\":{\"color\":\"rgb(61,153,112)\"},\"mode\":\"lines\",\"type\":\"scatter\",\"x\":[205.0,205.0,215.0,215.0],\"xaxis\":\"x\",\"y\":[0.0,2.23606797749979,2.23606797749979,0.0],\"yaxis\":\"y\"},{\"hoverinfo\":\"text\",\"marker\":{\"color\":\"rgb(61,153,112)\"},\"mode\":\"lines\",\"type\":\"scatter\",\"x\":[225.0,225.0,235.0,235.0],\"xaxis\":\"x\",\"y\":[0.0,3.6980325417258353,3.6980325417258353,0.0],\"yaxis\":\"y\"},{\"hoverinfo\":\"text\",\"marker\":{\"color\":\"rgb(61,153,112)\"},\"mode\":\"lines\",\"type\":\"scatter\",\"x\":[210.0,210.0,230.0,230.0],\"xaxis\":\"x\",\"y\":[2.23606797749979,5.845645633739169,5.845645633739169,3.6980325417258353],\"yaxis\":\"y\"},{\"hoverinfo\":\"text\",\"marker\":{\"color\":\"rgb(61,153,112)\"},\"mode\":\"lines\",\"type\":\"scatter\",\"x\":[190.0,190.0,220.0,220.0],\"xaxis\":\"x\",\"y\":[2.248494627523233,12.865763251552565,12.865763251552565,5.845645633739169],\"yaxis\":\"y\"},{\"hoverinfo\":\"text\",\"marker\":{\"color\":\"rgb(61,153,112)\"},\"mode\":\"lines\",\"type\":\"scatter\",\"x\":[255.0,255.0,265.0,265.0],\"xaxis\":\"x\",\"y\":[0.0,3.1622776601683795,3.1622776601683795,0.0],\"yaxis\":\"y\"},{\"hoverinfo\":\"text\",\"marker\":{\"color\":\"rgb(61,153,112)\"},\"mode\":\"lines\",\"type\":\"scatter\",\"x\":[245.0,245.0,260.0,260.0],\"xaxis\":\"x\",\"y\":[0.0,5.385164807134504,5.385164807134504,3.1622776601683795],\"yaxis\":\"y\"},{\"hoverinfo\":\"text\",\"marker\":{\"color\":\"rgb(61,153,112)\"},\"mode\":\"lines\",\"type\":\"scatter\",\"x\":[295.0,295.0,305.0,305.0],\"xaxis\":\"x\",\"y\":[0.0,1.4736257582079006,1.4736257582079006,0.0],\"yaxis\":\"y\"},{\"hoverinfo\":\"text\",\"marker\":{\"color\":\"rgb(61,153,112)\"},\"mode\":\"lines\",\"type\":\"scatter\",\"x\":[285.0,285.0,300.0,300.0],\"xaxis\":\"x\",\"y\":[0.0,3.3166247903554,3.3166247903554,1.4736257582079006],\"yaxis\":\"y\"},{\"hoverinfo\":\"text\",\"marker\":{\"color\":\"rgb(61,153,112)\"},\"mode\":\"lines\",\"type\":\"scatter\",\"x\":[275.0,275.0,292.5,292.5],\"xaxis\":\"x\",\"y\":[0.0,8.12403840463596,8.12403840463596,3.3166247903554],\"yaxis\":\"y\"},{\"hoverinfo\":\"text\",\"marker\":{\"color\":\"rgb(61,153,112)\"},\"mode\":\"lines\",\"type\":\"scatter\",\"x\":[252.5,252.5,283.75,283.75],\"xaxis\":\"x\",\"y\":[5.385164807134504,13.19090595827292,13.19090595827292,8.12403840463596],\"yaxis\":\"y\"},{\"hoverinfo\":\"text\",\"marker\":{\"color\":\"rgb(61,153,112)\"},\"mode\":\"lines\",\"type\":\"scatter\",\"x\":[205.0,205.0,268.125,268.125],\"xaxis\":\"x\",\"y\":[12.865763251552565,33.129799156273215,33.129799156273215,13.19090595827292],\"yaxis\":\"y\"},{\"hoverinfo\":\"text\",\"marker\":{\"color\":\"rgb(61,153,112)\"},\"mode\":\"lines\",\"type\":\"scatter\",\"x\":[325.0,325.0,335.0,335.0],\"xaxis\":\"x\",\"y\":[0.0,1.87826090972485,1.87826090972485,0.0],\"yaxis\":\"y\"},{\"hoverinfo\":\"text\",\"marker\":{\"color\":\"rgb(61,153,112)\"},\"mode\":\"lines\",\"type\":\"scatter\",\"x\":[315.0,315.0,330.0,330.0],\"xaxis\":\"x\",\"y\":[0.0,5.0990195135927845,5.0990195135927845,1.87826090972485],\"yaxis\":\"y\"},{\"hoverinfo\":\"text\",\"marker\":{\"color\":\"rgb(61,153,112)\"},\"mode\":\"lines\",\"type\":\"scatter\",\"x\":[355.0,355.0,365.0,365.0],\"xaxis\":\"x\",\"y\":[0.0,2.274109248750774,2.274109248750774,0.0],\"yaxis\":\"y\"},{\"hoverinfo\":\"text\",\"marker\":{\"color\":\"rgb(61,153,112)\"},\"mode\":\"lines\",\"type\":\"scatter\",\"x\":[345.0,345.0,360.0,360.0],\"xaxis\":\"x\",\"y\":[0.0,7.222989192519521,7.222989192519521,2.274109248750774],\"yaxis\":\"y\"},{\"hoverinfo\":\"text\",\"marker\":{\"color\":\"rgb(61,153,112)\"},\"mode\":\"lines\",\"type\":\"scatter\",\"x\":[322.5,322.5,352.5,352.5],\"xaxis\":\"x\",\"y\":[5.0990195135927845,17.0,17.0,7.222989192519521],\"yaxis\":\"y\"},{\"hoverinfo\":\"text\",\"marker\":{\"color\":\"rgb(61,153,112)\"},\"mode\":\"lines\",\"type\":\"scatter\",\"x\":[375.0,375.0,385.0,385.0],\"xaxis\":\"x\",\"y\":[0.0,2.23606797749979,2.23606797749979,0.0],\"yaxis\":\"y\"},{\"hoverinfo\":\"text\",\"marker\":{\"color\":\"rgb(61,153,112)\"},\"mode\":\"lines\",\"type\":\"scatter\",\"x\":[395.0,395.0,405.0,405.0],\"xaxis\":\"x\",\"y\":[0.0,4.123105625617661,4.123105625617661,0.0],\"yaxis\":\"y\"},{\"hoverinfo\":\"text\",\"marker\":{\"color\":\"rgb(61,153,112)\"},\"mode\":\"lines\",\"type\":\"scatter\",\"x\":[380.0,380.0,400.0,400.0],\"xaxis\":\"x\",\"y\":[2.23606797749979,6.4031242374328485,6.4031242374328485,4.123105625617661],\"yaxis\":\"y\"},{\"hoverinfo\":\"text\",\"marker\":{\"color\":\"rgb(61,153,112)\"},\"mode\":\"lines\",\"type\":\"scatter\",\"x\":[435.0,435.0,445.0,445.0],\"xaxis\":\"x\",\"y\":[0.0,2.449489742783178,2.449489742783178,0.0],\"yaxis\":\"y\"},{\"hoverinfo\":\"text\",\"marker\":{\"color\":\"rgb(61,153,112)\"},\"mode\":\"lines\",\"type\":\"scatter\",\"x\":[425.0,425.0,440.0,440.0],\"xaxis\":\"x\",\"y\":[0.0,4.242640687119285,4.242640687119285,2.449489742783178],\"yaxis\":\"y\"},{\"hoverinfo\":\"text\",\"marker\":{\"color\":\"rgb(61,153,112)\"},\"mode\":\"lines\",\"type\":\"scatter\",\"x\":[415.0,415.0,432.5,432.5],\"xaxis\":\"x\",\"y\":[0.0,9.228844612152368,9.228844612152368,4.242640687119285],\"yaxis\":\"y\"},{\"hoverinfo\":\"text\",\"marker\":{\"color\":\"rgb(61,153,112)\"},\"mode\":\"lines\",\"type\":\"scatter\",\"x\":[390.0,390.0,423.75,423.75],\"xaxis\":\"x\",\"y\":[6.4031242374328485,21.93171219946131,21.93171219946131,9.228844612152368],\"yaxis\":\"y\"},{\"hoverinfo\":\"text\",\"marker\":{\"color\":\"rgb(61,153,112)\"},\"mode\":\"lines\",\"type\":\"scatter\",\"x\":[337.5,337.5,406.875,406.875],\"xaxis\":\"x\",\"y\":[17.0,45.28796749689701,45.28796749689701,21.93171219946131],\"yaxis\":\"y\"},{\"hoverinfo\":\"text\",\"marker\":{\"color\":\"rgb(61,153,112)\"},\"mode\":\"lines\",\"type\":\"scatter\",\"x\":[236.5625,236.5625,372.1875,372.1875],\"xaxis\":\"x\",\"y\":[33.129799156273215,87.05170877128145,87.05170877128145,45.28796749689701],\"yaxis\":\"y\"},{\"hoverinfo\":\"text\",\"marker\":{\"color\":\"rgb(61,153,112)\"},\"mode\":\"lines\",\"type\":\"scatter\",\"x\":[79.375,79.375,304.375,304.375],\"xaxis\":\"x\",\"y\":[59.43998196651814,152.74661326538472,152.74661326538472,87.05170877128145],\"yaxis\":\"y\"},{\"hoverinfo\":\"text\",\"marker\":{\"color\":\"rgb(255,65,54)\"},\"mode\":\"lines\",\"type\":\"scatter\",\"x\":[465.0,465.0,475.0,475.0],\"xaxis\":\"x\",\"y\":[0.0,14.662373481200856,14.662373481200856,0.0],\"yaxis\":\"y\"},{\"hoverinfo\":\"text\",\"marker\":{\"color\":\"rgb(255,65,54)\"},\"mode\":\"lines\",\"type\":\"scatter\",\"x\":[455.0,455.0,470.0,470.0],\"xaxis\":\"x\",\"y\":[0.0,17.43056369042882,17.43056369042882,14.662373481200856],\"yaxis\":\"y\"},{\"hoverinfo\":\"text\",\"marker\":{\"color\":\"rgb(255,65,54)\"},\"mode\":\"lines\",\"type\":\"scatter\",\"x\":[495.0,495.0,505.0,505.0],\"xaxis\":\"x\",\"y\":[0.0,14.525491540596597,14.525491540596597,0.0],\"yaxis\":\"y\"},{\"hoverinfo\":\"text\",\"marker\":{\"color\":\"rgb(255,65,54)\"},\"mode\":\"lines\",\"type\":\"scatter\",\"x\":[485.0,485.0,500.0,500.0],\"xaxis\":\"x\",\"y\":[0.0,32.96462750686965,32.96462750686965,14.525491540596597],\"yaxis\":\"y\"},{\"hoverinfo\":\"text\",\"marker\":{\"color\":\"rgb(255,65,54)\"},\"mode\":\"lines\",\"type\":\"scatter\",\"x\":[462.5,462.5,492.5,492.5],\"xaxis\":\"x\",\"y\":[17.43056369042882,64.11323563266453,64.11323563266453,32.96462750686965],\"yaxis\":\"y\"},{\"hoverinfo\":\"text\",\"marker\":{\"color\":\"rgb(255,65,54)\"},\"mode\":\"lines\",\"type\":\"scatter\",\"x\":[515.0,515.0,525.0,525.0],\"xaxis\":\"x\",\"y\":[0.0,6.492221359163514,6.492221359163514,0.0],\"yaxis\":\"y\"},{\"hoverinfo\":\"text\",\"marker\":{\"color\":\"rgb(255,65,54)\"},\"mode\":\"lines\",\"type\":\"scatter\",\"x\":[535.0,535.0,545.0,545.0],\"xaxis\":\"x\",\"y\":[0.0,14.151467186257163,14.151467186257163,0.0],\"yaxis\":\"y\"},{\"hoverinfo\":\"text\",\"marker\":{\"color\":\"rgb(255,65,54)\"},\"mode\":\"lines\",\"type\":\"scatter\",\"x\":[520.0,520.0,540.0,540.0],\"xaxis\":\"x\",\"y\":[6.492221359163514,15.346571494984921,15.346571494984921,14.151467186257163],\"yaxis\":\"y\"},{\"hoverinfo\":\"text\",\"marker\":{\"color\":\"rgb(255,65,54)\"},\"mode\":\"lines\",\"type\":\"scatter\",\"x\":[575.0,575.0,585.0,585.0],\"xaxis\":\"x\",\"y\":[0.0,8.180268744946137,8.180268744946137,0.0],\"yaxis\":\"y\"},{\"hoverinfo\":\"text\",\"marker\":{\"color\":\"rgb(255,65,54)\"},\"mode\":\"lines\",\"type\":\"scatter\",\"x\":[565.0,565.0,580.0,580.0],\"xaxis\":\"x\",\"y\":[0.0,14.849463449510802,14.849463449510802,8.180268744946137],\"yaxis\":\"y\"},{\"hoverinfo\":\"text\",\"marker\":{\"color\":\"rgb(255,65,54)\"},\"mode\":\"lines\",\"type\":\"scatter\",\"x\":[555.0,555.0,572.5,572.5],\"xaxis\":\"x\",\"y\":[0.0,31.827668159581457,31.827668159581457,14.849463449510802],\"yaxis\":\"y\"},{\"hoverinfo\":\"text\",\"marker\":{\"color\":\"rgb(255,65,54)\"},\"mode\":\"lines\",\"type\":\"scatter\",\"x\":[595.0,595.0,605.0,605.0],\"xaxis\":\"x\",\"y\":[0.0,6.743061804681732,6.743061804681732,0.0],\"yaxis\":\"y\"},{\"hoverinfo\":\"text\",\"marker\":{\"color\":\"rgb(255,65,54)\"},\"mode\":\"lines\",\"type\":\"scatter\",\"x\":[625.0,625.0,635.0,635.0],\"xaxis\":\"x\",\"y\":[0.0,4.564281202263774,4.564281202263774,0.0],\"yaxis\":\"y\"},{\"hoverinfo\":\"text\",\"marker\":{\"color\":\"rgb(255,65,54)\"},\"mode\":\"lines\",\"type\":\"scatter\",\"x\":[615.0,615.0,630.0,630.0],\"xaxis\":\"x\",\"y\":[0.0,16.815833590953442,16.815833590953442,4.564281202263774],\"yaxis\":\"y\"},{\"hoverinfo\":\"text\",\"marker\":{\"color\":\"rgb(255,65,54)\"},\"mode\":\"lines\",\"type\":\"scatter\",\"x\":[645.0,645.0,655.0,655.0],\"xaxis\":\"x\",\"y\":[0.0,20.395756686156023,20.395756686156023,0.0],\"yaxis\":\"y\"},{\"hoverinfo\":\"text\",\"marker\":{\"color\":\"rgb(255,65,54)\"},\"mode\":\"lines\",\"type\":\"scatter\",\"x\":[622.5,622.5,650.0,650.0],\"xaxis\":\"x\",\"y\":[16.815833590953442,29.948333379096287,29.948333379096287,20.395756686156023],\"yaxis\":\"y\"},{\"hoverinfo\":\"text\",\"marker\":{\"color\":\"rgb(255,65,54)\"},\"mode\":\"lines\",\"type\":\"scatter\",\"x\":[600.0,600.0,636.25,636.25],\"xaxis\":\"x\",\"y\":[6.743061804681732,38.31903861563023,38.31903861563023,29.948333379096287],\"yaxis\":\"y\"},{\"hoverinfo\":\"text\",\"marker\":{\"color\":\"rgb(255,65,54)\"},\"mode\":\"lines\",\"type\":\"scatter\",\"x\":[563.75,563.75,618.125,618.125],\"xaxis\":\"x\",\"y\":[31.827668159581457,58.08052670879919,58.08052670879919,38.31903861563023],\"yaxis\":\"y\"},{\"hoverinfo\":\"text\",\"marker\":{\"color\":\"rgb(255,65,54)\"},\"mode\":\"lines\",\"type\":\"scatter\",\"x\":[530.0,530.0,590.9375,590.9375],\"xaxis\":\"x\",\"y\":[15.346571494984921,70.20862925869228,70.20862925869228,58.08052670879919],\"yaxis\":\"y\"},{\"hoverinfo\":\"text\",\"marker\":{\"color\":\"rgb(255,65,54)\"},\"mode\":\"lines\",\"type\":\"scatter\",\"x\":[477.5,477.5,560.46875,560.46875],\"xaxis\":\"x\",\"y\":[64.11323563266453,111.23403361626232,111.23403361626232,70.20862925869228],\"yaxis\":\"y\"},{\"hoverinfo\":\"text\",\"marker\":{\"color\":\"rgb(255,65,54)\"},\"mode\":\"lines\",\"type\":\"scatter\",\"x\":[665.0,665.0,675.0,675.0],\"xaxis\":\"x\",\"y\":[0.0,6.847937238230762,6.847937238230762,0.0],\"yaxis\":\"y\"},{\"hoverinfo\":\"text\",\"marker\":{\"color\":\"rgb(255,65,54)\"},\"mode\":\"lines\",\"type\":\"scatter\",\"x\":[685.0,685.0,695.0,695.0],\"xaxis\":\"x\",\"y\":[0.0,23.84350287106634,23.84350287106634,0.0],\"yaxis\":\"y\"},{\"hoverinfo\":\"text\",\"marker\":{\"color\":\"rgb(255,65,54)\"},\"mode\":\"lines\",\"type\":\"scatter\",\"x\":[670.0,670.0,690.0,690.0],\"xaxis\":\"x\",\"y\":[6.847937238230762,32.19717217792585,32.19717217792585,23.84350287106634],\"yaxis\":\"y\"},{\"hoverinfo\":\"text\",\"marker\":{\"color\":\"rgb(255,65,54)\"},\"mode\":\"lines\",\"type\":\"scatter\",\"x\":[715.0,715.0,725.0,725.0],\"xaxis\":\"x\",\"y\":[0.0,3.0579223926264847,3.0579223926264847,0.0],\"yaxis\":\"y\"},{\"hoverinfo\":\"text\",\"marker\":{\"color\":\"rgb(255,65,54)\"},\"mode\":\"lines\",\"type\":\"scatter\",\"x\":[705.0,705.0,720.0,720.0],\"xaxis\":\"x\",\"y\":[0.0,5.904054909659043,5.904054909659043,3.0579223926264847],\"yaxis\":\"y\"},{\"hoverinfo\":\"text\",\"marker\":{\"color\":\"rgb(255,65,54)\"},\"mode\":\"lines\",\"type\":\"scatter\",\"x\":[735.0,735.0,745.0,745.0],\"xaxis\":\"x\",\"y\":[0.0,5.986190352753875,5.986190352753875,0.0],\"yaxis\":\"y\"},{\"hoverinfo\":\"text\",\"marker\":{\"color\":\"rgb(255,65,54)\"},\"mode\":\"lines\",\"type\":\"scatter\",\"x\":[712.5,712.5,740.0,740.0],\"xaxis\":\"x\",\"y\":[5.904054909659043,10.99077153718196,10.99077153718196,5.986190352753875],\"yaxis\":\"y\"},{\"hoverinfo\":\"text\",\"marker\":{\"color\":\"rgb(255,65,54)\"},\"mode\":\"lines\",\"type\":\"scatter\",\"x\":[765.0,765.0,775.0,775.0],\"xaxis\":\"x\",\"y\":[0.0,5.094292318124025,5.094292318124025,0.0],\"yaxis\":\"y\"},{\"hoverinfo\":\"text\",\"marker\":{\"color\":\"rgb(255,65,54)\"},\"mode\":\"lines\",\"type\":\"scatter\",\"x\":[755.0,755.0,770.0,770.0],\"xaxis\":\"x\",\"y\":[0.0,7.1961505521007005,7.1961505521007005,5.094292318124025],\"yaxis\":\"y\"},{\"hoverinfo\":\"text\",\"marker\":{\"color\":\"rgb(255,65,54)\"},\"mode\":\"lines\",\"type\":\"scatter\",\"x\":[785.0,785.0,795.0,795.0],\"xaxis\":\"x\",\"y\":[0.0,1.4142135623730951,1.4142135623730951,0.0],\"yaxis\":\"y\"},{\"hoverinfo\":\"text\",\"marker\":{\"color\":\"rgb(255,65,54)\"},\"mode\":\"lines\",\"type\":\"scatter\",\"x\":[815.0,815.0,825.0,825.0],\"xaxis\":\"x\",\"y\":[0.0,3.571716005916156,3.571716005916156,0.0],\"yaxis\":\"y\"},{\"hoverinfo\":\"text\",\"marker\":{\"color\":\"rgb(255,65,54)\"},\"mode\":\"lines\",\"type\":\"scatter\",\"x\":[805.0,805.0,820.0,820.0],\"xaxis\":\"x\",\"y\":[0.0,5.238545485895926,5.238545485895926,3.571716005916156],\"yaxis\":\"y\"},{\"hoverinfo\":\"text\",\"marker\":{\"color\":\"rgb(255,65,54)\"},\"mode\":\"lines\",\"type\":\"scatter\",\"x\":[790.0,790.0,812.5,812.5],\"xaxis\":\"x\",\"y\":[1.4142135623730951,13.045937739312464,13.045937739312464,5.238545485895926],\"yaxis\":\"y\"},{\"hoverinfo\":\"text\",\"marker\":{\"color\":\"rgb(255,65,54)\"},\"mode\":\"lines\",\"type\":\"scatter\",\"x\":[762.5,762.5,801.25,801.25],\"xaxis\":\"x\",\"y\":[7.1961505521007005,25.98836760425753,25.98836760425753,13.045937739312464],\"yaxis\":\"y\"},{\"hoverinfo\":\"text\",\"marker\":{\"color\":\"rgb(255,65,54)\"},\"mode\":\"lines\",\"type\":\"scatter\",\"x\":[726.25,726.25,781.875,781.875],\"xaxis\":\"x\",\"y\":[10.99077153718196,45.645557499559814,45.645557499559814,25.98836760425753],\"yaxis\":\"y\"},{\"hoverinfo\":\"text\",\"marker\":{\"color\":\"rgb(255,65,54)\"},\"mode\":\"lines\",\"type\":\"scatter\",\"x\":[680.0,680.0,754.0625,754.0625],\"xaxis\":\"x\",\"y\":[32.19717217792585,56.895271738261506,56.895271738261506,45.645557499559814],\"yaxis\":\"y\"},{\"hoverinfo\":\"text\",\"marker\":{\"color\":\"rgb(255,65,54)\"},\"mode\":\"lines\",\"type\":\"scatter\",\"x\":[835.0,835.0,845.0,845.0],\"xaxis\":\"x\",\"y\":[0.0,3.2804178196918876,3.2804178196918876,0.0],\"yaxis\":\"y\"},{\"hoverinfo\":\"text\",\"marker\":{\"color\":\"rgb(255,65,54)\"},\"mode\":\"lines\",\"type\":\"scatter\",\"x\":[855.0,855.0,865.0,865.0],\"xaxis\":\"x\",\"y\":[0.0,3.722615260306798,3.722615260306798,0.0],\"yaxis\":\"y\"},{\"hoverinfo\":\"text\",\"marker\":{\"color\":\"rgb(255,65,54)\"},\"mode\":\"lines\",\"type\":\"scatter\",\"x\":[840.0,840.0,860.0,860.0],\"xaxis\":\"x\",\"y\":[3.2804178196918876,17.97762632593644,17.97762632593644,3.722615260306798],\"yaxis\":\"y\"},{\"hoverinfo\":\"text\",\"marker\":{\"color\":\"rgb(255,65,54)\"},\"mode\":\"lines\",\"type\":\"scatter\",\"x\":[875.0,875.0,885.0,885.0],\"xaxis\":\"x\",\"y\":[0.0,9.213738817441836,9.213738817441836,0.0],\"yaxis\":\"y\"},{\"hoverinfo\":\"text\",\"marker\":{\"color\":\"rgb(255,65,54)\"},\"mode\":\"lines\",\"type\":\"scatter\",\"x\":[905.0,905.0,915.0,915.0],\"xaxis\":\"x\",\"y\":[0.0,9.285175684417116,9.285175684417116,0.0],\"yaxis\":\"y\"},{\"hoverinfo\":\"text\",\"marker\":{\"color\":\"rgb(255,65,54)\"},\"mode\":\"lines\",\"type\":\"scatter\",\"x\":[895.0,895.0,910.0,910.0],\"xaxis\":\"x\",\"y\":[0.0,17.677929143237392,17.677929143237392,9.285175684417116],\"yaxis\":\"y\"},{\"hoverinfo\":\"text\",\"marker\":{\"color\":\"rgb(255,65,54)\"},\"mode\":\"lines\",\"type\":\"scatter\",\"x\":[880.0,880.0,902.5,902.5],\"xaxis\":\"x\",\"y\":[9.213738817441836,23.023893551438363,23.023893551438363,17.677929143237392],\"yaxis\":\"y\"},{\"hoverinfo\":\"text\",\"marker\":{\"color\":\"rgb(255,65,54)\"},\"mode\":\"lines\",\"type\":\"scatter\",\"x\":[850.0,850.0,891.25,891.25],\"xaxis\":\"x\",\"y\":[17.97762632593644,50.064403394481396,50.064403394481396,23.023893551438363],\"yaxis\":\"y\"},{\"hoverinfo\":\"text\",\"marker\":{\"color\":\"rgb(255,65,54)\"},\"mode\":\"lines\",\"type\":\"scatter\",\"x\":[935.0,935.0,945.0,945.0],\"xaxis\":\"x\",\"y\":[0.0,2.4037726279056324,2.4037726279056324,0.0],\"yaxis\":\"y\"},{\"hoverinfo\":\"text\",\"marker\":{\"color\":\"rgb(255,65,54)\"},\"mode\":\"lines\",\"type\":\"scatter\",\"x\":[925.0,925.0,940.0,940.0],\"xaxis\":\"x\",\"y\":[0.0,10.997177007130007,10.997177007130007,2.4037726279056324],\"yaxis\":\"y\"},{\"hoverinfo\":\"text\",\"marker\":{\"color\":\"rgb(255,65,54)\"},\"mode\":\"lines\",\"type\":\"scatter\",\"x\":[955.0,955.0,965.0,965.0],\"xaxis\":\"x\",\"y\":[0.0,7.851792833254822,7.851792833254822,0.0],\"yaxis\":\"y\"},{\"hoverinfo\":\"text\",\"marker\":{\"color\":\"rgb(255,65,54)\"},\"mode\":\"lines\",\"type\":\"scatter\",\"x\":[985.0,985.0,995.0,995.0],\"xaxis\":\"x\",\"y\":[0.0,9.31769397735468,9.31769397735468,0.0],\"yaxis\":\"y\"},{\"hoverinfo\":\"text\",\"marker\":{\"color\":\"rgb(255,65,54)\"},\"mode\":\"lines\",\"type\":\"scatter\",\"x\":[975.0,975.0,990.0,990.0],\"xaxis\":\"x\",\"y\":[0.0,21.436706966551764,21.436706966551764,9.31769397735468],\"yaxis\":\"y\"},{\"hoverinfo\":\"text\",\"marker\":{\"color\":\"rgb(255,65,54)\"},\"mode\":\"lines\",\"type\":\"scatter\",\"x\":[960.0,960.0,982.5,982.5],\"xaxis\":\"x\",\"y\":[7.851792833254822,22.203778902196554,22.203778902196554,21.436706966551764],\"yaxis\":\"y\"},{\"hoverinfo\":\"text\",\"marker\":{\"color\":\"rgb(255,65,54)\"},\"mode\":\"lines\",\"type\":\"scatter\",\"x\":[932.5,932.5,971.25,971.25],\"xaxis\":\"x\",\"y\":[10.997177007130007,52.36463387549657,52.36463387549657,22.203778902196554],\"yaxis\":\"y\"},{\"hoverinfo\":\"text\",\"marker\":{\"color\":\"rgb(255,65,54)\"},\"mode\":\"lines\",\"type\":\"scatter\",\"x\":[870.625,870.625,951.875,951.875],\"xaxis\":\"x\",\"y\":[50.064403394481396,107.01068725636192,107.01068725636192,52.36463387549657],\"yaxis\":\"y\"},{\"hoverinfo\":\"text\",\"marker\":{\"color\":\"rgb(255,65,54)\"},\"mode\":\"lines\",\"type\":\"scatter\",\"x\":[717.03125,717.03125,911.25,911.25],\"xaxis\":\"x\",\"y\":[56.895271738261506,118.25821283290237,118.25821283290237,107.01068725636192],\"yaxis\":\"y\"},{\"hoverinfo\":\"text\",\"marker\":{\"color\":\"rgb(255,65,54)\"},\"mode\":\"lines\",\"type\":\"scatter\",\"x\":[518.984375,518.984375,814.140625,814.140625],\"xaxis\":\"x\",\"y\":[111.23403361626232,185.14636412862816,185.14636412862816,118.25821283290237],\"yaxis\":\"y\"},{\"hoverinfo\":\"text\",\"marker\":{\"color\":\"rgb(35,205,205)\"},\"mode\":\"lines\",\"type\":\"scatter\",\"x\":[1015.0,1015.0,1025.0,1025.0],\"xaxis\":\"x\",\"y\":[0.0,16.27885193786109,16.27885193786109,0.0],\"yaxis\":\"y\"},{\"hoverinfo\":\"text\",\"marker\":{\"color\":\"rgb(35,205,205)\"},\"mode\":\"lines\",\"type\":\"scatter\",\"x\":[1055.0,1055.0,1065.0,1065.0],\"xaxis\":\"x\",\"y\":[0.0,3.7446261084261634,3.7446261084261634,0.0],\"yaxis\":\"y\"},{\"hoverinfo\":\"text\",\"marker\":{\"color\":\"rgb(35,205,205)\"},\"mode\":\"lines\",\"type\":\"scatter\",\"x\":[1045.0,1045.0,1060.0,1060.0],\"xaxis\":\"x\",\"y\":[0.0,7.220558511294455,7.220558511294455,3.7446261084261634],\"yaxis\":\"y\"},{\"hoverinfo\":\"text\",\"marker\":{\"color\":\"rgb(35,205,205)\"},\"mode\":\"lines\",\"type\":\"scatter\",\"x\":[1035.0,1035.0,1052.5,1052.5],\"xaxis\":\"x\",\"y\":[0.0,33.6175023643195,33.6175023643195,7.220558511294455],\"yaxis\":\"y\"},{\"hoverinfo\":\"text\",\"marker\":{\"color\":\"rgb(35,205,205)\"},\"mode\":\"lines\",\"type\":\"scatter\",\"x\":[1020.0,1020.0,1043.75,1043.75],\"xaxis\":\"x\",\"y\":[16.27885193786109,38.350153399156376,38.350153399156376,33.6175023643195],\"yaxis\":\"y\"},{\"hoverinfo\":\"text\",\"marker\":{\"color\":\"rgb(35,205,205)\"},\"mode\":\"lines\",\"type\":\"scatter\",\"x\":[1005.0,1005.0,1031.875,1031.875],\"xaxis\":\"x\",\"y\":[0.0,75.9714786147863,75.9714786147863,38.350153399156376],\"yaxis\":\"y\"},{\"hoverinfo\":\"text\",\"marker\":{\"color\":\"rgb(35,205,205)\"},\"mode\":\"lines\",\"type\":\"scatter\",\"x\":[1085.0,1085.0,1095.0,1095.0],\"xaxis\":\"x\",\"y\":[0.0,2.449489742783178,2.449489742783178,0.0],\"yaxis\":\"y\"},{\"hoverinfo\":\"text\",\"marker\":{\"color\":\"rgb(35,205,205)\"},\"mode\":\"lines\",\"type\":\"scatter\",\"x\":[1075.0,1075.0,1090.0,1090.0],\"xaxis\":\"x\",\"y\":[0.0,7.280109889280518,7.280109889280518,2.449489742783178],\"yaxis\":\"y\"},{\"hoverinfo\":\"text\",\"marker\":{\"color\":\"rgb(35,205,205)\"},\"mode\":\"lines\",\"type\":\"scatter\",\"x\":[1125.0,1125.0,1135.0,1135.0],\"xaxis\":\"x\",\"y\":[0.0,2.449489742783178,2.449489742783178,0.0],\"yaxis\":\"y\"},{\"hoverinfo\":\"text\",\"marker\":{\"color\":\"rgb(35,205,205)\"},\"mode\":\"lines\",\"type\":\"scatter\",\"x\":[1115.0,1115.0,1130.0,1130.0],\"xaxis\":\"x\",\"y\":[0.0,3.4641016151377544,3.4641016151377544,2.449489742783178],\"yaxis\":\"y\"},{\"hoverinfo\":\"text\",\"marker\":{\"color\":\"rgb(35,205,205)\"},\"mode\":\"lines\",\"type\":\"scatter\",\"x\":[1105.0,1105.0,1122.5,1122.5],\"xaxis\":\"x\",\"y\":[0.0,8.48528137423857,8.48528137423857,3.4641016151377544],\"yaxis\":\"y\"},{\"hoverinfo\":\"text\",\"marker\":{\"color\":\"rgb(35,205,205)\"},\"mode\":\"lines\",\"type\":\"scatter\",\"x\":[1082.5,1082.5,1113.75,1113.75],\"xaxis\":\"x\",\"y\":[7.280109889280518,22.02271554554524,22.02271554554524,8.48528137423857],\"yaxis\":\"y\"},{\"hoverinfo\":\"text\",\"marker\":{\"color\":\"rgb(35,205,205)\"},\"mode\":\"lines\",\"type\":\"scatter\",\"x\":[1145.0,1145.0,1155.0,1155.0],\"xaxis\":\"x\",\"y\":[0.0,3.7416573867739413,3.7416573867739413,0.0],\"yaxis\":\"y\"},{\"hoverinfo\":\"text\",\"marker\":{\"color\":\"rgb(35,205,205)\"},\"mode\":\"lines\",\"type\":\"scatter\",\"x\":[1165.0,1165.0,1175.0,1175.0],\"xaxis\":\"x\",\"y\":[0.0,1.6356786602701772,1.6356786602701772,0.0],\"yaxis\":\"y\"},{\"hoverinfo\":\"text\",\"marker\":{\"color\":\"rgb(35,205,205)\"},\"mode\":\"lines\",\"type\":\"scatter\",\"x\":[1195.0,1195.0,1205.0,1205.0],\"xaxis\":\"x\",\"y\":[0.0,1.4142135623730951,1.4142135623730951,0.0],\"yaxis\":\"y\"},{\"hoverinfo\":\"text\",\"marker\":{\"color\":\"rgb(35,205,205)\"},\"mode\":\"lines\",\"type\":\"scatter\",\"x\":[1185.0,1185.0,1200.0,1200.0],\"xaxis\":\"x\",\"y\":[0.0,4.358898943540674,4.358898943540674,1.4142135623730951],\"yaxis\":\"y\"},{\"hoverinfo\":\"text\",\"marker\":{\"color\":\"rgb(35,205,205)\"},\"mode\":\"lines\",\"type\":\"scatter\",\"x\":[1170.0,1170.0,1192.5,1192.5],\"xaxis\":\"x\",\"y\":[1.6356786602701772,8.249589571002963,8.249589571002963,4.358898943540674],\"yaxis\":\"y\"},{\"hoverinfo\":\"text\",\"marker\":{\"color\":\"rgb(35,205,205)\"},\"mode\":\"lines\",\"type\":\"scatter\",\"x\":[1150.0,1150.0,1181.25,1181.25],\"xaxis\":\"x\",\"y\":[3.7416573867739413,10.44030650891055,10.44030650891055,8.249589571002963],\"yaxis\":\"y\"},{\"hoverinfo\":\"text\",\"marker\":{\"color\":\"rgb(35,205,205)\"},\"mode\":\"lines\",\"type\":\"scatter\",\"x\":[1215.0,1215.0,1225.0,1225.0],\"xaxis\":\"x\",\"y\":[0.0,4.282889883070498,4.282889883070498,0.0],\"yaxis\":\"y\"},{\"hoverinfo\":\"text\",\"marker\":{\"color\":\"rgb(35,205,205)\"},\"mode\":\"lines\",\"type\":\"scatter\",\"x\":[1235.0,1235.0,1245.0,1245.0],\"xaxis\":\"x\",\"y\":[0.0,6.458771458453852,6.458771458453852,0.0],\"yaxis\":\"y\"},{\"hoverinfo\":\"text\",\"marker\":{\"color\":\"rgb(35,205,205)\"},\"mode\":\"lines\",\"type\":\"scatter\",\"x\":[1220.0,1220.0,1240.0,1240.0],\"xaxis\":\"x\",\"y\":[4.282889883070498,11.666681455324033,11.666681455324033,6.458771458453852],\"yaxis\":\"y\"},{\"hoverinfo\":\"text\",\"marker\":{\"color\":\"rgb(35,205,205)\"},\"mode\":\"lines\",\"type\":\"scatter\",\"x\":[1165.625,1165.625,1230.0,1230.0],\"xaxis\":\"x\",\"y\":[10.44030650891055,31.176914536239792,31.176914536239792,11.666681455324033],\"yaxis\":\"y\"},{\"hoverinfo\":\"text\",\"marker\":{\"color\":\"rgb(35,205,205)\"},\"mode\":\"lines\",\"type\":\"scatter\",\"x\":[1098.125,1098.125,1197.8125,1197.8125],\"xaxis\":\"x\",\"y\":[22.02271554554524,60.14149981501958,60.14149981501958,31.176914536239792],\"yaxis\":\"y\"},{\"hoverinfo\":\"text\",\"marker\":{\"color\":\"rgb(35,205,205)\"},\"mode\":\"lines\",\"type\":\"scatter\",\"x\":[1275.0,1275.0,1285.0,1285.0],\"xaxis\":\"x\",\"y\":[0.0,2.23606797749979,2.23606797749979,0.0],\"yaxis\":\"y\"},{\"hoverinfo\":\"text\",\"marker\":{\"color\":\"rgb(35,205,205)\"},\"mode\":\"lines\",\"type\":\"scatter\",\"x\":[1265.0,1265.0,1280.0,1280.0],\"xaxis\":\"x\",\"y\":[0.0,7.702813338860896,7.702813338860896,2.23606797749979],\"yaxis\":\"y\"},{\"hoverinfo\":\"text\",\"marker\":{\"color\":\"rgb(35,205,205)\"},\"mode\":\"lines\",\"type\":\"scatter\",\"x\":[1295.0,1295.0,1305.0,1305.0],\"xaxis\":\"x\",\"y\":[0.0,11.9164438547753,11.9164438547753,0.0],\"yaxis\":\"y\"},{\"hoverinfo\":\"text\",\"marker\":{\"color\":\"rgb(35,205,205)\"},\"mode\":\"lines\",\"type\":\"scatter\",\"x\":[1272.5,1272.5,1300.0,1300.0],\"xaxis\":\"x\",\"y\":[7.702813338860896,23.02595341591021,23.02595341591021,11.9164438547753],\"yaxis\":\"y\"},{\"hoverinfo\":\"text\",\"marker\":{\"color\":\"rgb(35,205,205)\"},\"mode\":\"lines\",\"type\":\"scatter\",\"x\":[1255.0,1255.0,1286.25,1286.25],\"xaxis\":\"x\",\"y\":[0.0,29.26909348931329,29.26909348931329,23.02595341591021],\"yaxis\":\"y\"},{\"hoverinfo\":\"text\",\"marker\":{\"color\":\"rgb(35,205,205)\"},\"mode\":\"lines\",\"type\":\"scatter\",\"x\":[1325.0,1325.0,1335.0,1335.0],\"xaxis\":\"x\",\"y\":[0.0,9.36107142177504,9.36107142177504,0.0],\"yaxis\":\"y\"},{\"hoverinfo\":\"text\",\"marker\":{\"color\":\"rgb(35,205,205)\"},\"mode\":\"lines\",\"type\":\"scatter\",\"x\":[1315.0,1315.0,1330.0,1330.0],\"xaxis\":\"x\",\"y\":[0.0,17.12860360401087,17.12860360401087,9.36107142177504],\"yaxis\":\"y\"},{\"hoverinfo\":\"text\",\"marker\":{\"color\":\"rgb(35,205,205)\"},\"mode\":\"lines\",\"type\":\"scatter\",\"x\":[1355.0,1355.0,1365.0,1365.0],\"xaxis\":\"x\",\"y\":[0.0,11.430142711931467,11.430142711931467,0.0],\"yaxis\":\"y\"},{\"hoverinfo\":\"text\",\"marker\":{\"color\":\"rgb(35,205,205)\"},\"mode\":\"lines\",\"type\":\"scatter\",\"x\":[1345.0,1345.0,1360.0,1360.0],\"xaxis\":\"x\",\"y\":[0.0,19.805310474775915,19.805310474775915,11.430142711931467],\"yaxis\":\"y\"},{\"hoverinfo\":\"text\",\"marker\":{\"color\":\"rgb(35,205,205)\"},\"mode\":\"lines\",\"type\":\"scatter\",\"x\":[1322.5,1322.5,1352.5,1352.5],\"xaxis\":\"x\",\"y\":[17.12860360401087,32.98511112647634,32.98511112647634,19.805310474775915],\"yaxis\":\"y\"},{\"hoverinfo\":\"text\",\"marker\":{\"color\":\"rgb(35,205,205)\"},\"mode\":\"lines\",\"type\":\"scatter\",\"x\":[1270.625,1270.625,1337.5,1337.5],\"xaxis\":\"x\",\"y\":[29.26909348931329,61.46962435728529,61.46962435728529,32.98511112647634],\"yaxis\":\"y\"},{\"hoverinfo\":\"text\",\"marker\":{\"color\":\"rgb(35,205,205)\"},\"mode\":\"lines\",\"type\":\"scatter\",\"x\":[1375.0,1375.0,1385.0,1385.0],\"xaxis\":\"x\",\"y\":[0.0,2.494462949298634,2.494462949298634,0.0],\"yaxis\":\"y\"},{\"hoverinfo\":\"text\",\"marker\":{\"color\":\"rgb(35,205,205)\"},\"mode\":\"lines\",\"type\":\"scatter\",\"x\":[1395.0,1395.0,1405.0,1405.0],\"xaxis\":\"x\",\"y\":[0.0,15.012168370867855,15.012168370867855,0.0],\"yaxis\":\"y\"},{\"hoverinfo\":\"text\",\"marker\":{\"color\":\"rgb(35,205,205)\"},\"mode\":\"lines\",\"type\":\"scatter\",\"x\":[1380.0,1380.0,1400.0,1400.0],\"xaxis\":\"x\",\"y\":[2.494462949298634,30.54748297660887,30.54748297660887,15.012168370867855],\"yaxis\":\"y\"},{\"hoverinfo\":\"text\",\"marker\":{\"color\":\"rgb(35,205,205)\"},\"mode\":\"lines\",\"type\":\"scatter\",\"x\":[1415.0,1415.0,1425.0,1425.0],\"xaxis\":\"x\",\"y\":[0.0,15.69918238843491,15.69918238843491,0.0],\"yaxis\":\"y\"},{\"hoverinfo\":\"text\",\"marker\":{\"color\":\"rgb(35,205,205)\"},\"mode\":\"lines\",\"type\":\"scatter\",\"x\":[1445.0,1445.0,1455.0,1455.0],\"xaxis\":\"x\",\"y\":[0.0,7.251538843506078,7.251538843506078,0.0],\"yaxis\":\"y\"},{\"hoverinfo\":\"text\",\"marker\":{\"color\":\"rgb(35,205,205)\"},\"mode\":\"lines\",\"type\":\"scatter\",\"x\":[1435.0,1435.0,1450.0,1450.0],\"xaxis\":\"x\",\"y\":[0.0,8.440019326965489,8.440019326965489,7.251538843506078],\"yaxis\":\"y\"},{\"hoverinfo\":\"text\",\"marker\":{\"color\":\"rgb(35,205,205)\"},\"mode\":\"lines\",\"type\":\"scatter\",\"x\":[1465.0,1465.0,1475.0,1475.0],\"xaxis\":\"x\",\"y\":[0.0,29.745884822783996,29.745884822783996,0.0],\"yaxis\":\"y\"},{\"hoverinfo\":\"text\",\"marker\":{\"color\":\"rgb(35,205,205)\"},\"mode\":\"lines\",\"type\":\"scatter\",\"x\":[1442.5,1442.5,1470.0,1470.0],\"xaxis\":\"x\",\"y\":[8.440019326965489,33.27930742256387,33.27930742256387,29.745884822783996],\"yaxis\":\"y\"},{\"hoverinfo\":\"text\",\"marker\":{\"color\":\"rgb(35,205,205)\"},\"mode\":\"lines\",\"type\":\"scatter\",\"x\":[1420.0,1420.0,1456.25,1456.25],\"xaxis\":\"x\",\"y\":[15.69918238843491,69.87883701998359,69.87883701998359,33.27930742256387],\"yaxis\":\"y\"},{\"hoverinfo\":\"text\",\"marker\":{\"color\":\"rgb(35,205,205)\"},\"mode\":\"lines\",\"type\":\"scatter\",\"x\":[1390.0,1390.0,1438.125,1438.125],\"xaxis\":\"x\",\"y\":[30.54748297660887,77.73767106566152,77.73767106566152,69.87883701998359],\"yaxis\":\"y\"},{\"hoverinfo\":\"text\",\"marker\":{\"color\":\"rgb(35,205,205)\"},\"mode\":\"lines\",\"type\":\"scatter\",\"x\":[1304.0625,1304.0625,1414.0625,1414.0625],\"xaxis\":\"x\",\"y\":[61.46962435728529,125.26746287555665,125.26746287555665,77.73767106566152],\"yaxis\":\"y\"},{\"hoverinfo\":\"text\",\"marker\":{\"color\":\"rgb(35,205,205)\"},\"mode\":\"lines\",\"type\":\"scatter\",\"x\":[1147.96875,1147.96875,1359.0625,1359.0625],\"xaxis\":\"x\",\"y\":[60.14149981501958,170.72590117885844,170.72590117885844,125.26746287555665],\"yaxis\":\"y\"},{\"hoverinfo\":\"text\",\"marker\":{\"color\":\"rgb(35,205,205)\"},\"mode\":\"lines\",\"type\":\"scatter\",\"x\":[1018.4375,1018.4375,1253.515625,1253.515625],\"xaxis\":\"x\",\"y\":[75.9714786147863,248.12244393106147,248.12244393106147,170.72590117885844],\"yaxis\":\"y\"},{\"hoverinfo\":\"text\",\"marker\":{\"color\":\"rgb(0,116,217)\"},\"mode\":\"lines\",\"type\":\"scatter\",\"x\":[666.5625,666.5625,1135.9765625,1135.9765625],\"xaxis\":\"x\",\"y\":[185.14636412862816,266.09230329420984,266.09230329420984,248.12244393106147],\"yaxis\":\"y\"},{\"hoverinfo\":\"text\",\"marker\":{\"color\":\"rgb(0,116,217)\"},\"mode\":\"lines\",\"type\":\"scatter\",\"x\":[191.875,191.875,901.26953125,901.26953125],\"xaxis\":\"x\",\"y\":[152.74661326538472,396.69609759589895,396.69609759589895,266.09230329420984],\"yaxis\":\"y\"},{\"hoverinfo\":\"text\",\"marker\":{\"color\":\"rgb(133,20,75)\"},\"mode\":\"lines\",\"type\":\"scatter\",\"x\":[1485.0,1485.0,1495.0,1495.0],\"xaxis\":\"x\",\"y\":[0.0,27.42045921928204,27.42045921928204,0.0],\"yaxis\":\"y\"},{\"hoverinfo\":\"text\",\"marker\":{\"color\":\"rgb(133,20,75)\"},\"mode\":\"lines\",\"type\":\"scatter\",\"x\":[1505.0,1505.0,1515.0,1515.0],\"xaxis\":\"x\",\"y\":[0.0,129.5208411129068,129.5208411129068,0.0],\"yaxis\":\"y\"},{\"hoverinfo\":\"text\",\"marker\":{\"color\":\"rgb(133,20,75)\"},\"mode\":\"lines\",\"type\":\"scatter\",\"x\":[1490.0,1490.0,1510.0,1510.0],\"xaxis\":\"x\",\"y\":[27.42045921928204,184.7044689396338,184.7044689396338,129.5208411129068],\"yaxis\":\"y\"},{\"hoverinfo\":\"text\",\"marker\":{\"color\":\"rgb(255,220,0)\"},\"mode\":\"lines\",\"type\":\"scatter\",\"x\":[1525.0,1525.0,1535.0,1535.0],\"xaxis\":\"x\",\"y\":[0.0,12.212964629252008,12.212964629252008,0.0],\"yaxis\":\"y\"},{\"hoverinfo\":\"text\",\"marker\":{\"color\":\"rgb(255,220,0)\"},\"mode\":\"lines\",\"type\":\"scatter\",\"x\":[1545.0,1545.0,1555.0,1555.0],\"xaxis\":\"x\",\"y\":[0.0,12.473336570147328,12.473336570147328,0.0],\"yaxis\":\"y\"},{\"hoverinfo\":\"text\",\"marker\":{\"color\":\"rgb(255,220,0)\"},\"mode\":\"lines\",\"type\":\"scatter\",\"x\":[1530.0,1530.0,1550.0,1550.0],\"xaxis\":\"x\",\"y\":[12.212964629252008,21.1447756815977,21.1447756815977,12.473336570147328],\"yaxis\":\"y\"},{\"hoverinfo\":\"text\",\"marker\":{\"color\":\"rgb(255,220,0)\"},\"mode\":\"lines\",\"type\":\"scatter\",\"x\":[1575.0,1575.0,1585.0,1585.0],\"xaxis\":\"x\",\"y\":[0.0,11.459384840648196,11.459384840648196,0.0],\"yaxis\":\"y\"},{\"hoverinfo\":\"text\",\"marker\":{\"color\":\"rgb(255,220,0)\"},\"mode\":\"lines\",\"type\":\"scatter\",\"x\":[1565.0,1565.0,1580.0,1580.0],\"xaxis\":\"x\",\"y\":[0.0,24.212614267706442,24.212614267706442,11.459384840648196],\"yaxis\":\"y\"},{\"hoverinfo\":\"text\",\"marker\":{\"color\":\"rgb(255,220,0)\"},\"mode\":\"lines\",\"type\":\"scatter\",\"x\":[1540.0,1540.0,1572.5,1572.5],\"xaxis\":\"x\",\"y\":[21.1447756815977,38.2350725022753,38.2350725022753,24.212614267706442],\"yaxis\":\"y\"},{\"hoverinfo\":\"text\",\"marker\":{\"color\":\"rgb(255,220,0)\"},\"mode\":\"lines\",\"type\":\"scatter\",\"x\":[1605.0,1605.0,1615.0,1615.0],\"xaxis\":\"x\",\"y\":[0.0,15.390486984335292,15.390486984335292,0.0],\"yaxis\":\"y\"},{\"hoverinfo\":\"text\",\"marker\":{\"color\":\"rgb(255,220,0)\"},\"mode\":\"lines\",\"type\":\"scatter\",\"x\":[1595.0,1595.0,1610.0,1610.0],\"xaxis\":\"x\",\"y\":[0.0,39.73606171009287,39.73606171009287,15.390486984335292],\"yaxis\":\"y\"},{\"hoverinfo\":\"text\",\"marker\":{\"color\":\"rgb(255,220,0)\"},\"mode\":\"lines\",\"type\":\"scatter\",\"x\":[1556.25,1556.25,1602.5,1602.5],\"xaxis\":\"x\",\"y\":[38.2350725022753,45.99550057109475,45.99550057109475,39.73606171009287],\"yaxis\":\"y\"},{\"hoverinfo\":\"text\",\"marker\":{\"color\":\"rgb(255,220,0)\"},\"mode\":\"lines\",\"type\":\"scatter\",\"x\":[1635.0,1635.0,1645.0,1645.0],\"xaxis\":\"x\",\"y\":[0.0,9.063124458449925,9.063124458449925,0.0],\"yaxis\":\"y\"},{\"hoverinfo\":\"text\",\"marker\":{\"color\":\"rgb(255,220,0)\"},\"mode\":\"lines\",\"type\":\"scatter\",\"x\":[1625.0,1625.0,1640.0,1640.0],\"xaxis\":\"x\",\"y\":[0.0,53.584993781145414,53.584993781145414,9.063124458449925],\"yaxis\":\"y\"},{\"hoverinfo\":\"text\",\"marker\":{\"color\":\"rgb(255,220,0)\"},\"mode\":\"lines\",\"type\":\"scatter\",\"x\":[1579.375,1579.375,1632.5,1632.5],\"xaxis\":\"x\",\"y\":[45.99550057109475,95.6004226903073,95.6004226903073,53.584993781145414],\"yaxis\":\"y\"},{\"hoverinfo\":\"text\",\"marker\":{\"color\":\"rgb(255,220,0)\"},\"mode\":\"lines\",\"type\":\"scatter\",\"x\":[1655.0,1655.0,1665.0,1665.0],\"xaxis\":\"x\",\"y\":[0.0,7.852955113194321,7.852955113194321,0.0],\"yaxis\":\"y\"},{\"hoverinfo\":\"text\",\"marker\":{\"color\":\"rgb(255,220,0)\"},\"mode\":\"lines\",\"type\":\"scatter\",\"x\":[1685.0,1685.0,1695.0,1695.0],\"xaxis\":\"x\",\"y\":[0.0,7.544345428919216,7.544345428919216,0.0],\"yaxis\":\"y\"},{\"hoverinfo\":\"text\",\"marker\":{\"color\":\"rgb(255,220,0)\"},\"mode\":\"lines\",\"type\":\"scatter\",\"x\":[1675.0,1675.0,1690.0,1690.0],\"xaxis\":\"x\",\"y\":[0.0,14.1808739251261,14.1808739251261,7.544345428919216],\"yaxis\":\"y\"},{\"hoverinfo\":\"text\",\"marker\":{\"color\":\"rgb(255,220,0)\"},\"mode\":\"lines\",\"type\":\"scatter\",\"x\":[1715.0,1715.0,1725.0,1725.0],\"xaxis\":\"x\",\"y\":[0.0,12.44087365531204,12.44087365531204,0.0],\"yaxis\":\"y\"},{\"hoverinfo\":\"text\",\"marker\":{\"color\":\"rgb(255,220,0)\"},\"mode\":\"lines\",\"type\":\"scatter\",\"x\":[1705.0,1705.0,1720.0,1720.0],\"xaxis\":\"x\",\"y\":[0.0,22.46290850612406,22.46290850612406,12.44087365531204],\"yaxis\":\"y\"},{\"hoverinfo\":\"text\",\"marker\":{\"color\":\"rgb(255,220,0)\"},\"mode\":\"lines\",\"type\":\"scatter\",\"x\":[1682.5,1682.5,1712.5,1712.5],\"xaxis\":\"x\",\"y\":[14.1808739251261,24.75246815028476,24.75246815028476,22.46290850612406],\"yaxis\":\"y\"},{\"hoverinfo\":\"text\",\"marker\":{\"color\":\"rgb(255,220,0)\"},\"mode\":\"lines\",\"type\":\"scatter\",\"x\":[1660.0,1660.0,1697.5,1697.5],\"xaxis\":\"x\",\"y\":[7.852955113194321,28.978178100958452,28.978178100958452,24.75246815028476],\"yaxis\":\"y\"},{\"hoverinfo\":\"text\",\"marker\":{\"color\":\"rgb(255,220,0)\"},\"mode\":\"lines\",\"type\":\"scatter\",\"x\":[1735.0,1735.0,1745.0,1745.0],\"xaxis\":\"x\",\"y\":[0.0,9.681256652219655,9.681256652219655,0.0],\"yaxis\":\"y\"},{\"hoverinfo\":\"text\",\"marker\":{\"color\":\"rgb(255,220,0)\"},\"mode\":\"lines\",\"type\":\"scatter\",\"x\":[1755.0,1755.0,1765.0,1765.0],\"xaxis\":\"x\",\"y\":[0.0,4.7233722377027725,4.7233722377027725,0.0],\"yaxis\":\"y\"},{\"hoverinfo\":\"text\",\"marker\":{\"color\":\"rgb(255,220,0)\"},\"mode\":\"lines\",\"type\":\"scatter\",\"x\":[1775.0,1775.0,1785.0,1785.0],\"xaxis\":\"x\",\"y\":[0.0,8.308619118015764,8.308619118015764,0.0],\"yaxis\":\"y\"},{\"hoverinfo\":\"text\",\"marker\":{\"color\":\"rgb(255,220,0)\"},\"mode\":\"lines\",\"type\":\"scatter\",\"x\":[1760.0,1760.0,1780.0,1780.0],\"xaxis\":\"x\",\"y\":[4.7233722377027725,11.236667411221337,11.236667411221337,8.308619118015764],\"yaxis\":\"y\"},{\"hoverinfo\":\"text\",\"marker\":{\"color\":\"rgb(255,220,0)\"},\"mode\":\"lines\",\"type\":\"scatter\",\"x\":[1795.0,1795.0,1805.0,1805.0],\"xaxis\":\"x\",\"y\":[0.0,13.081913326798738,13.081913326798738,0.0],\"yaxis\":\"y\"},{\"hoverinfo\":\"text\",\"marker\":{\"color\":\"rgb(255,220,0)\"},\"mode\":\"lines\",\"type\":\"scatter\",\"x\":[1770.0,1770.0,1800.0,1800.0],\"xaxis\":\"x\",\"y\":[11.236667411221337,25.67869497068007,25.67869497068007,13.081913326798738],\"yaxis\":\"y\"},{\"hoverinfo\":\"text\",\"marker\":{\"color\":\"rgb(255,220,0)\"},\"mode\":\"lines\",\"type\":\"scatter\",\"x\":[1740.0,1740.0,1785.0,1785.0],\"xaxis\":\"x\",\"y\":[9.681256652219655,39.34029854585916,39.34029854585916,25.67869497068007],\"yaxis\":\"y\"},{\"hoverinfo\":\"text\",\"marker\":{\"color\":\"rgb(255,220,0)\"},\"mode\":\"lines\",\"type\":\"scatter\",\"x\":[1678.75,1678.75,1762.5,1762.5],\"xaxis\":\"x\",\"y\":[28.978178100958452,49.51297168349179,49.51297168349179,39.34029854585916],\"yaxis\":\"y\"},{\"hoverinfo\":\"text\",\"marker\":{\"color\":\"rgb(255,220,0)\"},\"mode\":\"lines\",\"type\":\"scatter\",\"x\":[1825.0,1825.0,1835.0,1835.0],\"xaxis\":\"x\",\"y\":[0.0,14.069254324439443,14.069254324439443,0.0],\"yaxis\":\"y\"},{\"hoverinfo\":\"text\",\"marker\":{\"color\":\"rgb(255,220,0)\"},\"mode\":\"lines\",\"type\":\"scatter\",\"x\":[1815.0,1815.0,1830.0,1830.0],\"xaxis\":\"x\",\"y\":[0.0,33.57397817746408,33.57397817746408,14.069254324439443],\"yaxis\":\"y\"},{\"hoverinfo\":\"text\",\"marker\":{\"color\":\"rgb(255,220,0)\"},\"mode\":\"lines\",\"type\":\"scatter\",\"x\":[1845.0,1845.0,1855.0,1855.0],\"xaxis\":\"x\",\"y\":[0.0,12.363454191860814,12.363454191860814,0.0],\"yaxis\":\"y\"},{\"hoverinfo\":\"text\",\"marker\":{\"color\":\"rgb(255,220,0)\"},\"mode\":\"lines\",\"type\":\"scatter\",\"x\":[1885.0,1885.0,1895.0,1895.0],\"xaxis\":\"x\",\"y\":[0.0,7.603488824751174,7.603488824751174,0.0],\"yaxis\":\"y\"},{\"hoverinfo\":\"text\",\"marker\":{\"color\":\"rgb(255,220,0)\"},\"mode\":\"lines\",\"type\":\"scatter\",\"x\":[1875.0,1875.0,1890.0,1890.0],\"xaxis\":\"x\",\"y\":[0.0,8.775044792106096,8.775044792106096,7.603488824751174],\"yaxis\":\"y\"},{\"hoverinfo\":\"text\",\"marker\":{\"color\":\"rgb(255,220,0)\"},\"mode\":\"lines\",\"type\":\"scatter\",\"x\":[1865.0,1865.0,1882.5,1882.5],\"xaxis\":\"x\",\"y\":[0.0,16.321450311071292,16.321450311071292,8.775044792106096],\"yaxis\":\"y\"},{\"hoverinfo\":\"text\",\"marker\":{\"color\":\"rgb(255,220,0)\"},\"mode\":\"lines\",\"type\":\"scatter\",\"x\":[1850.0,1850.0,1873.75,1873.75],\"xaxis\":\"x\",\"y\":[12.363454191860814,21.259683417493637,21.259683417493637,16.321450311071292],\"yaxis\":\"y\"},{\"hoverinfo\":\"text\",\"marker\":{\"color\":\"rgb(255,220,0)\"},\"mode\":\"lines\",\"type\":\"scatter\",\"x\":[1905.0,1905.0,1915.0,1915.0],\"xaxis\":\"x\",\"y\":[0.0,15.8761168543806,15.8761168543806,0.0],\"yaxis\":\"y\"},{\"hoverinfo\":\"text\",\"marker\":{\"color\":\"rgb(255,220,0)\"},\"mode\":\"lines\",\"type\":\"scatter\",\"x\":[1935.0,1935.0,1945.0,1945.0],\"xaxis\":\"x\",\"y\":[0.0,9.780924174241038,9.780924174241038,0.0],\"yaxis\":\"y\"},{\"hoverinfo\":\"text\",\"marker\":{\"color\":\"rgb(255,220,0)\"},\"mode\":\"lines\",\"type\":\"scatter\",\"x\":[1925.0,1925.0,1940.0,1940.0],\"xaxis\":\"x\",\"y\":[0.0,11.963694311326961,11.963694311326961,9.780924174241038],\"yaxis\":\"y\"},{\"hoverinfo\":\"text\",\"marker\":{\"color\":\"rgb(255,220,0)\"},\"mode\":\"lines\",\"type\":\"scatter\",\"x\":[1975.0,1975.0,1985.0,1985.0],\"xaxis\":\"x\",\"y\":[0.0,5.9234612459111755,5.9234612459111755,0.0],\"yaxis\":\"y\"},{\"hoverinfo\":\"text\",\"marker\":{\"color\":\"rgb(255,220,0)\"},\"mode\":\"lines\",\"type\":\"scatter\",\"x\":[1965.0,1965.0,1980.0,1980.0],\"xaxis\":\"x\",\"y\":[0.0,9.96906141655212,9.96906141655212,5.9234612459111755],\"yaxis\":\"y\"},{\"hoverinfo\":\"text\",\"marker\":{\"color\":\"rgb(255,220,0)\"},\"mode\":\"lines\",\"type\":\"scatter\",\"x\":[1955.0,1955.0,1972.5,1972.5],\"xaxis\":\"x\",\"y\":[0.0,12.748309169851696,12.748309169851696,9.96906141655212],\"yaxis\":\"y\"},{\"hoverinfo\":\"text\",\"marker\":{\"color\":\"rgb(255,220,0)\"},\"mode\":\"lines\",\"type\":\"scatter\",\"x\":[1932.5,1932.5,1963.75,1963.75],\"xaxis\":\"x\",\"y\":[11.963694311326961,32.60044441265444,32.60044441265444,12.748309169851696],\"yaxis\":\"y\"},{\"hoverinfo\":\"text\",\"marker\":{\"color\":\"rgb(255,220,0)\"},\"mode\":\"lines\",\"type\":\"scatter\",\"x\":[1910.0,1910.0,1948.125,1948.125],\"xaxis\":\"x\",\"y\":[15.8761168543806,35.146369353794775,35.146369353794775,32.60044441265444],\"yaxis\":\"y\"},{\"hoverinfo\":\"text\",\"marker\":{\"color\":\"rgb(255,220,0)\"},\"mode\":\"lines\",\"type\":\"scatter\",\"x\":[1861.875,1861.875,1929.0625,1929.0625],\"xaxis\":\"x\",\"y\":[21.259683417493637,58.05231241509914,58.05231241509914,35.146369353794775],\"yaxis\":\"y\"},{\"hoverinfo\":\"text\",\"marker\":{\"color\":\"rgb(255,220,0)\"},\"mode\":\"lines\",\"type\":\"scatter\",\"x\":[1822.5,1822.5,1895.46875,1895.46875],\"xaxis\":\"x\",\"y\":[33.57397817746408,69.7159201682357,69.7159201682357,58.05231241509914],\"yaxis\":\"y\"},{\"hoverinfo\":\"text\",\"marker\":{\"color\":\"rgb(255,220,0)\"},\"mode\":\"lines\",\"type\":\"scatter\",\"x\":[1720.625,1720.625,1858.984375,1858.984375],\"xaxis\":\"x\",\"y\":[49.51297168349179,114.86798747107433,114.86798747107433,69.7159201682357],\"yaxis\":\"y\"},{\"hoverinfo\":\"text\",\"marker\":{\"color\":\"rgb(255,220,0)\"},\"mode\":\"lines\",\"type\":\"scatter\",\"x\":[1605.9375,1605.9375,1789.8046875,1789.8046875],\"xaxis\":\"x\",\"y\":[95.6004226903073,193.4717317685548,193.4717317685548,114.86798747107433],\"yaxis\":\"y\"},{\"hoverinfo\":\"text\",\"marker\":{\"color\":\"rgb(0,116,217)\"},\"mode\":\"lines\",\"type\":\"scatter\",\"x\":[1500.0,1500.0,1697.87109375,1697.87109375],\"xaxis\":\"x\",\"y\":[184.7044689396338,471.566358168931,471.566358168931,193.4717317685548],\"yaxis\":\"y\"},{\"hoverinfo\":\"text\",\"marker\":{\"color\":\"rgb(0,116,217)\"},\"mode\":\"lines\",\"type\":\"scatter\",\"x\":[546.572265625,546.572265625,1598.935546875,1598.935546875],\"xaxis\":\"x\",\"y\":[396.69609759589895,716.393678115113,716.393678115113,471.566358168931],\"yaxis\":\"y\"}],                        {\"autosize\":false,\"height\":500,\"hovermode\":\"closest\",\"shapes\":[{\"line\":{\"color\":\"Black\",\"dash\":\"dash\"},\"type\":\"line\",\"x0\":0,\"x1\":1985,\"y0\":260,\"y1\":260},{\"line\":{\"color\":\"Black\",\"dash\":\"dash\"},\"type\":\"line\",\"x0\":0,\"x1\":1985,\"y0\":260,\"y1\":260},{\"line\":{\"color\":\"Black\",\"dash\":\"dash\"},\"type\":\"line\",\"x0\":0,\"x1\":1985,\"y0\":260,\"y1\":260},{\"line\":{\"color\":\"Black\",\"dash\":\"dash\"},\"type\":\"line\",\"x0\":0,\"x1\":1985,\"y0\":260,\"y1\":260},{\"line\":{\"color\":\"Black\",\"dash\":\"dash\"},\"type\":\"line\",\"x0\":0,\"x1\":1985,\"y0\":260,\"y1\":260}],\"showlegend\":false,\"template\":{\"data\":{\"bar\":[{\"error_x\":{\"color\":\"#2a3f5f\"},\"error_y\":{\"color\":\"#2a3f5f\"},\"marker\":{\"line\":{\"color\":\"#E5ECF6\",\"width\":0.5},\"pattern\":{\"fillmode\":\"overlay\",\"size\":10,\"solidity\":0.2}},\"type\":\"bar\"}],\"barpolar\":[{\"marker\":{\"line\":{\"color\":\"#E5ECF6\",\"width\":0.5},\"pattern\":{\"fillmode\":\"overlay\",\"size\":10,\"solidity\":0.2}},\"type\":\"barpolar\"}],\"carpet\":[{\"aaxis\":{\"endlinecolor\":\"#2a3f5f\",\"gridcolor\":\"white\",\"linecolor\":\"white\",\"minorgridcolor\":\"white\",\"startlinecolor\":\"#2a3f5f\"},\"baxis\":{\"endlinecolor\":\"#2a3f5f\",\"gridcolor\":\"white\",\"linecolor\":\"white\",\"minorgridcolor\":\"white\",\"startlinecolor\":\"#2a3f5f\"},\"type\":\"carpet\"}],\"choropleth\":[{\"colorbar\":{\"outlinewidth\":0,\"ticks\":\"\"},\"type\":\"choropleth\"}],\"contour\":[{\"colorbar\":{\"outlinewidth\":0,\"ticks\":\"\"},\"colorscale\":[[0.0,\"#0d0887\"],[0.1111111111111111,\"#46039f\"],[0.2222222222222222,\"#7201a8\"],[0.3333333333333333,\"#9c179e\"],[0.4444444444444444,\"#bd3786\"],[0.5555555555555556,\"#d8576b\"],[0.6666666666666666,\"#ed7953\"],[0.7777777777777778,\"#fb9f3a\"],[0.8888888888888888,\"#fdca26\"],[1.0,\"#f0f921\"]],\"type\":\"contour\"}],\"contourcarpet\":[{\"colorbar\":{\"outlinewidth\":0,\"ticks\":\"\"},\"type\":\"contourcarpet\"}],\"heatmap\":[{\"colorbar\":{\"outlinewidth\":0,\"ticks\":\"\"},\"colorscale\":[[0.0,\"#0d0887\"],[0.1111111111111111,\"#46039f\"],[0.2222222222222222,\"#7201a8\"],[0.3333333333333333,\"#9c179e\"],[0.4444444444444444,\"#bd3786\"],[0.5555555555555556,\"#d8576b\"],[0.6666666666666666,\"#ed7953\"],[0.7777777777777778,\"#fb9f3a\"],[0.8888888888888888,\"#fdca26\"],[1.0,\"#f0f921\"]],\"type\":\"heatmap\"}],\"heatmapgl\":[{\"colorbar\":{\"outlinewidth\":0,\"ticks\":\"\"},\"colorscale\":[[0.0,\"#0d0887\"],[0.1111111111111111,\"#46039f\"],[0.2222222222222222,\"#7201a8\"],[0.3333333333333333,\"#9c179e\"],[0.4444444444444444,\"#bd3786\"],[0.5555555555555556,\"#d8576b\"],[0.6666666666666666,\"#ed7953\"],[0.7777777777777778,\"#fb9f3a\"],[0.8888888888888888,\"#fdca26\"],[1.0,\"#f0f921\"]],\"type\":\"heatmapgl\"}],\"histogram\":[{\"marker\":{\"pattern\":{\"fillmode\":\"overlay\",\"size\":10,\"solidity\":0.2}},\"type\":\"histogram\"}],\"histogram2d\":[{\"colorbar\":{\"outlinewidth\":0,\"ticks\":\"\"},\"colorscale\":[[0.0,\"#0d0887\"],[0.1111111111111111,\"#46039f\"],[0.2222222222222222,\"#7201a8\"],[0.3333333333333333,\"#9c179e\"],[0.4444444444444444,\"#bd3786\"],[0.5555555555555556,\"#d8576b\"],[0.6666666666666666,\"#ed7953\"],[0.7777777777777778,\"#fb9f3a\"],[0.8888888888888888,\"#fdca26\"],[1.0,\"#f0f921\"]],\"type\":\"histogram2d\"}],\"histogram2dcontour\":[{\"colorbar\":{\"outlinewidth\":0,\"ticks\":\"\"},\"colorscale\":[[0.0,\"#0d0887\"],[0.1111111111111111,\"#46039f\"],[0.2222222222222222,\"#7201a8\"],[0.3333333333333333,\"#9c179e\"],[0.4444444444444444,\"#bd3786\"],[0.5555555555555556,\"#d8576b\"],[0.6666666666666666,\"#ed7953\"],[0.7777777777777778,\"#fb9f3a\"],[0.8888888888888888,\"#fdca26\"],[1.0,\"#f0f921\"]],\"type\":\"histogram2dcontour\"}],\"mesh3d\":[{\"colorbar\":{\"outlinewidth\":0,\"ticks\":\"\"},\"type\":\"mesh3d\"}],\"parcoords\":[{\"line\":{\"colorbar\":{\"outlinewidth\":0,\"ticks\":\"\"}},\"type\":\"parcoords\"}],\"pie\":[{\"automargin\":true,\"type\":\"pie\"}],\"scatter\":[{\"marker\":{\"colorbar\":{\"outlinewidth\":0,\"ticks\":\"\"}},\"type\":\"scatter\"}],\"scatter3d\":[{\"line\":{\"colorbar\":{\"outlinewidth\":0,\"ticks\":\"\"}},\"marker\":{\"colorbar\":{\"outlinewidth\":0,\"ticks\":\"\"}},\"type\":\"scatter3d\"}],\"scattercarpet\":[{\"marker\":{\"colorbar\":{\"outlinewidth\":0,\"ticks\":\"\"}},\"type\":\"scattercarpet\"}],\"scattergeo\":[{\"marker\":{\"colorbar\":{\"outlinewidth\":0,\"ticks\":\"\"}},\"type\":\"scattergeo\"}],\"scattergl\":[{\"marker\":{\"colorbar\":{\"outlinewidth\":0,\"ticks\":\"\"}},\"type\":\"scattergl\"}],\"scattermapbox\":[{\"marker\":{\"colorbar\":{\"outlinewidth\":0,\"ticks\":\"\"}},\"type\":\"scattermapbox\"}],\"scatterpolar\":[{\"marker\":{\"colorbar\":{\"outlinewidth\":0,\"ticks\":\"\"}},\"type\":\"scatterpolar\"}],\"scatterpolargl\":[{\"marker\":{\"colorbar\":{\"outlinewidth\":0,\"ticks\":\"\"}},\"type\":\"scatterpolargl\"}],\"scatterternary\":[{\"marker\":{\"colorbar\":{\"outlinewidth\":0,\"ticks\":\"\"}},\"type\":\"scatterternary\"}],\"surface\":[{\"colorbar\":{\"outlinewidth\":0,\"ticks\":\"\"},\"colorscale\":[[0.0,\"#0d0887\"],[0.1111111111111111,\"#46039f\"],[0.2222222222222222,\"#7201a8\"],[0.3333333333333333,\"#9c179e\"],[0.4444444444444444,\"#bd3786\"],[0.5555555555555556,\"#d8576b\"],[0.6666666666666666,\"#ed7953\"],[0.7777777777777778,\"#fb9f3a\"],[0.8888888888888888,\"#fdca26\"],[1.0,\"#f0f921\"]],\"type\":\"surface\"}],\"table\":[{\"cells\":{\"fill\":{\"color\":\"#EBF0F8\"},\"line\":{\"color\":\"white\"}},\"header\":{\"fill\":{\"color\":\"#C8D4E3\"},\"line\":{\"color\":\"white\"}},\"type\":\"table\"}]},\"layout\":{\"annotationdefaults\":{\"arrowcolor\":\"#2a3f5f\",\"arrowhead\":0,\"arrowwidth\":1},\"autotypenumbers\":\"strict\",\"coloraxis\":{\"colorbar\":{\"outlinewidth\":0,\"ticks\":\"\"}},\"colorscale\":{\"diverging\":[[0,\"#8e0152\"],[0.1,\"#c51b7d\"],[0.2,\"#de77ae\"],[0.3,\"#f1b6da\"],[0.4,\"#fde0ef\"],[0.5,\"#f7f7f7\"],[0.6,\"#e6f5d0\"],[0.7,\"#b8e186\"],[0.8,\"#7fbc41\"],[0.9,\"#4d9221\"],[1,\"#276419\"]],\"sequential\":[[0.0,\"#0d0887\"],[0.1111111111111111,\"#46039f\"],[0.2222222222222222,\"#7201a8\"],[0.3333333333333333,\"#9c179e\"],[0.4444444444444444,\"#bd3786\"],[0.5555555555555556,\"#d8576b\"],[0.6666666666666666,\"#ed7953\"],[0.7777777777777778,\"#fb9f3a\"],[0.8888888888888888,\"#fdca26\"],[1.0,\"#f0f921\"]],\"sequentialminus\":[[0.0,\"#0d0887\"],[0.1111111111111111,\"#46039f\"],[0.2222222222222222,\"#7201a8\"],[0.3333333333333333,\"#9c179e\"],[0.4444444444444444,\"#bd3786\"],[0.5555555555555556,\"#d8576b\"],[0.6666666666666666,\"#ed7953\"],[0.7777777777777778,\"#fb9f3a\"],[0.8888888888888888,\"#fdca26\"],[1.0,\"#f0f921\"]]},\"colorway\":[\"#636efa\",\"#EF553B\",\"#00cc96\",\"#ab63fa\",\"#FFA15A\",\"#19d3f3\",\"#FF6692\",\"#B6E880\",\"#FF97FF\",\"#FECB52\"],\"font\":{\"color\":\"#2a3f5f\"},\"geo\":{\"bgcolor\":\"white\",\"lakecolor\":\"white\",\"landcolor\":\"#E5ECF6\",\"showlakes\":true,\"showland\":true,\"subunitcolor\":\"white\"},\"hoverlabel\":{\"align\":\"left\"},\"hovermode\":\"closest\",\"mapbox\":{\"style\":\"light\"},\"paper_bgcolor\":\"white\",\"plot_bgcolor\":\"#E5ECF6\",\"polar\":{\"angularaxis\":{\"gridcolor\":\"white\",\"linecolor\":\"white\",\"ticks\":\"\"},\"bgcolor\":\"#E5ECF6\",\"radialaxis\":{\"gridcolor\":\"white\",\"linecolor\":\"white\",\"ticks\":\"\"}},\"scene\":{\"xaxis\":{\"backgroundcolor\":\"#E5ECF6\",\"gridcolor\":\"white\",\"gridwidth\":2,\"linecolor\":\"white\",\"showbackground\":true,\"ticks\":\"\",\"zerolinecolor\":\"white\"},\"yaxis\":{\"backgroundcolor\":\"#E5ECF6\",\"gridcolor\":\"white\",\"gridwidth\":2,\"linecolor\":\"white\",\"showbackground\":true,\"ticks\":\"\",\"zerolinecolor\":\"white\"},\"zaxis\":{\"backgroundcolor\":\"#E5ECF6\",\"gridcolor\":\"white\",\"gridwidth\":2,\"linecolor\":\"white\",\"showbackground\":true,\"ticks\":\"\",\"zerolinecolor\":\"white\"}},\"shapedefaults\":{\"line\":{\"color\":\"#2a3f5f\"}},\"ternary\":{\"aaxis\":{\"gridcolor\":\"white\",\"linecolor\":\"white\",\"ticks\":\"\"},\"baxis\":{\"gridcolor\":\"white\",\"linecolor\":\"white\",\"ticks\":\"\"},\"bgcolor\":\"#E5ECF6\",\"caxis\":{\"gridcolor\":\"white\",\"linecolor\":\"white\",\"ticks\":\"\"}},\"title\":{\"x\":0.05},\"xaxis\":{\"automargin\":true,\"gridcolor\":\"white\",\"linecolor\":\"white\",\"ticks\":\"\",\"title\":{\"standoff\":15},\"zerolinecolor\":\"white\",\"zerolinewidth\":2},\"yaxis\":{\"automargin\":true,\"gridcolor\":\"white\",\"linecolor\":\"white\",\"ticks\":\"\",\"title\":{\"standoff\":15},\"zerolinecolor\":\"white\",\"zerolinewidth\":2}}},\"width\":1000,\"xaxis\":{\"mirror\":\"allticks\",\"rangemode\":\"tozero\",\"showgrid\":false,\"showline\":true,\"showticklabels\":false,\"tickmode\":\"array\",\"ticks\":\"outside\",\"ticktext\":[\"73\",\"26\",\"101\",\"87\",\"27\",\"68\",\"99\",\"76\",\"83\",\"53\",\"25\",\"43\",\"4\",\"72\",\"28\",\"42\",\"90\",\"118\",\"44\",\"55\",\"13\",\"16\",\"32\",\"56\",\"14\",\"17\",\"18\",\"75\",\"45\",\"15\",\"33\",\"1\",\"5\",\"54\",\"29\",\"6\",\"30\",\"9\",\"11\",\"10\",\"12\",\"31\",\"8\",\"0\",\"7\",\"162\",\"150\",\"166\",\"140\",\"113\",\"133\",\"110\",\"120\",\"129\",\"136\",\"141\",\"138\",\"139\",\"151\",\"103\",\"122\",\"148\",\"98\",\"109\",\"121\",\"160\",\"39\",\"104\",\"63\",\"108\",\"59\",\"51\",\"79\",\"21\",\"111\",\"157\",\"134\",\"144\",\"61\",\"62\",\"60\",\"102\",\"127\",\"65\",\"97\",\"58\",\"77\",\"88\",\"107\",\"105\",\"82\",\"100\",\"106\",\"66\",\"81\",\"96\",\"128\",\"137\",\"115\",\"132\",\"156\",\"114\",\"116\",\"123\",\"126\",\"125\",\"131\",\"46\",\"20\",\"74\",\"94\",\"34\",\"3\",\"47\",\"2\",\"50\",\"36\",\"57\",\"49\",\"19\",\"22\",\"35\",\"48\",\"78\",\"95\",\"85\",\"69\",\"37\",\"38\",\"24\",\"80\",\"64\",\"41\",\"124\",\"67\",\"52\",\"71\",\"89\",\"112\",\"86\",\"92\",\"40\",\"91\",\"23\",\"70\",\"84\",\"93\",\"119\",\"195\",\"196\",\"197\",\"198\",\"184\",\"185\",\"186\",\"188\",\"187\",\"182\",\"183\",\"189\",\"190\",\"191\",\"192\",\"193\",\"194\",\"172\",\"176\",\"181\",\"177\",\"179\",\"175\",\"171\",\"174\",\"178\",\"180\",\"164\",\"170\",\"168\",\"169\",\"158\",\"163\",\"167\",\"165\",\"173\",\"143\",\"147\",\"161\",\"153\",\"152\",\"159\",\"142\",\"155\",\"149\",\"146\",\"154\",\"117\",\"145\",\"130\",\"135\"],\"tickvals\":[5.0,15.0,25.0,35.0,45.0,55.0,65.0,75.0,85.0,95.0,105.0,115.0,125.0,135.0,145.0,155.0,165.0,175.0,185.0,195.0,205.0,215.0,225.0,235.0,245.0,255.0,265.0,275.0,285.0,295.0,305.0,315.0,325.0,335.0,345.0,355.0,365.0,375.0,385.0,395.0,405.0,415.0,425.0,435.0,445.0,455.0,465.0,475.0,485.0,495.0,505.0,515.0,525.0,535.0,545.0,555.0,565.0,575.0,585.0,595.0,605.0,615.0,625.0,635.0,645.0,655.0,665.0,675.0,685.0,695.0,705.0,715.0,725.0,735.0,745.0,755.0,765.0,775.0,785.0,795.0,805.0,815.0,825.0,835.0,845.0,855.0,865.0,875.0,885.0,895.0,905.0,915.0,925.0,935.0,945.0,955.0,965.0,975.0,985.0,995.0,1005.0,1015.0,1025.0,1035.0,1045.0,1055.0,1065.0,1075.0,1085.0,1095.0,1105.0,1115.0,1125.0,1135.0,1145.0,1155.0,1165.0,1175.0,1185.0,1195.0,1205.0,1215.0,1225.0,1235.0,1245.0,1255.0,1265.0,1275.0,1285.0,1295.0,1305.0,1315.0,1325.0,1335.0,1345.0,1355.0,1365.0,1375.0,1385.0,1395.0,1405.0,1415.0,1425.0,1435.0,1445.0,1455.0,1465.0,1475.0,1485.0,1495.0,1505.0,1515.0,1525.0,1535.0,1545.0,1555.0,1565.0,1575.0,1585.0,1595.0,1605.0,1615.0,1625.0,1635.0,1645.0,1655.0,1665.0,1675.0,1685.0,1695.0,1705.0,1715.0,1725.0,1735.0,1745.0,1755.0,1765.0,1775.0,1785.0,1795.0,1805.0,1815.0,1825.0,1835.0,1845.0,1855.0,1865.0,1875.0,1885.0,1895.0,1905.0,1915.0,1925.0,1935.0,1945.0,1955.0,1965.0,1975.0,1985.0],\"title\":{\"text\":\"Sample index\"},\"type\":\"linear\",\"zeroline\":false},\"yaxis\":{\"mirror\":\"allticks\",\"rangemode\":\"tozero\",\"showgrid\":false,\"showline\":true,\"showticklabels\":true,\"ticks\":\"outside\",\"title\":{\"text\":\"Distance entre les clusters\"},\"type\":\"linear\",\"zeroline\":false}},                        {\"responsive\": true}                    ).then(function(){\n",
       "                            \n",
       "var gd = document.getElementById('8a5855a4-6075-4c38-9610-8e635b1d2eaf');\n",
       "var x = new MutationObserver(function (mutations, observer) {{\n",
       "        var display = window.getComputedStyle(gd).display;\n",
       "        if (!display || display === 'none') {{\n",
       "            console.log([gd, 'removed!']);\n",
       "            Plotly.purge(gd);\n",
       "            observer.disconnect();\n",
       "        }}\n",
       "}});\n",
       "\n",
       "// Listen for the removal of the full notebook cells\n",
       "var notebookContainer = gd.closest('#notebook-container');\n",
       "if (notebookContainer) {{\n",
       "    x.observe(notebookContainer, {childList: true});\n",
       "}}\n",
       "\n",
       "// Listen for the clearing of the current output cell\n",
       "var outputEl = gd.closest('.output');\n",
       "if (outputEl) {{\n",
       "    x.observe(outputEl, {childList: true});\n",
       "}}\n",
       "\n",
       "                        })                };                });            </script>        </div>"
      ]
     },
     "metadata": {},
     "output_type": "display_data"
    }
   ],
   "source": [
    "# Affichage\n",
    "fig.update_layout(width = 1000, height = 500, yaxis_title = 'Distance entre les clusters', xaxis_title = 'Sample index')\n",
    "fig.update_xaxes(showticklabels=False)\n",
    "\n",
    "# Ligne pointillée\n",
    "fig.add_shape(\n",
    "        type='line',\n",
    "        x0=0,\n",
    "        y0=260,\n",
    "        x1=1985,\n",
    "        y1=260,\n",
    "        line=dict(\n",
    "            color='Black',\n",
    "            dash='dash'\n",
    "        )\n",
    ")\n",
    "fig.show()"
   ]
  },
  {
   "cell_type": "markdown",
   "id": "466b3ec0",
   "metadata": {},
   "source": [
    "💡 L'axe vertical (distance entre les clusters) représente la distance euclidienne. En partant du bas, les feuilles fusionnent en branches et cela correspond aux échantillons/clusters qui sont similaires les uns aux autres. La distance verticale représente la similarité des clusters. Par exemple, plus les distances verticales sont grandes avant la fusion, plus les clusters sont dissemblables. \n",
    "\n",
    "💡 La ligne pointillée montre où nous choisissons de couper le dendrogramme pour obtenir un nombre désiré de clusters. Le nombre de lignes verticales avant de se diviser sous les lignes pointillées nous indique le nombre de clusters que nous aurons si nous coupons à la distance verticale (distance entre les clusters). Dans ce dendrogramme, nous pouvons voir qu'il y a cinq clusters lorsque nous coupons à la distance des clusters = 260, et qu'il y a 5 lignes verticales sous les lignes pointillées avant de se diviser.\n",
    "\n",
    "💡 Ainsi, à l'aide de ce dendrogramme, nous pouvons examiner chaque clusters individuelle et la façon dont il fusionne pour former un cluster plus grande de bas en haut. Cela nous fournit beaucoup d'informations puisque nous pouvons inspecter chaque échantillon individuel et examiner dans quelle mesure il est similaire (ou non) aux échantillons avec lesquels il fusionne. "
   ]
  },
  {
   "cell_type": "markdown",
   "id": "hindu-brook",
   "metadata": {},
   "source": [
    "# Conclusions"
   ]
  },
  {
   "cell_type": "markdown",
   "id": "15167437",
   "metadata": {},
   "source": [
    "🔎 Projet centre commercial : Le client de ce projet est le propriétaire d'un centre commpercial et il souhaite savoir les typologies de clients qui achètent."
   ]
  },
  {
   "cell_type": "code",
   "execution_count": null,
   "id": "5bdd51f4",
   "metadata": {},
   "outputs": [],
   "source": []
  }
 ],
 "metadata": {
  "kernelspec": {
   "display_name": "Python 3",
   "language": "python",
   "name": "python3"
  },
  "language_info": {
   "codemirror_mode": {
    "name": "ipython",
    "version": 3
   },
   "file_extension": ".py",
   "mimetype": "text/x-python",
   "name": "python",
   "nbconvert_exporter": "python",
   "pygments_lexer": "ipython3",
   "version": "3.8.8"
  },
  "toc": {
   "base_numbering": 1,
   "nav_menu": {},
   "number_sections": true,
   "sideBar": true,
   "skip_h1_title": false,
   "title_cell": "Table of Contents",
   "title_sidebar": "Contents",
   "toc_cell": false,
   "toc_position": {},
   "toc_section_display": true,
   "toc_window_display": false
  },
  "varInspector": {
   "cols": {
    "lenName": 16,
    "lenType": 16,
    "lenVar": 40
   },
   "kernels_config": {
    "python": {
     "delete_cmd_postfix": "",
     "delete_cmd_prefix": "del ",
     "library": "var_list.py",
     "varRefreshCmd": "print(var_dic_list())"
    },
    "r": {
     "delete_cmd_postfix": ") ",
     "delete_cmd_prefix": "rm(",
     "library": "var_list.r",
     "varRefreshCmd": "cat(var_dic_list()) "
    }
   },
   "types_to_exclude": [
    "module",
    "function",
    "builtin_function_or_method",
    "instance",
    "_Feature"
   ],
   "window_display": false
  }
 },
 "nbformat": 4,
 "nbformat_minor": 5
}
