{
 "cells": [
  {
   "cell_type": "markdown",
   "id": "serial-reminder",
   "metadata": {},
   "source": [
    "# Understanding Mall customers"
   ]
  },
  {
   "cell_type": "markdown",
   "id": "perfect-baseball",
   "metadata": {},
   "source": [
    "In this exercise, you work for a consulting firm as data scientist. In this scenario, your client is the owner of a Mall and he wants to understand the customers who can easily buy.  \n",
    "\n",
    "You dispose of a dataset from the mall dataset with 5 features :\n",
    "- CustomerID of the customer\n",
    "- Gender of the customer\n",
    "- Age of the customer\n",
    "- Annual Income of the customer in k$\n",
    "- Spending Score assigned by the mall based on customer behavior and spending nature (1-99)\n"
   ]
  },
  {
   "cell_type": "markdown",
   "id": "administrative-floor",
   "metadata": {},
   "source": [
    "You have one day to perform this analysis"
   ]
  },
  {
   "cell_type": "code",
   "execution_count": 1,
   "id": "biological-torture",
   "metadata": {},
   "outputs": [],
   "source": [
    "import pandas as pd\n",
    "import numpy as np"
   ]
  },
  {
   "cell_type": "code",
   "execution_count": 2,
   "id": "interior-orbit",
   "metadata": {
    "scrolled": true
   },
   "outputs": [
    {
     "ename": "FileNotFoundError",
     "evalue": "[Errno 2] No such file or directory: 'C:/Users/mattb/Simplon/Rendu/Segmentation_client/mail_customer.txt'",
     "output_type": "error",
     "traceback": [
      "\u001b[1;31m---------------------------------------------------------------------------\u001b[0m",
      "\u001b[1;31mFileNotFoundError\u001b[0m                         Traceback (most recent call last)",
      "\u001b[1;32m<ipython-input-2-4247e2d17eda>\u001b[0m in \u001b[0;36m<module>\u001b[1;34m\u001b[0m\n\u001b[1;32m----> 1\u001b[1;33m \u001b[0mmall_df\u001b[0m \u001b[1;33m=\u001b[0m \u001b[0mpd\u001b[0m\u001b[1;33m.\u001b[0m\u001b[0mread_csv\u001b[0m\u001b[1;33m(\u001b[0m\u001b[1;34m'C:/Users/mattb/Simplon/Rendu/Segmentation_client/mail_customer.txt'\u001b[0m\u001b[1;33m)\u001b[0m\u001b[1;33m\u001b[0m\u001b[1;33m\u001b[0m\u001b[0m\n\u001b[0m\u001b[0;32m      2\u001b[0m \u001b[0mmall_df\u001b[0m\u001b[1;33m\u001b[0m\u001b[1;33m\u001b[0m\u001b[0m\n",
      "\u001b[1;32m~\\anaconda3\\lib\\site-packages\\pandas\\io\\parsers.py\u001b[0m in \u001b[0;36mread_csv\u001b[1;34m(filepath_or_buffer, sep, delimiter, header, names, index_col, usecols, squeeze, prefix, mangle_dupe_cols, dtype, engine, converters, true_values, false_values, skipinitialspace, skiprows, skipfooter, nrows, na_values, keep_default_na, na_filter, verbose, skip_blank_lines, parse_dates, infer_datetime_format, keep_date_col, date_parser, dayfirst, cache_dates, iterator, chunksize, compression, thousands, decimal, lineterminator, quotechar, quoting, doublequote, escapechar, comment, encoding, dialect, error_bad_lines, warn_bad_lines, delim_whitespace, low_memory, memory_map, float_precision, storage_options)\u001b[0m\n\u001b[0;32m    608\u001b[0m     \u001b[0mkwds\u001b[0m\u001b[1;33m.\u001b[0m\u001b[0mupdate\u001b[0m\u001b[1;33m(\u001b[0m\u001b[0mkwds_defaults\u001b[0m\u001b[1;33m)\u001b[0m\u001b[1;33m\u001b[0m\u001b[1;33m\u001b[0m\u001b[0m\n\u001b[0;32m    609\u001b[0m \u001b[1;33m\u001b[0m\u001b[0m\n\u001b[1;32m--> 610\u001b[1;33m     \u001b[1;32mreturn\u001b[0m \u001b[0m_read\u001b[0m\u001b[1;33m(\u001b[0m\u001b[0mfilepath_or_buffer\u001b[0m\u001b[1;33m,\u001b[0m \u001b[0mkwds\u001b[0m\u001b[1;33m)\u001b[0m\u001b[1;33m\u001b[0m\u001b[1;33m\u001b[0m\u001b[0m\n\u001b[0m\u001b[0;32m    611\u001b[0m \u001b[1;33m\u001b[0m\u001b[0m\n\u001b[0;32m    612\u001b[0m \u001b[1;33m\u001b[0m\u001b[0m\n",
      "\u001b[1;32m~\\anaconda3\\lib\\site-packages\\pandas\\io\\parsers.py\u001b[0m in \u001b[0;36m_read\u001b[1;34m(filepath_or_buffer, kwds)\u001b[0m\n\u001b[0;32m    460\u001b[0m \u001b[1;33m\u001b[0m\u001b[0m\n\u001b[0;32m    461\u001b[0m     \u001b[1;31m# Create the parser.\u001b[0m\u001b[1;33m\u001b[0m\u001b[1;33m\u001b[0m\u001b[1;33m\u001b[0m\u001b[0m\n\u001b[1;32m--> 462\u001b[1;33m     \u001b[0mparser\u001b[0m \u001b[1;33m=\u001b[0m \u001b[0mTextFileReader\u001b[0m\u001b[1;33m(\u001b[0m\u001b[0mfilepath_or_buffer\u001b[0m\u001b[1;33m,\u001b[0m \u001b[1;33m**\u001b[0m\u001b[0mkwds\u001b[0m\u001b[1;33m)\u001b[0m\u001b[1;33m\u001b[0m\u001b[1;33m\u001b[0m\u001b[0m\n\u001b[0m\u001b[0;32m    463\u001b[0m \u001b[1;33m\u001b[0m\u001b[0m\n\u001b[0;32m    464\u001b[0m     \u001b[1;32mif\u001b[0m \u001b[0mchunksize\u001b[0m \u001b[1;32mor\u001b[0m \u001b[0miterator\u001b[0m\u001b[1;33m:\u001b[0m\u001b[1;33m\u001b[0m\u001b[1;33m\u001b[0m\u001b[0m\n",
      "\u001b[1;32m~\\anaconda3\\lib\\site-packages\\pandas\\io\\parsers.py\u001b[0m in \u001b[0;36m__init__\u001b[1;34m(self, f, engine, **kwds)\u001b[0m\n\u001b[0;32m    817\u001b[0m             \u001b[0mself\u001b[0m\u001b[1;33m.\u001b[0m\u001b[0moptions\u001b[0m\u001b[1;33m[\u001b[0m\u001b[1;34m\"has_index_names\"\u001b[0m\u001b[1;33m]\u001b[0m \u001b[1;33m=\u001b[0m \u001b[0mkwds\u001b[0m\u001b[1;33m[\u001b[0m\u001b[1;34m\"has_index_names\"\u001b[0m\u001b[1;33m]\u001b[0m\u001b[1;33m\u001b[0m\u001b[1;33m\u001b[0m\u001b[0m\n\u001b[0;32m    818\u001b[0m \u001b[1;33m\u001b[0m\u001b[0m\n\u001b[1;32m--> 819\u001b[1;33m         \u001b[0mself\u001b[0m\u001b[1;33m.\u001b[0m\u001b[0m_engine\u001b[0m \u001b[1;33m=\u001b[0m \u001b[0mself\u001b[0m\u001b[1;33m.\u001b[0m\u001b[0m_make_engine\u001b[0m\u001b[1;33m(\u001b[0m\u001b[0mself\u001b[0m\u001b[1;33m.\u001b[0m\u001b[0mengine\u001b[0m\u001b[1;33m)\u001b[0m\u001b[1;33m\u001b[0m\u001b[1;33m\u001b[0m\u001b[0m\n\u001b[0m\u001b[0;32m    820\u001b[0m \u001b[1;33m\u001b[0m\u001b[0m\n\u001b[0;32m    821\u001b[0m     \u001b[1;32mdef\u001b[0m \u001b[0mclose\u001b[0m\u001b[1;33m(\u001b[0m\u001b[0mself\u001b[0m\u001b[1;33m)\u001b[0m\u001b[1;33m:\u001b[0m\u001b[1;33m\u001b[0m\u001b[1;33m\u001b[0m\u001b[0m\n",
      "\u001b[1;32m~\\anaconda3\\lib\\site-packages\\pandas\\io\\parsers.py\u001b[0m in \u001b[0;36m_make_engine\u001b[1;34m(self, engine)\u001b[0m\n\u001b[0;32m   1048\u001b[0m             )\n\u001b[0;32m   1049\u001b[0m         \u001b[1;31m# error: Too many arguments for \"ParserBase\"\u001b[0m\u001b[1;33m\u001b[0m\u001b[1;33m\u001b[0m\u001b[1;33m\u001b[0m\u001b[0m\n\u001b[1;32m-> 1050\u001b[1;33m         \u001b[1;32mreturn\u001b[0m \u001b[0mmapping\u001b[0m\u001b[1;33m[\u001b[0m\u001b[0mengine\u001b[0m\u001b[1;33m]\u001b[0m\u001b[1;33m(\u001b[0m\u001b[0mself\u001b[0m\u001b[1;33m.\u001b[0m\u001b[0mf\u001b[0m\u001b[1;33m,\u001b[0m \u001b[1;33m**\u001b[0m\u001b[0mself\u001b[0m\u001b[1;33m.\u001b[0m\u001b[0moptions\u001b[0m\u001b[1;33m)\u001b[0m  \u001b[1;31m# type: ignore[call-arg]\u001b[0m\u001b[1;33m\u001b[0m\u001b[1;33m\u001b[0m\u001b[0m\n\u001b[0m\u001b[0;32m   1051\u001b[0m \u001b[1;33m\u001b[0m\u001b[0m\n\u001b[0;32m   1052\u001b[0m     \u001b[1;32mdef\u001b[0m \u001b[0m_failover_to_python\u001b[0m\u001b[1;33m(\u001b[0m\u001b[0mself\u001b[0m\u001b[1;33m)\u001b[0m\u001b[1;33m:\u001b[0m\u001b[1;33m\u001b[0m\u001b[1;33m\u001b[0m\u001b[0m\n",
      "\u001b[1;32m~\\anaconda3\\lib\\site-packages\\pandas\\io\\parsers.py\u001b[0m in \u001b[0;36m__init__\u001b[1;34m(self, src, **kwds)\u001b[0m\n\u001b[0;32m   1865\u001b[0m \u001b[1;33m\u001b[0m\u001b[0m\n\u001b[0;32m   1866\u001b[0m         \u001b[1;31m# open handles\u001b[0m\u001b[1;33m\u001b[0m\u001b[1;33m\u001b[0m\u001b[1;33m\u001b[0m\u001b[0m\n\u001b[1;32m-> 1867\u001b[1;33m         \u001b[0mself\u001b[0m\u001b[1;33m.\u001b[0m\u001b[0m_open_handles\u001b[0m\u001b[1;33m(\u001b[0m\u001b[0msrc\u001b[0m\u001b[1;33m,\u001b[0m \u001b[0mkwds\u001b[0m\u001b[1;33m)\u001b[0m\u001b[1;33m\u001b[0m\u001b[1;33m\u001b[0m\u001b[0m\n\u001b[0m\u001b[0;32m   1868\u001b[0m         \u001b[1;32massert\u001b[0m \u001b[0mself\u001b[0m\u001b[1;33m.\u001b[0m\u001b[0mhandles\u001b[0m \u001b[1;32mis\u001b[0m \u001b[1;32mnot\u001b[0m \u001b[1;32mNone\u001b[0m\u001b[1;33m\u001b[0m\u001b[1;33m\u001b[0m\u001b[0m\n\u001b[0;32m   1869\u001b[0m         \u001b[1;32mfor\u001b[0m \u001b[0mkey\u001b[0m \u001b[1;32min\u001b[0m \u001b[1;33m(\u001b[0m\u001b[1;34m\"storage_options\"\u001b[0m\u001b[1;33m,\u001b[0m \u001b[1;34m\"encoding\"\u001b[0m\u001b[1;33m,\u001b[0m \u001b[1;34m\"memory_map\"\u001b[0m\u001b[1;33m,\u001b[0m \u001b[1;34m\"compression\"\u001b[0m\u001b[1;33m)\u001b[0m\u001b[1;33m:\u001b[0m\u001b[1;33m\u001b[0m\u001b[1;33m\u001b[0m\u001b[0m\n",
      "\u001b[1;32m~\\anaconda3\\lib\\site-packages\\pandas\\io\\parsers.py\u001b[0m in \u001b[0;36m_open_handles\u001b[1;34m(self, src, kwds)\u001b[0m\n\u001b[0;32m   1360\u001b[0m         \u001b[0mLet\u001b[0m \u001b[0mthe\u001b[0m \u001b[0mreaders\u001b[0m \u001b[0mopen\u001b[0m \u001b[0mIOHanldes\u001b[0m \u001b[0mafter\u001b[0m \u001b[0mthey\u001b[0m \u001b[0mare\u001b[0m \u001b[0mdone\u001b[0m \u001b[1;32mwith\u001b[0m \u001b[0mtheir\u001b[0m \u001b[0mpotential\u001b[0m \u001b[0mraises\u001b[0m\u001b[1;33m.\u001b[0m\u001b[1;33m\u001b[0m\u001b[1;33m\u001b[0m\u001b[0m\n\u001b[0;32m   1361\u001b[0m         \"\"\"\n\u001b[1;32m-> 1362\u001b[1;33m         self.handles = get_handle(\n\u001b[0m\u001b[0;32m   1363\u001b[0m             \u001b[0msrc\u001b[0m\u001b[1;33m,\u001b[0m\u001b[1;33m\u001b[0m\u001b[1;33m\u001b[0m\u001b[0m\n\u001b[0;32m   1364\u001b[0m             \u001b[1;34m\"r\"\u001b[0m\u001b[1;33m,\u001b[0m\u001b[1;33m\u001b[0m\u001b[1;33m\u001b[0m\u001b[0m\n",
      "\u001b[1;32m~\\anaconda3\\lib\\site-packages\\pandas\\io\\common.py\u001b[0m in \u001b[0;36mget_handle\u001b[1;34m(path_or_buf, mode, encoding, compression, memory_map, is_text, errors, storage_options)\u001b[0m\n\u001b[0;32m    640\u001b[0m                 \u001b[0merrors\u001b[0m \u001b[1;33m=\u001b[0m \u001b[1;34m\"replace\"\u001b[0m\u001b[1;33m\u001b[0m\u001b[1;33m\u001b[0m\u001b[0m\n\u001b[0;32m    641\u001b[0m             \u001b[1;31m# Encoding\u001b[0m\u001b[1;33m\u001b[0m\u001b[1;33m\u001b[0m\u001b[1;33m\u001b[0m\u001b[0m\n\u001b[1;32m--> 642\u001b[1;33m             handle = open(\n\u001b[0m\u001b[0;32m    643\u001b[0m                 \u001b[0mhandle\u001b[0m\u001b[1;33m,\u001b[0m\u001b[1;33m\u001b[0m\u001b[1;33m\u001b[0m\u001b[0m\n\u001b[0;32m    644\u001b[0m                 \u001b[0mioargs\u001b[0m\u001b[1;33m.\u001b[0m\u001b[0mmode\u001b[0m\u001b[1;33m,\u001b[0m\u001b[1;33m\u001b[0m\u001b[1;33m\u001b[0m\u001b[0m\n",
      "\u001b[1;31mFileNotFoundError\u001b[0m: [Errno 2] No such file or directory: 'C:/Users/mattb/Simplon/Rendu/Segmentation_client/mail_customer.txt'"
     ]
    }
   ],
   "source": [
    "mall_df = pd.read_csv('../data/mail_customer.txt')\n",
    "mall_df"
   ]
  },
  {
   "cell_type": "markdown",
   "id": "social-necessity",
   "metadata": {},
   "source": [
    "# Customer Segmentation using different clustering methods"
   ]
  },
  {
   "cell_type": "markdown",
   "id": "wrong-chrome",
   "metadata": {},
   "source": [
    "Try to perform different Clustering methods (e.g. k-means, agglomerative, DBSCAN, Gaussian) to create clusters and understand behaviors\n",
    "\n",
    "https://machinelearningmastery.com/clustering-algorithms-with-python/\n",
    "\n",
    "https://towardsdatascience.com/the-5-clustering-algorithms-data-scientists-need-to-know-a36d136ef68"
   ]
  },
  {
   "cell_type": "markdown",
   "id": "bdde22ed",
   "metadata": {},
   "source": [
    "### 🔎 Exploration du Dataset"
   ]
  },
  {
   "cell_type": "code",
   "execution_count": null,
   "id": "d775ddb7",
   "metadata": {},
   "outputs": [],
   "source": [
    "# Data shape\n",
    "mall_df.shape"
   ]
  },
  {
   "cell_type": "code",
   "execution_count": null,
   "id": "fd226650",
   "metadata": {},
   "outputs": [],
   "source": [
    "# Information sur le Dataset\n",
    "mall_df.info()"
   ]
  },
  {
   "cell_type": "code",
   "execution_count": null,
   "id": "e836935a",
   "metadata": {},
   "outputs": [],
   "source": [
    "# Description des statistiques\n",
    "mall_df.describe()"
   ]
  },
  {
   "cell_type": "code",
   "execution_count": null,
   "id": "7c5efa2f",
   "metadata": {},
   "outputs": [],
   "source": [
    "# Type\n",
    "mall_dtype = mall_df.dtypes\n",
    "mall_dtype.value_counts()"
   ]
  },
  {
   "cell_type": "code",
   "execution_count": null,
   "id": "20ce1a88",
   "metadata": {},
   "outputs": [],
   "source": [
    "# Missing value\n",
    "mall_df.isna().sum()"
   ]
  },
  {
   "cell_type": "markdown",
   "id": "64534afd",
   "metadata": {},
   "source": [
    "### 🔎 Visualisations"
   ]
  },
  {
   "cell_type": "code",
   "execution_count": null,
   "id": "32925cb9",
   "metadata": {},
   "outputs": [],
   "source": [
    "# Outliers\n",
    "mall_df.plot(kind='box', subplots=True, layout=(2, 2), figsize = (9, 6), color='royalblue')\n",
    "plt.show()"
   ]
  },
  {
   "cell_type": "code",
   "execution_count": null,
   "id": "d9db5b83",
   "metadata": {},
   "outputs": [],
   "source": [
    "# Barplots\n",
    "plt.figure(figsize = (7,5))\n",
    "sns.countplot(x = \"Gender\", data = mall_df, palette=\"Blues\")"
   ]
  },
  {
   "cell_type": "code",
   "execution_count": null,
   "id": "5d7c061b",
   "metadata": {},
   "outputs": [],
   "source": [
    "# Correlation\n",
    "corr = mall_df.corr()\n",
    "plt.figure(figsize=(7,7))\n",
    "sns.heatmap(corr,cbar=True, square=True, annot=True, cmap='Blues')"
   ]
  },
  {
   "cell_type": "code",
   "execution_count": null,
   "id": "40917c67",
   "metadata": {},
   "outputs": [],
   "source": [
    "# Histogramme\n",
    "plt.figure(figsize=(15,6))\n",
    "sns.countplot(x = \"Age\", data = mall_df, palette=\"Blues\")"
   ]
  },
  {
   "cell_type": "markdown",
   "id": "c8ea2d12",
   "metadata": {},
   "source": [
    "### 🔎 DBSCAN clustering"
   ]
  },
  {
   "cell_type": "code",
   "execution_count": null,
   "id": "7b3cda3b",
   "metadata": {},
   "outputs": [],
   "source": [
    "# Libraries\n",
    "from numpy import unique\n",
    "import seaborn as sns\n",
    "from sklearn.cluster import DBSCAN\n",
    "from sklearn.preprocessing import StandardScaler\n",
    "from matplotlib import pyplot\n",
    "import matplotlib.pyplot as plt\n",
    "from sklearn.metrics import silhouette_score\n",
    "from sklearn import metrics"
   ]
  },
  {
   "cell_type": "code",
   "execution_count": null,
   "id": "09f01352",
   "metadata": {},
   "outputs": [],
   "source": [
    "# Create copy of initial dataframe\n",
    "df_dbscan = mall_df.copy()"
   ]
  },
  {
   "cell_type": "code",
   "execution_count": null,
   "id": "f2ad1ad8",
   "metadata": {},
   "outputs": [],
   "source": [
    "# Need to change Gender column, because it's a categorical column\n",
    "df_dbscan['Gender'] = df_dbscan['Gender'].replace({'Female':1, 'Male':0})\n",
    "\n",
    "# df_dbscan"
   ]
  },
  {
   "cell_type": "code",
   "execution_count": null,
   "id": "c095052c",
   "metadata": {},
   "outputs": [],
   "source": [
    "# Scaling data before clustering\n",
    "scaler = StandardScaler()\n",
    "df_dbscan_scale = scaler.fit_transform(df_dbscan[['Age','Annual Income (k$)','Spending Score (1-100)']])\n",
    "df_dbscan[['Age','Annual Income (k$)','Spending Score (1-100)']] = df_dbscan_scale\n",
    "df_dbscan"
   ]
  },
  {
   "cell_type": "code",
   "execution_count": null,
   "id": "4fca189a",
   "metadata": {},
   "outputs": [],
   "source": [
    "# DBSCAN CLUSTERING : using Spending score and Annual income features\n",
    "X = df_dbscan.iloc[:, [3, 4]].values\n",
    "X\n",
    "\n",
    "# Instance of DBSCAN\n",
    "dbscan=DBSCAN(eps=0.37,min_samples=4)\n",
    "\n",
    "# Fitting the model\n",
    "model=dbscan.fit(X)\n",
    "\n",
    "# Storing clusters\n",
    "labels=model.labels_\n",
    "\n",
    "# Creating new column in our dataframe\n",
    "df_dbscan['cluster'] = labels"
   ]
  },
  {
   "cell_type": "code",
   "execution_count": null,
   "id": "caa2c7a1",
   "metadata": {},
   "outputs": [],
   "source": [
    "# Plotting our clusters\n",
    "plt.scatter(data=df_dbscan[df_dbscan['cluster']>=0], x='Spending Score (1-100)', y='Annual Income (k$)', c='cluster', cmap=\"plasma\")"
   ]
  },
  {
   "cell_type": "code",
   "execution_count": null,
   "id": "9a0d3e51",
   "metadata": {},
   "outputs": [],
   "source": [
    "#identifying the points which makes up our core points\n",
    "sample_cores=np.zeros_like(labels,dtype=bool)\n",
    "\n",
    "sample_cores[dbscan.core_sample_indices_]=True\n",
    "\n",
    "#Calculating the number of clusters\n",
    "n_clusters=len(set(labels))- (1 if -1 in labels else 0)\n",
    "\n",
    "# Printing silouhette score\n",
    "print(metrics.silhouette_score(X,labels))"
   ]
  },
  {
   "cell_type": "code",
   "execution_count": null,
   "id": "5d7b2a9f",
   "metadata": {},
   "outputs": [],
   "source": [
    "#Plotting distribution of our clusters (Age feature)\n",
    "sns.boxplot(x='cluster', y='Age', data=df_dbscan)"
   ]
  },
  {
   "cell_type": "code",
   "execution_count": null,
   "id": "f49d17cd",
   "metadata": {},
   "outputs": [],
   "source": [
    "#Plotting distribution of our clusters (Annual income feature)\n",
    "sns.boxplot(x='cluster', y='Annual Income (k$)', data=df_dbscan)"
   ]
  },
  {
   "cell_type": "code",
   "execution_count": null,
   "id": "ea9b948f",
   "metadata": {},
   "outputs": [],
   "source": [
    "#Plotting distribution of our clusters (Spending score feature)\n",
    "sns.boxplot(x='cluster', y='Spending Score (1-100)', data=df_dbscan)"
   ]
  },
  {
   "cell_type": "code",
   "execution_count": null,
   "id": "3d76dcf1",
   "metadata": {},
   "outputs": [],
   "source": [
    "#Pairplot for distribution visualisation\n",
    "sns.pairplot(df_dbscan, hue='cluster')"
   ]
  },
  {
   "cell_type": "markdown",
   "id": "926e1e72",
   "metadata": {},
   "source": [
    "### 🔎 K-mean clustering"
   ]
  },
  {
   "cell_type": "code",
   "execution_count": null,
   "id": "946e01d6",
   "metadata": {},
   "outputs": [],
   "source": [
    "df_km = mall_df.copy()"
   ]
  },
  {
   "cell_type": "code",
   "execution_count": null,
   "id": "2f90866d",
   "metadata": {},
   "outputs": [],
   "source": [
    "df_km = df_km.drop(['CustomerID','Gender'],axis=1)"
   ]
  },
  {
   "cell_type": "code",
   "execution_count": null,
   "id": "7c8bf395",
   "metadata": {},
   "outputs": [],
   "source": [
    "n_clusters = [2,3,4,5,6,7,8,9,10]\n",
    "clusters_inertia = [] # inertia of clusters\n",
    "s_scores = [] # silhouette scores\n",
    "\n",
    "for n in n_clusters:\n",
    "    KM_est = KMeans(n_clusters=n, init='k-means++').fit(df_km)\n",
    "    clusters_inertia.append(KM_est.inertia_)    # data for the elbow method\n",
    "    silhouette_avg = silhouette_score(df_km, KM_est.labels_)\n",
    "    s_scores.append(silhouette_avg)"
   ]
  },
  {
   "cell_type": "code",
   "execution_count": null,
   "id": "8e7f7c1b",
   "metadata": {},
   "outputs": [],
   "source": [
    "model = KMeans(random_state=4)\n",
    "visualizer = KElbowVisualizer(model, k =(2,10))\n",
    "visualizer.fit(df_km)\n",
    "visualizer.show()"
   ]
  },
  {
   "cell_type": "code",
   "execution_count": null,
   "id": "2f0f09a8",
   "metadata": {},
   "outputs": [],
   "source": [
    "km = KMeans(n_clusters=5)\n",
    "km_pred = km.fit_predict(df_km)"
   ]
  },
  {
   "cell_type": "code",
   "execution_count": null,
   "id": "83329398",
   "metadata": {},
   "outputs": [],
   "source": [
    "df_km['cluster'] = km_pred\n",
    "df_km['cluster'].value_counts()\n",
    "df_km"
   ]
  },
  {
   "cell_type": "code",
   "execution_count": null,
   "id": "a04ef686",
   "metadata": {},
   "outputs": [],
   "source": [
    "score = silhouette_score(df_km, km.labels_, metric='euclidean')\n",
    "print('Silhouetter Score: %.3f' % score)"
   ]
  },
  {
   "cell_type": "code",
   "execution_count": null,
   "id": "0db58194",
   "metadata": {},
   "outputs": [],
   "source": [
    "sns.pairplot(df_km, hue = 'cluster')"
   ]
  },
  {
   "cell_type": "markdown",
   "id": "ba00c86b",
   "metadata": {},
   "source": [
    "### 🔎 Agglomerative clustering"
   ]
  },
  {
   "cell_type": "code",
   "execution_count": null,
   "id": "51b070e2",
   "metadata": {},
   "outputs": [],
   "source": [
    "# Copie du Dataset\n",
    "df_agg = mall_df.copy()"
   ]
  },
  {
   "cell_type": "code",
   "execution_count": null,
   "id": "826e0a4a",
   "metadata": {},
   "outputs": [],
   "source": [
    "from sklearn.cluster import AgglomerativeClustering "
   ]
  },
  {
   "cell_type": "code",
   "execution_count": null,
   "id": "a9097c83",
   "metadata": {},
   "outputs": [],
   "source": [
    "# Agglomerative clustering\n",
    "mglearn.plots.plot_agglomerative_algorithm()"
   ]
  },
  {
   "cell_type": "markdown",
   "id": "951e24f0",
   "metadata": {},
   "source": [
    "💡 Tout d'abord, tous les points sont initialisés en tant que clusters individuels. Ensuite, à chaque étape, les deux clusters les plus proches sont fusionnés.\n",
    "\n",
    "Dans les quatre premières étapes, 4 ensembles de clusters de deux points sont formés. Dans les étapes 5 à 7, trois clusters de 3 points sont formés et finalement dans l'étape 9, 3 clusters principaux sont formés de points différents."
   ]
  },
  {
   "cell_type": "code",
   "execution_count": null,
   "id": "e78abec6",
   "metadata": {},
   "outputs": [],
   "source": [
    "X = df_agg[['Annual Income (k$)','Spending Score (1-100)']].values\n",
    "Y = df_agg[['Age','Spending Score (1-100)']].values"
   ]
  },
  {
   "cell_type": "code",
   "execution_count": null,
   "id": "01690ef0",
   "metadata": {},
   "outputs": [],
   "source": [
    "# Agglomerative clustering avec 5 clusters\n",
    "agglo = AgglomerativeClustering(n_clusters = 5, affinity = 'euclidean', linkage = 'ward')\n",
    "y_ch = agglo.fit_predict(X)"
   ]
  },
  {
   "cell_type": "code",
   "execution_count": null,
   "id": "706e4c3f",
   "metadata": {},
   "outputs": [],
   "source": [
    "df_agg = pd.get_dummies(mall_df,columns=['Gender'], prefix = ['sex'])"
   ]
  },
  {
   "cell_type": "code",
   "execution_count": null,
   "id": "cc245983",
   "metadata": {},
   "outputs": [],
   "source": [
    "# Drop colonne\n",
    "df = df_agg.drop('CustomerID',axis=1)"
   ]
  },
  {
   "cell_type": "code",
   "execution_count": null,
   "id": "67352c18",
   "metadata": {},
   "outputs": [],
   "source": [
    "agg_pred = agglo.fit_predict(df)"
   ]
  },
  {
   "cell_type": "code",
   "execution_count": null,
   "id": "76115a96",
   "metadata": {},
   "outputs": [],
   "source": [
    "# Nouvelle feature \"cluster\"\n",
    "df['cluster'] = agg_pred\n",
    "df"
   ]
  },
  {
   "cell_type": "code",
   "execution_count": null,
   "id": "0ce77149",
   "metadata": {},
   "outputs": [],
   "source": [
    "# Boxplots Annual Income\n",
    "plt.figure(figsize=(9,5))\n",
    "sns.boxplot(x='cluster',y='Annual Income (k$)', data=df, palette='Blues')"
   ]
  },
  {
   "cell_type": "code",
   "execution_count": null,
   "id": "9243c9d8",
   "metadata": {},
   "outputs": [],
   "source": [
    "# Boxplots Annual Spending Score\n",
    "plt.figure(figsize=(9,5))\n",
    "sns.boxplot(x='cluster',y='Spending Score (1-100)', data=df, palette='Blues')"
   ]
  },
  {
   "cell_type": "code",
   "execution_count": null,
   "id": "db99efb1",
   "metadata": {},
   "outputs": [],
   "source": [
    "# Boxplots Annual Age\n",
    "plt.figure(figsize=(9,5))\n",
    "sns.boxplot(x='cluster',y='Age', data=df, palette='Blues')"
   ]
  },
  {
   "cell_type": "code",
   "execution_count": null,
   "id": "600d43fb",
   "metadata": {},
   "outputs": [],
   "source": [
    "# Pairplot\n",
    "sns.pairplot(df,hue='cluster', palette=\"mako\")"
   ]
  },
  {
   "cell_type": "code",
   "execution_count": null,
   "id": "3cfe08c8",
   "metadata": {},
   "outputs": [],
   "source": [
    "# Affichage des 5 clusters avec Age\n",
    "plt.figure(figsize=(5,6))\n",
    "\n",
    "plt.scatter(Y[y_hc == 0, 0], Y[y_hc == 0, 1], c = 'paleturquoise', label = 'Cluster 0')\n",
    "plt.scatter(Y[y_hc == 1, 0], Y[y_hc == 1, 1], c = 'skyblue', label = 'Cluster 1')\n",
    "plt.scatter(Y[y_hc == 2, 0], Y[y_hc == 2, 1], c = 'royalblue', label = 'Cluster 2')\n",
    "plt.scatter(Y[y_hc == 3, 0], Y[y_hc == 3, 1], c = 'blue', label = 'Cluster 3')\n",
    "plt.scatter(Y[y_hc == 4, 0], Y[y_hc == 4, 1], c = 'navy', label = 'Cluster 4')\n",
    "\n",
    "plt.title('Clusters of customers')\n",
    "plt.xlabel('Age')\n",
    "plt.ylabel('Spending Score')\n",
    "plt.legend()\n",
    "plt.show()"
   ]
  },
  {
   "cell_type": "markdown",
   "id": "bfed20c3",
   "metadata": {},
   "source": [
    "💡 Il n'y a pas de groupes distincts pour l'\"Age\" par rapport au \"Spending Score\"."
   ]
  },
  {
   "cell_type": "code",
   "execution_count": null,
   "id": "4fd455c5",
   "metadata": {},
   "outputs": [],
   "source": [
    "# Affichage des 5 clusters avec Annual Income\n",
    "plt.figure(figsize=(5,6))\n",
    "\n",
    "plt.scatter(X[y_hc == 0, 0], X[y_hc == 0, 1], c = 'paleturquoise', label = 'Cluster 0')\n",
    "plt.scatter(X[y_hc == 1, 0], X[y_hc == 1, 1], c = 'skyblue', label = 'Cluster 1')\n",
    "plt.scatter(X[y_hc == 2, 0], X[y_hc == 2, 1], c = 'royalblue', label = 'Cluster 2')\n",
    "plt.scatter(X[y_hc == 3, 0], X[y_hc == 3, 1], c = 'blue', label = 'Cluster 3')\n",
    "plt.scatter(X[y_hc == 4, 0], X[y_hc == 4, 1], c = 'navy', label = 'Cluster 4')\n",
    "\n",
    "plt.title('Clusters of customers')\n",
    "plt.xlabel('Annual Income')\n",
    "plt.ylabel('Spending Score')\n",
    "plt.legend()\n",
    "plt.show()"
   ]
  },
  {
   "cell_type": "markdown",
   "id": "7ce99d89",
   "metadata": {},
   "source": [
    "💡 5 clusters permettent de mieux différencier chacun des sous-groupes. Les cinq groupes sont les suivants :\n",
    "\n",
    "* Faible revenu avec un score de dépenses élevé (Cluster 0)\n",
    "* Faible revenu avec un faible score de dépenses (Cluster 1)\n",
    "* Revenu élevé avec un score de dépenses élevé (Cluster 2)\n",
    "* Revenu moyen avec un score de dépenses moyen (Cluster 3)\n",
    "* Revenu élevé avec un score de dépenses faible (Cluster 4)"
   ]
  },
  {
   "cell_type": "markdown",
   "id": "7269eafa",
   "metadata": {},
   "source": [
    "💡 Nous pouvons voir que les clusters sont identiques à ceux qui utilisent la liaison \"complète\". Cela pourrait indiquer que les clusters sont bien définis puisque le changement de lien n'affecte pas les clusters. Ce graphique utilise le couplage 'ward' et 5 clusters."
   ]
  },
  {
   "cell_type": "code",
   "execution_count": null,
   "id": "8f10f45d",
   "metadata": {},
   "outputs": [],
   "source": [
    "# Import librairies\n",
    "import plotly.figure_factory as ff\n",
    "import plotly.graph_objects as go\n",
    "import plotly.express as px\n",
    "from scipy.cluster.hierarchy import ward\n",
    "from scipy.cluster.hierarchy import dendrogram, linkage"
   ]
  },
  {
   "cell_type": "code",
   "execution_count": null,
   "id": "25342c30",
   "metadata": {},
   "outputs": [],
   "source": [
    "# Dendogramme\n",
    "plt.figure(figsize = (17, 7))\n",
    "dendo = dendrogram(linkage(X, method = 'ward'))\n",
    "plt.show()"
   ]
  },
  {
   "cell_type": "code",
   "execution_count": null,
   "id": "ff2cb0ab",
   "metadata": {},
   "outputs": [],
   "source": [
    "# Dendrogramme interactif\n",
    "# Affichage\n",
    "fig.update_layout(width = 1000, height = 500, yaxis_title = 'Distance entre les clusters', xaxis_title = 'Sample index')\n",
    "fig.update_xaxes(showticklabels=False)\n",
    "\n",
    "# Ligne pointillée\n",
    "fig.add_shape(\n",
    "        type='line',\n",
    "        x0=0,\n",
    "        y0=260,\n",
    "        x1=1985,\n",
    "        y1=260,\n",
    "        line=dict(\n",
    "            color='Black',\n",
    "            dash='dash'\n",
    "        )\n",
    ")\n",
    "fig.show()"
   ]
  },
  {
   "cell_type": "markdown",
   "id": "15f8f13c",
   "metadata": {},
   "source": [
    "💡 L'axe vertical (distance entre les clusters) représente la distance euclidienne. En partant du bas, les feuilles fusionnent en branches et cela correspond aux échantillons/clusters qui sont similaires les uns aux autres. La distance verticale représente la similarité des clusters. Par exemple, plus les distances verticales sont grandes avant la fusion, plus les clusters sont dissemblables.\n",
    "\n",
    "💡 La ligne pointillée montre où nous choisissons de couper le dendrogramme pour obtenir un nombre désiré de clusters. Le nombre de lignes verticales avant de se diviser sous les lignes pointillées nous indique le nombre de clusters que nous aurons si nous coupons à la distance verticale (distance entre les clusters). Dans ce dendrogramme, nous pouvons voir qu'il y a cinq clusters lorsque nous coupons à la distance des clusters = 260, et qu'il y a 5 lignes verticales sous les lignes pointillées avant de se diviser.\n",
    "\n",
    "💡 Ainsi, à l'aide de ce dendrogramme, nous pouvons examiner chaque clusters individuelle et la façon dont il fusionne pour former un cluster plus grande de bas en haut. Cela nous fournit beaucoup d'informations puisque nous pouvons inspecter chaque échantillon individuel et examiner dans quelle mesure il est similaire (ou non) aux échantillons avec lesquels il fusionne."
   ]
  },
  {
   "cell_type": "markdown",
   "id": "c0b27132",
   "metadata": {},
   "source": [
    "### Affinity propagation clustering"
   ]
  },
  {
   "cell_type": "code",
   "execution_count": null,
   "id": "5012be8f",
   "metadata": {},
   "outputs": [],
   "source": [
    "df_ap = df.copy()\n",
    "df_ap = df_ap.drop(['CustomerID','Gender'],axis=1)"
   ]
  },
  {
   "cell_type": "code",
   "execution_count": null,
   "id": "436003a9",
   "metadata": {},
   "outputs": [],
   "source": [
    "no_of_clusters = []\n",
    "preferences = range(-20000,-5000,100) # arbitraty chosen range\n",
    "af_sil_score = [] # silouette scores\n",
    "\n",
    "for p in preferences:\n",
    "    AF = AffinityPropagation(preference=p, max_iter=200, random_state=None).fit(df_ap)\n",
    "    no_of_clusters.append((len(np.unique(AF.labels_))))\n",
    "    af_sil_score.append(silhouette_score(df_ap, AF.labels_))\n",
    "    \n",
    "af_results = pd.DataFrame([preferences, no_of_clusters, af_sil_score], index=['preference','clusters', 'sil_score']).T\n",
    "af_results.sort_values(by='sil_score', ascending=False).head()"
   ]
  },
  {
   "cell_type": "code",
   "execution_count": null,
   "id": "e6c4f4f6",
   "metadata": {},
   "outputs": [],
   "source": [
    "fig, ax = plt.subplots(figsize=(12,5))\n",
    "ax = sns.lineplot(x = n_clusters,y = clusters_inertia, marker='o', ax=ax)\n",
    "ax.set_title(\"Elbow method\")\n",
    "ax.set_xlabel(\"number of clusters\")\n",
    "ax.set_ylabel(\"clusters inertia\")\n",
    "ax.axvline(5, ls=\"--\", c=\"red\")\n",
    "ax.axvline(6, ls=\"--\", c=\"red\")\n",
    "plt.grid()\n",
    "plt.show()"
   ]
  },
  {
   "cell_type": "code",
   "execution_count": null,
   "id": "eee24b58",
   "metadata": {},
   "outputs": [],
   "source": [
    "ap = AffinityPropagation(preference=-14500,random_state=None)\n",
    "ap_pred = ap.fit_predict(df_ap)"
   ]
  },
  {
   "cell_type": "code",
   "execution_count": null,
   "id": "fdc65d2a",
   "metadata": {},
   "outputs": [],
   "source": [
    "df_ap['cluster'] = ap_pred\n",
    "df_ap['cluster'].value_counts()"
   ]
  },
  {
   "cell_type": "code",
   "execution_count": null,
   "id": "88a222e1",
   "metadata": {},
   "outputs": [],
   "source": [
    "sns.pairplot(df_ap,hue = 'cluster')"
   ]
  },
  {
   "cell_type": "markdown",
   "id": "c6a95932",
   "metadata": {},
   "source": [
    "### Gaussian clustering"
   ]
  },
  {
   "cell_type": "markdown",
   "id": "hindu-brook",
   "metadata": {},
   "source": [
    "# Conclusions"
   ]
  },
  {
   "cell_type": "code",
   "execution_count": null,
   "id": "engaging-irish",
   "metadata": {},
   "outputs": [],
   "source": []
  }
 ],
 "metadata": {
  "kernelspec": {
   "display_name": "Python 3",
   "language": "python",
   "name": "python3"
  },
  "language_info": {
   "codemirror_mode": {
    "name": "ipython",
    "version": 3
   },
   "file_extension": ".py",
   "mimetype": "text/x-python",
   "name": "python",
   "nbconvert_exporter": "python",
   "pygments_lexer": "ipython3",
   "version": "3.8.8"
  },
  "toc": {
   "base_numbering": 1,
   "nav_menu": {},
   "number_sections": true,
   "sideBar": true,
   "skip_h1_title": false,
   "title_cell": "Table of Contents",
   "title_sidebar": "Contents",
   "toc_cell": false,
   "toc_position": {},
   "toc_section_display": true,
   "toc_window_display": false
  },
  "varInspector": {
   "cols": {
    "lenName": 16,
    "lenType": 16,
    "lenVar": 40
   },
   "kernels_config": {
    "python": {
     "delete_cmd_postfix": "",
     "delete_cmd_prefix": "del ",
     "library": "var_list.py",
     "varRefreshCmd": "print(var_dic_list())"
    },
    "r": {
     "delete_cmd_postfix": ") ",
     "delete_cmd_prefix": "rm(",
     "library": "var_list.r",
     "varRefreshCmd": "cat(var_dic_list()) "
    }
   },
   "types_to_exclude": [
    "module",
    "function",
    "builtin_function_or_method",
    "instance",
    "_Feature"
   ],
   "window_display": false
  }
 },
 "nbformat": 4,
 "nbformat_minor": 5
}
