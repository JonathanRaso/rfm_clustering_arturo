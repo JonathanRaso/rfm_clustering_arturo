{
 "cells": [
  {
   "cell_type": "markdown",
   "id": "comprehensive-warehouse",
   "metadata": {},
   "source": [
    "# Customer analysis"
   ]
  },
  {
   "cell_type": "markdown",
   "id": "working-earth",
   "metadata": {},
   "source": [
    "In this exercise, you work for a consulting firm as data analyst. One of your clients asked for help to understand its customer buying behavior. \n",
    "\n",
    "You dispose of a dataset from its e-commerce website with 13 features : \n",
    "\n",
    "- order_id : ID if the order\n",
    "- order_status : Status of the order\n",
    "- order_purchase_timestamp : Timestamp of the purchase\n",
    "- order_delivered_customer_date : Timestamp of the delivery to the customer\n",
    "- payment_type : Method of payment\n",
    "- payment_installments : Number of payments for this purchase (does NOT affect the payment value)\n",
    "- payment_value : Total amount of the payment\n",
    "- review_score : Score given by the client, ranges from 1 to 5\n",
    "- customer_unique_id : ID of the customer who purchased\n",
    "- customer_zip_code_prefix : Zip code of the customer\n",
    "- customer_city : City of the customer\n",
    "- customer_state : State of the customer\n",
    "- product_category_name_english : Name of the product category in English\n",
    "\n",
    "With this data, you have to analyze customer behavior with two techniques:\n",
    "\n",
    "- Customer segmentation with RFM\n",
    "- Cohort analysis from Sept 2016 to October 2018.\n",
    "\n",
    "At the end, you have to present your analysis with actionable insights to improve the customer relationship of your client. "
   ]
  },
  {
   "cell_type": "markdown",
   "id": "e34741c0",
   "metadata": {
    "heading_collapsed": true
   },
   "source": [
    "# Understanding RFM Segmentation "
   ]
  },
  {
   "cell_type": "markdown",
   "id": "fe5120cd",
   "metadata": {
    "ExecuteTime": {
     "end_time": "2021-09-30T14:30:02.324575Z",
     "start_time": "2021-09-30T14:30:02.319234Z"
    },
    "hidden": true
   },
   "source": [
    "❓ What are the 3 metrics used in an RFM Segmentation? (hint : What does RFM stand for?) "
   ]
  },
  {
   "cell_type": "markdown",
   "id": "8bc8a76f",
   "metadata": {
    "hidden": true
   },
   "source": [
    "With RFM Segmentation, we use 3 specific metrics : - Recency (R)\n",
    "                                                   - Frequency (F)\n",
    "                                                   - Monetary (M)"
   ]
  },
  {
   "cell_type": "markdown",
   "id": "f556245c",
   "metadata": {
    "hidden": true
   },
   "source": [
    "❓ Can you summarize what each metric measures in one sentence?"
   ]
  },
  {
   "cell_type": "markdown",
   "id": "5377760c",
   "metadata": {
    "hidden": true
   },
   "source": [
    "1) Recency (R): How recently customers have made their purchases.\n",
    "\n",
    "2) Frequency (F): How often customers have made their purchases.\n",
    "\n",
    "3) Monetary (M): How much money customers have paid for their purchases."
   ]
  },
  {
   "cell_type": "markdown",
   "id": "98be1bfe",
   "metadata": {
    "hidden": true
   },
   "source": [
    "❓ What data / or type of data do you need for each metric ? "
   ]
  },
  {
   "cell_type": "markdown",
   "id": "e82ac147",
   "metadata": {
    "hidden": true
   },
   "source": [
    "1) Recency: date of the last purchase (timestamp or int/float, [order_purchase_timestamp])\n",
    "\n",
    "2) Frequency: total number of purchase (int/float, [payment_installments])\n",
    "\n",
    "3) Monetary: total amount of purchase (int/float, [payment_value])"
   ]
  },
  {
   "cell_type": "markdown",
   "id": "40dc1822",
   "metadata": {
    "hidden": true
   },
   "source": [
    "Let's explore the dataset!"
   ]
  },
  {
   "cell_type": "markdown",
   "id": "digital-cycling",
   "metadata": {
    "heading_collapsed": true
   },
   "source": [
    "# Exploratory Data Analysis"
   ]
  },
  {
   "cell_type": "code",
   "execution_count": 48,
   "id": "fcb53548",
   "metadata": {
    "hidden": true
   },
   "outputs": [],
   "source": [
    "# Libraries\n",
    "import pandas as pd\n",
    "from datetime import datetime, timedelta\n",
    "import numpy as np\n",
    "from operator import attrgetter\n",
    "import seaborn as sns\n",
    "import matplotlib.pyplot as plt\n",
    "import matplotlib.colors as mcolors"
   ]
  },
  {
   "cell_type": "markdown",
   "id": "9fe4d6d2",
   "metadata": {
    "hidden": true
   },
   "source": [
    "Load the dataset and start an Exploratory Data Analysis"
   ]
  },
  {
   "cell_type": "code",
   "execution_count": 54,
   "id": "1caf4ef5",
   "metadata": {
    "ExecuteTime": {
     "end_time": "2021-10-03T14:07:52.111600Z",
     "start_time": "2021-10-03T14:07:51.598182Z"
    },
    "hidden": true
   },
   "outputs": [
    {
     "data": {
      "text/html": [
       "<div>\n",
       "<style scoped>\n",
       "    .dataframe tbody tr th:only-of-type {\n",
       "        vertical-align: middle;\n",
       "    }\n",
       "\n",
       "    .dataframe tbody tr th {\n",
       "        vertical-align: top;\n",
       "    }\n",
       "\n",
       "    .dataframe thead th {\n",
       "        text-align: right;\n",
       "    }\n",
       "</style>\n",
       "<table border=\"1\" class=\"dataframe\">\n",
       "  <thead>\n",
       "    <tr style=\"text-align: right;\">\n",
       "      <th></th>\n",
       "      <th>order_id</th>\n",
       "      <th>order_status</th>\n",
       "      <th>order_purchase_timestamp</th>\n",
       "      <th>order_delivered_customer_date</th>\n",
       "      <th>payment_type</th>\n",
       "      <th>payment_installments</th>\n",
       "      <th>payment_value</th>\n",
       "      <th>review_score</th>\n",
       "      <th>customer_unique_id</th>\n",
       "      <th>customer_zip_code_prefix</th>\n",
       "      <th>customer_city</th>\n",
       "      <th>customer_state</th>\n",
       "      <th>product_category_name_english</th>\n",
       "    </tr>\n",
       "  </thead>\n",
       "  <tbody>\n",
       "    <tr>\n",
       "      <th>0</th>\n",
       "      <td>e481f51cbdc54678b7cc49136f2d6af7</td>\n",
       "      <td>delivered</td>\n",
       "      <td>2017-10-02 10:56:33</td>\n",
       "      <td>2017-10-10 21:25:13</td>\n",
       "      <td>credit_card</td>\n",
       "      <td>1.0</td>\n",
       "      <td>18.12</td>\n",
       "      <td>4</td>\n",
       "      <td>7c396fd4830fd04220f754e42b4e5bff</td>\n",
       "      <td>3149</td>\n",
       "      <td>sao paulo</td>\n",
       "      <td>SP</td>\n",
       "      <td>housewares</td>\n",
       "    </tr>\n",
       "    <tr>\n",
       "      <th>1</th>\n",
       "      <td>e481f51cbdc54678b7cc49136f2d6af7</td>\n",
       "      <td>delivered</td>\n",
       "      <td>2017-10-02 10:56:33</td>\n",
       "      <td>2017-10-10 21:25:13</td>\n",
       "      <td>voucher</td>\n",
       "      <td>1.0</td>\n",
       "      <td>2.00</td>\n",
       "      <td>4</td>\n",
       "      <td>7c396fd4830fd04220f754e42b4e5bff</td>\n",
       "      <td>3149</td>\n",
       "      <td>sao paulo</td>\n",
       "      <td>SP</td>\n",
       "      <td>housewares</td>\n",
       "    </tr>\n",
       "    <tr>\n",
       "      <th>2</th>\n",
       "      <td>e481f51cbdc54678b7cc49136f2d6af7</td>\n",
       "      <td>delivered</td>\n",
       "      <td>2017-10-02 10:56:33</td>\n",
       "      <td>2017-10-10 21:25:13</td>\n",
       "      <td>voucher</td>\n",
       "      <td>1.0</td>\n",
       "      <td>18.59</td>\n",
       "      <td>4</td>\n",
       "      <td>7c396fd4830fd04220f754e42b4e5bff</td>\n",
       "      <td>3149</td>\n",
       "      <td>sao paulo</td>\n",
       "      <td>SP</td>\n",
       "      <td>housewares</td>\n",
       "    </tr>\n",
       "    <tr>\n",
       "      <th>3</th>\n",
       "      <td>53cdb2fc8bc7dce0b6741e2150273451</td>\n",
       "      <td>delivered</td>\n",
       "      <td>2018-07-24 20:41:37</td>\n",
       "      <td>2018-08-07 15:27:45</td>\n",
       "      <td>boleto</td>\n",
       "      <td>1.0</td>\n",
       "      <td>141.46</td>\n",
       "      <td>4</td>\n",
       "      <td>af07308b275d755c9edb36a90c618231</td>\n",
       "      <td>47813</td>\n",
       "      <td>barreiras</td>\n",
       "      <td>BA</td>\n",
       "      <td>perfumery</td>\n",
       "    </tr>\n",
       "    <tr>\n",
       "      <th>4</th>\n",
       "      <td>47770eb9100c2d0c44946d9cf07ec65d</td>\n",
       "      <td>delivered</td>\n",
       "      <td>2018-08-08 08:38:49</td>\n",
       "      <td>2018-08-17 18:06:29</td>\n",
       "      <td>credit_card</td>\n",
       "      <td>3.0</td>\n",
       "      <td>179.12</td>\n",
       "      <td>5</td>\n",
       "      <td>3a653a41f6f9fc3d2a113cf8398680e8</td>\n",
       "      <td>75265</td>\n",
       "      <td>vianopolis</td>\n",
       "      <td>GO</td>\n",
       "      <td>auto</td>\n",
       "    </tr>\n",
       "    <tr>\n",
       "      <th>...</th>\n",
       "      <td>...</td>\n",
       "      <td>...</td>\n",
       "      <td>...</td>\n",
       "      <td>...</td>\n",
       "      <td>...</td>\n",
       "      <td>...</td>\n",
       "      <td>...</td>\n",
       "      <td>...</td>\n",
       "      <td>...</td>\n",
       "      <td>...</td>\n",
       "      <td>...</td>\n",
       "      <td>...</td>\n",
       "      <td>...</td>\n",
       "    </tr>\n",
       "    <tr>\n",
       "      <th>105378</th>\n",
       "      <td>9c5dedf39a927c1b2549525ed64a053c</td>\n",
       "      <td>delivered</td>\n",
       "      <td>2017-03-09 09:54:05</td>\n",
       "      <td>2017-03-17 15:08:01</td>\n",
       "      <td>credit_card</td>\n",
       "      <td>3.0</td>\n",
       "      <td>85.08</td>\n",
       "      <td>5</td>\n",
       "      <td>6359f309b166b0196dbf7ad2ac62bb5a</td>\n",
       "      <td>12209</td>\n",
       "      <td>sao jose dos campos</td>\n",
       "      <td>SP</td>\n",
       "      <td>health_beauty</td>\n",
       "    </tr>\n",
       "    <tr>\n",
       "      <th>105379</th>\n",
       "      <td>63943bddc261676b46f01ca7ac2f7bd8</td>\n",
       "      <td>delivered</td>\n",
       "      <td>2018-02-06 12:58:58</td>\n",
       "      <td>2018-02-28 17:37:56</td>\n",
       "      <td>credit_card</td>\n",
       "      <td>3.0</td>\n",
       "      <td>195.00</td>\n",
       "      <td>4</td>\n",
       "      <td>da62f9e57a76d978d02ab5362c509660</td>\n",
       "      <td>11722</td>\n",
       "      <td>praia grande</td>\n",
       "      <td>SP</td>\n",
       "      <td>baby</td>\n",
       "    </tr>\n",
       "    <tr>\n",
       "      <th>105380</th>\n",
       "      <td>83c1379a015df1e13d02aae0204711ab</td>\n",
       "      <td>delivered</td>\n",
       "      <td>2017-08-27 14:46:43</td>\n",
       "      <td>2017-09-21 11:24:17</td>\n",
       "      <td>credit_card</td>\n",
       "      <td>5.0</td>\n",
       "      <td>271.01</td>\n",
       "      <td>5</td>\n",
       "      <td>737520a9aad80b3fbbdad19b66b37b30</td>\n",
       "      <td>45920</td>\n",
       "      <td>nova vicosa</td>\n",
       "      <td>BA</td>\n",
       "      <td>home_appliances_2</td>\n",
       "    </tr>\n",
       "    <tr>\n",
       "      <th>105381</th>\n",
       "      <td>11c177c8e97725db2631073c19f07b62</td>\n",
       "      <td>delivered</td>\n",
       "      <td>2018-01-08 21:28:27</td>\n",
       "      <td>2018-01-25 23:32:54</td>\n",
       "      <td>credit_card</td>\n",
       "      <td>4.0</td>\n",
       "      <td>441.16</td>\n",
       "      <td>2</td>\n",
       "      <td>5097a5312c8b157bb7be58ae360ef43c</td>\n",
       "      <td>28685</td>\n",
       "      <td>japuiba</td>\n",
       "      <td>RJ</td>\n",
       "      <td>computers_accessories</td>\n",
       "    </tr>\n",
       "    <tr>\n",
       "      <th>105382</th>\n",
       "      <td>66dea50a8b16d9b4dee7af250b4be1a5</td>\n",
       "      <td>delivered</td>\n",
       "      <td>2018-03-08 20:57:30</td>\n",
       "      <td>2018-03-16 13:08:30</td>\n",
       "      <td>debit_card</td>\n",
       "      <td>1.0</td>\n",
       "      <td>86.86</td>\n",
       "      <td>5</td>\n",
       "      <td>60350aa974b26ff12caad89e55993bd6</td>\n",
       "      <td>83750</td>\n",
       "      <td>lapa</td>\n",
       "      <td>PR</td>\n",
       "      <td>health_beauty</td>\n",
       "    </tr>\n",
       "  </tbody>\n",
       "</table>\n",
       "<p>105383 rows × 13 columns</p>\n",
       "</div>"
      ],
      "text/plain": [
       "                                order_id order_status  \\\n",
       "0       e481f51cbdc54678b7cc49136f2d6af7    delivered   \n",
       "1       e481f51cbdc54678b7cc49136f2d6af7    delivered   \n",
       "2       e481f51cbdc54678b7cc49136f2d6af7    delivered   \n",
       "3       53cdb2fc8bc7dce0b6741e2150273451    delivered   \n",
       "4       47770eb9100c2d0c44946d9cf07ec65d    delivered   \n",
       "...                                  ...          ...   \n",
       "105378  9c5dedf39a927c1b2549525ed64a053c    delivered   \n",
       "105379  63943bddc261676b46f01ca7ac2f7bd8    delivered   \n",
       "105380  83c1379a015df1e13d02aae0204711ab    delivered   \n",
       "105381  11c177c8e97725db2631073c19f07b62    delivered   \n",
       "105382  66dea50a8b16d9b4dee7af250b4be1a5    delivered   \n",
       "\n",
       "       order_purchase_timestamp order_delivered_customer_date payment_type  \\\n",
       "0           2017-10-02 10:56:33           2017-10-10 21:25:13  credit_card   \n",
       "1           2017-10-02 10:56:33           2017-10-10 21:25:13      voucher   \n",
       "2           2017-10-02 10:56:33           2017-10-10 21:25:13      voucher   \n",
       "3           2018-07-24 20:41:37           2018-08-07 15:27:45       boleto   \n",
       "4           2018-08-08 08:38:49           2018-08-17 18:06:29  credit_card   \n",
       "...                         ...                           ...          ...   \n",
       "105378      2017-03-09 09:54:05           2017-03-17 15:08:01  credit_card   \n",
       "105379      2018-02-06 12:58:58           2018-02-28 17:37:56  credit_card   \n",
       "105380      2017-08-27 14:46:43           2017-09-21 11:24:17  credit_card   \n",
       "105381      2018-01-08 21:28:27           2018-01-25 23:32:54  credit_card   \n",
       "105382      2018-03-08 20:57:30           2018-03-16 13:08:30   debit_card   \n",
       "\n",
       "        payment_installments  payment_value  review_score  \\\n",
       "0                        1.0          18.12             4   \n",
       "1                        1.0           2.00             4   \n",
       "2                        1.0          18.59             4   \n",
       "3                        1.0         141.46             4   \n",
       "4                        3.0         179.12             5   \n",
       "...                      ...            ...           ...   \n",
       "105378                   3.0          85.08             5   \n",
       "105379                   3.0         195.00             4   \n",
       "105380                   5.0         271.01             5   \n",
       "105381                   4.0         441.16             2   \n",
       "105382                   1.0          86.86             5   \n",
       "\n",
       "                      customer_unique_id  customer_zip_code_prefix  \\\n",
       "0       7c396fd4830fd04220f754e42b4e5bff                      3149   \n",
       "1       7c396fd4830fd04220f754e42b4e5bff                      3149   \n",
       "2       7c396fd4830fd04220f754e42b4e5bff                      3149   \n",
       "3       af07308b275d755c9edb36a90c618231                     47813   \n",
       "4       3a653a41f6f9fc3d2a113cf8398680e8                     75265   \n",
       "...                                  ...                       ...   \n",
       "105378  6359f309b166b0196dbf7ad2ac62bb5a                     12209   \n",
       "105379  da62f9e57a76d978d02ab5362c509660                     11722   \n",
       "105380  737520a9aad80b3fbbdad19b66b37b30                     45920   \n",
       "105381  5097a5312c8b157bb7be58ae360ef43c                     28685   \n",
       "105382  60350aa974b26ff12caad89e55993bd6                     83750   \n",
       "\n",
       "              customer_city customer_state product_category_name_english  \n",
       "0                 sao paulo             SP                    housewares  \n",
       "1                 sao paulo             SP                    housewares  \n",
       "2                 sao paulo             SP                    housewares  \n",
       "3                 barreiras             BA                     perfumery  \n",
       "4                vianopolis             GO                          auto  \n",
       "...                     ...            ...                           ...  \n",
       "105378  sao jose dos campos             SP                 health_beauty  \n",
       "105379         praia grande             SP                          baby  \n",
       "105380          nova vicosa             BA             home_appliances_2  \n",
       "105381              japuiba             RJ         computers_accessories  \n",
       "105382                 lapa             PR                 health_beauty  \n",
       "\n",
       "[105383 rows x 13 columns]"
      ]
     },
     "execution_count": 54,
     "metadata": {},
     "output_type": "execute_result"
    }
   ],
   "source": [
    "df = pd.read_csv('../data/db_customers.csv')\n",
    "df"
   ]
  },
  {
   "cell_type": "markdown",
   "id": "7a1219f8",
   "metadata": {
    "hidden": true
   },
   "source": [
    "❓ Which features should be formated in datetime ? \n",
    "Convert them"
   ]
  },
  {
   "cell_type": "markdown",
   "id": "c389b109",
   "metadata": {
    "ExecuteTime": {
     "end_time": "2021-10-03T14:07:52.225702Z",
     "start_time": "2021-10-03T14:07:52.135148Z"
    },
    "hidden": true
   },
   "source": [
    "We should format 2 features in datetime : [order_purchase_timestamp] and [order_delivered_customer_date]"
   ]
  },
  {
   "cell_type": "code",
   "execution_count": 70,
   "id": "0885246e",
   "metadata": {
    "hidden": true
   },
   "outputs": [],
   "source": [
    "df[['order_purchase_timestamp', 'order_delivered_customer_date']] = df[['order_purchase_timestamp', 'order_delivered_customer_date']].apply(pd.to_datetime)\n",
    "# df.info()"
   ]
  },
  {
   "cell_type": "markdown",
   "id": "b51c5e36",
   "metadata": {
    "hidden": true
   },
   "source": [
    "❓ Which features are Categorical ? List the unique values on these features."
   ]
  },
  {
   "cell_type": "markdown",
   "id": "a1bc5edc",
   "metadata": {
    "hidden": true
   },
   "source": [
    "These features are categorical: [order_status] | [payment_type] | [customer_city] | [customer_state] | [product_category_name_english]"
   ]
  },
  {
   "cell_type": "code",
   "execution_count": 4,
   "id": "b629a981",
   "metadata": {
    "hidden": true
   },
   "outputs": [
    {
     "name": "stdout",
     "output_type": "stream",
     "text": [
      "order status: ['delivered' 'invoiced' 'shipped' 'processing' 'unavailable' 'canceled'\n",
      " 'created' 'approved']\n",
      "payment_type: ['credit_card' 'voucher' 'boleto' 'debit_card' 'not_defined' nan]\n",
      "order status: ['sao paulo' 'barreiras' 'vianopolis' ... 'messias targino'\n",
      " 'campo do tenente' 'nova vicosa']\n",
      "order status: ['SP' 'BA' 'GO' 'RN' 'PR' 'RS' 'RJ' 'MG' 'SC' 'RR' 'PE' 'TO' 'CE' 'DF'\n",
      " 'SE' 'MT' 'PB' 'PA' 'RO' 'ES' 'AP' 'MS' 'MA' 'PI' 'AL' 'AC' 'AM']\n",
      "order status: ['housewares' 'perfumery' 'auto' 'pet_shop' 'stationery' nan\n",
      " 'furniture_decor' 'office_furniture' 'garden_tools'\n",
      " 'computers_accessories' 'bed_bath_table' 'toys'\n",
      " 'construction_tools_construction' 'telephony' 'health_beauty'\n",
      " 'electronics' 'baby' 'cool_stuff' 'watches_gifts' 'air_conditioning'\n",
      " 'sports_leisure' 'books_general_interest' 'small_appliances' 'food'\n",
      " 'luggage_accessories' 'fashion_underwear_beach' 'christmas_supplies'\n",
      " 'fashion_bags_accessories' 'musical_instruments'\n",
      " 'construction_tools_lights' 'books_technical' 'costruction_tools_garden'\n",
      " 'home_appliances' 'market_place' 'agro_industry_and_commerce'\n",
      " 'party_supplies' 'home_confort' 'cds_dvds_musicals'\n",
      " 'industry_commerce_and_business' 'consoles_games' 'furniture_bedroom'\n",
      " 'construction_tools_safety' 'fixed_telephony' 'drinks'\n",
      " 'kitchen_dining_laundry_garden_furniture' 'fashion_shoes'\n",
      " 'home_construction' 'audio' 'home_appliances_2' 'fashion_male_clothing'\n",
      " 'cine_photo' 'furniture_living_room' 'art' 'food_drink'\n",
      " 'tablets_printing_image' 'fashion_sport' 'la_cuisine' 'flowers'\n",
      " 'computers' 'home_comfort_2' 'small_appliances_home_oven_and_coffee'\n",
      " 'dvds_blu_ray' 'costruction_tools_tools' 'fashio_female_clothing'\n",
      " 'furniture_mattress_and_upholstery' 'signaling_and_security'\n",
      " 'diapers_and_hygiene' 'books_imported' 'fashion_childrens_clothes'\n",
      " 'music' 'arts_and_craftmanship' 'security_and_services']\n"
     ]
    }
   ],
   "source": [
    "# Storing unique values for categorical features into variables\n",
    "order_status=df['order_status'].unique()\n",
    "payment_type=df['payment_type'].unique()\n",
    "customer_city=df['customer_city'].unique()\n",
    "customer_state=df['customer_state'].unique()\n",
    "product_category_name_english=df['product_category_name_english'].unique()\n",
    "\n",
    "# Printing unique values for each categorical columns\n",
    "print(f'order status: {order_status}')\n",
    "print(f'payment_type: {payment_type}')\n",
    "print(f'order status: {customer_city}')\n",
    "print(f'order status: {customer_state}')\n",
    "print(f'order status: {product_category_name_english}')"
   ]
  },
  {
   "cell_type": "markdown",
   "id": "ea7199d9",
   "metadata": {
    "hidden": true
   },
   "source": [
    "❓ Check for missing values. What do you notice ? \n"
   ]
  },
  {
   "cell_type": "code",
   "execution_count": 5,
   "id": "19eef9bd",
   "metadata": {
    "hidden": true
   },
   "outputs": [
    {
     "data": {
      "text/plain": [
       "order_id                            0\n",
       "order_status                        0\n",
       "order_purchase_timestamp            0\n",
       "order_delivered_customer_date    3159\n",
       "payment_type                        1\n",
       "payment_installments                1\n",
       "payment_value                       1\n",
       "review_score                        0\n",
       "customer_unique_id                  0\n",
       "customer_zip_code_prefix            0\n",
       "customer_city                       0\n",
       "customer_state                      0\n",
       "product_category_name_english    2410\n",
       "dtype: int64"
      ]
     },
     "execution_count": 5,
     "metadata": {},
     "output_type": "execute_result"
    }
   ],
   "source": [
    "# Checking for missing values\n",
    "df.isnull().sum()"
   ]
  },
  {
   "cell_type": "markdown",
   "id": "4d04a032",
   "metadata": {
    "hidden": true
   },
   "source": [
    "We can see missing values in 5 features: 1) payment_type, payement_installments, payment_value (1 missing value in each)\n",
    "                                         2) order_delivered_customer_date (3159)\n",
    "                                         3) product_category_name_english(2410)"
   ]
  },
  {
   "cell_type": "markdown",
   "id": "c20dae84",
   "metadata": {
    "hidden": true
   },
   "source": [
    "❓ Can you find an explanation for the missing `order_delivered_customer_date` ? \n",
    "(hint : Check for non delivered orders)"
   ]
  },
  {
   "cell_type": "code",
   "execution_count": 6,
   "id": "1e298334",
   "metadata": {
    "hidden": true
   },
   "outputs": [
    {
     "data": {
      "text/plain": [
       "(3158, 13)"
      ]
     },
     "execution_count": 6,
     "metadata": {},
     "output_type": "execute_result"
    }
   ],
   "source": [
    "# Checking if missing order_delivered_customer_date count is equal to all purchases which are not yet delivered\n",
    "df[df['order_status'] != \"delivered\"].shape"
   ]
  },
  {
   "cell_type": "markdown",
   "id": "50f071b2",
   "metadata": {
    "hidden": true
   },
   "source": [
    "We have 3158 missing values for order_delivered_customer_date. It's because these purchases are not delivered yet. There is a difference of 1, and I think it's because of the missing value in the 3 other features (payment_type,installments,value)."
   ]
  },
  {
   "cell_type": "markdown",
   "id": "8fda8f88",
   "metadata": {
    "hidden": true
   },
   "source": [
    "❓ What are the proportions of each `order_status` ? "
   ]
  },
  {
   "cell_type": "code",
   "execution_count": 7,
   "id": "fbf2835b",
   "metadata": {
    "hidden": true
   },
   "outputs": [
    {
     "data": {
      "text/plain": [
       "delivered      97.0%\n",
       "shipped         1.1%\n",
       "canceled        0.6%\n",
       "unavailable     0.6%\n",
       "invoiced        0.3%\n",
       "processing      0.3%\n",
       "created         0.0%\n",
       "approved        0.0%\n",
       "Name: order_status, dtype: object"
      ]
     },
     "execution_count": 7,
     "metadata": {},
     "output_type": "execute_result"
    }
   ],
   "source": [
    "# Calculate ratio of each order status in our dataframe.\n",
    "df['order_status'].value_counts(normalize=True).mul(100).round(1).astype(str) + '%'"
   ]
  },
  {
   "cell_type": "markdown",
   "id": "ec529161",
   "metadata": {
    "hidden": true
   },
   "source": [
    "❓ Which `order_status` do you think should be removed from the analysis"
   ]
  },
  {
   "cell_type": "markdown",
   "id": "2027e285",
   "metadata": {
    "hidden": true
   },
   "source": [
    "I would removed all the order_status, except delivered and shipped status. These 2 orders represent 98% of the order_status, and\n",
    "we want to focus on this because it will be easier to segmentate our different customers."
   ]
  },
  {
   "cell_type": "markdown",
   "id": "ee08d779",
   "metadata": {
    "hidden": true
   },
   "source": [
    "❓ What feature would you choose in the e-commerce dataset provided? "
   ]
  },
  {
   "cell_type": "markdown",
   "id": "ad34ede4",
   "metadata": {
    "hidden": true
   },
   "source": [
    "We need to choose [order_purchase_timestamp] for calculating the recency, [customer_unique_id] and [order_id] for frequency,\n",
    "and [payment_value] for monetary."
   ]
  },
  {
   "cell_type": "markdown",
   "id": "15ef2508",
   "metadata": {
    "hidden": true
   },
   "source": [
    "❓ What method would you use to group the data? "
   ]
  },
  {
   "cell_type": "markdown",
   "id": "155c8c72",
   "metadata": {
    "hidden": true
   },
   "source": [
    "I would use the .groupby() method from pandas library in order to group our data"
   ]
  },
  {
   "cell_type": "markdown",
   "id": "88b13787",
   "metadata": {
    "hidden": true
   },
   "source": [
    "❓ What feature would you use to group the data? "
   ]
  },
  {
   "cell_type": "markdown",
   "id": "28427e61",
   "metadata": {
    "hidden": true
   },
   "source": [
    "I would use the customer_unique_id in order to group the data."
   ]
  },
  {
   "cell_type": "markdown",
   "id": "3e6e7dd2",
   "metadata": {
    "ExecuteTime": {
     "end_time": "2021-09-30T14:45:48.656723Z",
     "start_time": "2021-09-30T14:45:48.652125Z"
    },
    "hidden": true
   },
   "source": [
    "Group the data. (Hint: you can carry out the grouping one by one and then merge, or even better use the .agg method and get a robust grouping in one line of code)"
   ]
  },
  {
   "cell_type": "code",
   "execution_count": 71,
   "id": "095e849d",
   "metadata": {
    "hidden": true
   },
   "outputs": [
    {
     "data": {
      "text/plain": [
       "delivered    102225\n",
       "shipped        1180\n",
       "Name: order_status, dtype: int64"
      ]
     },
     "execution_count": 71,
     "metadata": {},
     "output_type": "execute_result"
    }
   ],
   "source": [
    "df_new = df[(df['order_status'] != \"delivered\") & (df['order_status'] != \"shipped\")].index\n",
    "df.drop(df_new , inplace=True)\n",
    "df['order_status'].value_counts()"
   ]
  },
  {
   "cell_type": "code",
   "execution_count": 72,
   "id": "69f6887e",
   "metadata": {
    "hidden": true
   },
   "outputs": [],
   "source": [
    "df['order_purchase_timestamp'] = df['order_purchase_timestamp'].apply(pd.to_datetime)\n",
    "date_format = \"%m/%d/%Y\"\n",
    "a = df['order_purchase_timestamp']\n",
    "b = max(df['order_purchase_timestamp'])\n",
    "df['Recency'] = b-a\n",
    "df['Recency'] = df['Recency'].astype('timedelta64[D]')\n",
    "recence = df.groupby('customer_unique_id')['Recency'].min()\n",
    "recence = pd.DataFrame(recence).reset_index()\n",
    "# recence"
   ]
  },
  {
   "cell_type": "code",
   "execution_count": 73,
   "id": "2c358114",
   "metadata": {
    "code_folding": [],
    "hidden": true
   },
   "outputs": [
    {
     "data": {
      "text/html": [
       "<div>\n",
       "<style scoped>\n",
       "    .dataframe tbody tr th:only-of-type {\n",
       "        vertical-align: middle;\n",
       "    }\n",
       "\n",
       "    .dataframe tbody tr th {\n",
       "        vertical-align: top;\n",
       "    }\n",
       "\n",
       "    .dataframe thead th {\n",
       "        text-align: right;\n",
       "    }\n",
       "</style>\n",
       "<table border=\"1\" class=\"dataframe\">\n",
       "  <thead>\n",
       "    <tr style=\"text-align: right;\">\n",
       "      <th></th>\n",
       "      <th>customer_unique_id</th>\n",
       "      <th>Frequency</th>\n",
       "      <th>Monetary</th>\n",
       "    </tr>\n",
       "  </thead>\n",
       "  <tbody>\n",
       "    <tr>\n",
       "      <th>0</th>\n",
       "      <td>0000366f3b9a7992bf8c76cfdf3221e2</td>\n",
       "      <td>1</td>\n",
       "      <td>141.90</td>\n",
       "    </tr>\n",
       "    <tr>\n",
       "      <th>1</th>\n",
       "      <td>0000b849f77a49e4a4ce2b2a4ca5be3f</td>\n",
       "      <td>1</td>\n",
       "      <td>27.19</td>\n",
       "    </tr>\n",
       "    <tr>\n",
       "      <th>2</th>\n",
       "      <td>0000f46a3911fa3c0805444483337064</td>\n",
       "      <td>1</td>\n",
       "      <td>86.22</td>\n",
       "    </tr>\n",
       "    <tr>\n",
       "      <th>3</th>\n",
       "      <td>0000f6ccb0745a6a4b88665a16c9f078</td>\n",
       "      <td>1</td>\n",
       "      <td>43.62</td>\n",
       "    </tr>\n",
       "    <tr>\n",
       "      <th>4</th>\n",
       "      <td>0004aac84e0df4da2b147fca70cf8255</td>\n",
       "      <td>1</td>\n",
       "      <td>196.89</td>\n",
       "    </tr>\n",
       "    <tr>\n",
       "      <th>...</th>\n",
       "      <td>...</td>\n",
       "      <td>...</td>\n",
       "      <td>...</td>\n",
       "    </tr>\n",
       "    <tr>\n",
       "      <th>94394</th>\n",
       "      <td>fffcf5a5ff07b0908bd4e2dbc735a684</td>\n",
       "      <td>1</td>\n",
       "      <td>2067.42</td>\n",
       "    </tr>\n",
       "    <tr>\n",
       "      <th>94395</th>\n",
       "      <td>fffea47cd6d3cc0a88bd621562a9d061</td>\n",
       "      <td>1</td>\n",
       "      <td>84.58</td>\n",
       "    </tr>\n",
       "    <tr>\n",
       "      <th>94396</th>\n",
       "      <td>ffff371b4d645b6ecea244b27531430a</td>\n",
       "      <td>1</td>\n",
       "      <td>112.46</td>\n",
       "    </tr>\n",
       "    <tr>\n",
       "      <th>94397</th>\n",
       "      <td>ffff5962728ec6157033ef9805bacc48</td>\n",
       "      <td>1</td>\n",
       "      <td>133.69</td>\n",
       "    </tr>\n",
       "    <tr>\n",
       "      <th>94398</th>\n",
       "      <td>ffffd2657e2aad2907e67c3e9daecbeb</td>\n",
       "      <td>1</td>\n",
       "      <td>71.56</td>\n",
       "    </tr>\n",
       "  </tbody>\n",
       "</table>\n",
       "<p>94399 rows × 3 columns</p>\n",
       "</div>"
      ],
      "text/plain": [
       "                     customer_unique_id  Frequency  Monetary\n",
       "0      0000366f3b9a7992bf8c76cfdf3221e2          1    141.90\n",
       "1      0000b849f77a49e4a4ce2b2a4ca5be3f          1     27.19\n",
       "2      0000f46a3911fa3c0805444483337064          1     86.22\n",
       "3      0000f6ccb0745a6a4b88665a16c9f078          1     43.62\n",
       "4      0004aac84e0df4da2b147fca70cf8255          1    196.89\n",
       "...                                 ...        ...       ...\n",
       "94394  fffcf5a5ff07b0908bd4e2dbc735a684          1   2067.42\n",
       "94395  fffea47cd6d3cc0a88bd621562a9d061          1     84.58\n",
       "94396  ffff371b4d645b6ecea244b27531430a          1    112.46\n",
       "94397  ffff5962728ec6157033ef9805bacc48          1    133.69\n",
       "94398  ffffd2657e2aad2907e67c3e9daecbeb          1     71.56\n",
       "\n",
       "[94399 rows x 3 columns]"
      ]
     },
     "execution_count": 73,
     "metadata": {},
     "output_type": "execute_result"
    }
   ],
   "source": [
    "orders = df.groupby(['customer_unique_id']).agg(\n",
    "#     Recency = pd.NamedAgg(column='order_purchase_timestamp', aggfunc= lambda x: max(x) - x),\n",
    "    Frequency = pd.NamedAgg(column='payment_value', aggfunc='count'),\n",
    "    Monetary = pd.NamedAgg(column='payment_value', aggfunc=sum)\n",
    ").reset_index()\n",
    "# orders.head()\n",
    "orders"
   ]
  },
  {
   "cell_type": "code",
   "execution_count": 74,
   "id": "d511ef8b",
   "metadata": {
    "hidden": true
   },
   "outputs": [
    {
     "data": {
      "text/html": [
       "<div>\n",
       "<style scoped>\n",
       "    .dataframe tbody tr th:only-of-type {\n",
       "        vertical-align: middle;\n",
       "    }\n",
       "\n",
       "    .dataframe tbody tr th {\n",
       "        vertical-align: top;\n",
       "    }\n",
       "\n",
       "    .dataframe thead th {\n",
       "        text-align: right;\n",
       "    }\n",
       "</style>\n",
       "<table border=\"1\" class=\"dataframe\">\n",
       "  <thead>\n",
       "    <tr style=\"text-align: right;\">\n",
       "      <th></th>\n",
       "      <th>customer_unique_id</th>\n",
       "      <th>Recency</th>\n",
       "      <th>Frequency</th>\n",
       "      <th>Monetary</th>\n",
       "    </tr>\n",
       "  </thead>\n",
       "  <tbody>\n",
       "    <tr>\n",
       "      <th>0</th>\n",
       "      <td>0000366f3b9a7992bf8c76cfdf3221e2</td>\n",
       "      <td>115.0</td>\n",
       "      <td>1</td>\n",
       "      <td>141.90</td>\n",
       "    </tr>\n",
       "    <tr>\n",
       "      <th>1</th>\n",
       "      <td>0000b849f77a49e4a4ce2b2a4ca5be3f</td>\n",
       "      <td>118.0</td>\n",
       "      <td>1</td>\n",
       "      <td>27.19</td>\n",
       "    </tr>\n",
       "    <tr>\n",
       "      <th>2</th>\n",
       "      <td>0000f46a3911fa3c0805444483337064</td>\n",
       "      <td>541.0</td>\n",
       "      <td>1</td>\n",
       "      <td>86.22</td>\n",
       "    </tr>\n",
       "    <tr>\n",
       "      <th>3</th>\n",
       "      <td>0000f6ccb0745a6a4b88665a16c9f078</td>\n",
       "      <td>325.0</td>\n",
       "      <td>1</td>\n",
       "      <td>43.62</td>\n",
       "    </tr>\n",
       "    <tr>\n",
       "      <th>4</th>\n",
       "      <td>0004aac84e0df4da2b147fca70cf8255</td>\n",
       "      <td>292.0</td>\n",
       "      <td>1</td>\n",
       "      <td>196.89</td>\n",
       "    </tr>\n",
       "    <tr>\n",
       "      <th>...</th>\n",
       "      <td>...</td>\n",
       "      <td>...</td>\n",
       "      <td>...</td>\n",
       "      <td>...</td>\n",
       "    </tr>\n",
       "    <tr>\n",
       "      <th>94394</th>\n",
       "      <td>fffcf5a5ff07b0908bd4e2dbc735a684</td>\n",
       "      <td>451.0</td>\n",
       "      <td>1</td>\n",
       "      <td>2067.42</td>\n",
       "    </tr>\n",
       "    <tr>\n",
       "      <th>94395</th>\n",
       "      <td>fffea47cd6d3cc0a88bd621562a9d061</td>\n",
       "      <td>266.0</td>\n",
       "      <td>1</td>\n",
       "      <td>84.58</td>\n",
       "    </tr>\n",
       "    <tr>\n",
       "      <th>94396</th>\n",
       "      <td>ffff371b4d645b6ecea244b27531430a</td>\n",
       "      <td>572.0</td>\n",
       "      <td>1</td>\n",
       "      <td>112.46</td>\n",
       "    </tr>\n",
       "    <tr>\n",
       "      <th>94397</th>\n",
       "      <td>ffff5962728ec6157033ef9805bacc48</td>\n",
       "      <td>123.0</td>\n",
       "      <td>1</td>\n",
       "      <td>133.69</td>\n",
       "    </tr>\n",
       "    <tr>\n",
       "      <th>94398</th>\n",
       "      <td>ffffd2657e2aad2907e67c3e9daecbeb</td>\n",
       "      <td>488.0</td>\n",
       "      <td>1</td>\n",
       "      <td>71.56</td>\n",
       "    </tr>\n",
       "  </tbody>\n",
       "</table>\n",
       "<p>94399 rows × 4 columns</p>\n",
       "</div>"
      ],
      "text/plain": [
       "                     customer_unique_id  Recency  Frequency  Monetary\n",
       "0      0000366f3b9a7992bf8c76cfdf3221e2    115.0          1    141.90\n",
       "1      0000b849f77a49e4a4ce2b2a4ca5be3f    118.0          1     27.19\n",
       "2      0000f46a3911fa3c0805444483337064    541.0          1     86.22\n",
       "3      0000f6ccb0745a6a4b88665a16c9f078    325.0          1     43.62\n",
       "4      0004aac84e0df4da2b147fca70cf8255    292.0          1    196.89\n",
       "...                                 ...      ...        ...       ...\n",
       "94394  fffcf5a5ff07b0908bd4e2dbc735a684    451.0          1   2067.42\n",
       "94395  fffea47cd6d3cc0a88bd621562a9d061    266.0          1     84.58\n",
       "94396  ffff371b4d645b6ecea244b27531430a    572.0          1    112.46\n",
       "94397  ffff5962728ec6157033ef9805bacc48    123.0          1    133.69\n",
       "94398  ffffd2657e2aad2907e67c3e9daecbeb    488.0          1     71.56\n",
       "\n",
       "[94399 rows x 4 columns]"
      ]
     },
     "execution_count": 74,
     "metadata": {},
     "output_type": "execute_result"
    }
   ],
   "source": [
    "df_rfm = recence.merge(orders, left_on='customer_unique_id',right_on = 'customer_unique_id',how ='left')\n",
    "df_rfm"
   ]
  },
  {
   "cell_type": "markdown",
   "id": "41ade656",
   "metadata": {
    "hidden": true
   },
   "source": [
    "What type of data is the R supposed to be? Is it in the right format? (Hint : investigate the difference between `datetime` and `timedelta`) "
   ]
  },
  {
   "cell_type": "code",
   "execution_count": null,
   "id": "1ec757af",
   "metadata": {
    "hidden": true
   },
   "outputs": [],
   "source": []
  },
  {
   "cell_type": "markdown",
   "id": "e9412e54",
   "metadata": {
    "ExecuteTime": {
     "end_time": "2021-09-30T17:12:07.784903Z",
     "start_time": "2021-09-30T17:12:07.774134Z"
    },
    "hidden": true
   },
   "source": [
    "So there is one more step to carry out before the data is ready : Calculate the recency base on the date of the purchase"
   ]
  },
  {
   "cell_type": "markdown",
   "id": "1d5c27fa",
   "metadata": {
    "hidden": true
   },
   "source": [
    "❓ What is the date of the least purchase?"
   ]
  },
  {
   "cell_type": "code",
   "execution_count": 75,
   "id": "7a483e98",
   "metadata": {
    "hidden": true
   },
   "outputs": [
    {
     "data": {
      "text/plain": [
       "Timestamp('2016-09-04 21:15:19')"
      ]
     },
     "execution_count": 75,
     "metadata": {},
     "output_type": "execute_result"
    }
   ],
   "source": [
    "NOW1 = df['order_purchase_timestamp'].min()\n",
    "NOW1"
   ]
  },
  {
   "cell_type": "markdown",
   "id": "2d623bbb",
   "metadata": {
    "ExecuteTime": {
     "end_time": "2021-09-30T17:14:26.599702Z",
     "start_time": "2021-09-30T17:14:26.592777Z"
    },
    "hidden": true
   },
   "source": [
    "❓What is the date of the most recent purchase?"
   ]
  },
  {
   "cell_type": "code",
   "execution_count": 76,
   "id": "4afe4d58",
   "metadata": {
    "hidden": true
   },
   "outputs": [
    {
     "data": {
      "text/plain": [
       "Timestamp('2018-09-03 09:06:57')"
      ]
     },
     "execution_count": 76,
     "metadata": {},
     "output_type": "execute_result"
    }
   ],
   "source": [
    "NOW2 = df['order_purchase_timestamp'].max()\n",
    "NOW2"
   ]
  },
  {
   "cell_type": "markdown",
   "id": "4c54092d",
   "metadata": {
    "hidden": true
   },
   "source": [
    "❓How would you calculate the recency? (hint: what date would you use to compare with the purchase date? Today? probably not...)"
   ]
  },
  {
   "cell_type": "code",
   "execution_count": null,
   "id": "537c40bb",
   "metadata": {
    "hidden": true
   },
   "outputs": [],
   "source": []
  },
  {
   "cell_type": "markdown",
   "id": "f6705b2f",
   "metadata": {
    "hidden": true
   },
   "source": [
    "Create a feature calculating the difference between `the most recent purchased + 1 day`, and `order_purchase_timestamp`."
   ]
  },
  {
   "cell_type": "code",
   "execution_count": 77,
   "id": "881822f2",
   "metadata": {
    "hidden": true
   },
   "outputs": [
    {
     "data": {
      "text/plain": [
       "Timedelta('727 days 11:51:38')"
      ]
     },
     "execution_count": 77,
     "metadata": {},
     "output_type": "execute_result"
    }
   ],
   "source": [
    "difference = NOW2 - (NOW1 + timedelta(days=1))\n",
    "difference"
   ]
  },
  {
   "cell_type": "markdown",
   "id": "258ca32b",
   "metadata": {
    "hidden": true
   },
   "source": [
    "Now that you have created a new dataset with the right columns, explore it to understand what you created."
   ]
  },
  {
   "cell_type": "markdown",
   "id": "813d87c9",
   "metadata": {
    "hidden": true
   },
   "source": [
    "❓Which column is the R? The F? The M?"
   ]
  },
  {
   "cell_type": "code",
   "execution_count": null,
   "id": "b7385417",
   "metadata": {
    "hidden": true
   },
   "outputs": [],
   "source": []
  },
  {
   "cell_type": "markdown",
   "id": "06477a58",
   "metadata": {
    "hidden": true
   },
   "source": [
    "Now for each metric independantly, build clutsers (Hint 1: you can use `.describe()` to have insights about each metrics. Hint 2: Don't choose more than 3 clusters)"
   ]
  },
  {
   "cell_type": "code",
   "execution_count": 17,
   "id": "50619e6f",
   "metadata": {
    "hidden": true
   },
   "outputs": [
    {
     "data": {
      "text/html": [
       "<div>\n",
       "<style scoped>\n",
       "    .dataframe tbody tr th:only-of-type {\n",
       "        vertical-align: middle;\n",
       "    }\n",
       "\n",
       "    .dataframe tbody tr th {\n",
       "        vertical-align: top;\n",
       "    }\n",
       "\n",
       "    .dataframe thead th {\n",
       "        text-align: right;\n",
       "    }\n",
       "</style>\n",
       "<table border=\"1\" class=\"dataframe\">\n",
       "  <thead>\n",
       "    <tr style=\"text-align: right;\">\n",
       "      <th></th>\n",
       "      <th>Recency</th>\n",
       "      <th>Frequency</th>\n",
       "      <th>Monetary</th>\n",
       "    </tr>\n",
       "  </thead>\n",
       "  <tbody>\n",
       "    <tr>\n",
       "      <th>count</th>\n",
       "      <td>94399.000000</td>\n",
       "      <td>94399.000000</td>\n",
       "      <td>94399.000000</td>\n",
       "    </tr>\n",
       "    <tr>\n",
       "      <th>mean</th>\n",
       "      <td>241.864162</td>\n",
       "      <td>1.095393</td>\n",
       "      <td>168.250134</td>\n",
       "    </tr>\n",
       "    <tr>\n",
       "      <th>std</th>\n",
       "      <td>152.723176</td>\n",
       "      <td>0.530316</td>\n",
       "      <td>232.880460</td>\n",
       "    </tr>\n",
       "    <tr>\n",
       "      <th>min</th>\n",
       "      <td>0.000000</td>\n",
       "      <td>0.000000</td>\n",
       "      <td>0.000000</td>\n",
       "    </tr>\n",
       "    <tr>\n",
       "      <th>25%</th>\n",
       "      <td>118.000000</td>\n",
       "      <td>1.000000</td>\n",
       "      <td>63.110000</td>\n",
       "    </tr>\n",
       "    <tr>\n",
       "      <th>50%</th>\n",
       "      <td>223.000000</td>\n",
       "      <td>1.000000</td>\n",
       "      <td>108.100000</td>\n",
       "    </tr>\n",
       "    <tr>\n",
       "      <th>75%</th>\n",
       "      <td>351.000000</td>\n",
       "      <td>1.000000</td>\n",
       "      <td>184.590000</td>\n",
       "    </tr>\n",
       "    <tr>\n",
       "      <th>max</th>\n",
       "      <td>728.000000</td>\n",
       "      <td>54.000000</td>\n",
       "      <td>13664.080000</td>\n",
       "    </tr>\n",
       "  </tbody>\n",
       "</table>\n",
       "</div>"
      ],
      "text/plain": [
       "            Recency     Frequency      Monetary\n",
       "count  94399.000000  94399.000000  94399.000000\n",
       "mean     241.864162      1.095393    168.250134\n",
       "std      152.723176      0.530316    232.880460\n",
       "min        0.000000      0.000000      0.000000\n",
       "25%      118.000000      1.000000     63.110000\n",
       "50%      223.000000      1.000000    108.100000\n",
       "75%      351.000000      1.000000    184.590000\n",
       "max      728.000000     54.000000  13664.080000"
      ]
     },
     "execution_count": 17,
     "metadata": {},
     "output_type": "execute_result"
    }
   ],
   "source": [
    "df_rfm.describe()"
   ]
  },
  {
   "cell_type": "code",
   "execution_count": 78,
   "id": "715ec14f",
   "metadata": {
    "code_folding": [],
    "hidden": true
   },
   "outputs": [],
   "source": [
    "###Calculating quantile values\n",
    "quintiles = df_rfm[['Recency', 'Frequency', 'Monetary']].quantile([.2, .8]).to_dict()\n",
    "###Benchmark to give score for Recency indicator\n",
    "def r_score(r):\n",
    "    if r < quintiles['Recency'][.2]:\n",
    "        return 3 \n",
    "    elif r < quintiles['Recency'][.8]:\n",
    "        return 2\n",
    "    else: \n",
    "        return 1\n",
    "###Benchmark to give score for Frequency indicator.   \n",
    "def f_score(f): \n",
    "    if f > quintiles['Frequency'][.8]:\n",
    "        return 3\n",
    "    elif f > quintiles['Frequency'][.2]: \n",
    "        return 2\n",
    "    else: \n",
    "        return 1\n",
    "###Benchmark to give score for Monetary indicator\n",
    "def m_score(m): \n",
    "    if m > quintiles['Monetary'][.8]:\n",
    "        return 3\n",
    "    elif m > quintiles['Monetary'][.2]: \n",
    "        return 2\n",
    "    else: \n",
    "        return 1"
   ]
  },
  {
   "cell_type": "code",
   "execution_count": 79,
   "id": "7188ae54",
   "metadata": {
    "hidden": true
   },
   "outputs": [
    {
     "data": {
      "text/html": [
       "<div>\n",
       "<style scoped>\n",
       "    .dataframe tbody tr th:only-of-type {\n",
       "        vertical-align: middle;\n",
       "    }\n",
       "\n",
       "    .dataframe tbody tr th {\n",
       "        vertical-align: top;\n",
       "    }\n",
       "\n",
       "    .dataframe thead th {\n",
       "        text-align: right;\n",
       "    }\n",
       "</style>\n",
       "<table border=\"1\" class=\"dataframe\">\n",
       "  <thead>\n",
       "    <tr style=\"text-align: right;\">\n",
       "      <th></th>\n",
       "      <th>customer_unique_id</th>\n",
       "      <th>Recency</th>\n",
       "      <th>Frequency</th>\n",
       "      <th>Monetary</th>\n",
       "      <th>r_score</th>\n",
       "      <th>f_score</th>\n",
       "      <th>m_score</th>\n",
       "      <th>rfm</th>\n",
       "    </tr>\n",
       "  </thead>\n",
       "  <tbody>\n",
       "    <tr>\n",
       "      <th>0</th>\n",
       "      <td>0000366f3b9a7992bf8c76cfdf3221e2</td>\n",
       "      <td>115.0</td>\n",
       "      <td>1</td>\n",
       "      <td>141.90</td>\n",
       "      <td>2</td>\n",
       "      <td>1</td>\n",
       "      <td>2</td>\n",
       "      <td>212</td>\n",
       "    </tr>\n",
       "    <tr>\n",
       "      <th>1</th>\n",
       "      <td>0000b849f77a49e4a4ce2b2a4ca5be3f</td>\n",
       "      <td>118.0</td>\n",
       "      <td>1</td>\n",
       "      <td>27.19</td>\n",
       "      <td>2</td>\n",
       "      <td>1</td>\n",
       "      <td>1</td>\n",
       "      <td>211</td>\n",
       "    </tr>\n",
       "    <tr>\n",
       "      <th>2</th>\n",
       "      <td>0000f46a3911fa3c0805444483337064</td>\n",
       "      <td>541.0</td>\n",
       "      <td>1</td>\n",
       "      <td>86.22</td>\n",
       "      <td>1</td>\n",
       "      <td>1</td>\n",
       "      <td>2</td>\n",
       "      <td>112</td>\n",
       "    </tr>\n",
       "    <tr>\n",
       "      <th>3</th>\n",
       "      <td>0000f6ccb0745a6a4b88665a16c9f078</td>\n",
       "      <td>325.0</td>\n",
       "      <td>1</td>\n",
       "      <td>43.62</td>\n",
       "      <td>2</td>\n",
       "      <td>1</td>\n",
       "      <td>1</td>\n",
       "      <td>211</td>\n",
       "    </tr>\n",
       "    <tr>\n",
       "      <th>4</th>\n",
       "      <td>0004aac84e0df4da2b147fca70cf8255</td>\n",
       "      <td>292.0</td>\n",
       "      <td>1</td>\n",
       "      <td>196.89</td>\n",
       "      <td>2</td>\n",
       "      <td>1</td>\n",
       "      <td>2</td>\n",
       "      <td>212</td>\n",
       "    </tr>\n",
       "    <tr>\n",
       "      <th>...</th>\n",
       "      <td>...</td>\n",
       "      <td>...</td>\n",
       "      <td>...</td>\n",
       "      <td>...</td>\n",
       "      <td>...</td>\n",
       "      <td>...</td>\n",
       "      <td>...</td>\n",
       "      <td>...</td>\n",
       "    </tr>\n",
       "    <tr>\n",
       "      <th>94394</th>\n",
       "      <td>fffcf5a5ff07b0908bd4e2dbc735a684</td>\n",
       "      <td>451.0</td>\n",
       "      <td>1</td>\n",
       "      <td>2067.42</td>\n",
       "      <td>1</td>\n",
       "      <td>1</td>\n",
       "      <td>3</td>\n",
       "      <td>113</td>\n",
       "    </tr>\n",
       "    <tr>\n",
       "      <th>94395</th>\n",
       "      <td>fffea47cd6d3cc0a88bd621562a9d061</td>\n",
       "      <td>266.0</td>\n",
       "      <td>1</td>\n",
       "      <td>84.58</td>\n",
       "      <td>2</td>\n",
       "      <td>1</td>\n",
       "      <td>2</td>\n",
       "      <td>212</td>\n",
       "    </tr>\n",
       "    <tr>\n",
       "      <th>94396</th>\n",
       "      <td>ffff371b4d645b6ecea244b27531430a</td>\n",
       "      <td>572.0</td>\n",
       "      <td>1</td>\n",
       "      <td>112.46</td>\n",
       "      <td>1</td>\n",
       "      <td>1</td>\n",
       "      <td>2</td>\n",
       "      <td>112</td>\n",
       "    </tr>\n",
       "    <tr>\n",
       "      <th>94397</th>\n",
       "      <td>ffff5962728ec6157033ef9805bacc48</td>\n",
       "      <td>123.0</td>\n",
       "      <td>1</td>\n",
       "      <td>133.69</td>\n",
       "      <td>2</td>\n",
       "      <td>1</td>\n",
       "      <td>2</td>\n",
       "      <td>212</td>\n",
       "    </tr>\n",
       "    <tr>\n",
       "      <th>94398</th>\n",
       "      <td>ffffd2657e2aad2907e67c3e9daecbeb</td>\n",
       "      <td>488.0</td>\n",
       "      <td>1</td>\n",
       "      <td>71.56</td>\n",
       "      <td>1</td>\n",
       "      <td>1</td>\n",
       "      <td>2</td>\n",
       "      <td>112</td>\n",
       "    </tr>\n",
       "  </tbody>\n",
       "</table>\n",
       "<p>94399 rows × 8 columns</p>\n",
       "</div>"
      ],
      "text/plain": [
       "                     customer_unique_id  Recency  Frequency  Monetary  \\\n",
       "0      0000366f3b9a7992bf8c76cfdf3221e2    115.0          1    141.90   \n",
       "1      0000b849f77a49e4a4ce2b2a4ca5be3f    118.0          1     27.19   \n",
       "2      0000f46a3911fa3c0805444483337064    541.0          1     86.22   \n",
       "3      0000f6ccb0745a6a4b88665a16c9f078    325.0          1     43.62   \n",
       "4      0004aac84e0df4da2b147fca70cf8255    292.0          1    196.89   \n",
       "...                                 ...      ...        ...       ...   \n",
       "94394  fffcf5a5ff07b0908bd4e2dbc735a684    451.0          1   2067.42   \n",
       "94395  fffea47cd6d3cc0a88bd621562a9d061    266.0          1     84.58   \n",
       "94396  ffff371b4d645b6ecea244b27531430a    572.0          1    112.46   \n",
       "94397  ffff5962728ec6157033ef9805bacc48    123.0          1    133.69   \n",
       "94398  ffffd2657e2aad2907e67c3e9daecbeb    488.0          1     71.56   \n",
       "\n",
       "       r_score  f_score  m_score  rfm  \n",
       "0            2        1        2  212  \n",
       "1            2        1        1  211  \n",
       "2            1        1        2  112  \n",
       "3            2        1        1  211  \n",
       "4            2        1        2  212  \n",
       "...        ...      ...      ...  ...  \n",
       "94394        1        1        3  113  \n",
       "94395        2        1        2  212  \n",
       "94396        1        1        2  112  \n",
       "94397        2        1        2  212  \n",
       "94398        1        1        2  112  \n",
       "\n",
       "[94399 rows x 8 columns]"
      ]
     },
     "execution_count": 79,
     "metadata": {},
     "output_type": "execute_result"
    }
   ],
   "source": [
    "rfm2 = df_rfm.copy()\n",
    "rfm2['r_score'] = rfm2.Recency.apply(lambda x: r_score(x))\n",
    "rfm2['f_score'] = rfm2.Frequency.apply(lambda x: f_score(x))\n",
    "rfm2['m_score'] = rfm2.Monetary.apply(lambda x: m_score(x))\n",
    "rfm2['rfm'] = rfm2['r_score'].map(str)+rfm2['f_score'].map(str) + rfm2['m_score'].map(str)\n",
    "rfm2"
   ]
  },
  {
   "cell_type": "code",
   "execution_count": 33,
   "id": "484a2e17",
   "metadata": {
    "hidden": true
   },
   "outputs": [
    {
     "data": {
      "text/plain": [
       "212    32440\n",
       "211    10848\n",
       "312    10737\n",
       "112    10537\n",
       "213     9658\n",
       "111     3798\n",
       "311     3637\n",
       "113     3305\n",
       "313     3155\n",
       "232     1747\n",
       "233     1661\n",
       "132      648\n",
       "333      634\n",
       "332      535\n",
       "133      466\n",
       "231      357\n",
       "131      142\n",
       "331       94\n",
       "Name: rfm, dtype: int64"
      ]
     },
     "execution_count": 33,
     "metadata": {},
     "output_type": "execute_result"
    }
   ],
   "source": [
    "rfm2['rfm'].value_counts()"
   ]
  },
  {
   "cell_type": "code",
   "execution_count": 80,
   "id": "13d408e9",
   "metadata": {
    "hidden": true
   },
   "outputs": [
    {
     "data": {
      "text/plain": [
       "0        212\n",
       "1        211\n",
       "2        112\n",
       "3        211\n",
       "4        212\n",
       "        ... \n",
       "94394    113\n",
       "94395    212\n",
       "94396    112\n",
       "94397    212\n",
       "94398    112\n",
       "Name: rfm, Length: 94399, dtype: object"
      ]
     },
     "execution_count": 80,
     "metadata": {},
     "output_type": "execute_result"
    }
   ],
   "source": [
    "rfm2['rfm'].astype(str)"
   ]
  },
  {
   "cell_type": "code",
   "execution_count": 3,
   "id": "0d04bb01",
   "metadata": {
    "hidden": true
   },
   "outputs": [],
   "source": [
    "# ###Loyal Customers, who are the champions of all the customers with highest score of RFM. \n",
    "# rfm2_group1 = rfm2[rfm2['rfm']=='333']\n",
    "# rfm2_group1['label'] = 'champion'\n",
    "# ###Customers who have the most potential to become the Champions. They recently buy the products and they make their purchases quite frequently. Moreover, the amount they spent is quite great. rfm2_group2 = rfm2[rfm2['rfm'].str.contains('332|331|323|313')] \n",
    "# rfm2_group2 = rfm2[rfm2['rfm']=='332']\n",
    "# rfm2_group2['label'] = 'potential1'\n",
    "# ###Customers whose frequency score and monetary score are slightly lower than potential 1 group\n",
    "# rfm2_group3 = rfm2[rfm2['rfm'].str.contains('321|322|311|312')] \n",
    "# rfm2_group3['label'] = 'potential2'\n",
    "# ###Customers who used to pay a lot of money and come to the store frequently. They did not purchase recently. \n",
    "# rfm2_group4 = rfm2[rfm2['rfm'].str.contains('233')]\n",
    "# rfm2_group4['label'] = 'needing_attention1'\n",
    "# ###Customers who do not come to store often and not frequently make purchases.\n",
    "# rfm2_group5 = rfm2[rfm2['rfm'].str.contains('223|213|212|231|232|211|221|222')]\n",
    "# rfm2_group5['label'] = 'needing_attention2'\n",
    "# ###Customers who haven't paid a visit to the store for a long time. However, once in a while, they do spend lot of money\n",
    "# rfm2_group6 = rfm2[rfm2['rfm'].str.contains('132|123|113|133')]\n",
    "# rfm2_group6['label'] = 'lost1'\n",
    "# ###Customers who churn\n",
    "# rfm2_group7 = rfm2[rfm2['rfm'].str.contains('111|112|121|122|131')]\n",
    "# rfm2_group7['label'] = 'lost2'"
   ]
  },
  {
   "cell_type": "markdown",
   "id": "1179193a",
   "metadata": {
    "hidden": true
   },
   "source": [
    "Now that you have clusters for each category, explain the different buying behaviors"
   ]
  },
  {
   "cell_type": "code",
   "execution_count": 81,
   "id": "cd798bff",
   "metadata": {
    "hidden": true
   },
   "outputs": [
    {
     "data": {
      "text/html": [
       "<div>\n",
       "<style scoped>\n",
       "    .dataframe tbody tr th:only-of-type {\n",
       "        vertical-align: middle;\n",
       "    }\n",
       "\n",
       "    .dataframe tbody tr th {\n",
       "        vertical-align: top;\n",
       "    }\n",
       "\n",
       "    .dataframe thead th {\n",
       "        text-align: right;\n",
       "    }\n",
       "</style>\n",
       "<table border=\"1\" class=\"dataframe\">\n",
       "  <thead>\n",
       "    <tr style=\"text-align: right;\">\n",
       "      <th></th>\n",
       "      <th>customer_unique_id</th>\n",
       "      <th>Recency</th>\n",
       "      <th>Frequency</th>\n",
       "      <th>Monetary</th>\n",
       "      <th>r_score</th>\n",
       "      <th>f_score</th>\n",
       "      <th>m_score</th>\n",
       "      <th>rfm</th>\n",
       "    </tr>\n",
       "  </thead>\n",
       "  <tbody>\n",
       "    <tr>\n",
       "      <th>0</th>\n",
       "      <td>0000366f3b9a7992bf8c76cfdf3221e2</td>\n",
       "      <td>115.0</td>\n",
       "      <td>1</td>\n",
       "      <td>141.90</td>\n",
       "      <td>2</td>\n",
       "      <td>1</td>\n",
       "      <td>2</td>\n",
       "      <td>212</td>\n",
       "    </tr>\n",
       "    <tr>\n",
       "      <th>1</th>\n",
       "      <td>0000b849f77a49e4a4ce2b2a4ca5be3f</td>\n",
       "      <td>118.0</td>\n",
       "      <td>1</td>\n",
       "      <td>27.19</td>\n",
       "      <td>2</td>\n",
       "      <td>1</td>\n",
       "      <td>1</td>\n",
       "      <td>211</td>\n",
       "    </tr>\n",
       "    <tr>\n",
       "      <th>2</th>\n",
       "      <td>0000f46a3911fa3c0805444483337064</td>\n",
       "      <td>541.0</td>\n",
       "      <td>1</td>\n",
       "      <td>86.22</td>\n",
       "      <td>1</td>\n",
       "      <td>1</td>\n",
       "      <td>2</td>\n",
       "      <td>112</td>\n",
       "    </tr>\n",
       "    <tr>\n",
       "      <th>3</th>\n",
       "      <td>0000f6ccb0745a6a4b88665a16c9f078</td>\n",
       "      <td>325.0</td>\n",
       "      <td>1</td>\n",
       "      <td>43.62</td>\n",
       "      <td>2</td>\n",
       "      <td>1</td>\n",
       "      <td>1</td>\n",
       "      <td>211</td>\n",
       "    </tr>\n",
       "    <tr>\n",
       "      <th>4</th>\n",
       "      <td>0004aac84e0df4da2b147fca70cf8255</td>\n",
       "      <td>292.0</td>\n",
       "      <td>1</td>\n",
       "      <td>196.89</td>\n",
       "      <td>2</td>\n",
       "      <td>1</td>\n",
       "      <td>2</td>\n",
       "      <td>212</td>\n",
       "    </tr>\n",
       "    <tr>\n",
       "      <th>...</th>\n",
       "      <td>...</td>\n",
       "      <td>...</td>\n",
       "      <td>...</td>\n",
       "      <td>...</td>\n",
       "      <td>...</td>\n",
       "      <td>...</td>\n",
       "      <td>...</td>\n",
       "      <td>...</td>\n",
       "    </tr>\n",
       "    <tr>\n",
       "      <th>94394</th>\n",
       "      <td>fffcf5a5ff07b0908bd4e2dbc735a684</td>\n",
       "      <td>451.0</td>\n",
       "      <td>1</td>\n",
       "      <td>2067.42</td>\n",
       "      <td>1</td>\n",
       "      <td>1</td>\n",
       "      <td>3</td>\n",
       "      <td>113</td>\n",
       "    </tr>\n",
       "    <tr>\n",
       "      <th>94395</th>\n",
       "      <td>fffea47cd6d3cc0a88bd621562a9d061</td>\n",
       "      <td>266.0</td>\n",
       "      <td>1</td>\n",
       "      <td>84.58</td>\n",
       "      <td>2</td>\n",
       "      <td>1</td>\n",
       "      <td>2</td>\n",
       "      <td>212</td>\n",
       "    </tr>\n",
       "    <tr>\n",
       "      <th>94396</th>\n",
       "      <td>ffff371b4d645b6ecea244b27531430a</td>\n",
       "      <td>572.0</td>\n",
       "      <td>1</td>\n",
       "      <td>112.46</td>\n",
       "      <td>1</td>\n",
       "      <td>1</td>\n",
       "      <td>2</td>\n",
       "      <td>112</td>\n",
       "    </tr>\n",
       "    <tr>\n",
       "      <th>94397</th>\n",
       "      <td>ffff5962728ec6157033ef9805bacc48</td>\n",
       "      <td>123.0</td>\n",
       "      <td>1</td>\n",
       "      <td>133.69</td>\n",
       "      <td>2</td>\n",
       "      <td>1</td>\n",
       "      <td>2</td>\n",
       "      <td>212</td>\n",
       "    </tr>\n",
       "    <tr>\n",
       "      <th>94398</th>\n",
       "      <td>ffffd2657e2aad2907e67c3e9daecbeb</td>\n",
       "      <td>488.0</td>\n",
       "      <td>1</td>\n",
       "      <td>71.56</td>\n",
       "      <td>1</td>\n",
       "      <td>1</td>\n",
       "      <td>2</td>\n",
       "      <td>112</td>\n",
       "    </tr>\n",
       "  </tbody>\n",
       "</table>\n",
       "<p>94399 rows × 8 columns</p>\n",
       "</div>"
      ],
      "text/plain": [
       "                     customer_unique_id  Recency  Frequency  Monetary  \\\n",
       "0      0000366f3b9a7992bf8c76cfdf3221e2    115.0          1    141.90   \n",
       "1      0000b849f77a49e4a4ce2b2a4ca5be3f    118.0          1     27.19   \n",
       "2      0000f46a3911fa3c0805444483337064    541.0          1     86.22   \n",
       "3      0000f6ccb0745a6a4b88665a16c9f078    325.0          1     43.62   \n",
       "4      0004aac84e0df4da2b147fca70cf8255    292.0          1    196.89   \n",
       "...                                 ...      ...        ...       ...   \n",
       "94394  fffcf5a5ff07b0908bd4e2dbc735a684    451.0          1   2067.42   \n",
       "94395  fffea47cd6d3cc0a88bd621562a9d061    266.0          1     84.58   \n",
       "94396  ffff371b4d645b6ecea244b27531430a    572.0          1    112.46   \n",
       "94397  ffff5962728ec6157033ef9805bacc48    123.0          1    133.69   \n",
       "94398  ffffd2657e2aad2907e67c3e9daecbeb    488.0          1     71.56   \n",
       "\n",
       "       r_score  f_score  m_score  rfm  \n",
       "0            2        1        2  212  \n",
       "1            2        1        1  211  \n",
       "2            1        1        2  112  \n",
       "3            2        1        1  211  \n",
       "4            2        1        2  212  \n",
       "...        ...      ...      ...  ...  \n",
       "94394        1        1        3  113  \n",
       "94395        2        1        2  212  \n",
       "94396        1        1        2  112  \n",
       "94397        2        1        2  212  \n",
       "94398        1        1        2  112  \n",
       "\n",
       "[94399 rows x 8 columns]"
      ]
     },
     "execution_count": 81,
     "metadata": {},
     "output_type": "execute_result"
    }
   ],
   "source": [
    "rfm2"
   ]
  },
  {
   "cell_type": "markdown",
   "id": "35e5c910",
   "metadata": {},
   "source": [
    "# Working with cohorts"
   ]
  },
  {
   "cell_type": "markdown",
   "id": "dfff1220",
   "metadata": {},
   "source": [
    "❓What is a cohort? "
   ]
  },
  {
   "cell_type": "markdown",
   "id": "04c65842",
   "metadata": {},
   "source": [
    "A cohort is a group of people sharing same characteristics or behaviour."
   ]
  },
  {
   "cell_type": "markdown",
   "id": "52799839",
   "metadata": {},
   "source": [
    "❓Why is it interesting to analyse cohorts ? "
   ]
  },
  {
   "cell_type": "markdown",
   "id": "57d51ed1",
   "metadata": {},
   "source": [
    "This type of analysis is interesting because you can find different groups of customers who have the same pattern when using your site or brand. It allows you to ask more specific question, more targeted question and make inform product decision that will reduce the loss of customers and increase your revenue."
   ]
  },
  {
   "cell_type": "markdown",
   "id": "6b920111",
   "metadata": {
    "ExecuteTime": {
     "end_time": "2021-10-02T12:45:56.885240Z",
     "start_time": "2021-10-02T12:45:56.851306Z"
    }
   },
   "source": [
    "❓What data (already existing in the original dataset) do we need to build a cohort? "
   ]
  },
  {
   "cell_type": "markdown",
   "id": "1d0d0785",
   "metadata": {},
   "source": [
    "We need these features: customer_unique_id, order_purchase_timestamp and order_id"
   ]
  },
  {
   "cell_type": "markdown",
   "id": "cc8dda95",
   "metadata": {
    "ExecuteTime": {
     "end_time": "2021-10-02T12:49:04.915097Z",
     "start_time": "2021-10-02T12:49:04.910544Z"
    }
   },
   "source": [
    "Build a new df with just these 3 features"
   ]
  },
  {
   "cell_type": "code",
   "execution_count": 55,
   "id": "0cca0c76",
   "metadata": {},
   "outputs": [
    {
     "name": "stderr",
     "output_type": "stream",
     "text": [
      "<ipython-input-55-f09715792a6d>:2: SettingWithCopyWarning: \n",
      "A value is trying to be set on a copy of a slice from a DataFrame.\n",
      "Try using .loc[row_indexer,col_indexer] = value instead\n",
      "\n",
      "See the caveats in the documentation: https://pandas.pydata.org/pandas-docs/stable/user_guide/indexing.html#returning-a-view-versus-a-copy\n",
      "  df_c['order_purchase_timestamp'] = df_c['order_purchase_timestamp'].apply(pd.to_datetime)\n"
     ]
    }
   ],
   "source": [
    "df_c = df[['customer_unique_id', 'order_purchase_timestamp', 'order_id']]\n",
    "df_c['order_purchase_timestamp'] = df_c['order_purchase_timestamp'].apply(pd.to_datetime)"
   ]
  },
  {
   "cell_type": "code",
   "execution_count": 57,
   "id": "a64bc915",
   "metadata": {},
   "outputs": [],
   "source": [
    "# df_c.info()"
   ]
  },
  {
   "cell_type": "markdown",
   "id": "51ebf23b",
   "metadata": {},
   "source": [
    "Using the `pandas.Serie.dt.to_period()` methode, create a new feature converting `order_purchase_timestamp` in months"
   ]
  },
  {
   "cell_type": "code",
   "execution_count": 58,
   "id": "bdcf3e15",
   "metadata": {},
   "outputs": [
    {
     "name": "stderr",
     "output_type": "stream",
     "text": [
      "<ipython-input-58-ae54ea53a353>:5: SettingWithCopyWarning: \n",
      "A value is trying to be set on a copy of a slice from a DataFrame.\n",
      "Try using .loc[row_indexer,col_indexer] = value instead\n",
      "\n",
      "See the caveats in the documentation: https://pandas.pydata.org/pandas-docs/stable/user_guide/indexing.html#returning-a-view-versus-a-copy\n",
      "  df_c['order_months'] = months.to_period('M')\n"
     ]
    },
    {
     "data": {
      "text/html": [
       "<div>\n",
       "<style scoped>\n",
       "    .dataframe tbody tr th:only-of-type {\n",
       "        vertical-align: middle;\n",
       "    }\n",
       "\n",
       "    .dataframe tbody tr th {\n",
       "        vertical-align: top;\n",
       "    }\n",
       "\n",
       "    .dataframe thead th {\n",
       "        text-align: right;\n",
       "    }\n",
       "</style>\n",
       "<table border=\"1\" class=\"dataframe\">\n",
       "  <thead>\n",
       "    <tr style=\"text-align: right;\">\n",
       "      <th></th>\n",
       "      <th>customer_unique_id</th>\n",
       "      <th>order_purchase_timestamp</th>\n",
       "      <th>order_id</th>\n",
       "      <th>order_months</th>\n",
       "    </tr>\n",
       "  </thead>\n",
       "  <tbody>\n",
       "    <tr>\n",
       "      <th>0</th>\n",
       "      <td>7c396fd4830fd04220f754e42b4e5bff</td>\n",
       "      <td>2017-10-02 10:56:33</td>\n",
       "      <td>e481f51cbdc54678b7cc49136f2d6af7</td>\n",
       "      <td>2017-10</td>\n",
       "    </tr>\n",
       "    <tr>\n",
       "      <th>1</th>\n",
       "      <td>7c396fd4830fd04220f754e42b4e5bff</td>\n",
       "      <td>2017-10-02 10:56:33</td>\n",
       "      <td>e481f51cbdc54678b7cc49136f2d6af7</td>\n",
       "      <td>2017-10</td>\n",
       "    </tr>\n",
       "    <tr>\n",
       "      <th>2</th>\n",
       "      <td>7c396fd4830fd04220f754e42b4e5bff</td>\n",
       "      <td>2017-10-02 10:56:33</td>\n",
       "      <td>e481f51cbdc54678b7cc49136f2d6af7</td>\n",
       "      <td>2017-10</td>\n",
       "    </tr>\n",
       "    <tr>\n",
       "      <th>3</th>\n",
       "      <td>af07308b275d755c9edb36a90c618231</td>\n",
       "      <td>2018-07-24 20:41:37</td>\n",
       "      <td>53cdb2fc8bc7dce0b6741e2150273451</td>\n",
       "      <td>2018-07</td>\n",
       "    </tr>\n",
       "    <tr>\n",
       "      <th>4</th>\n",
       "      <td>3a653a41f6f9fc3d2a113cf8398680e8</td>\n",
       "      <td>2018-08-08 08:38:49</td>\n",
       "      <td>47770eb9100c2d0c44946d9cf07ec65d</td>\n",
       "      <td>2018-08</td>\n",
       "    </tr>\n",
       "    <tr>\n",
       "      <th>...</th>\n",
       "      <td>...</td>\n",
       "      <td>...</td>\n",
       "      <td>...</td>\n",
       "      <td>...</td>\n",
       "    </tr>\n",
       "    <tr>\n",
       "      <th>105378</th>\n",
       "      <td>6359f309b166b0196dbf7ad2ac62bb5a</td>\n",
       "      <td>2017-03-09 09:54:05</td>\n",
       "      <td>9c5dedf39a927c1b2549525ed64a053c</td>\n",
       "      <td>2017-03</td>\n",
       "    </tr>\n",
       "    <tr>\n",
       "      <th>105379</th>\n",
       "      <td>da62f9e57a76d978d02ab5362c509660</td>\n",
       "      <td>2018-02-06 12:58:58</td>\n",
       "      <td>63943bddc261676b46f01ca7ac2f7bd8</td>\n",
       "      <td>2018-02</td>\n",
       "    </tr>\n",
       "    <tr>\n",
       "      <th>105380</th>\n",
       "      <td>737520a9aad80b3fbbdad19b66b37b30</td>\n",
       "      <td>2017-08-27 14:46:43</td>\n",
       "      <td>83c1379a015df1e13d02aae0204711ab</td>\n",
       "      <td>2017-08</td>\n",
       "    </tr>\n",
       "    <tr>\n",
       "      <th>105381</th>\n",
       "      <td>5097a5312c8b157bb7be58ae360ef43c</td>\n",
       "      <td>2018-01-08 21:28:27</td>\n",
       "      <td>11c177c8e97725db2631073c19f07b62</td>\n",
       "      <td>2018-01</td>\n",
       "    </tr>\n",
       "    <tr>\n",
       "      <th>105382</th>\n",
       "      <td>60350aa974b26ff12caad89e55993bd6</td>\n",
       "      <td>2018-03-08 20:57:30</td>\n",
       "      <td>66dea50a8b16d9b4dee7af250b4be1a5</td>\n",
       "      <td>2018-03</td>\n",
       "    </tr>\n",
       "  </tbody>\n",
       "</table>\n",
       "<p>105383 rows × 4 columns</p>\n",
       "</div>"
      ],
      "text/plain": [
       "                      customer_unique_id order_purchase_timestamp  \\\n",
       "0       7c396fd4830fd04220f754e42b4e5bff      2017-10-02 10:56:33   \n",
       "1       7c396fd4830fd04220f754e42b4e5bff      2017-10-02 10:56:33   \n",
       "2       7c396fd4830fd04220f754e42b4e5bff      2017-10-02 10:56:33   \n",
       "3       af07308b275d755c9edb36a90c618231      2018-07-24 20:41:37   \n",
       "4       3a653a41f6f9fc3d2a113cf8398680e8      2018-08-08 08:38:49   \n",
       "...                                  ...                      ...   \n",
       "105378  6359f309b166b0196dbf7ad2ac62bb5a      2017-03-09 09:54:05   \n",
       "105379  da62f9e57a76d978d02ab5362c509660      2018-02-06 12:58:58   \n",
       "105380  737520a9aad80b3fbbdad19b66b37b30      2017-08-27 14:46:43   \n",
       "105381  5097a5312c8b157bb7be58ae360ef43c      2018-01-08 21:28:27   \n",
       "105382  60350aa974b26ff12caad89e55993bd6      2018-03-08 20:57:30   \n",
       "\n",
       "                                order_id order_months  \n",
       "0       e481f51cbdc54678b7cc49136f2d6af7      2017-10  \n",
       "1       e481f51cbdc54678b7cc49136f2d6af7      2017-10  \n",
       "2       e481f51cbdc54678b7cc49136f2d6af7      2017-10  \n",
       "3       53cdb2fc8bc7dce0b6741e2150273451      2018-07  \n",
       "4       47770eb9100c2d0c44946d9cf07ec65d      2018-08  \n",
       "...                                  ...          ...  \n",
       "105378  9c5dedf39a927c1b2549525ed64a053c      2017-03  \n",
       "105379  63943bddc261676b46f01ca7ac2f7bd8      2018-02  \n",
       "105380  83c1379a015df1e13d02aae0204711ab      2017-08  \n",
       "105381  11c177c8e97725db2631073c19f07b62      2018-01  \n",
       "105382  66dea50a8b16d9b4dee7af250b4be1a5      2018-03  \n",
       "\n",
       "[105383 rows x 4 columns]"
      ]
     },
     "execution_count": 58,
     "metadata": {},
     "output_type": "execute_result"
    }
   ],
   "source": [
    "# First, we need to apply .DatetimeIndex to our column\n",
    "months = pd.DatetimeIndex(df_c['order_purchase_timestamp'])\n",
    "\n",
    "# Then, we create a new column, with these new values (months)\n",
    "df_c['order_months'] = months.to_period('M')\n",
    "\n",
    "df_c"
   ]
  },
  {
   "cell_type": "markdown",
   "id": "0745b252",
   "metadata": {},
   "source": [
    "Create a new feature called `cohort` by grouping the previous df by `customer_unique_id`, and tranforming it's minimum value in months (with the same `pandas.Serie.dt.to_period()` as before)"
   ]
  },
  {
   "cell_type": "code",
   "execution_count": 59,
   "id": "3a6a8791",
   "metadata": {
    "ExecuteTime": {
     "end_time": "2021-10-03T11:52:19.937302Z",
     "start_time": "2021-10-03T11:52:19.447211Z"
    }
   },
   "outputs": [],
   "source": [
    "# For the teachers, To filter by only the customer that have done 2 or more purchases\n",
    "df_more = pd.DataFrame(df_c.groupby('customer_unique_id').size()[df_c.groupby('customer_unique_id').size() > 1])\n",
    "df_c = df_c.merge(df_more, how='left', on='customer_unique_id').rename(columns={0:'na'})\n",
    "\n",
    "df_c = df_c[df_c['na'].notna()]"
   ]
  },
  {
   "cell_type": "code",
   "execution_count": 61,
   "id": "264aa77d",
   "metadata": {
    "ExecuteTime": {
     "end_time": "2021-10-03T12:08:07.300810Z",
     "start_time": "2021-10-03T12:08:07.081691Z"
    }
   },
   "outputs": [
    {
     "data": {
      "text/html": [
       "<div>\n",
       "<style scoped>\n",
       "    .dataframe tbody tr th:only-of-type {\n",
       "        vertical-align: middle;\n",
       "    }\n",
       "\n",
       "    .dataframe tbody tr th {\n",
       "        vertical-align: top;\n",
       "    }\n",
       "\n",
       "    .dataframe thead th {\n",
       "        text-align: right;\n",
       "    }\n",
       "</style>\n",
       "<table border=\"1\" class=\"dataframe\">\n",
       "  <thead>\n",
       "    <tr style=\"text-align: right;\">\n",
       "      <th></th>\n",
       "      <th>customer_unique_id</th>\n",
       "      <th>order_purchase_timestamp</th>\n",
       "      <th>order_id</th>\n",
       "      <th>order_months</th>\n",
       "      <th>na</th>\n",
       "      <th>cohort</th>\n",
       "    </tr>\n",
       "  </thead>\n",
       "  <tbody>\n",
       "    <tr>\n",
       "      <th>0</th>\n",
       "      <td>7c396fd4830fd04220f754e42b4e5bff</td>\n",
       "      <td>2017-10-02 10:56:33</td>\n",
       "      <td>e481f51cbdc54678b7cc49136f2d6af7</td>\n",
       "      <td>2017-10</td>\n",
       "      <td>4.0</td>\n",
       "      <td>2017-09</td>\n",
       "    </tr>\n",
       "    <tr>\n",
       "      <th>1</th>\n",
       "      <td>7c396fd4830fd04220f754e42b4e5bff</td>\n",
       "      <td>2017-10-02 10:56:33</td>\n",
       "      <td>e481f51cbdc54678b7cc49136f2d6af7</td>\n",
       "      <td>2017-10</td>\n",
       "      <td>4.0</td>\n",
       "      <td>2017-09</td>\n",
       "    </tr>\n",
       "    <tr>\n",
       "      <th>2</th>\n",
       "      <td>7c396fd4830fd04220f754e42b4e5bff</td>\n",
       "      <td>2017-10-02 10:56:33</td>\n",
       "      <td>e481f51cbdc54678b7cc49136f2d6af7</td>\n",
       "      <td>2017-10</td>\n",
       "      <td>4.0</td>\n",
       "      <td>2017-09</td>\n",
       "    </tr>\n",
       "    <tr>\n",
       "      <th>11</th>\n",
       "      <td>299905e3934e9e181bfb2e164dd4b4f8</td>\n",
       "      <td>2017-07-29 11:55:02</td>\n",
       "      <td>e69bfb5eb88e0ed6a785585b27e16dbf</td>\n",
       "      <td>2017-07</td>\n",
       "      <td>2.0</td>\n",
       "      <td>2017-07</td>\n",
       "    </tr>\n",
       "    <tr>\n",
       "      <th>12</th>\n",
       "      <td>299905e3934e9e181bfb2e164dd4b4f8</td>\n",
       "      <td>2017-07-29 11:55:02</td>\n",
       "      <td>e69bfb5eb88e0ed6a785585b27e16dbf</td>\n",
       "      <td>2017-07</td>\n",
       "      <td>2.0</td>\n",
       "      <td>2017-07</td>\n",
       "    </tr>\n",
       "    <tr>\n",
       "      <th>...</th>\n",
       "      <td>...</td>\n",
       "      <td>...</td>\n",
       "      <td>...</td>\n",
       "      <td>...</td>\n",
       "      <td>...</td>\n",
       "      <td>...</td>\n",
       "    </tr>\n",
       "    <tr>\n",
       "      <th>105367</th>\n",
       "      <td>9e4accf95024aa6565ca1efcadb96752</td>\n",
       "      <td>2018-05-12 13:42:24</td>\n",
       "      <td>19dba6d1e58b04e7fc820558a38ea398</td>\n",
       "      <td>2018-05</td>\n",
       "      <td>2.0</td>\n",
       "      <td>2017-09</td>\n",
       "    </tr>\n",
       "    <tr>\n",
       "      <th>105373</th>\n",
       "      <td>c716cf2b5b86fb24257cffe9e7969df8</td>\n",
       "      <td>2017-10-04 19:57:37</td>\n",
       "      <td>9115830be804184b91f5c00f6f49f92d</td>\n",
       "      <td>2017-10</td>\n",
       "      <td>2.0</td>\n",
       "      <td>2017-10</td>\n",
       "    </tr>\n",
       "    <tr>\n",
       "      <th>105374</th>\n",
       "      <td>c716cf2b5b86fb24257cffe9e7969df8</td>\n",
       "      <td>2017-10-04 19:57:37</td>\n",
       "      <td>9115830be804184b91f5c00f6f49f92d</td>\n",
       "      <td>2017-10</td>\n",
       "      <td>2.0</td>\n",
       "      <td>2017-10</td>\n",
       "    </tr>\n",
       "    <tr>\n",
       "      <th>105375</th>\n",
       "      <td>e03dbdf5e56c96b106d8115ac336f47f</td>\n",
       "      <td>2017-01-27 00:30:03</td>\n",
       "      <td>aa04ef5214580b06b10e2a378300db44</td>\n",
       "      <td>2017-01</td>\n",
       "      <td>2.0</td>\n",
       "      <td>2017-01</td>\n",
       "    </tr>\n",
       "    <tr>\n",
       "      <th>105376</th>\n",
       "      <td>e03dbdf5e56c96b106d8115ac336f47f</td>\n",
       "      <td>2017-01-27 00:30:03</td>\n",
       "      <td>aa04ef5214580b06b10e2a378300db44</td>\n",
       "      <td>2017-01</td>\n",
       "      <td>2.0</td>\n",
       "      <td>2017-01</td>\n",
       "    </tr>\n",
       "  </tbody>\n",
       "</table>\n",
       "<p>15753 rows × 6 columns</p>\n",
       "</div>"
      ],
      "text/plain": [
       "                      customer_unique_id order_purchase_timestamp  \\\n",
       "0       7c396fd4830fd04220f754e42b4e5bff      2017-10-02 10:56:33   \n",
       "1       7c396fd4830fd04220f754e42b4e5bff      2017-10-02 10:56:33   \n",
       "2       7c396fd4830fd04220f754e42b4e5bff      2017-10-02 10:56:33   \n",
       "11      299905e3934e9e181bfb2e164dd4b4f8      2017-07-29 11:55:02   \n",
       "12      299905e3934e9e181bfb2e164dd4b4f8      2017-07-29 11:55:02   \n",
       "...                                  ...                      ...   \n",
       "105367  9e4accf95024aa6565ca1efcadb96752      2018-05-12 13:42:24   \n",
       "105373  c716cf2b5b86fb24257cffe9e7969df8      2017-10-04 19:57:37   \n",
       "105374  c716cf2b5b86fb24257cffe9e7969df8      2017-10-04 19:57:37   \n",
       "105375  e03dbdf5e56c96b106d8115ac336f47f      2017-01-27 00:30:03   \n",
       "105376  e03dbdf5e56c96b106d8115ac336f47f      2017-01-27 00:30:03   \n",
       "\n",
       "                                order_id order_months   na   cohort  \n",
       "0       e481f51cbdc54678b7cc49136f2d6af7      2017-10  4.0  2017-09  \n",
       "1       e481f51cbdc54678b7cc49136f2d6af7      2017-10  4.0  2017-09  \n",
       "2       e481f51cbdc54678b7cc49136f2d6af7      2017-10  4.0  2017-09  \n",
       "11      e69bfb5eb88e0ed6a785585b27e16dbf      2017-07  2.0  2017-07  \n",
       "12      e69bfb5eb88e0ed6a785585b27e16dbf      2017-07  2.0  2017-07  \n",
       "...                                  ...          ...  ...      ...  \n",
       "105367  19dba6d1e58b04e7fc820558a38ea398      2018-05  2.0  2017-09  \n",
       "105373  9115830be804184b91f5c00f6f49f92d      2017-10  2.0  2017-10  \n",
       "105374  9115830be804184b91f5c00f6f49f92d      2017-10  2.0  2017-10  \n",
       "105375  aa04ef5214580b06b10e2a378300db44      2017-01  2.0  2017-01  \n",
       "105376  aa04ef5214580b06b10e2a378300db44      2017-01  2.0  2017-01  \n",
       "\n",
       "[15753 rows x 6 columns]"
      ]
     },
     "execution_count": 61,
     "metadata": {},
     "output_type": "execute_result"
    }
   ],
   "source": [
    "df_c['cohort'] = df_c.groupby('customer_unique_id')['order_purchase_timestamp'] \\\n",
    "                 .transform('min') \\\n",
    "                 .dt.to_period('M') \n",
    "df_c"
   ]
  },
  {
   "cell_type": "markdown",
   "id": "f4922f0d",
   "metadata": {},
   "source": [
    "Now groupby `['cohort', 'order_month']` and aggregate by `nunique()` `customer_unique_id`"
   ]
  },
  {
   "cell_type": "code",
   "execution_count": 62,
   "id": "3959853b",
   "metadata": {},
   "outputs": [
    {
     "data": {
      "text/html": [
       "<div>\n",
       "<style scoped>\n",
       "    .dataframe tbody tr th:only-of-type {\n",
       "        vertical-align: middle;\n",
       "    }\n",
       "\n",
       "    .dataframe tbody tr th {\n",
       "        vertical-align: top;\n",
       "    }\n",
       "\n",
       "    .dataframe thead th {\n",
       "        text-align: right;\n",
       "    }\n",
       "</style>\n",
       "<table border=\"1\" class=\"dataframe\">\n",
       "  <thead>\n",
       "    <tr style=\"text-align: right;\">\n",
       "      <th></th>\n",
       "      <th>cohort</th>\n",
       "      <th>order_months</th>\n",
       "      <th>n_customers</th>\n",
       "      <th>period_number</th>\n",
       "    </tr>\n",
       "  </thead>\n",
       "  <tbody>\n",
       "    <tr>\n",
       "      <th>0</th>\n",
       "      <td>2016-10</td>\n",
       "      <td>2016-10</td>\n",
       "      <td>25</td>\n",
       "      <td>1.0</td>\n",
       "    </tr>\n",
       "    <tr>\n",
       "      <th>1</th>\n",
       "      <td>2016-10</td>\n",
       "      <td>2017-04</td>\n",
       "      <td>1</td>\n",
       "      <td>1.0</td>\n",
       "    </tr>\n",
       "    <tr>\n",
       "      <th>2</th>\n",
       "      <td>2016-10</td>\n",
       "      <td>2017-07</td>\n",
       "      <td>1</td>\n",
       "      <td>1.0</td>\n",
       "    </tr>\n",
       "    <tr>\n",
       "      <th>3</th>\n",
       "      <td>2016-10</td>\n",
       "      <td>2017-09</td>\n",
       "      <td>1</td>\n",
       "      <td>NaN</td>\n",
       "    </tr>\n",
       "    <tr>\n",
       "      <th>4</th>\n",
       "      <td>2016-10</td>\n",
       "      <td>2017-11</td>\n",
       "      <td>1</td>\n",
       "      <td>NaN</td>\n",
       "    </tr>\n",
       "    <tr>\n",
       "      <th>...</th>\n",
       "      <td>...</td>\n",
       "      <td>...</td>\n",
       "      <td>...</td>\n",
       "      <td>...</td>\n",
       "    </tr>\n",
       "    <tr>\n",
       "      <th>217</th>\n",
       "      <td>2018-07</td>\n",
       "      <td>2018-08</td>\n",
       "      <td>44</td>\n",
       "      <td>NaN</td>\n",
       "    </tr>\n",
       "    <tr>\n",
       "      <th>218</th>\n",
       "      <td>2018-07</td>\n",
       "      <td>2018-09</td>\n",
       "      <td>2</td>\n",
       "      <td>NaN</td>\n",
       "    </tr>\n",
       "    <tr>\n",
       "      <th>219</th>\n",
       "      <td>2018-08</td>\n",
       "      <td>2018-08</td>\n",
       "      <td>246</td>\n",
       "      <td>NaN</td>\n",
       "    </tr>\n",
       "    <tr>\n",
       "      <th>220</th>\n",
       "      <td>2018-08</td>\n",
       "      <td>2018-09</td>\n",
       "      <td>7</td>\n",
       "      <td>NaN</td>\n",
       "    </tr>\n",
       "    <tr>\n",
       "      <th>221</th>\n",
       "      <td>2018-08</td>\n",
       "      <td>2018-10</td>\n",
       "      <td>2</td>\n",
       "      <td>NaN</td>\n",
       "    </tr>\n",
       "  </tbody>\n",
       "</table>\n",
       "<p>222 rows × 4 columns</p>\n",
       "</div>"
      ],
      "text/plain": [
       "      cohort order_months  n_customers  period_number\n",
       "0    2016-10      2016-10           25            1.0\n",
       "1    2016-10      2017-04            1            1.0\n",
       "2    2016-10      2017-07            1            1.0\n",
       "3    2016-10      2017-09            1            NaN\n",
       "4    2016-10      2017-11            1            NaN\n",
       "..       ...          ...          ...            ...\n",
       "217  2018-07      2018-08           44            NaN\n",
       "218  2018-07      2018-09            2            NaN\n",
       "219  2018-08      2018-08          246            NaN\n",
       "220  2018-08      2018-09            7            NaN\n",
       "221  2018-08      2018-10            2            NaN\n",
       "\n",
       "[222 rows x 4 columns]"
      ]
     },
     "execution_count": 62,
     "metadata": {},
     "output_type": "execute_result"
    }
   ],
   "source": [
    "df_cohort = df_c.groupby(['cohort', 'order_months']) \\\n",
    "              .agg(n_customers=('customer_unique_id', 'nunique')) \\\n",
    "              .reset_index(drop=False)\n",
    "\n",
    "df_cohort['period_number'] = (df_c.order_months - df_c.cohort).apply(attrgetter('n'))\n",
    "df_cohort"
   ]
  },
  {
   "cell_type": "code",
   "execution_count": 33,
   "id": "1825900f",
   "metadata": {
    "code_folding": []
   },
   "outputs": [],
   "source": [
    "# test_df = df_c.groupby(['cohort', 'order_months']).agg(\n",
    "#     n_customers = pd.NamedAgg(column='customer_unique_id', aggfunc='nunique')\n",
    "# )\n",
    "# test_df"
   ]
  },
  {
   "cell_type": "markdown",
   "id": "76bcaf82",
   "metadata": {},
   "source": [
    "Finally, create a feature called `['period_number']` where you substract the `cohort` to the `order_month` and get the `'n'` attribute thanks to the `operator.attrgetter` method"
   ]
  },
  {
   "cell_type": "code",
   "execution_count": 34,
   "id": "262be27d",
   "metadata": {},
   "outputs": [],
   "source": [
    "# df_c['period_number'] = (df_c.order_months - df_c.cohort).apply(attrgetter('n'))\n",
    "# df_c"
   ]
  },
  {
   "cell_type": "code",
   "execution_count": 15,
   "id": "6904f60a",
   "metadata": {},
   "outputs": [],
   "source": [
    "\n",
    "# # test_df['pediod_number'] = test_df['cohort'] - test_df['order_months']\n",
    "# period_number = df_c['order_months'] - df_c['cohort']\n",
    "# # period_number.attrgetter('n')\n",
    "# attr = attrgetter('n')(period_number)\n",
    "# attr\n",
    "# # period_number.value_counts()"
   ]
  },
  {
   "cell_type": "markdown",
   "id": "cd9c4c0a",
   "metadata": {
    "ExecuteTime": {
     "end_time": "2021-10-03T13:45:27.180256Z",
     "start_time": "2021-10-03T13:45:27.158955Z"
    }
   },
   "source": [
    "Explore a cohort (for example 2017-01) and try to understand what it shows"
   ]
  },
  {
   "cell_type": "code",
   "execution_count": 86,
   "id": "0637ec31",
   "metadata": {},
   "outputs": [
    {
     "data": {
      "text/html": [
       "<div>\n",
       "<style scoped>\n",
       "    .dataframe tbody tr th:only-of-type {\n",
       "        vertical-align: middle;\n",
       "    }\n",
       "\n",
       "    .dataframe tbody tr th {\n",
       "        vertical-align: top;\n",
       "    }\n",
       "\n",
       "    .dataframe thead th {\n",
       "        text-align: right;\n",
       "    }\n",
       "</style>\n",
       "<table border=\"1\" class=\"dataframe\">\n",
       "  <thead>\n",
       "    <tr style=\"text-align: right;\">\n",
       "      <th></th>\n",
       "      <th>cohort</th>\n",
       "      <th>order_month</th>\n",
       "      <th>n_customers</th>\n",
       "      <th>period_number</th>\n",
       "    </tr>\n",
       "  </thead>\n",
       "  <tbody>\n",
       "    <tr>\n",
       "      <th>182</th>\n",
       "      <td>2018-01</td>\n",
       "      <td>2018-01</td>\n",
       "      <td>211</td>\n",
       "      <td>0</td>\n",
       "    </tr>\n",
       "    <tr>\n",
       "      <th>183</th>\n",
       "      <td>2018-01</td>\n",
       "      <td>2018-02</td>\n",
       "      <td>23</td>\n",
       "      <td>1</td>\n",
       "    </tr>\n",
       "    <tr>\n",
       "      <th>184</th>\n",
       "      <td>2018-01</td>\n",
       "      <td>2018-03</td>\n",
       "      <td>25</td>\n",
       "      <td>2</td>\n",
       "    </tr>\n",
       "    <tr>\n",
       "      <th>185</th>\n",
       "      <td>2018-01</td>\n",
       "      <td>2018-04</td>\n",
       "      <td>20</td>\n",
       "      <td>3</td>\n",
       "    </tr>\n",
       "    <tr>\n",
       "      <th>186</th>\n",
       "      <td>2018-01</td>\n",
       "      <td>2018-05</td>\n",
       "      <td>20</td>\n",
       "      <td>4</td>\n",
       "    </tr>\n",
       "    <tr>\n",
       "      <th>187</th>\n",
       "      <td>2018-01</td>\n",
       "      <td>2018-06</td>\n",
       "      <td>11</td>\n",
       "      <td>5</td>\n",
       "    </tr>\n",
       "    <tr>\n",
       "      <th>188</th>\n",
       "      <td>2018-01</td>\n",
       "      <td>2018-07</td>\n",
       "      <td>12</td>\n",
       "      <td>6</td>\n",
       "    </tr>\n",
       "    <tr>\n",
       "      <th>189</th>\n",
       "      <td>2018-01</td>\n",
       "      <td>2018-08</td>\n",
       "      <td>16</td>\n",
       "      <td>7</td>\n",
       "    </tr>\n",
       "  </tbody>\n",
       "</table>\n",
       "</div>"
      ],
      "text/plain": [
       "      cohort order_month  n_customers  period_number\n",
       "182  2018-01     2018-01          211              0\n",
       "183  2018-01     2018-02           23              1\n",
       "184  2018-01     2018-03           25              2\n",
       "185  2018-01     2018-04           20              3\n",
       "186  2018-01     2018-05           20              4\n",
       "187  2018-01     2018-06           11              5\n",
       "188  2018-01     2018-07           12              6\n",
       "189  2018-01     2018-08           16              7"
      ]
     },
     "execution_count": 86,
     "metadata": {},
     "output_type": "execute_result"
    }
   ],
   "source": [
    "df_cohort[df_cohort['cohort'] == '2018-01']"
   ]
  },
  {
   "cell_type": "code",
   "execution_count": null,
   "id": "c1042072",
   "metadata": {},
   "outputs": [],
   "source": []
  },
  {
   "cell_type": "markdown",
   "id": "fec1e6e7",
   "metadata": {},
   "source": [
    "Pivot the DataFrame using the methode : `DataFrame.pivot_table` (hint : use `'cohort'` as `index`, `'period_number'` as columns, and `'n_customers'` as `values`)"
   ]
  },
  {
   "cell_type": "code",
   "execution_count": 64,
   "id": "a557bd04",
   "metadata": {},
   "outputs": [
    {
     "data": {
      "text/html": [
       "<div>\n",
       "<style scoped>\n",
       "    .dataframe tbody tr th:only-of-type {\n",
       "        vertical-align: middle;\n",
       "    }\n",
       "\n",
       "    .dataframe tbody tr th {\n",
       "        vertical-align: top;\n",
       "    }\n",
       "\n",
       "    .dataframe thead th {\n",
       "        text-align: right;\n",
       "    }\n",
       "</style>\n",
       "<table border=\"1\" class=\"dataframe\">\n",
       "  <thead>\n",
       "    <tr style=\"text-align: right;\">\n",
       "      <th>period_number</th>\n",
       "      <th>0.0</th>\n",
       "      <th>1.0</th>\n",
       "      <th>5.0</th>\n",
       "      <th>6.0</th>\n",
       "      <th>20.0</th>\n",
       "    </tr>\n",
       "    <tr>\n",
       "      <th>cohort</th>\n",
       "      <th></th>\n",
       "      <th></th>\n",
       "      <th></th>\n",
       "      <th></th>\n",
       "      <th></th>\n",
       "    </tr>\n",
       "  </thead>\n",
       "  <tbody>\n",
       "    <tr>\n",
       "      <th>2016-10</th>\n",
       "      <td>NaN</td>\n",
       "      <td>9.0</td>\n",
       "      <td>NaN</td>\n",
       "      <td>NaN</td>\n",
       "      <td>NaN</td>\n",
       "    </tr>\n",
       "    <tr>\n",
       "      <th>2017-01</th>\n",
       "      <td>18.800000</td>\n",
       "      <td>NaN</td>\n",
       "      <td>NaN</td>\n",
       "      <td>1.0</td>\n",
       "      <td>1.0</td>\n",
       "    </tr>\n",
       "    <tr>\n",
       "      <th>2017-03</th>\n",
       "      <td>7.000000</td>\n",
       "      <td>NaN</td>\n",
       "      <td>NaN</td>\n",
       "      <td>NaN</td>\n",
       "      <td>NaN</td>\n",
       "    </tr>\n",
       "    <tr>\n",
       "      <th>2017-04</th>\n",
       "      <td>7.000000</td>\n",
       "      <td>1.0</td>\n",
       "      <td>NaN</td>\n",
       "      <td>NaN</td>\n",
       "      <td>NaN</td>\n",
       "    </tr>\n",
       "    <tr>\n",
       "      <th>2017-05</th>\n",
       "      <td>12.333333</td>\n",
       "      <td>NaN</td>\n",
       "      <td>NaN</td>\n",
       "      <td>NaN</td>\n",
       "      <td>NaN</td>\n",
       "    </tr>\n",
       "    <tr>\n",
       "      <th>2017-06</th>\n",
       "      <td>98.666667</td>\n",
       "      <td>NaN</td>\n",
       "      <td>NaN</td>\n",
       "      <td>NaN</td>\n",
       "      <td>NaN</td>\n",
       "    </tr>\n",
       "    <tr>\n",
       "      <th>2017-07</th>\n",
       "      <td>12.000000</td>\n",
       "      <td>NaN</td>\n",
       "      <td>NaN</td>\n",
       "      <td>NaN</td>\n",
       "      <td>NaN</td>\n",
       "    </tr>\n",
       "    <tr>\n",
       "      <th>2017-08</th>\n",
       "      <td>12.500000</td>\n",
       "      <td>NaN</td>\n",
       "      <td>NaN</td>\n",
       "      <td>NaN</td>\n",
       "      <td>NaN</td>\n",
       "    </tr>\n",
       "    <tr>\n",
       "      <th>2017-09</th>\n",
       "      <td>7.000000</td>\n",
       "      <td>NaN</td>\n",
       "      <td>NaN</td>\n",
       "      <td>NaN</td>\n",
       "      <td>NaN</td>\n",
       "    </tr>\n",
       "    <tr>\n",
       "      <th>2017-10</th>\n",
       "      <td>31.000000</td>\n",
       "      <td>10.0</td>\n",
       "      <td>NaN</td>\n",
       "      <td>NaN</td>\n",
       "      <td>NaN</td>\n",
       "    </tr>\n",
       "    <tr>\n",
       "      <th>2017-12</th>\n",
       "      <td>78.800000</td>\n",
       "      <td>NaN</td>\n",
       "      <td>NaN</td>\n",
       "      <td>NaN</td>\n",
       "      <td>NaN</td>\n",
       "    </tr>\n",
       "    <tr>\n",
       "      <th>2018-01</th>\n",
       "      <td>11.000000</td>\n",
       "      <td>NaN</td>\n",
       "      <td>NaN</td>\n",
       "      <td>NaN</td>\n",
       "      <td>NaN</td>\n",
       "    </tr>\n",
       "    <tr>\n",
       "      <th>2018-03</th>\n",
       "      <td>NaN</td>\n",
       "      <td>NaN</td>\n",
       "      <td>22.0</td>\n",
       "      <td>NaN</td>\n",
       "      <td>NaN</td>\n",
       "    </tr>\n",
       "    <tr>\n",
       "      <th>2018-04</th>\n",
       "      <td>39.000000</td>\n",
       "      <td>NaN</td>\n",
       "      <td>NaN</td>\n",
       "      <td>NaN</td>\n",
       "      <td>NaN</td>\n",
       "    </tr>\n",
       "    <tr>\n",
       "      <th>2018-05</th>\n",
       "      <td>16.000000</td>\n",
       "      <td>NaN</td>\n",
       "      <td>NaN</td>\n",
       "      <td>NaN</td>\n",
       "      <td>NaN</td>\n",
       "    </tr>\n",
       "  </tbody>\n",
       "</table>\n",
       "</div>"
      ],
      "text/plain": [
       "period_number       0.0   1.0   5.0   6.0   20.0\n",
       "cohort                                          \n",
       "2016-10              NaN   9.0   NaN   NaN   NaN\n",
       "2017-01        18.800000   NaN   NaN   1.0   1.0\n",
       "2017-03         7.000000   NaN   NaN   NaN   NaN\n",
       "2017-04         7.000000   1.0   NaN   NaN   NaN\n",
       "2017-05        12.333333   NaN   NaN   NaN   NaN\n",
       "2017-06        98.666667   NaN   NaN   NaN   NaN\n",
       "2017-07        12.000000   NaN   NaN   NaN   NaN\n",
       "2017-08        12.500000   NaN   NaN   NaN   NaN\n",
       "2017-09         7.000000   NaN   NaN   NaN   NaN\n",
       "2017-10        31.000000  10.0   NaN   NaN   NaN\n",
       "2017-12        78.800000   NaN   NaN   NaN   NaN\n",
       "2018-01        11.000000   NaN   NaN   NaN   NaN\n",
       "2018-03              NaN   NaN  22.0   NaN   NaN\n",
       "2018-04        39.000000   NaN   NaN   NaN   NaN\n",
       "2018-05        16.000000   NaN   NaN   NaN   NaN"
      ]
     },
     "execution_count": 64,
     "metadata": {},
     "output_type": "execute_result"
    }
   ],
   "source": [
    "cohort_pivot = df_cohort.pivot_table(index = 'cohort',\n",
    "                                     columns = 'period_number',\n",
    "                                     values = 'n_customers')\n",
    "cohort_pivot"
   ]
  },
  {
   "cell_type": "code",
   "execution_count": 41,
   "id": "d273c874",
   "metadata": {},
   "outputs": [],
   "source": [
    "# table = pd.pivot_table(df_cohort, values='n_customers', index=['cohort'],\n",
    "#                     columns=['period_number'], aggfunc=sum)\n",
    "# table"
   ]
  },
  {
   "cell_type": "markdown",
   "id": "fdf4935b",
   "metadata": {},
   "source": [
    "Now divide all the values (except you column 0) by the column 0 and name this new DataFrame `retention_matrix`"
   ]
  },
  {
   "cell_type": "code",
   "execution_count": 65,
   "id": "940f0007",
   "metadata": {},
   "outputs": [],
   "source": [
    "cohort_size = cohort_pivot.iloc[:,0]\n",
    "retention_matrix = cohort_pivot.divide(cohort_size, axis = 0)"
   ]
  },
  {
   "cell_type": "markdown",
   "id": "cb7a4322",
   "metadata": {},
   "source": [
    "Plot your `retention matrix` using the code below : "
   ]
  },
  {
   "cell_type": "code",
   "execution_count": 84,
   "id": "d8607a36",
   "metadata": {
    "ExecuteTime": {
     "end_time": "2021-10-03T11:53:03.187978Z",
     "start_time": "2021-10-03T11:53:00.110548Z"
    },
    "scrolled": true
   },
   "outputs": [
    {
     "data": {
      "image/png": "[encoded data removed]",
      "text/plain": [
       "<Figure size 864x576 with 3 Axes>"
      ]
     },
     "metadata": {},
     "output_type": "display_data"
    }
   ],
   "source": [
    "\n",
    "with sns.axes_style(\"white\"):\n",
    "    fig, ax = plt.subplots(1, 2, figsize=(12, 8), sharey=True, gridspec_kw={'width_ratios': [1, 11]})\n",
    "    \n",
    "    # retention matrix\n",
    "    sns.heatmap(retention_matrix, \n",
    "                mask=retention_matrix.isnull(), \n",
    "                annot=True, \n",
    "                fmt='.0%', \n",
    "                cmap='RdYlGn', \n",
    "                ax=ax[1])\n",
    "    ax[1].set_title('Monthly Cohorts: User Retention', fontsize=16)\n",
    "    ax[1].set(xlabel='# of periods',\n",
    "              ylabel='')\n",
    "\n",
    "    # cohort size\n",
    "    cohort_size_df = pd.DataFrame(cohort_size).rename(columns={0: 'cohort_size'})\n",
    "    white_cmap = mcolors.ListedColormap(['white'])\n",
    "    sns.heatmap(cohort_size_df, \n",
    "                annot=True, \n",
    "                cbar=False, \n",
    "                fmt='g', \n",
    "                cmap=white_cmap, \n",
    "                ax=ax[0])\n",
    "\n",
    "    fig.tight_layout()\n"
   ]
  },
  {
   "cell_type": "markdown",
   "id": "f84e2c4d",
   "metadata": {},
   "source": [
    "What do you notice? "
   ]
  },
  {
   "cell_type": "markdown",
   "id": "1c2655e0",
   "metadata": {},
   "source": [
    "With the plot above, we can se that almost all of the customers will not stick with this company. The different cohorts will not buy again after their first  "
   ]
  },
  {
   "cell_type": "markdown",
   "id": "f3bc8b49",
   "metadata": {},
   "source": [
    "How could we have know that before? (hint : Calculate the percentage of customers who have ordered more than once)"
   ]
  },
  {
   "cell_type": "code",
   "execution_count": 93,
   "id": "2b0bd39f",
   "metadata": {},
   "outputs": [
    {
     "name": "stdout",
     "output_type": "stream",
     "text": [
      "Custormers with more than 1 purchase: 15%\n"
     ]
    }
   ],
   "source": [
    "multiple_purchases_customers = round((15753 * 100) / 105383)\n",
    "print(f'Custormers with more than 1 purchase: {multiple_purchases_customers}%')"
   ]
  },
  {
   "cell_type": "markdown",
   "id": "a3111dcd",
   "metadata": {},
   "source": [
    "Here is the code for the analysis of customers who have bought more than once : "
   ]
  },
  {
   "cell_type": "code",
   "execution_count": 82,
   "id": "df3d4035",
   "metadata": {
    "ExecuteTime": {
     "end_time": "2021-10-03T14:08:57.428123Z",
     "start_time": "2021-10-03T14:08:54.180728Z"
    }
   },
   "outputs": [
    {
     "data": {
      "image/png": "[encoded data removed]",
      "text/plain": [
       "<Figure size 864x576 with 3 Axes>"
      ]
     },
     "metadata": {},
     "output_type": "display_data"
    }
   ],
   "source": [
    "#start from your df created doing the RFM segmentation\n",
    "df_c = df[['customer_unique_id', 'order_id',\n",
    "           'order_purchase_timestamp']].drop_duplicates()\n",
    "\n",
    "df_c['order_month'] = df_c['order_purchase_timestamp'].dt.to_period('M')\n",
    "\n",
    "df_more = pd.DataFrame(df_c.groupby('customer_unique_id').size()[\n",
    "                       df_c.groupby('customer_unique_id').size() > 1])\n",
    "\n",
    "df_c = df_c.merge(df_more, how='left', on='customer_unique_id').rename(\n",
    "    columns={0: 'na'})\n",
    "\n",
    "df_c = df_c[df_c['na'].notna()]\n",
    "df_c['cohort'] = df_c.groupby('customer_unique_id')['order_purchase_timestamp'] \\\n",
    "    .transform('min') \\\n",
    "    .dt.to_period('M')\n",
    "\n",
    "df_cohort = df_c.groupby(['cohort', 'order_month']) \\\n",
    "    .agg(n_customers=('customer_unique_id', 'nunique')) \\\n",
    "    .reset_index(drop=False)\n",
    "df_cohort['period_number'] = (\n",
    "    df_cohort.order_month - df_cohort.cohort).apply(attrgetter('n'))\n",
    "cohort_pivot = df_cohort.pivot_table(index='cohort',\n",
    "                                     columns='period_number',\n",
    "                                     values='n_customers')\n",
    "cohort_size = cohort_pivot.iloc[:, 0]\n",
    "retention_matrix = cohort_pivot.divide(cohort_size, axis=0)\n",
    "\n",
    "with sns.axes_style(\"white\"):\n",
    "    fig, ax = plt.subplots(1, 2, figsize=(12, 8), sharey=True, gridspec_kw={\n",
    "                           'width_ratios': [1, 11]})\n",
    "\n",
    "    # retention matrix\n",
    "    sns.heatmap(retention_matrix,\n",
    "                mask=retention_matrix.isnull(),\n",
    "                annot=True,\n",
    "                fmt='.0%',\n",
    "                cmap='RdYlGn',\n",
    "                ax=ax[1])\n",
    "    ax[1].set_title('Monthly Cohorts: User Retention', fontsize=16)\n",
    "    ax[1].set(xlabel='# of periods',\n",
    "              ylabel='')\n",
    "\n",
    "    # cohort size\n",
    "    cohort_size_df = pd.DataFrame(cohort_size).rename(\n",
    "        columns={0: 'cohort_size'})\n",
    "    white_cmap = mcolors.ListedColormap(['white'])\n",
    "    sns.heatmap(cohort_size_df,\n",
    "                annot=True,\n",
    "                cbar=False,\n",
    "                fmt='g',\n",
    "                cmap=white_cmap,\n",
    "                ax=ax[0])\n",
    "\n",
    "    fig.tight_layout()"
   ]
  },
  {
   "cell_type": "code",
   "execution_count": null,
   "id": "daae3e6e",
   "metadata": {},
   "outputs": [],
   "source": []
  }
 ],
 "metadata": {
  "hide_input": false,
  "kernelspec": {
   "display_name": "Python 3",
   "language": "python",
   "name": "python3"
  },
  "language_info": {
   "codemirror_mode": {
    "name": "ipython",
    "version": 3
   },
   "file_extension": ".py",
   "mimetype": "text/x-python",
   "name": "python",
   "nbconvert_exporter": "python",
   "pygments_lexer": "ipython3",
   "version": "3.8.8"
  },
  "toc": {
   "base_numbering": 1,
   "nav_menu": {},
   "number_sections": true,
   "sideBar": true,
   "skip_h1_title": false,
   "title_cell": "Table of Contents",
   "title_sidebar": "Contents",
   "toc_cell": false,
   "toc_position": {},
   "toc_section_display": true,
   "toc_window_display": false
  },
  "varInspector": {
   "cols": {
    "lenName": 16,
    "lenType": 16,
    "lenVar": 40
   },
   "kernels_config": {
    "python": {
     "delete_cmd_postfix": "",
     "delete_cmd_prefix": "del ",
     "library": "var_list.py",
     "varRefreshCmd": "print(var_dic_list())"
    },
    "r": {
     "delete_cmd_postfix": ") ",
     "delete_cmd_prefix": "rm(",
     "library": "var_list.r",
     "varRefreshCmd": "cat(var_dic_list()) "
    }
   },
   "types_to_exclude": [
    "module",
    "function",
    "builtin_function_or_method",
    "instance",
    "_Feature"
   ],
   "window_display": false
  }
 },
 "nbformat": 4,
 "nbformat_minor": 5
}
