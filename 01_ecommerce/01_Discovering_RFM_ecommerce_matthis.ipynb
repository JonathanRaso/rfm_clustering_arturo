{
 "cells": [
  {
   "cell_type": "code",
   "execution_count": 1,
   "id": "12a45585",
   "metadata": {},
   "outputs": [],
   "source": [
    "import numpy as np\n",
    "import pandas as pd\n",
    "import matplotlib.pyplot as plt\n",
    "import statsmodels.api as sm \n",
    "from sklearn.linear_model import LinearRegression\n",
    "import seaborn as sns\n",
    "from sklearn.impute import MissingIndicator \n",
    "from sklearn.model_selection import train_test_split\n",
    "from sklearn.neighbors import KNeighborsRegressor\n",
    "from sklearn.preprocessing import RobustScaler\n",
    "from yellowbrick.cluster import KElbowVisualizer, SilhouetteVisualizer\n",
    "from sklearn.cluster import KMeans\n",
    "from sklearn.metrics import mean_absolute_error, mean_absolute_percentage_error, mean_squared_error\n",
    "from sklearn.ensemble import RandomForestRegressor\n",
    "from sklearn.cluster import KMeans\n",
    "from operator import attrgetter\n",
    "import matplotlib.colors as mcolors"
   ]
  },
  {
   "cell_type": "markdown",
   "id": "comprehensive-warehouse",
   "metadata": {},
   "source": [
    "# Customer analysis"
   ]
  },
  {
   "cell_type": "markdown",
   "id": "working-earth",
   "metadata": {},
   "source": [
    "In this exercise, you work for a consulting firm as data analyst. One of your clients asked for help to understand its customer buying behavior. \n",
    "\n",
    "You dispose of a dataset from its e-commerce website with 13 features : \n",
    "\n",
    "- order_id : ID if the order\n",
    "- order_status : Status of the order\n",
    "- order_purchase_timestamp : Timestamp of the purchase\n",
    "- order_delivered_customer_date : Timestamp of the delivery to the customer\n",
    "- payment_type : Method of payment\n",
    "- payment_installments : Number of payments for this purchase (does NOT affect the payment value)\n",
    "- payment_value : Total amount of the payment\n",
    "- review_score : Score given by the client, ranges from 1 to 5\n",
    "- customer_unique_id : ID of the customer who purchased\n",
    "- customer_zip_code_prefix : Zip code of the customer\n",
    "- customer_city : City of the customer\n",
    "- customer_state : State of the customer\n",
    "- product_category_name_english : Name of the product category in English\n",
    "\n",
    "With this data, you have to analyze customer behavior with two techniques:\n",
    "\n",
    "- Customer segmentation with RFM\n",
    "- Cohort analysis from Sept 2016 to October 2018.\n",
    "\n",
    "At the end, you have to present your analysis with actionable insights to improve the customer relationship of your client. "
   ]
  },
  {
   "cell_type": "markdown",
   "id": "e34741c0",
   "metadata": {},
   "source": [
    "# Understanding RFM Segmentation "
   ]
  },
  {
   "cell_type": "markdown",
   "id": "fe5120cd",
   "metadata": {
    "ExecuteTime": {
     "end_time": "2021-09-30T14:30:02.324575Z",
     "start_time": "2021-09-30T14:30:02.319234Z"
    }
   },
   "source": [
    "❓ What are the 3 metrics used in an RFM Segmentation? (hint : What does RFM stand for?) "
   ]
  },
  {
   "cell_type": "markdown",
   "id": "9f81f35e",
   "metadata": {},
   "source": [
    "La segmentation RFM prend en compte la Récence (date de la dernière commande), la Fréquence des commandes et le Montant (de la dernière commande ou sur une période donnée) pour établir des segments de clients homogènes."
   ]
  },
  {
   "cell_type": "markdown",
   "id": "f556245c",
   "metadata": {},
   "source": [
    "❓ Can you summarize what each metric measures in one sentence?"
   ]
  },
  {
   "cell_type": "markdown",
   "id": "31c79c28",
   "metadata": {},
   "source": [
    "Each metric trying to measures the behavior of a client "
   ]
  },
  {
   "cell_type": "markdown",
   "id": "98be1bfe",
   "metadata": {},
   "source": [
    "❓ What data / or type of data do you need for each metric ? "
   ]
  },
  {
   "cell_type": "markdown",
   "id": "ad8ad78b",
   "metadata": {},
   "source": [
    "Récence : order_purchase_timestamp  \n",
    "Fréquence : order_id\t\n",
    "Montant : payment_installments"
   ]
  },
  {
   "cell_type": "markdown",
   "id": "40dc1822",
   "metadata": {},
   "source": [
    "Let's explore the dataset!"
   ]
  },
  {
   "cell_type": "markdown",
   "id": "digital-cycling",
   "metadata": {},
   "source": [
    "# Exploratory Data Analysis"
   ]
  },
  {
   "cell_type": "markdown",
   "id": "9fe4d6d2",
   "metadata": {},
   "source": [
    "Load the dataset and start an Exploratory Data Analysis"
   ]
  },
  {
   "cell_type": "code",
   "execution_count": 2,
   "id": "1caf4ef5",
   "metadata": {
    "ExecuteTime": {
     "end_time": "2021-10-03T14:07:52.111600Z",
     "start_time": "2021-10-03T14:07:51.598182Z"
    }
   },
   "outputs": [
    {
     "data": {
      "text/plain": [
       "(105383, 15)"
      ]
     },
     "execution_count": 2,
     "metadata": {},
     "output_type": "execute_result"
    }
   ],
   "source": [
    "df = pd.read_csv('db_customers.csv')\n",
    "df.shape"
   ]
  },
  {
   "cell_type": "markdown",
   "id": "7a1219f8",
   "metadata": {},
   "source": [
    "❓ Which features should be formated in datetime ? \n",
    "Convert them"
   ]
  },
  {
   "cell_type": "code",
   "execution_count": 3,
   "id": "57a528fd",
   "metadata": {
    "ExecuteTime": {
     "end_time": "2021-10-03T14:07:52.225702Z",
     "start_time": "2021-10-03T14:07:52.135148Z"
    }
   },
   "outputs": [
    {
     "data": {
      "text/plain": [
       "Unnamed: 0                                int64\n",
       "order_id                                 object\n",
       "customer_id                              object\n",
       "order_status                             object\n",
       "order_purchase_timestamp         datetime64[ns]\n",
       "order_delivered_customer_date            object\n",
       "payment_type                             object\n",
       "payment_installments                    float64\n",
       "payment_value                           float64\n",
       "review_score                              int64\n",
       "customer_unique_id                       object\n",
       "customer_zip_code_prefix                  int64\n",
       "customer_city                            object\n",
       "customer_state                           object\n",
       "product_category_name_english            object\n",
       "dtype: object"
      ]
     },
     "execution_count": 3,
     "metadata": {},
     "output_type": "execute_result"
    }
   ],
   "source": [
    "from datetime import datetime \n",
    "df['order_purchase_timestamp'] = df['order_purchase_timestamp'].apply(pd.to_datetime)\n",
    "date_format = \"%m/%d/%Y\"\n",
    "df.dtypes"
   ]
  },
  {
   "cell_type": "markdown",
   "id": "b51c5e36",
   "metadata": {},
   "source": [
    "❓ Which features are Categorical ? List the unique values on these features."
   ]
  },
  {
   "cell_type": "code",
   "execution_count": 4,
   "id": "4f134505",
   "metadata": {},
   "outputs": [
    {
     "name": "stdout",
     "output_type": "stream",
     "text": [
      "order status: ['delivered' 'invoiced' 'shipped' 'processing' 'unavailable' 'canceled'\n",
      " 'created' 'approved']\n",
      "payment_type: ['credit_card' 'voucher' 'boleto' 'debit_card' 'not_defined' nan]\n",
      "order status: ['sao paulo' 'barreiras' 'vianopolis' ... 'messias targino'\n",
      " 'campo do tenente' 'nova vicosa']\n",
      "order status: ['SP' 'BA' 'GO' 'RN' 'PR' 'RS' 'RJ' 'MG' 'SC' 'RR' 'PE' 'TO' 'CE' 'DF'\n",
      " 'SE' 'MT' 'PB' 'PA' 'RO' 'ES' 'AP' 'MS' 'MA' 'PI' 'AL' 'AC' 'AM']\n",
      "order status: ['housewares' 'perfumery' 'auto' 'pet_shop' 'stationery' nan\n",
      " 'furniture_decor' 'office_furniture' 'garden_tools'\n",
      " 'computers_accessories' 'bed_bath_table' 'toys'\n",
      " 'construction_tools_construction' 'telephony' 'health_beauty'\n",
      " 'electronics' 'baby' 'cool_stuff' 'watches_gifts' 'air_conditioning'\n",
      " 'sports_leisure' 'books_general_interest' 'small_appliances' 'food'\n",
      " 'luggage_accessories' 'fashion_underwear_beach' 'christmas_supplies'\n",
      " 'fashion_bags_accessories' 'musical_instruments'\n",
      " 'construction_tools_lights' 'books_technical' 'costruction_tools_garden'\n",
      " 'home_appliances' 'market_place' 'agro_industry_and_commerce'\n",
      " 'party_supplies' 'home_confort' 'cds_dvds_musicals'\n",
      " 'industry_commerce_and_business' 'consoles_games' 'furniture_bedroom'\n",
      " 'construction_tools_safety' 'fixed_telephony' 'drinks'\n",
      " 'kitchen_dining_laundry_garden_furniture' 'fashion_shoes'\n",
      " 'home_construction' 'audio' 'home_appliances_2' 'fashion_male_clothing'\n",
      " 'cine_photo' 'furniture_living_room' 'art' 'food_drink'\n",
      " 'tablets_printing_image' 'fashion_sport' 'la_cuisine' 'flowers'\n",
      " 'computers' 'home_comfort_2' 'small_appliances_home_oven_and_coffee'\n",
      " 'dvds_blu_ray' 'costruction_tools_tools' 'fashio_female_clothing'\n",
      " 'furniture_mattress_and_upholstery' 'signaling_and_security'\n",
      " 'diapers_and_hygiene' 'books_imported' 'fashion_childrens_clothes'\n",
      " 'music' 'arts_and_craftmanship' 'security_and_services']\n"
     ]
    }
   ],
   "source": [
    "# Unique values for categorical features\n",
    "order_status=df['order_status'].unique()\n",
    "payment_type=df['payment_type'].unique()\n",
    "customer_city=df['customer_city'].unique()\n",
    "customer_state=df['customer_state'].unique()\n",
    "product_category_name_english=df['product_category_name_english'].unique()\n",
    "\n",
    "print(f'order status: {order_status}')\n",
    "print(f'payment_type: {payment_type}')\n",
    "print(f'order status: {customer_city}')\n",
    "print(f'order status: {customer_state}')\n",
    "print(f'order status: {product_category_name_english}')"
   ]
  },
  {
   "cell_type": "markdown",
   "id": "ea7199d9",
   "metadata": {},
   "source": [
    "❓ Check for missing values. What do you notice ? \n"
   ]
  },
  {
   "cell_type": "code",
   "execution_count": 5,
   "id": "19eef9bd",
   "metadata": {},
   "outputs": [
    {
     "data": {
      "text/plain": [
       "Unnamed: 0                          0\n",
       "order_id                            0\n",
       "customer_id                         0\n",
       "order_status                        0\n",
       "order_purchase_timestamp            0\n",
       "order_delivered_customer_date    3159\n",
       "payment_type                        1\n",
       "payment_installments                1\n",
       "payment_value                       1\n",
       "review_score                        0\n",
       "customer_unique_id                  0\n",
       "customer_zip_code_prefix            0\n",
       "customer_city                       0\n",
       "customer_state                      0\n",
       "product_category_name_english    2410\n",
       "dtype: int64"
      ]
     },
     "execution_count": 5,
     "metadata": {},
     "output_type": "execute_result"
    }
   ],
   "source": [
    "df.isnull().sum()"
   ]
  },
  {
   "cell_type": "markdown",
   "id": "c20dae84",
   "metadata": {},
   "source": [
    "❓ Can you find an explanation for the missing `order_delivered_customer_date` ? \n",
    "(hint : Check for non delivered orders)"
   ]
  },
  {
   "cell_type": "code",
   "execution_count": 6,
   "id": "1e298334",
   "metadata": {},
   "outputs": [
    {
     "data": {
      "text/plain": [
       "delivered      102225\n",
       "shipped          1180\n",
       "canceled          669\n",
       "unavailable       651\n",
       "invoiced          330\n",
       "processing        321\n",
       "created             5\n",
       "approved            2\n",
       "Name: order_status, dtype: int64"
      ]
     },
     "execution_count": 6,
     "metadata": {},
     "output_type": "execute_result"
    }
   ],
   "source": [
    "df['order_status'].value_counts()"
   ]
  },
  {
   "cell_type": "markdown",
   "id": "8fda8f88",
   "metadata": {},
   "source": [
    "❓ What are the proportions of each `order_status` ? "
   ]
  },
  {
   "cell_type": "code",
   "execution_count": 7,
   "id": "fbf2835b",
   "metadata": {},
   "outputs": [
    {
     "data": {
      "text/plain": [
       "delivered      97.0%\n",
       "shipped         1.1%\n",
       "canceled        0.6%\n",
       "unavailable     0.6%\n",
       "invoiced        0.3%\n",
       "processing      0.3%\n",
       "created         0.0%\n",
       "approved        0.0%\n",
       "Name: order_status, dtype: object"
      ]
     },
     "execution_count": 7,
     "metadata": {},
     "output_type": "execute_result"
    }
   ],
   "source": [
    "df['order_status'].value_counts(normalize=True).mul(100).round(1).astype(str) + '%'"
   ]
  },
  {
   "cell_type": "code",
   "execution_count": 8,
   "id": "cf29697a",
   "metadata": {},
   "outputs": [
    {
     "data": {
      "image/png": "[encoded data removed]",
      "text/plain": [
       "<Figure size 720x576 with 1 Axes>"
      ]
     },
     "metadata": {},
     "output_type": "display_data"
    }
   ],
   "source": [
    "labels = 'delivered', 'shipped', 'canceled', 'unavailable','invoiced','processing','created','approved'\n",
    "sizes = df['order_status'].value_counts()\n",
    "explode = (0.1,0.2,0.3,0.4,0.5,0.6,0.7,0.8)\n",
    "\n",
    "fig1, ax1 = plt.subplots(figsize=(10, 8))\n",
    "ax1.pie(sizes, explode=explode, labels=labels, autopct='%1.1f%%',\n",
    "        shadow=True, startangle=80)\n",
    "ax1.axis('equal')  # Equal aspect ratio ensures that pie is drawn as a circle.\n",
    "plt.legend()\n",
    "plt.show()"
   ]
  },
  {
   "cell_type": "markdown",
   "id": "ec529161",
   "metadata": {},
   "source": [
    "❓ Which `order_status` do you think should be removed from the analysis"
   ]
  },
  {
   "cell_type": "markdown",
   "id": "1679a012",
   "metadata": {},
   "source": [
    "delivered and shipped"
   ]
  },
  {
   "cell_type": "code",
   "execution_count": 9,
   "id": "5b3ee18f",
   "metadata": {},
   "outputs": [
    {
     "data": {
      "text/plain": [
       "delivered    102225\n",
       "shipped        1180\n",
       "Name: order_status, dtype: int64"
      ]
     },
     "execution_count": 9,
     "metadata": {},
     "output_type": "execute_result"
    }
   ],
   "source": [
    "df_new = df[(df['order_status'] != \"delivered\") & (df['order_status'] != \"shipped\")].index\n",
    "df.drop(df_new , inplace=True)\n",
    "df['order_status'].value_counts()"
   ]
  },
  {
   "cell_type": "code",
   "execution_count": 10,
   "id": "df737065",
   "metadata": {},
   "outputs": [
    {
     "data": {
      "text/html": [
       "<div>\n",
       "<style scoped>\n",
       "    .dataframe tbody tr th:only-of-type {\n",
       "        vertical-align: middle;\n",
       "    }\n",
       "\n",
       "    .dataframe tbody tr th {\n",
       "        vertical-align: top;\n",
       "    }\n",
       "\n",
       "    .dataframe thead th {\n",
       "        text-align: right;\n",
       "    }\n",
       "</style>\n",
       "<table border=\"1\" class=\"dataframe\">\n",
       "  <thead>\n",
       "    <tr style=\"text-align: right;\">\n",
       "      <th></th>\n",
       "      <th>Unnamed: 0</th>\n",
       "      <th>order_id</th>\n",
       "      <th>customer_id</th>\n",
       "      <th>order_status</th>\n",
       "      <th>order_purchase_timestamp</th>\n",
       "      <th>order_delivered_customer_date</th>\n",
       "      <th>payment_type</th>\n",
       "      <th>payment_installments</th>\n",
       "      <th>payment_value</th>\n",
       "      <th>review_score</th>\n",
       "      <th>customer_unique_id</th>\n",
       "      <th>customer_zip_code_prefix</th>\n",
       "      <th>customer_city</th>\n",
       "      <th>customer_state</th>\n",
       "      <th>product_category_name_english</th>\n",
       "    </tr>\n",
       "  </thead>\n",
       "  <tbody>\n",
       "    <tr>\n",
       "      <th>0</th>\n",
       "      <td>0</td>\n",
       "      <td>e481f51cbdc54678b7cc49136f2d6af7</td>\n",
       "      <td>9ef432eb6251297304e76186b10a928d</td>\n",
       "      <td>delivered</td>\n",
       "      <td>2017-10-02 10:56:33</td>\n",
       "      <td>2017-10-10 21:25:13</td>\n",
       "      <td>credit_card</td>\n",
       "      <td>1.0</td>\n",
       "      <td>18.12</td>\n",
       "      <td>4</td>\n",
       "      <td>7c396fd4830fd04220f754e42b4e5bff</td>\n",
       "      <td>3149</td>\n",
       "      <td>sao paulo</td>\n",
       "      <td>SP</td>\n",
       "      <td>housewares</td>\n",
       "    </tr>\n",
       "    <tr>\n",
       "      <th>1</th>\n",
       "      <td>1</td>\n",
       "      <td>e481f51cbdc54678b7cc49136f2d6af7</td>\n",
       "      <td>9ef432eb6251297304e76186b10a928d</td>\n",
       "      <td>delivered</td>\n",
       "      <td>2017-10-02 10:56:33</td>\n",
       "      <td>2017-10-10 21:25:13</td>\n",
       "      <td>voucher</td>\n",
       "      <td>1.0</td>\n",
       "      <td>2.00</td>\n",
       "      <td>4</td>\n",
       "      <td>7c396fd4830fd04220f754e42b4e5bff</td>\n",
       "      <td>3149</td>\n",
       "      <td>sao paulo</td>\n",
       "      <td>SP</td>\n",
       "      <td>housewares</td>\n",
       "    </tr>\n",
       "    <tr>\n",
       "      <th>2</th>\n",
       "      <td>2</td>\n",
       "      <td>e481f51cbdc54678b7cc49136f2d6af7</td>\n",
       "      <td>9ef432eb6251297304e76186b10a928d</td>\n",
       "      <td>delivered</td>\n",
       "      <td>2017-10-02 10:56:33</td>\n",
       "      <td>2017-10-10 21:25:13</td>\n",
       "      <td>voucher</td>\n",
       "      <td>1.0</td>\n",
       "      <td>18.59</td>\n",
       "      <td>4</td>\n",
       "      <td>7c396fd4830fd04220f754e42b4e5bff</td>\n",
       "      <td>3149</td>\n",
       "      <td>sao paulo</td>\n",
       "      <td>SP</td>\n",
       "      <td>housewares</td>\n",
       "    </tr>\n",
       "    <tr>\n",
       "      <th>3</th>\n",
       "      <td>3</td>\n",
       "      <td>53cdb2fc8bc7dce0b6741e2150273451</td>\n",
       "      <td>b0830fb4747a6c6d20dea0b8c802d7ef</td>\n",
       "      <td>delivered</td>\n",
       "      <td>2018-07-24 20:41:37</td>\n",
       "      <td>2018-08-07 15:27:45</td>\n",
       "      <td>boleto</td>\n",
       "      <td>1.0</td>\n",
       "      <td>141.46</td>\n",
       "      <td>4</td>\n",
       "      <td>af07308b275d755c9edb36a90c618231</td>\n",
       "      <td>47813</td>\n",
       "      <td>barreiras</td>\n",
       "      <td>BA</td>\n",
       "      <td>perfumery</td>\n",
       "    </tr>\n",
       "    <tr>\n",
       "      <th>4</th>\n",
       "      <td>4</td>\n",
       "      <td>47770eb9100c2d0c44946d9cf07ec65d</td>\n",
       "      <td>41ce2a54c0b03bf3443c3d931a367089</td>\n",
       "      <td>delivered</td>\n",
       "      <td>2018-08-08 08:38:49</td>\n",
       "      <td>2018-08-17 18:06:29</td>\n",
       "      <td>credit_card</td>\n",
       "      <td>3.0</td>\n",
       "      <td>179.12</td>\n",
       "      <td>5</td>\n",
       "      <td>3a653a41f6f9fc3d2a113cf8398680e8</td>\n",
       "      <td>75265</td>\n",
       "      <td>vianopolis</td>\n",
       "      <td>GO</td>\n",
       "      <td>auto</td>\n",
       "    </tr>\n",
       "    <tr>\n",
       "      <th>...</th>\n",
       "      <td>...</td>\n",
       "      <td>...</td>\n",
       "      <td>...</td>\n",
       "      <td>...</td>\n",
       "      <td>...</td>\n",
       "      <td>...</td>\n",
       "      <td>...</td>\n",
       "      <td>...</td>\n",
       "      <td>...</td>\n",
       "      <td>...</td>\n",
       "      <td>...</td>\n",
       "      <td>...</td>\n",
       "      <td>...</td>\n",
       "      <td>...</td>\n",
       "      <td>...</td>\n",
       "    </tr>\n",
       "    <tr>\n",
       "      <th>105378</th>\n",
       "      <td>105378</td>\n",
       "      <td>9c5dedf39a927c1b2549525ed64a053c</td>\n",
       "      <td>39bd1228ee8140590ac3aca26f2dfe00</td>\n",
       "      <td>delivered</td>\n",
       "      <td>2017-03-09 09:54:05</td>\n",
       "      <td>2017-03-17 15:08:01</td>\n",
       "      <td>credit_card</td>\n",
       "      <td>3.0</td>\n",
       "      <td>85.08</td>\n",
       "      <td>5</td>\n",
       "      <td>6359f309b166b0196dbf7ad2ac62bb5a</td>\n",
       "      <td>12209</td>\n",
       "      <td>sao jose dos campos</td>\n",
       "      <td>SP</td>\n",
       "      <td>health_beauty</td>\n",
       "    </tr>\n",
       "    <tr>\n",
       "      <th>105379</th>\n",
       "      <td>105379</td>\n",
       "      <td>63943bddc261676b46f01ca7ac2f7bd8</td>\n",
       "      <td>1fca14ff2861355f6e5f14306ff977a7</td>\n",
       "      <td>delivered</td>\n",
       "      <td>2018-02-06 12:58:58</td>\n",
       "      <td>2018-02-28 17:37:56</td>\n",
       "      <td>credit_card</td>\n",
       "      <td>3.0</td>\n",
       "      <td>195.00</td>\n",
       "      <td>4</td>\n",
       "      <td>da62f9e57a76d978d02ab5362c509660</td>\n",
       "      <td>11722</td>\n",
       "      <td>praia grande</td>\n",
       "      <td>SP</td>\n",
       "      <td>baby</td>\n",
       "    </tr>\n",
       "    <tr>\n",
       "      <th>105380</th>\n",
       "      <td>105380</td>\n",
       "      <td>83c1379a015df1e13d02aae0204711ab</td>\n",
       "      <td>1aa71eb042121263aafbe80c1b562c9c</td>\n",
       "      <td>delivered</td>\n",
       "      <td>2017-08-27 14:46:43</td>\n",
       "      <td>2017-09-21 11:24:17</td>\n",
       "      <td>credit_card</td>\n",
       "      <td>5.0</td>\n",
       "      <td>271.01</td>\n",
       "      <td>5</td>\n",
       "      <td>737520a9aad80b3fbbdad19b66b37b30</td>\n",
       "      <td>45920</td>\n",
       "      <td>nova vicosa</td>\n",
       "      <td>BA</td>\n",
       "      <td>home_appliances_2</td>\n",
       "    </tr>\n",
       "    <tr>\n",
       "      <th>105381</th>\n",
       "      <td>105381</td>\n",
       "      <td>11c177c8e97725db2631073c19f07b62</td>\n",
       "      <td>b331b74b18dc79bcdf6532d51e1637c1</td>\n",
       "      <td>delivered</td>\n",
       "      <td>2018-01-08 21:28:27</td>\n",
       "      <td>2018-01-25 23:32:54</td>\n",
       "      <td>credit_card</td>\n",
       "      <td>4.0</td>\n",
       "      <td>441.16</td>\n",
       "      <td>2</td>\n",
       "      <td>5097a5312c8b157bb7be58ae360ef43c</td>\n",
       "      <td>28685</td>\n",
       "      <td>japuiba</td>\n",
       "      <td>RJ</td>\n",
       "      <td>computers_accessories</td>\n",
       "    </tr>\n",
       "    <tr>\n",
       "      <th>105382</th>\n",
       "      <td>105382</td>\n",
       "      <td>66dea50a8b16d9b4dee7af250b4be1a5</td>\n",
       "      <td>edb027a75a1449115f6b43211ae02a24</td>\n",
       "      <td>delivered</td>\n",
       "      <td>2018-03-08 20:57:30</td>\n",
       "      <td>2018-03-16 13:08:30</td>\n",
       "      <td>debit_card</td>\n",
       "      <td>1.0</td>\n",
       "      <td>86.86</td>\n",
       "      <td>5</td>\n",
       "      <td>60350aa974b26ff12caad89e55993bd6</td>\n",
       "      <td>83750</td>\n",
       "      <td>lapa</td>\n",
       "      <td>PR</td>\n",
       "      <td>health_beauty</td>\n",
       "    </tr>\n",
       "  </tbody>\n",
       "</table>\n",
       "<p>103405 rows × 15 columns</p>\n",
       "</div>"
      ],
      "text/plain": [
       "        Unnamed: 0                          order_id  \\\n",
       "0                0  e481f51cbdc54678b7cc49136f2d6af7   \n",
       "1                1  e481f51cbdc54678b7cc49136f2d6af7   \n",
       "2                2  e481f51cbdc54678b7cc49136f2d6af7   \n",
       "3                3  53cdb2fc8bc7dce0b6741e2150273451   \n",
       "4                4  47770eb9100c2d0c44946d9cf07ec65d   \n",
       "...            ...                               ...   \n",
       "105378      105378  9c5dedf39a927c1b2549525ed64a053c   \n",
       "105379      105379  63943bddc261676b46f01ca7ac2f7bd8   \n",
       "105380      105380  83c1379a015df1e13d02aae0204711ab   \n",
       "105381      105381  11c177c8e97725db2631073c19f07b62   \n",
       "105382      105382  66dea50a8b16d9b4dee7af250b4be1a5   \n",
       "\n",
       "                             customer_id order_status  \\\n",
       "0       9ef432eb6251297304e76186b10a928d    delivered   \n",
       "1       9ef432eb6251297304e76186b10a928d    delivered   \n",
       "2       9ef432eb6251297304e76186b10a928d    delivered   \n",
       "3       b0830fb4747a6c6d20dea0b8c802d7ef    delivered   \n",
       "4       41ce2a54c0b03bf3443c3d931a367089    delivered   \n",
       "...                                  ...          ...   \n",
       "105378  39bd1228ee8140590ac3aca26f2dfe00    delivered   \n",
       "105379  1fca14ff2861355f6e5f14306ff977a7    delivered   \n",
       "105380  1aa71eb042121263aafbe80c1b562c9c    delivered   \n",
       "105381  b331b74b18dc79bcdf6532d51e1637c1    delivered   \n",
       "105382  edb027a75a1449115f6b43211ae02a24    delivered   \n",
       "\n",
       "       order_purchase_timestamp order_delivered_customer_date payment_type  \\\n",
       "0           2017-10-02 10:56:33           2017-10-10 21:25:13  credit_card   \n",
       "1           2017-10-02 10:56:33           2017-10-10 21:25:13      voucher   \n",
       "2           2017-10-02 10:56:33           2017-10-10 21:25:13      voucher   \n",
       "3           2018-07-24 20:41:37           2018-08-07 15:27:45       boleto   \n",
       "4           2018-08-08 08:38:49           2018-08-17 18:06:29  credit_card   \n",
       "...                         ...                           ...          ...   \n",
       "105378      2017-03-09 09:54:05           2017-03-17 15:08:01  credit_card   \n",
       "105379      2018-02-06 12:58:58           2018-02-28 17:37:56  credit_card   \n",
       "105380      2017-08-27 14:46:43           2017-09-21 11:24:17  credit_card   \n",
       "105381      2018-01-08 21:28:27           2018-01-25 23:32:54  credit_card   \n",
       "105382      2018-03-08 20:57:30           2018-03-16 13:08:30   debit_card   \n",
       "\n",
       "        payment_installments  payment_value  review_score  \\\n",
       "0                        1.0          18.12             4   \n",
       "1                        1.0           2.00             4   \n",
       "2                        1.0          18.59             4   \n",
       "3                        1.0         141.46             4   \n",
       "4                        3.0         179.12             5   \n",
       "...                      ...            ...           ...   \n",
       "105378                   3.0          85.08             5   \n",
       "105379                   3.0         195.00             4   \n",
       "105380                   5.0         271.01             5   \n",
       "105381                   4.0         441.16             2   \n",
       "105382                   1.0          86.86             5   \n",
       "\n",
       "                      customer_unique_id  customer_zip_code_prefix  \\\n",
       "0       7c396fd4830fd04220f754e42b4e5bff                      3149   \n",
       "1       7c396fd4830fd04220f754e42b4e5bff                      3149   \n",
       "2       7c396fd4830fd04220f754e42b4e5bff                      3149   \n",
       "3       af07308b275d755c9edb36a90c618231                     47813   \n",
       "4       3a653a41f6f9fc3d2a113cf8398680e8                     75265   \n",
       "...                                  ...                       ...   \n",
       "105378  6359f309b166b0196dbf7ad2ac62bb5a                     12209   \n",
       "105379  da62f9e57a76d978d02ab5362c509660                     11722   \n",
       "105380  737520a9aad80b3fbbdad19b66b37b30                     45920   \n",
       "105381  5097a5312c8b157bb7be58ae360ef43c                     28685   \n",
       "105382  60350aa974b26ff12caad89e55993bd6                     83750   \n",
       "\n",
       "              customer_city customer_state product_category_name_english  \n",
       "0                 sao paulo             SP                    housewares  \n",
       "1                 sao paulo             SP                    housewares  \n",
       "2                 sao paulo             SP                    housewares  \n",
       "3                 barreiras             BA                     perfumery  \n",
       "4                vianopolis             GO                          auto  \n",
       "...                     ...            ...                           ...  \n",
       "105378  sao jose dos campos             SP                 health_beauty  \n",
       "105379         praia grande             SP                          baby  \n",
       "105380          nova vicosa             BA             home_appliances_2  \n",
       "105381              japuiba             RJ         computers_accessories  \n",
       "105382                 lapa             PR                 health_beauty  \n",
       "\n",
       "[103405 rows x 15 columns]"
      ]
     },
     "execution_count": 10,
     "metadata": {},
     "output_type": "execute_result"
    }
   ],
   "source": [
    "df_use = df[['customer_unique_id','order_id','order_purchase_timestamp','payment_value']]\n",
    "df"
   ]
  },
  {
   "cell_type": "markdown",
   "id": "ee08d779",
   "metadata": {},
   "source": [
    "❓ What feature would you choose in the e-commerce dataset provided? "
   ]
  },
  {
   "cell_type": "markdown",
   "id": "184dc88d",
   "metadata": {},
   "source": [
    "payment_value"
   ]
  },
  {
   "cell_type": "markdown",
   "id": "15ef2508",
   "metadata": {},
   "source": [
    "❓ What method would you use to group the data? "
   ]
  },
  {
   "cell_type": "markdown",
   "id": "f5a6e5eb",
   "metadata": {},
   "source": [
    "groupby"
   ]
  },
  {
   "cell_type": "markdown",
   "id": "88b13787",
   "metadata": {},
   "source": [
    "❓ What feature would you use to group the data? "
   ]
  },
  {
   "cell_type": "markdown",
   "id": "eb3e946d",
   "metadata": {},
   "source": [
    "customer_unique_id"
   ]
  },
  {
   "cell_type": "markdown",
   "id": "3e6e7dd2",
   "metadata": {
    "ExecuteTime": {
     "end_time": "2021-09-30T14:45:48.656723Z",
     "start_time": "2021-09-30T14:45:48.652125Z"
    }
   },
   "source": [
    "Group the data. (Hint: you can carry out the grouping one by one and then merge, or even better use the .agg method and get a robust grouping in one line of code)"
   ]
  },
  {
   "cell_type": "markdown",
   "id": "b3561a93",
   "metadata": {},
   "source": []
  },
  {
   "cell_type": "markdown",
   "id": "41ade656",
   "metadata": {},
   "source": [
    "What type of data is the R supposed to be? Is it in the right format? (Hint : investigate the difference between `datetime` and `timedelta`) "
   ]
  },
  {
   "cell_type": "markdown",
   "id": "95440e58",
   "metadata": {},
   "source": [
    "order_purchase_timestamp"
   ]
  },
  {
   "cell_type": "markdown",
   "id": "e9412e54",
   "metadata": {
    "ExecuteTime": {
     "end_time": "2021-09-30T17:12:07.784903Z",
     "start_time": "2021-09-30T17:12:07.774134Z"
    }
   },
   "source": [
    "So there is one more step to carry out before the data is ready : Calculate the recency base on the date of the purchase"
   ]
  },
  {
   "cell_type": "markdown",
   "id": "1d5c27fa",
   "metadata": {},
   "source": [
    "❓ What is the date of the least purchase?"
   ]
  },
  {
   "cell_type": "code",
   "execution_count": 11,
   "id": "7a483e98",
   "metadata": {},
   "outputs": [
    {
     "data": {
      "text/plain": [
       "Timestamp('2016-09-04 21:15:19')"
      ]
     },
     "execution_count": 11,
     "metadata": {},
     "output_type": "execute_result"
    }
   ],
   "source": [
    "df['order_purchase_timestamp'].min()"
   ]
  },
  {
   "cell_type": "markdown",
   "id": "2d623bbb",
   "metadata": {
    "ExecuteTime": {
     "end_time": "2021-09-30T17:14:26.599702Z",
     "start_time": "2021-09-30T17:14:26.592777Z"
    }
   },
   "source": [
    "❓What is the date of the most recent purchase?"
   ]
  },
  {
   "cell_type": "code",
   "execution_count": 12,
   "id": "4afe4d58",
   "metadata": {},
   "outputs": [
    {
     "data": {
      "text/plain": [
       "Timestamp('2018-09-03 09:06:57')"
      ]
     },
     "execution_count": 12,
     "metadata": {},
     "output_type": "execute_result"
    }
   ],
   "source": [
    "df['order_purchase_timestamp'].max()"
   ]
  },
  {
   "cell_type": "markdown",
   "id": "4c54092d",
   "metadata": {},
   "source": [
    "❓How would you calculate the recency? (hint: what date would you use to compare with the purchase date? Today? probably not...)"
   ]
  },
  {
   "cell_type": "code",
   "execution_count": 13,
   "id": "537c40bb",
   "metadata": {},
   "outputs": [],
   "source": [
    "from datetime import datetime \n",
    "df['order_purchase_timestamp'] = df['order_purchase_timestamp'].apply(pd.to_datetime)\n",
    "date_format = \"%m/%d/%Y\"\n",
    "a = df['order_purchase_timestamp']\n",
    "b = max(df['order_purchase_timestamp'])\n",
    "df['recence'] = b-a\n",
    "df['recence'] = df['recence'].astype('timedelta64[D]')\n",
    "recence = df.groupby('customer_unique_id')['recence'].min()\n",
    "recence = pd.DataFrame(recence).reset_index()"
   ]
  },
  {
   "cell_type": "markdown",
   "id": "f6705b2f",
   "metadata": {},
   "source": [
    "Create a feature calculating the difference between `the most recent purchased + 1 day`, and `order_purchase_timestamp`."
   ]
  },
  {
   "cell_type": "code",
   "execution_count": 14,
   "id": "881822f2",
   "metadata": {},
   "outputs": [
    {
     "data": {
      "text/html": [
       "<div>\n",
       "<style scoped>\n",
       "    .dataframe tbody tr th:only-of-type {\n",
       "        vertical-align: middle;\n",
       "    }\n",
       "\n",
       "    .dataframe tbody tr th {\n",
       "        vertical-align: top;\n",
       "    }\n",
       "\n",
       "    .dataframe thead th {\n",
       "        text-align: right;\n",
       "    }\n",
       "</style>\n",
       "<table border=\"1\" class=\"dataframe\">\n",
       "  <thead>\n",
       "    <tr style=\"text-align: right;\">\n",
       "      <th></th>\n",
       "      <th>customer_unique_id</th>\n",
       "      <th>recence</th>\n",
       "    </tr>\n",
       "  </thead>\n",
       "  <tbody>\n",
       "    <tr>\n",
       "      <th>0</th>\n",
       "      <td>0000366f3b9a7992bf8c76cfdf3221e2</td>\n",
       "      <td>115.0</td>\n",
       "    </tr>\n",
       "    <tr>\n",
       "      <th>1</th>\n",
       "      <td>0000b849f77a49e4a4ce2b2a4ca5be3f</td>\n",
       "      <td>118.0</td>\n",
       "    </tr>\n",
       "    <tr>\n",
       "      <th>2</th>\n",
       "      <td>0000f46a3911fa3c0805444483337064</td>\n",
       "      <td>541.0</td>\n",
       "    </tr>\n",
       "    <tr>\n",
       "      <th>3</th>\n",
       "      <td>0000f6ccb0745a6a4b88665a16c9f078</td>\n",
       "      <td>325.0</td>\n",
       "    </tr>\n",
       "    <tr>\n",
       "      <th>4</th>\n",
       "      <td>0004aac84e0df4da2b147fca70cf8255</td>\n",
       "      <td>292.0</td>\n",
       "    </tr>\n",
       "    <tr>\n",
       "      <th>...</th>\n",
       "      <td>...</td>\n",
       "      <td>...</td>\n",
       "    </tr>\n",
       "    <tr>\n",
       "      <th>94394</th>\n",
       "      <td>fffcf5a5ff07b0908bd4e2dbc735a684</td>\n",
       "      <td>451.0</td>\n",
       "    </tr>\n",
       "    <tr>\n",
       "      <th>94395</th>\n",
       "      <td>fffea47cd6d3cc0a88bd621562a9d061</td>\n",
       "      <td>266.0</td>\n",
       "    </tr>\n",
       "    <tr>\n",
       "      <th>94396</th>\n",
       "      <td>ffff371b4d645b6ecea244b27531430a</td>\n",
       "      <td>572.0</td>\n",
       "    </tr>\n",
       "    <tr>\n",
       "      <th>94397</th>\n",
       "      <td>ffff5962728ec6157033ef9805bacc48</td>\n",
       "      <td>123.0</td>\n",
       "    </tr>\n",
       "    <tr>\n",
       "      <th>94398</th>\n",
       "      <td>ffffd2657e2aad2907e67c3e9daecbeb</td>\n",
       "      <td>488.0</td>\n",
       "    </tr>\n",
       "  </tbody>\n",
       "</table>\n",
       "<p>94399 rows × 2 columns</p>\n",
       "</div>"
      ],
      "text/plain": [
       "                     customer_unique_id  recence\n",
       "0      0000366f3b9a7992bf8c76cfdf3221e2    115.0\n",
       "1      0000b849f77a49e4a4ce2b2a4ca5be3f    118.0\n",
       "2      0000f46a3911fa3c0805444483337064    541.0\n",
       "3      0000f6ccb0745a6a4b88665a16c9f078    325.0\n",
       "4      0004aac84e0df4da2b147fca70cf8255    292.0\n",
       "...                                 ...      ...\n",
       "94394  fffcf5a5ff07b0908bd4e2dbc735a684    451.0\n",
       "94395  fffea47cd6d3cc0a88bd621562a9d061    266.0\n",
       "94396  ffff371b4d645b6ecea244b27531430a    572.0\n",
       "94397  ffff5962728ec6157033ef9805bacc48    123.0\n",
       "94398  ffffd2657e2aad2907e67c3e9daecbeb    488.0\n",
       "\n",
       "[94399 rows x 2 columns]"
      ]
     },
     "execution_count": 14,
     "metadata": {},
     "output_type": "execute_result"
    }
   ],
   "source": [
    "recence"
   ]
  },
  {
   "cell_type": "markdown",
   "id": "258ca32b",
   "metadata": {},
   "source": [
    "Now that you have created a new dataset with the right columns, explore it to understand what you created."
   ]
  },
  {
   "cell_type": "markdown",
   "id": "813d87c9",
   "metadata": {},
   "source": [
    "❓Which column is the R? The F? The M?"
   ]
  },
  {
   "cell_type": "code",
   "execution_count": 15,
   "id": "b7385417",
   "metadata": {},
   "outputs": [
    {
     "data": {
      "text/html": [
       "<div>\n",
       "<style scoped>\n",
       "    .dataframe tbody tr th:only-of-type {\n",
       "        vertical-align: middle;\n",
       "    }\n",
       "\n",
       "    .dataframe tbody tr th {\n",
       "        vertical-align: top;\n",
       "    }\n",
       "\n",
       "    .dataframe thead th {\n",
       "        text-align: right;\n",
       "    }\n",
       "</style>\n",
       "<table border=\"1\" class=\"dataframe\">\n",
       "  <thead>\n",
       "    <tr style=\"text-align: right;\">\n",
       "      <th></th>\n",
       "      <th>customer_unique_id</th>\n",
       "      <th>payment_value</th>\n",
       "    </tr>\n",
       "  </thead>\n",
       "  <tbody>\n",
       "    <tr>\n",
       "      <th>0</th>\n",
       "      <td>0000366f3b9a7992bf8c76cfdf3221e2</td>\n",
       "      <td>141.90</td>\n",
       "    </tr>\n",
       "    <tr>\n",
       "      <th>1</th>\n",
       "      <td>0000b849f77a49e4a4ce2b2a4ca5be3f</td>\n",
       "      <td>27.19</td>\n",
       "    </tr>\n",
       "    <tr>\n",
       "      <th>2</th>\n",
       "      <td>0000f46a3911fa3c0805444483337064</td>\n",
       "      <td>86.22</td>\n",
       "    </tr>\n",
       "    <tr>\n",
       "      <th>3</th>\n",
       "      <td>0000f6ccb0745a6a4b88665a16c9f078</td>\n",
       "      <td>43.62</td>\n",
       "    </tr>\n",
       "    <tr>\n",
       "      <th>4</th>\n",
       "      <td>0004aac84e0df4da2b147fca70cf8255</td>\n",
       "      <td>196.89</td>\n",
       "    </tr>\n",
       "    <tr>\n",
       "      <th>...</th>\n",
       "      <td>...</td>\n",
       "      <td>...</td>\n",
       "    </tr>\n",
       "    <tr>\n",
       "      <th>94394</th>\n",
       "      <td>fffcf5a5ff07b0908bd4e2dbc735a684</td>\n",
       "      <td>2067.42</td>\n",
       "    </tr>\n",
       "    <tr>\n",
       "      <th>94395</th>\n",
       "      <td>fffea47cd6d3cc0a88bd621562a9d061</td>\n",
       "      <td>84.58</td>\n",
       "    </tr>\n",
       "    <tr>\n",
       "      <th>94396</th>\n",
       "      <td>ffff371b4d645b6ecea244b27531430a</td>\n",
       "      <td>112.46</td>\n",
       "    </tr>\n",
       "    <tr>\n",
       "      <th>94397</th>\n",
       "      <td>ffff5962728ec6157033ef9805bacc48</td>\n",
       "      <td>133.69</td>\n",
       "    </tr>\n",
       "    <tr>\n",
       "      <th>94398</th>\n",
       "      <td>ffffd2657e2aad2907e67c3e9daecbeb</td>\n",
       "      <td>71.56</td>\n",
       "    </tr>\n",
       "  </tbody>\n",
       "</table>\n",
       "<p>94399 rows × 2 columns</p>\n",
       "</div>"
      ],
      "text/plain": [
       "                     customer_unique_id  payment_value\n",
       "0      0000366f3b9a7992bf8c76cfdf3221e2         141.90\n",
       "1      0000b849f77a49e4a4ce2b2a4ca5be3f          27.19\n",
       "2      0000f46a3911fa3c0805444483337064          86.22\n",
       "3      0000f6ccb0745a6a4b88665a16c9f078          43.62\n",
       "4      0004aac84e0df4da2b147fca70cf8255         196.89\n",
       "...                                 ...            ...\n",
       "94394  fffcf5a5ff07b0908bd4e2dbc735a684        2067.42\n",
       "94395  fffea47cd6d3cc0a88bd621562a9d061          84.58\n",
       "94396  ffff371b4d645b6ecea244b27531430a         112.46\n",
       "94397  ffff5962728ec6157033ef9805bacc48         133.69\n",
       "94398  ffffd2657e2aad2907e67c3e9daecbeb          71.56\n",
       "\n",
       "[94399 rows x 2 columns]"
      ]
     },
     "execution_count": 15,
     "metadata": {},
     "output_type": "execute_result"
    }
   ],
   "source": [
    "montant = df.groupby('customer_unique_id')['payment_value'].sum()\n",
    "montant =pd.DataFrame(montant).reset_index()\n",
    "montant"
   ]
  },
  {
   "cell_type": "code",
   "execution_count": 16,
   "id": "acd80146",
   "metadata": {},
   "outputs": [
    {
     "data": {
      "text/html": [
       "<div>\n",
       "<style scoped>\n",
       "    .dataframe tbody tr th:only-of-type {\n",
       "        vertical-align: middle;\n",
       "    }\n",
       "\n",
       "    .dataframe tbody tr th {\n",
       "        vertical-align: top;\n",
       "    }\n",
       "\n",
       "    .dataframe thead th {\n",
       "        text-align: right;\n",
       "    }\n",
       "</style>\n",
       "<table border=\"1\" class=\"dataframe\">\n",
       "  <thead>\n",
       "    <tr style=\"text-align: right;\">\n",
       "      <th></th>\n",
       "      <th>customer_unique_id</th>\n",
       "      <th>order_id</th>\n",
       "    </tr>\n",
       "  </thead>\n",
       "  <tbody>\n",
       "    <tr>\n",
       "      <th>0</th>\n",
       "      <td>0000366f3b9a7992bf8c76cfdf3221e2</td>\n",
       "      <td>1</td>\n",
       "    </tr>\n",
       "    <tr>\n",
       "      <th>1</th>\n",
       "      <td>0000b849f77a49e4a4ce2b2a4ca5be3f</td>\n",
       "      <td>1</td>\n",
       "    </tr>\n",
       "    <tr>\n",
       "      <th>2</th>\n",
       "      <td>0000f46a3911fa3c0805444483337064</td>\n",
       "      <td>1</td>\n",
       "    </tr>\n",
       "    <tr>\n",
       "      <th>3</th>\n",
       "      <td>0000f6ccb0745a6a4b88665a16c9f078</td>\n",
       "      <td>1</td>\n",
       "    </tr>\n",
       "    <tr>\n",
       "      <th>4</th>\n",
       "      <td>0004aac84e0df4da2b147fca70cf8255</td>\n",
       "      <td>1</td>\n",
       "    </tr>\n",
       "    <tr>\n",
       "      <th>...</th>\n",
       "      <td>...</td>\n",
       "      <td>...</td>\n",
       "    </tr>\n",
       "    <tr>\n",
       "      <th>94394</th>\n",
       "      <td>fffcf5a5ff07b0908bd4e2dbc735a684</td>\n",
       "      <td>1</td>\n",
       "    </tr>\n",
       "    <tr>\n",
       "      <th>94395</th>\n",
       "      <td>fffea47cd6d3cc0a88bd621562a9d061</td>\n",
       "      <td>1</td>\n",
       "    </tr>\n",
       "    <tr>\n",
       "      <th>94396</th>\n",
       "      <td>ffff371b4d645b6ecea244b27531430a</td>\n",
       "      <td>1</td>\n",
       "    </tr>\n",
       "    <tr>\n",
       "      <th>94397</th>\n",
       "      <td>ffff5962728ec6157033ef9805bacc48</td>\n",
       "      <td>1</td>\n",
       "    </tr>\n",
       "    <tr>\n",
       "      <th>94398</th>\n",
       "      <td>ffffd2657e2aad2907e67c3e9daecbeb</td>\n",
       "      <td>1</td>\n",
       "    </tr>\n",
       "  </tbody>\n",
       "</table>\n",
       "<p>94399 rows × 2 columns</p>\n",
       "</div>"
      ],
      "text/plain": [
       "                     customer_unique_id  order_id\n",
       "0      0000366f3b9a7992bf8c76cfdf3221e2         1\n",
       "1      0000b849f77a49e4a4ce2b2a4ca5be3f         1\n",
       "2      0000f46a3911fa3c0805444483337064         1\n",
       "3      0000f6ccb0745a6a4b88665a16c9f078         1\n",
       "4      0004aac84e0df4da2b147fca70cf8255         1\n",
       "...                                 ...       ...\n",
       "94394  fffcf5a5ff07b0908bd4e2dbc735a684         1\n",
       "94395  fffea47cd6d3cc0a88bd621562a9d061         1\n",
       "94396  ffff371b4d645b6ecea244b27531430a         1\n",
       "94397  ffff5962728ec6157033ef9805bacc48         1\n",
       "94398  ffffd2657e2aad2907e67c3e9daecbeb         1\n",
       "\n",
       "[94399 rows x 2 columns]"
      ]
     },
     "execution_count": 16,
     "metadata": {},
     "output_type": "execute_result"
    }
   ],
   "source": [
    "frequence = df.groupby('customer_unique_id')['order_id'].count()\n",
    "frequence =pd.DataFrame(frequence).reset_index()\n",
    "frequence"
   ]
  },
  {
   "cell_type": "code",
   "execution_count": 17,
   "id": "2479345c",
   "metadata": {},
   "outputs": [],
   "source": [
    "df_rfm = recence.merge(montant, left_on='customer_unique_id',right_on = 'customer_unique_id',how ='left')\n",
    "df_rfm= df_rfm.merge(frequence, left_on='customer_unique_id',right_on = 'customer_unique_id',how ='left')"
   ]
  },
  {
   "cell_type": "code",
   "execution_count": 18,
   "id": "9efb117b",
   "metadata": {},
   "outputs": [],
   "source": [
    "df_rfm.columns = ['customer_unique_id','recence','montant','frequence']"
   ]
  },
  {
   "cell_type": "code",
   "execution_count": 19,
   "id": "d90492e7",
   "metadata": {},
   "outputs": [
    {
     "data": {
      "text/html": [
       "<div>\n",
       "<style scoped>\n",
       "    .dataframe tbody tr th:only-of-type {\n",
       "        vertical-align: middle;\n",
       "    }\n",
       "\n",
       "    .dataframe tbody tr th {\n",
       "        vertical-align: top;\n",
       "    }\n",
       "\n",
       "    .dataframe thead th {\n",
       "        text-align: right;\n",
       "    }\n",
       "</style>\n",
       "<table border=\"1\" class=\"dataframe\">\n",
       "  <thead>\n",
       "    <tr style=\"text-align: right;\">\n",
       "      <th></th>\n",
       "      <th>customer_unique_id</th>\n",
       "      <th>recence</th>\n",
       "      <th>montant</th>\n",
       "      <th>frequence</th>\n",
       "    </tr>\n",
       "  </thead>\n",
       "  <tbody>\n",
       "    <tr>\n",
       "      <th>0</th>\n",
       "      <td>0000366f3b9a7992bf8c76cfdf3221e2</td>\n",
       "      <td>115.0</td>\n",
       "      <td>141.90</td>\n",
       "      <td>1</td>\n",
       "    </tr>\n",
       "    <tr>\n",
       "      <th>1</th>\n",
       "      <td>0000b849f77a49e4a4ce2b2a4ca5be3f</td>\n",
       "      <td>118.0</td>\n",
       "      <td>27.19</td>\n",
       "      <td>1</td>\n",
       "    </tr>\n",
       "    <tr>\n",
       "      <th>2</th>\n",
       "      <td>0000f46a3911fa3c0805444483337064</td>\n",
       "      <td>541.0</td>\n",
       "      <td>86.22</td>\n",
       "      <td>1</td>\n",
       "    </tr>\n",
       "    <tr>\n",
       "      <th>3</th>\n",
       "      <td>0000f6ccb0745a6a4b88665a16c9f078</td>\n",
       "      <td>325.0</td>\n",
       "      <td>43.62</td>\n",
       "      <td>1</td>\n",
       "    </tr>\n",
       "    <tr>\n",
       "      <th>4</th>\n",
       "      <td>0004aac84e0df4da2b147fca70cf8255</td>\n",
       "      <td>292.0</td>\n",
       "      <td>196.89</td>\n",
       "      <td>1</td>\n",
       "    </tr>\n",
       "  </tbody>\n",
       "</table>\n",
       "</div>"
      ],
      "text/plain": [
       "                 customer_unique_id  recence  montant  frequence\n",
       "0  0000366f3b9a7992bf8c76cfdf3221e2    115.0   141.90          1\n",
       "1  0000b849f77a49e4a4ce2b2a4ca5be3f    118.0    27.19          1\n",
       "2  0000f46a3911fa3c0805444483337064    541.0    86.22          1\n",
       "3  0000f6ccb0745a6a4b88665a16c9f078    325.0    43.62          1\n",
       "4  0004aac84e0df4da2b147fca70cf8255    292.0   196.89          1"
      ]
     },
     "execution_count": 19,
     "metadata": {},
     "output_type": "execute_result"
    }
   ],
   "source": [
    "df_rfm.head()"
   ]
  },
  {
   "cell_type": "markdown",
   "id": "06477a58",
   "metadata": {},
   "source": [
    "Now for each metric independantly, build clutsers (Hint 1: you can use `.describe()` to have insights about each metrics. Hint 2: Don't choose more than 3 clusters)"
   ]
  },
  {
   "cell_type": "code",
   "execution_count": 20,
   "id": "e1e8c368",
   "metadata": {},
   "outputs": [
    {
     "data": {
      "text/html": [
       "<div>\n",
       "<style scoped>\n",
       "    .dataframe tbody tr th:only-of-type {\n",
       "        vertical-align: middle;\n",
       "    }\n",
       "\n",
       "    .dataframe tbody tr th {\n",
       "        vertical-align: top;\n",
       "    }\n",
       "\n",
       "    .dataframe thead th {\n",
       "        text-align: right;\n",
       "    }\n",
       "</style>\n",
       "<table border=\"1\" class=\"dataframe\">\n",
       "  <thead>\n",
       "    <tr style=\"text-align: right;\">\n",
       "      <th></th>\n",
       "      <th>recence</th>\n",
       "      <th>montant</th>\n",
       "      <th>frequence</th>\n",
       "    </tr>\n",
       "  </thead>\n",
       "  <tbody>\n",
       "    <tr>\n",
       "      <th>count</th>\n",
       "      <td>94399.000000</td>\n",
       "      <td>94399.000000</td>\n",
       "      <td>94399.000000</td>\n",
       "    </tr>\n",
       "    <tr>\n",
       "      <th>mean</th>\n",
       "      <td>241.864162</td>\n",
       "      <td>168.250134</td>\n",
       "      <td>1.095404</td>\n",
       "    </tr>\n",
       "    <tr>\n",
       "      <th>std</th>\n",
       "      <td>152.723176</td>\n",
       "      <td>232.880460</td>\n",
       "      <td>0.530304</td>\n",
       "    </tr>\n",
       "    <tr>\n",
       "      <th>min</th>\n",
       "      <td>0.000000</td>\n",
       "      <td>0.000000</td>\n",
       "      <td>1.000000</td>\n",
       "    </tr>\n",
       "    <tr>\n",
       "      <th>25%</th>\n",
       "      <td>118.000000</td>\n",
       "      <td>63.110000</td>\n",
       "      <td>1.000000</td>\n",
       "    </tr>\n",
       "    <tr>\n",
       "      <th>50%</th>\n",
       "      <td>223.000000</td>\n",
       "      <td>108.100000</td>\n",
       "      <td>1.000000</td>\n",
       "    </tr>\n",
       "    <tr>\n",
       "      <th>75%</th>\n",
       "      <td>351.000000</td>\n",
       "      <td>184.590000</td>\n",
       "      <td>1.000000</td>\n",
       "    </tr>\n",
       "    <tr>\n",
       "      <th>max</th>\n",
       "      <td>728.000000</td>\n",
       "      <td>13664.080000</td>\n",
       "      <td>54.000000</td>\n",
       "    </tr>\n",
       "  </tbody>\n",
       "</table>\n",
       "</div>"
      ],
      "text/plain": [
       "            recence       montant     frequence\n",
       "count  94399.000000  94399.000000  94399.000000\n",
       "mean     241.864162    168.250134      1.095404\n",
       "std      152.723176    232.880460      0.530304\n",
       "min        0.000000      0.000000      1.000000\n",
       "25%      118.000000     63.110000      1.000000\n",
       "50%      223.000000    108.100000      1.000000\n",
       "75%      351.000000    184.590000      1.000000\n",
       "max      728.000000  13664.080000     54.000000"
      ]
     },
     "execution_count": 20,
     "metadata": {},
     "output_type": "execute_result"
    }
   ],
   "source": [
    "df_rfm.describe()"
   ]
  },
  {
   "cell_type": "code",
   "execution_count": 21,
   "id": "71062fb7",
   "metadata": {},
   "outputs": [],
   "source": [
    "###Calculating quantile values\n",
    "quintiles = df_rfm[['recence', 'frequence', 'montant']].quantile([.1, .25, .3, .4, .5, .6, .7, .8, .9]).to_dict()\n",
    "###Benchmark to give score for recency indicator\n",
    "def r_score(r):\n",
    "    if r <= quintiles['recence'][.25]:\n",
    "        return 1 \n",
    "    elif r > quintiles['recence'][.25] and r <=quintiles['recence'][.7]:\n",
    "        return 2\n",
    "    else: \n",
    "        return 3\n",
    "###Benchmark to give score for frequency & monetary indicator.   \n",
    "def f_score(f): \n",
    "    if f == df_rfm['frequence'][1]:\n",
    "        return 2\n",
    "    else:\n",
    "        return 1\n",
    "def m_score(m):\n",
    "    if m <= df_rfm['montant'][118]:\n",
    "        return 3\n",
    "    elif m >= df_rfm['montant'][118] and m <= df_rfm['montant'][245]:\n",
    "        return 2\n",
    "    else:\n",
    "        return 1"
   ]
  },
  {
   "cell_type": "code",
   "execution_count": 22,
   "id": "cfe58aac",
   "metadata": {},
   "outputs": [
    {
     "data": {
      "text/html": [
       "<div>\n",
       "<style scoped>\n",
       "    .dataframe tbody tr th:only-of-type {\n",
       "        vertical-align: middle;\n",
       "    }\n",
       "\n",
       "    .dataframe tbody tr th {\n",
       "        vertical-align: top;\n",
       "    }\n",
       "\n",
       "    .dataframe thead th {\n",
       "        text-align: right;\n",
       "    }\n",
       "</style>\n",
       "<table border=\"1\" class=\"dataframe\">\n",
       "  <thead>\n",
       "    <tr style=\"text-align: right;\">\n",
       "      <th></th>\n",
       "      <th>customer_unique_id</th>\n",
       "      <th>recence</th>\n",
       "      <th>montant</th>\n",
       "      <th>frequence</th>\n",
       "      <th>r_score</th>\n",
       "      <th>f_score</th>\n",
       "      <th>m_score</th>\n",
       "      <th>rfm</th>\n",
       "    </tr>\n",
       "  </thead>\n",
       "  <tbody>\n",
       "    <tr>\n",
       "      <th>0</th>\n",
       "      <td>0000366f3b9a7992bf8c76cfdf3221e2</td>\n",
       "      <td>115.0</td>\n",
       "      <td>141.90</td>\n",
       "      <td>1</td>\n",
       "      <td>1</td>\n",
       "      <td>2</td>\n",
       "      <td>1</td>\n",
       "      <td>121</td>\n",
       "    </tr>\n",
       "    <tr>\n",
       "      <th>1</th>\n",
       "      <td>0000b849f77a49e4a4ce2b2a4ca5be3f</td>\n",
       "      <td>118.0</td>\n",
       "      <td>27.19</td>\n",
       "      <td>1</td>\n",
       "      <td>1</td>\n",
       "      <td>2</td>\n",
       "      <td>3</td>\n",
       "      <td>123</td>\n",
       "    </tr>\n",
       "    <tr>\n",
       "      <th>2</th>\n",
       "      <td>0000f46a3911fa3c0805444483337064</td>\n",
       "      <td>541.0</td>\n",
       "      <td>86.22</td>\n",
       "      <td>1</td>\n",
       "      <td>3</td>\n",
       "      <td>2</td>\n",
       "      <td>2</td>\n",
       "      <td>322</td>\n",
       "    </tr>\n",
       "    <tr>\n",
       "      <th>3</th>\n",
       "      <td>0000f6ccb0745a6a4b88665a16c9f078</td>\n",
       "      <td>325.0</td>\n",
       "      <td>43.62</td>\n",
       "      <td>1</td>\n",
       "      <td>3</td>\n",
       "      <td>2</td>\n",
       "      <td>2</td>\n",
       "      <td>322</td>\n",
       "    </tr>\n",
       "    <tr>\n",
       "      <th>4</th>\n",
       "      <td>0004aac84e0df4da2b147fca70cf8255</td>\n",
       "      <td>292.0</td>\n",
       "      <td>196.89</td>\n",
       "      <td>1</td>\n",
       "      <td>2</td>\n",
       "      <td>2</td>\n",
       "      <td>1</td>\n",
       "      <td>221</td>\n",
       "    </tr>\n",
       "  </tbody>\n",
       "</table>\n",
       "</div>"
      ],
      "text/plain": [
       "                 customer_unique_id  recence  montant  frequence  r_score  \\\n",
       "0  0000366f3b9a7992bf8c76cfdf3221e2    115.0   141.90          1        1   \n",
       "1  0000b849f77a49e4a4ce2b2a4ca5be3f    118.0    27.19          1        1   \n",
       "2  0000f46a3911fa3c0805444483337064    541.0    86.22          1        3   \n",
       "3  0000f6ccb0745a6a4b88665a16c9f078    325.0    43.62          1        3   \n",
       "4  0004aac84e0df4da2b147fca70cf8255    292.0   196.89          1        2   \n",
       "\n",
       "   f_score  m_score  rfm  \n",
       "0        2        1  121  \n",
       "1        2        3  123  \n",
       "2        2        2  322  \n",
       "3        2        2  322  \n",
       "4        2        1  221  "
      ]
     },
     "execution_count": 22,
     "metadata": {},
     "output_type": "execute_result"
    }
   ],
   "source": [
    "df_rfm['r_score'] = df_rfm.recence.apply(lambda x: r_score(x))\n",
    "df_rfm['f_score'] = df_rfm.frequence.apply(lambda x: f_score(x))\n",
    "df_rfm['m_score'] = df_rfm.montant.apply(lambda x: m_score(x))\n",
    "df_rfm['rfm'] = df_rfm['r_score'].map(str)+df_rfm['f_score'].map(str) + df_rfm['m_score'].map(str)\n",
    "df_rfm.head()"
   ]
  },
  {
   "cell_type": "code",
   "execution_count": 23,
   "id": "45ccd0eb",
   "metadata": {},
   "outputs": [
    {
     "data": {
      "text/plain": [
       "222    20832\n",
       "221    16777\n",
       "322    14202\n",
       "122    11402\n",
       "321    10770\n",
       "121     9444\n",
       "223     2048\n",
       "211     1847\n",
       "323     1388\n",
       "123     1252\n",
       "311     1218\n",
       "111     1157\n",
       "212      821\n",
       "312      675\n",
       "112      422\n",
       "213       71\n",
       "313       46\n",
       "113       27\n",
       "Name: rfm, dtype: int64"
      ]
     },
     "execution_count": 23,
     "metadata": {},
     "output_type": "execute_result"
    }
   ],
   "source": [
    "df_rfm['rfm'].value_counts()"
   ]
  },
  {
   "cell_type": "code",
   "execution_count": 41,
   "id": "a9c2c2df",
   "metadata": {},
   "outputs": [
    {
     "data": {
      "text/plain": [
       "18"
      ]
     },
     "execution_count": 41,
     "metadata": {},
     "output_type": "execute_result"
    }
   ],
   "source": [
    "df_rfm['rfm'] = df_rfm['rfm'].astype(float)\n",
    "df_rfm['rfm'].nunique()"
   ]
  },
  {
   "cell_type": "code",
   "execution_count": null,
   "id": "ccba994e",
   "metadata": {},
   "outputs": [],
   "source": []
  },
  {
   "cell_type": "code",
   "execution_count": 25,
   "id": "97127d44",
   "metadata": {},
   "outputs": [
    {
     "data": {
      "text/html": [
       "<div>\n",
       "<style scoped>\n",
       "    .dataframe tbody tr th:only-of-type {\n",
       "        vertical-align: middle;\n",
       "    }\n",
       "\n",
       "    .dataframe tbody tr th {\n",
       "        vertical-align: top;\n",
       "    }\n",
       "\n",
       "    .dataframe thead th {\n",
       "        text-align: right;\n",
       "    }\n",
       "</style>\n",
       "<table border=\"1\" class=\"dataframe\">\n",
       "  <thead>\n",
       "    <tr style=\"text-align: right;\">\n",
       "      <th></th>\n",
       "      <th>index</th>\n",
       "      <th>customer_unique_id</th>\n",
       "      <th>recence</th>\n",
       "      <th>montant</th>\n",
       "      <th>frequence</th>\n",
       "      <th>r_score</th>\n",
       "      <th>f_score</th>\n",
       "      <th>m_score</th>\n",
       "      <th>rfm</th>\n",
       "      <th>RFM_Fidelity_Level</th>\n",
       "    </tr>\n",
       "  </thead>\n",
       "  <tbody>\n",
       "    <tr>\n",
       "      <th>0</th>\n",
       "      <td>0</td>\n",
       "      <td>0000366f3b9a7992bf8c76cfdf3221e2</td>\n",
       "      <td>115.0</td>\n",
       "      <td>141.90</td>\n",
       "      <td>1</td>\n",
       "      <td>1</td>\n",
       "      <td>2</td>\n",
       "      <td>1</td>\n",
       "      <td>121.0</td>\n",
       "      <td>Champion</td>\n",
       "    </tr>\n",
       "    <tr>\n",
       "      <th>1</th>\n",
       "      <td>1</td>\n",
       "      <td>0000b849f77a49e4a4ce2b2a4ca5be3f</td>\n",
       "      <td>118.0</td>\n",
       "      <td>27.19</td>\n",
       "      <td>1</td>\n",
       "      <td>1</td>\n",
       "      <td>2</td>\n",
       "      <td>3</td>\n",
       "      <td>123.0</td>\n",
       "      <td>Loyal</td>\n",
       "    </tr>\n",
       "    <tr>\n",
       "      <th>2</th>\n",
       "      <td>2</td>\n",
       "      <td>0000f46a3911fa3c0805444483337064</td>\n",
       "      <td>541.0</td>\n",
       "      <td>86.22</td>\n",
       "      <td>1</td>\n",
       "      <td>3</td>\n",
       "      <td>2</td>\n",
       "      <td>2</td>\n",
       "      <td>322.0</td>\n",
       "      <td>Lost</td>\n",
       "    </tr>\n",
       "    <tr>\n",
       "      <th>3</th>\n",
       "      <td>3</td>\n",
       "      <td>0000f6ccb0745a6a4b88665a16c9f078</td>\n",
       "      <td>325.0</td>\n",
       "      <td>43.62</td>\n",
       "      <td>1</td>\n",
       "      <td>3</td>\n",
       "      <td>2</td>\n",
       "      <td>2</td>\n",
       "      <td>322.0</td>\n",
       "      <td>Lost</td>\n",
       "    </tr>\n",
       "    <tr>\n",
       "      <th>4</th>\n",
       "      <td>4</td>\n",
       "      <td>0004aac84e0df4da2b147fca70cf8255</td>\n",
       "      <td>292.0</td>\n",
       "      <td>196.89</td>\n",
       "      <td>1</td>\n",
       "      <td>2</td>\n",
       "      <td>2</td>\n",
       "      <td>1</td>\n",
       "      <td>221.0</td>\n",
       "      <td>Loyal</td>\n",
       "    </tr>\n",
       "    <tr>\n",
       "      <th>...</th>\n",
       "      <td>...</td>\n",
       "      <td>...</td>\n",
       "      <td>...</td>\n",
       "      <td>...</td>\n",
       "      <td>...</td>\n",
       "      <td>...</td>\n",
       "      <td>...</td>\n",
       "      <td>...</td>\n",
       "      <td>...</td>\n",
       "      <td>...</td>\n",
       "    </tr>\n",
       "    <tr>\n",
       "      <th>94394</th>\n",
       "      <td>94394</td>\n",
       "      <td>fffcf5a5ff07b0908bd4e2dbc735a684</td>\n",
       "      <td>451.0</td>\n",
       "      <td>2067.42</td>\n",
       "      <td>1</td>\n",
       "      <td>3</td>\n",
       "      <td>2</td>\n",
       "      <td>1</td>\n",
       "      <td>321.0</td>\n",
       "      <td>Needs attention</td>\n",
       "    </tr>\n",
       "    <tr>\n",
       "      <th>94395</th>\n",
       "      <td>94395</td>\n",
       "      <td>fffea47cd6d3cc0a88bd621562a9d061</td>\n",
       "      <td>266.0</td>\n",
       "      <td>84.58</td>\n",
       "      <td>1</td>\n",
       "      <td>2</td>\n",
       "      <td>2</td>\n",
       "      <td>2</td>\n",
       "      <td>222.0</td>\n",
       "      <td>New Customers</td>\n",
       "    </tr>\n",
       "    <tr>\n",
       "      <th>94396</th>\n",
       "      <td>94396</td>\n",
       "      <td>ffff371b4d645b6ecea244b27531430a</td>\n",
       "      <td>572.0</td>\n",
       "      <td>112.46</td>\n",
       "      <td>1</td>\n",
       "      <td>3</td>\n",
       "      <td>2</td>\n",
       "      <td>2</td>\n",
       "      <td>322.0</td>\n",
       "      <td>Lost</td>\n",
       "    </tr>\n",
       "    <tr>\n",
       "      <th>94397</th>\n",
       "      <td>94397</td>\n",
       "      <td>ffff5962728ec6157033ef9805bacc48</td>\n",
       "      <td>123.0</td>\n",
       "      <td>133.69</td>\n",
       "      <td>1</td>\n",
       "      <td>2</td>\n",
       "      <td>2</td>\n",
       "      <td>1</td>\n",
       "      <td>221.0</td>\n",
       "      <td>Loyal</td>\n",
       "    </tr>\n",
       "    <tr>\n",
       "      <th>94398</th>\n",
       "      <td>94398</td>\n",
       "      <td>ffffd2657e2aad2907e67c3e9daecbeb</td>\n",
       "      <td>488.0</td>\n",
       "      <td>71.56</td>\n",
       "      <td>1</td>\n",
       "      <td>3</td>\n",
       "      <td>2</td>\n",
       "      <td>2</td>\n",
       "      <td>322.0</td>\n",
       "      <td>Lost</td>\n",
       "    </tr>\n",
       "  </tbody>\n",
       "</table>\n",
       "<p>94399 rows × 10 columns</p>\n",
       "</div>"
      ],
      "text/plain": [
       "       index                customer_unique_id  recence  montant  frequence  \\\n",
       "0          0  0000366f3b9a7992bf8c76cfdf3221e2    115.0   141.90          1   \n",
       "1          1  0000b849f77a49e4a4ce2b2a4ca5be3f    118.0    27.19          1   \n",
       "2          2  0000f46a3911fa3c0805444483337064    541.0    86.22          1   \n",
       "3          3  0000f6ccb0745a6a4b88665a16c9f078    325.0    43.62          1   \n",
       "4          4  0004aac84e0df4da2b147fca70cf8255    292.0   196.89          1   \n",
       "...      ...                               ...      ...      ...        ...   \n",
       "94394  94394  fffcf5a5ff07b0908bd4e2dbc735a684    451.0  2067.42          1   \n",
       "94395  94395  fffea47cd6d3cc0a88bd621562a9d061    266.0    84.58          1   \n",
       "94396  94396  ffff371b4d645b6ecea244b27531430a    572.0   112.46          1   \n",
       "94397  94397  ffff5962728ec6157033ef9805bacc48    123.0   133.69          1   \n",
       "94398  94398  ffffd2657e2aad2907e67c3e9daecbeb    488.0    71.56          1   \n",
       "\n",
       "       r_score  f_score  m_score    rfm RFM_Fidelity_Level  \n",
       "0            1        2        1  121.0           Champion  \n",
       "1            1        2        3  123.0              Loyal  \n",
       "2            3        2        2  322.0               Lost  \n",
       "3            3        2        2  322.0               Lost  \n",
       "4            2        2        1  221.0              Loyal  \n",
       "...        ...      ...      ...    ...                ...  \n",
       "94394        3        2        1  321.0    Needs attention  \n",
       "94395        2        2        2  222.0      New Customers  \n",
       "94396        3        2        2  322.0               Lost  \n",
       "94397        2        2        1  221.0              Loyal  \n",
       "94398        3        2        2  322.0               Lost  \n",
       "\n",
       "[94399 rows x 10 columns]"
      ]
     },
     "execution_count": 25,
     "metadata": {},
     "output_type": "execute_result"
    }
   ],
   "source": [
    "#Assign fidelity level to each customer\n",
    "\n",
    "fidelity_level = ['Champion','Loyal','New Customers','Needs attention','Lost']\n",
    "score_cuts = pd.qcut(df_rfm.rfm, q=5,labels = fidelity_level)\n",
    "df_rfm['RFM_Fidelity_Level'] = score_cuts.values\n",
    "df_rfm.reset_index()\n",
    "# RFMScores['RFMgroup'].value_counts(ascending=False)\n"
   ]
  },
  {
   "cell_type": "code",
   "execution_count": 40,
   "id": "313a5985",
   "metadata": {},
   "outputs": [
    {
     "data": {
      "text/plain": [
       "222.0    22.068030\n",
       "221.0    17.772434\n",
       "322.0    15.044651\n",
       "122.0    12.078518\n",
       "321.0    11.409019\n",
       "121.0    10.004343\n",
       "223.0     2.169515\n",
       "211.0     1.956589\n",
       "323.0     1.470355\n",
       "123.0     1.326285\n",
       "311.0     1.290268\n",
       "111.0     1.225649\n",
       "212.0     0.869713\n",
       "312.0     0.715050\n",
       "112.0     0.447039\n",
       "213.0     0.075213\n",
       "313.0     0.048729\n",
       "113.0     0.028602\n",
       "Name: rfm, dtype: float64"
      ]
     },
     "execution_count": 40,
     "metadata": {},
     "output_type": "execute_result"
    }
   ],
   "source": [
    "df_rfm['rfm'].value_counts(normalize=True)*100"
   ]
  },
  {
   "cell_type": "code",
   "execution_count": 27,
   "id": "528a30f9",
   "metadata": {},
   "outputs": [
    {
     "data": {
      "text/plain": [
       "Champion           22452\n",
       "New Customers      20832\n",
       "Loyal              20768\n",
       "Lost               15590\n",
       "Needs attention    14757\n",
       "Name: RFM_Fidelity_Level, dtype: int64"
      ]
     },
     "execution_count": 27,
     "metadata": {},
     "output_type": "execute_result"
    }
   ],
   "source": [
    "df_rfm['RFM_Fidelity_Level'].value_counts()"
   ]
  },
  {
   "cell_type": "markdown",
   "id": "1179193a",
   "metadata": {},
   "source": [
    "Now that you have clusters for each category, explain the different buying behaviors"
   ]
  },
  {
   "cell_type": "markdown",
   "id": "35e5c910",
   "metadata": {},
   "source": [
    "# Working with cohorts"
   ]
  },
  {
   "cell_type": "markdown",
   "id": "dfff1220",
   "metadata": {},
   "source": [
    "❓What is a cohort? "
   ]
  },
  {
   "cell_type": "markdown",
   "id": "8d23c8a0",
   "metadata": {},
   "source": [
    "Cohort analysis allows you to ask targeted questions and make informed product decisions that reduce churn and increase revenue."
   ]
  },
  {
   "cell_type": "markdown",
   "id": "52799839",
   "metadata": {},
   "source": [
    "❓Why is it interesting to analyse cohorts ? "
   ]
  },
  {
   "cell_type": "markdown",
   "id": "0052c5db",
   "metadata": {},
   "source": [
    "Cohort analysis is a type of behavioral analytics in which you group your users based on their shared traits to better track and understand their actions."
   ]
  },
  {
   "cell_type": "markdown",
   "id": "6b920111",
   "metadata": {
    "ExecuteTime": {
     "end_time": "2021-10-02T12:45:56.885240Z",
     "start_time": "2021-10-02T12:45:56.851306Z"
    }
   },
   "source": [
    "❓What data (already existing in the original dataset) do we need to build a cohort? "
   ]
  },
  {
   "cell_type": "markdown",
   "id": "cda937f3",
   "metadata": {},
   "source": [
    "order_purchase_timestamp  \n",
    "customer_unique_id  \n",
    "order_id"
   ]
  },
  {
   "cell_type": "markdown",
   "id": "cc8dda95",
   "metadata": {
    "ExecuteTime": {
     "end_time": "2021-10-02T12:49:04.915097Z",
     "start_time": "2021-10-02T12:49:04.910544Z"
    }
   },
   "source": [
    "Build a new df with just these 3 features"
   ]
  },
  {
   "cell_type": "code",
   "execution_count": 28,
   "id": "0cca0c76",
   "metadata": {},
   "outputs": [
    {
     "data": {
      "text/plain": [
       "Unnamed: 0                                int64\n",
       "order_id                                 object\n",
       "customer_id                              object\n",
       "order_status                             object\n",
       "order_purchase_timestamp         datetime64[ns]\n",
       "order_delivered_customer_date            object\n",
       "payment_type                             object\n",
       "payment_installments                    float64\n",
       "payment_value                           float64\n",
       "review_score                              int64\n",
       "customer_unique_id                       object\n",
       "customer_zip_code_prefix                  int64\n",
       "customer_city                            object\n",
       "customer_state                           object\n",
       "product_category_name_english            object\n",
       "recence                                 float64\n",
       "dtype: object"
      ]
     },
     "execution_count": 28,
     "metadata": {},
     "output_type": "execute_result"
    }
   ],
   "source": [
    "df_c = df[['customer_unique_id','order_id','order_purchase_timestamp']]\n",
    "df.dtypes"
   ]
  },
  {
   "cell_type": "code",
   "execution_count": 29,
   "id": "b9301f11",
   "metadata": {},
   "outputs": [
    {
     "name": "stderr",
     "output_type": "stream",
     "text": [
      "<ipython-input-29-02ed7b82304b>:2: SettingWithCopyWarning: \n",
      "A value is trying to be set on a copy of a slice from a DataFrame.\n",
      "Try using .loc[row_indexer,col_indexer] = value instead\n",
      "\n",
      "See the caveats in the documentation: https://pandas.pydata.org/pandas-docs/stable/user_guide/indexing.html#returning-a-view-versus-a-copy\n",
      "  df_c['order_months'] = m.to_period('M')\n"
     ]
    }
   ],
   "source": [
    "m = pd.DatetimeIndex(df_c['order_purchase_timestamp'])\n",
    "df_c['order_months'] = m.to_period('M')"
   ]
  },
  {
   "cell_type": "markdown",
   "id": "51ebf23b",
   "metadata": {},
   "source": [
    "Using the `pandas.Serie.dt.to_period()` methode, create a new feature converting `order_purchase_timestamp` in months"
   ]
  },
  {
   "cell_type": "markdown",
   "id": "453dcc64",
   "metadata": {},
   "source": [
    "Create a new feature called `cohort` by grouping the previous df by `customer_unique_id`, and tranforming it's minimum value in months (with the same `pandas.Serie.dt.to_period()` as before)"
   ]
  },
  {
   "cell_type": "code",
   "execution_count": 30,
   "id": "32dd34d5",
   "metadata": {
    "ExecuteTime": {
     "end_time": "2021-10-03T11:52:19.937302Z",
     "start_time": "2021-10-03T11:52:19.447211Z"
    }
   },
   "outputs": [],
   "source": [
    "# For the teachers, To filter by only the customer that have done 2 or more purchases\n",
    "df_more =pd.DataFrame(df_c.groupby('customer_unique_id').size()[df_c.groupby('customer_unique_id').size() > 1])\n",
    "df_c = df_c.merge(df_more, how='left', on='customer_unique_id').rename(columns={0:'na'})\n",
    "\n",
    "df_c = df_c[df_c['na'].notna()]"
   ]
  },
  {
   "cell_type": "code",
   "execution_count": 31,
   "id": "264aa77d",
   "metadata": {
    "ExecuteTime": {
     "end_time": "2021-10-03T12:08:07.300810Z",
     "start_time": "2021-10-03T12:08:07.081691Z"
    }
   },
   "outputs": [
    {
     "data": {
      "text/html": [
       "<div>\n",
       "<style scoped>\n",
       "    .dataframe tbody tr th:only-of-type {\n",
       "        vertical-align: middle;\n",
       "    }\n",
       "\n",
       "    .dataframe tbody tr th {\n",
       "        vertical-align: top;\n",
       "    }\n",
       "\n",
       "    .dataframe thead th {\n",
       "        text-align: right;\n",
       "    }\n",
       "</style>\n",
       "<table border=\"1\" class=\"dataframe\">\n",
       "  <thead>\n",
       "    <tr style=\"text-align: right;\">\n",
       "      <th></th>\n",
       "      <th>customer_unique_id</th>\n",
       "      <th>order_id</th>\n",
       "      <th>order_purchase_timestamp</th>\n",
       "      <th>order_months</th>\n",
       "      <th>na</th>\n",
       "      <th>cohort</th>\n",
       "    </tr>\n",
       "  </thead>\n",
       "  <tbody>\n",
       "    <tr>\n",
       "      <th>0</th>\n",
       "      <td>7c396fd4830fd04220f754e42b4e5bff</td>\n",
       "      <td>e481f51cbdc54678b7cc49136f2d6af7</td>\n",
       "      <td>2017-10-02 10:56:33</td>\n",
       "      <td>2017-10</td>\n",
       "      <td>4.0</td>\n",
       "      <td>2017-09</td>\n",
       "    </tr>\n",
       "    <tr>\n",
       "      <th>1</th>\n",
       "      <td>7c396fd4830fd04220f754e42b4e5bff</td>\n",
       "      <td>e481f51cbdc54678b7cc49136f2d6af7</td>\n",
       "      <td>2017-10-02 10:56:33</td>\n",
       "      <td>2017-10</td>\n",
       "      <td>4.0</td>\n",
       "      <td>2017-09</td>\n",
       "    </tr>\n",
       "    <tr>\n",
       "      <th>2</th>\n",
       "      <td>7c396fd4830fd04220f754e42b4e5bff</td>\n",
       "      <td>e481f51cbdc54678b7cc49136f2d6af7</td>\n",
       "      <td>2017-10-02 10:56:33</td>\n",
       "      <td>2017-10</td>\n",
       "      <td>4.0</td>\n",
       "      <td>2017-09</td>\n",
       "    </tr>\n",
       "    <tr>\n",
       "      <th>10</th>\n",
       "      <td>299905e3934e9e181bfb2e164dd4b4f8</td>\n",
       "      <td>e69bfb5eb88e0ed6a785585b27e16dbf</td>\n",
       "      <td>2017-07-29 11:55:02</td>\n",
       "      <td>2017-07</td>\n",
       "      <td>2.0</td>\n",
       "      <td>2017-07</td>\n",
       "    </tr>\n",
       "    <tr>\n",
       "      <th>11</th>\n",
       "      <td>299905e3934e9e181bfb2e164dd4b4f8</td>\n",
       "      <td>e69bfb5eb88e0ed6a785585b27e16dbf</td>\n",
       "      <td>2017-07-29 11:55:02</td>\n",
       "      <td>2017-07</td>\n",
       "      <td>2.0</td>\n",
       "      <td>2017-07</td>\n",
       "    </tr>\n",
       "    <tr>\n",
       "      <th>...</th>\n",
       "      <td>...</td>\n",
       "      <td>...</td>\n",
       "      <td>...</td>\n",
       "      <td>...</td>\n",
       "      <td>...</td>\n",
       "      <td>...</td>\n",
       "    </tr>\n",
       "    <tr>\n",
       "      <th>103389</th>\n",
       "      <td>9e4accf95024aa6565ca1efcadb96752</td>\n",
       "      <td>19dba6d1e58b04e7fc820558a38ea398</td>\n",
       "      <td>2018-05-12 13:42:24</td>\n",
       "      <td>2018-05</td>\n",
       "      <td>2.0</td>\n",
       "      <td>2017-09</td>\n",
       "    </tr>\n",
       "    <tr>\n",
       "      <th>103395</th>\n",
       "      <td>c716cf2b5b86fb24257cffe9e7969df8</td>\n",
       "      <td>9115830be804184b91f5c00f6f49f92d</td>\n",
       "      <td>2017-10-04 19:57:37</td>\n",
       "      <td>2017-10</td>\n",
       "      <td>2.0</td>\n",
       "      <td>2017-10</td>\n",
       "    </tr>\n",
       "    <tr>\n",
       "      <th>103396</th>\n",
       "      <td>c716cf2b5b86fb24257cffe9e7969df8</td>\n",
       "      <td>9115830be804184b91f5c00f6f49f92d</td>\n",
       "      <td>2017-10-04 19:57:37</td>\n",
       "      <td>2017-10</td>\n",
       "      <td>2.0</td>\n",
       "      <td>2017-10</td>\n",
       "    </tr>\n",
       "    <tr>\n",
       "      <th>103397</th>\n",
       "      <td>e03dbdf5e56c96b106d8115ac336f47f</td>\n",
       "      <td>aa04ef5214580b06b10e2a378300db44</td>\n",
       "      <td>2017-01-27 00:30:03</td>\n",
       "      <td>2017-01</td>\n",
       "      <td>2.0</td>\n",
       "      <td>2017-01</td>\n",
       "    </tr>\n",
       "    <tr>\n",
       "      <th>103398</th>\n",
       "      <td>e03dbdf5e56c96b106d8115ac336f47f</td>\n",
       "      <td>aa04ef5214580b06b10e2a378300db44</td>\n",
       "      <td>2017-01-27 00:30:03</td>\n",
       "      <td>2017-01</td>\n",
       "      <td>2.0</td>\n",
       "      <td>2017-01</td>\n",
       "    </tr>\n",
       "  </tbody>\n",
       "</table>\n",
       "<p>15290 rows × 6 columns</p>\n",
       "</div>"
      ],
      "text/plain": [
       "                      customer_unique_id                          order_id  \\\n",
       "0       7c396fd4830fd04220f754e42b4e5bff  e481f51cbdc54678b7cc49136f2d6af7   \n",
       "1       7c396fd4830fd04220f754e42b4e5bff  e481f51cbdc54678b7cc49136f2d6af7   \n",
       "2       7c396fd4830fd04220f754e42b4e5bff  e481f51cbdc54678b7cc49136f2d6af7   \n",
       "10      299905e3934e9e181bfb2e164dd4b4f8  e69bfb5eb88e0ed6a785585b27e16dbf   \n",
       "11      299905e3934e9e181bfb2e164dd4b4f8  e69bfb5eb88e0ed6a785585b27e16dbf   \n",
       "...                                  ...                               ...   \n",
       "103389  9e4accf95024aa6565ca1efcadb96752  19dba6d1e58b04e7fc820558a38ea398   \n",
       "103395  c716cf2b5b86fb24257cffe9e7969df8  9115830be804184b91f5c00f6f49f92d   \n",
       "103396  c716cf2b5b86fb24257cffe9e7969df8  9115830be804184b91f5c00f6f49f92d   \n",
       "103397  e03dbdf5e56c96b106d8115ac336f47f  aa04ef5214580b06b10e2a378300db44   \n",
       "103398  e03dbdf5e56c96b106d8115ac336f47f  aa04ef5214580b06b10e2a378300db44   \n",
       "\n",
       "       order_purchase_timestamp order_months   na   cohort  \n",
       "0           2017-10-02 10:56:33      2017-10  4.0  2017-09  \n",
       "1           2017-10-02 10:56:33      2017-10  4.0  2017-09  \n",
       "2           2017-10-02 10:56:33      2017-10  4.0  2017-09  \n",
       "10          2017-07-29 11:55:02      2017-07  2.0  2017-07  \n",
       "11          2017-07-29 11:55:02      2017-07  2.0  2017-07  \n",
       "...                         ...          ...  ...      ...  \n",
       "103389      2018-05-12 13:42:24      2018-05  2.0  2017-09  \n",
       "103395      2017-10-04 19:57:37      2017-10  2.0  2017-10  \n",
       "103396      2017-10-04 19:57:37      2017-10  2.0  2017-10  \n",
       "103397      2017-01-27 00:30:03      2017-01  2.0  2017-01  \n",
       "103398      2017-01-27 00:30:03      2017-01  2.0  2017-01  \n",
       "\n",
       "[15290 rows x 6 columns]"
      ]
     },
     "execution_count": 31,
     "metadata": {},
     "output_type": "execute_result"
    }
   ],
   "source": [
    "df_c['cohort'] = df_c.groupby('customer_unique_id')['order_purchase_timestamp'] \\\n",
    "                 .transform('min') \\\n",
    "                 .dt.to_period('M') \n",
    "df_c"
   ]
  },
  {
   "cell_type": "code",
   "execution_count": 32,
   "id": "64902bd9",
   "metadata": {},
   "outputs": [],
   "source": [
    "df_c = df_c.dropna()"
   ]
  },
  {
   "cell_type": "markdown",
   "id": "f4922f0d",
   "metadata": {},
   "source": [
    "Now groupby `['cohort', 'order_month']` and aggregate by `nunique()` `customer_unique_id`"
   ]
  },
  {
   "cell_type": "markdown",
   "id": "76bcaf82",
   "metadata": {},
   "source": [
    "Finally, create a feature called `['period_number']` where you substract the `cohort` to the `order_month` and get the `'n'` attribute thanks to the `operator.attrgetter` method"
   ]
  },
  {
   "cell_type": "code",
   "execution_count": 33,
   "id": "3bce4fa7",
   "metadata": {},
   "outputs": [
    {
     "data": {
      "text/html": [
       "<div>\n",
       "<style scoped>\n",
       "    .dataframe tbody tr th:only-of-type {\n",
       "        vertical-align: middle;\n",
       "    }\n",
       "\n",
       "    .dataframe tbody tr th {\n",
       "        vertical-align: top;\n",
       "    }\n",
       "\n",
       "    .dataframe thead th {\n",
       "        text-align: right;\n",
       "    }\n",
       "</style>\n",
       "<table border=\"1\" class=\"dataframe\">\n",
       "  <thead>\n",
       "    <tr style=\"text-align: right;\">\n",
       "      <th></th>\n",
       "      <th>cohort</th>\n",
       "      <th>order_months</th>\n",
       "      <th>n_customers</th>\n",
       "      <th>period_number</th>\n",
       "    </tr>\n",
       "  </thead>\n",
       "  <tbody>\n",
       "    <tr>\n",
       "      <th>0</th>\n",
       "      <td>2016-10</td>\n",
       "      <td>2016-10</td>\n",
       "      <td>24</td>\n",
       "      <td>1.0</td>\n",
       "    </tr>\n",
       "    <tr>\n",
       "      <th>1</th>\n",
       "      <td>2016-10</td>\n",
       "      <td>2017-04</td>\n",
       "      <td>1</td>\n",
       "      <td>1.0</td>\n",
       "    </tr>\n",
       "    <tr>\n",
       "      <th>2</th>\n",
       "      <td>2016-10</td>\n",
       "      <td>2017-07</td>\n",
       "      <td>1</td>\n",
       "      <td>1.0</td>\n",
       "    </tr>\n",
       "    <tr>\n",
       "      <th>3</th>\n",
       "      <td>2016-10</td>\n",
       "      <td>2017-09</td>\n",
       "      <td>1</td>\n",
       "      <td>NaN</td>\n",
       "    </tr>\n",
       "    <tr>\n",
       "      <th>4</th>\n",
       "      <td>2016-10</td>\n",
       "      <td>2017-11</td>\n",
       "      <td>1</td>\n",
       "      <td>NaN</td>\n",
       "    </tr>\n",
       "    <tr>\n",
       "      <th>...</th>\n",
       "      <td>...</td>\n",
       "      <td>...</td>\n",
       "      <td>...</td>\n",
       "      <td>...</td>\n",
       "    </tr>\n",
       "    <tr>\n",
       "      <th>214</th>\n",
       "      <td>2018-06</td>\n",
       "      <td>2018-08</td>\n",
       "      <td>16</td>\n",
       "      <td>NaN</td>\n",
       "    </tr>\n",
       "    <tr>\n",
       "      <th>215</th>\n",
       "      <td>2018-07</td>\n",
       "      <td>2018-07</td>\n",
       "      <td>295</td>\n",
       "      <td>NaN</td>\n",
       "    </tr>\n",
       "    <tr>\n",
       "      <th>216</th>\n",
       "      <td>2018-07</td>\n",
       "      <td>2018-08</td>\n",
       "      <td>31</td>\n",
       "      <td>NaN</td>\n",
       "    </tr>\n",
       "    <tr>\n",
       "      <th>217</th>\n",
       "      <td>2018-08</td>\n",
       "      <td>2018-08</td>\n",
       "      <td>229</td>\n",
       "      <td>NaN</td>\n",
       "    </tr>\n",
       "    <tr>\n",
       "      <th>218</th>\n",
       "      <td>2018-08</td>\n",
       "      <td>2018-09</td>\n",
       "      <td>1</td>\n",
       "      <td>NaN</td>\n",
       "    </tr>\n",
       "  </tbody>\n",
       "</table>\n",
       "<p>219 rows × 4 columns</p>\n",
       "</div>"
      ],
      "text/plain": [
       "      cohort order_months  n_customers  period_number\n",
       "0    2016-10      2016-10           24            1.0\n",
       "1    2016-10      2017-04            1            1.0\n",
       "2    2016-10      2017-07            1            1.0\n",
       "3    2016-10      2017-09            1            NaN\n",
       "4    2016-10      2017-11            1            NaN\n",
       "..       ...          ...          ...            ...\n",
       "214  2018-06      2018-08           16            NaN\n",
       "215  2018-07      2018-07          295            NaN\n",
       "216  2018-07      2018-08           31            NaN\n",
       "217  2018-08      2018-08          229            NaN\n",
       "218  2018-08      2018-09            1            NaN\n",
       "\n",
       "[219 rows x 4 columns]"
      ]
     },
     "execution_count": 33,
     "metadata": {},
     "output_type": "execute_result"
    }
   ],
   "source": [
    "df_cohort = df_c.groupby(['cohort', 'order_months']) \\\n",
    "              .agg(n_customers=('customer_unique_id', 'nunique')) \\\n",
    "              .reset_index(drop=False)\n",
    "\n",
    "df_cohort['period_number'] = (df_c.order_months - df_c.cohort).apply(attrgetter('n'))\n",
    "df_cohort"
   ]
  },
  {
   "cell_type": "markdown",
   "id": "cd9c4c0a",
   "metadata": {
    "ExecuteTime": {
     "end_time": "2021-10-03T13:45:27.180256Z",
     "start_time": "2021-10-03T13:45:27.158955Z"
    }
   },
   "source": [
    "Explore a cohort (for example 2017-01) and try to understand what it shows"
   ]
  },
  {
   "cell_type": "code",
   "execution_count": 34,
   "id": "0637ec31",
   "metadata": {},
   "outputs": [
    {
     "data": {
      "text/html": [
       "<div>\n",
       "<style scoped>\n",
       "    .dataframe tbody tr th:only-of-type {\n",
       "        vertical-align: middle;\n",
       "    }\n",
       "\n",
       "    .dataframe tbody tr th {\n",
       "        vertical-align: top;\n",
       "    }\n",
       "\n",
       "    .dataframe thead th {\n",
       "        text-align: right;\n",
       "    }\n",
       "</style>\n",
       "<table border=\"1\" class=\"dataframe\">\n",
       "  <thead>\n",
       "    <tr style=\"text-align: right;\">\n",
       "      <th></th>\n",
       "      <th>cohort</th>\n",
       "      <th>order_months</th>\n",
       "      <th>n_customers</th>\n",
       "      <th>period_number</th>\n",
       "    </tr>\n",
       "  </thead>\n",
       "  <tbody>\n",
       "    <tr>\n",
       "      <th>11</th>\n",
       "      <td>2017-01</td>\n",
       "      <td>2017-01</td>\n",
       "      <td>77</td>\n",
       "      <td>0.0</td>\n",
       "    </tr>\n",
       "    <tr>\n",
       "      <th>12</th>\n",
       "      <td>2017-01</td>\n",
       "      <td>2017-02</td>\n",
       "      <td>3</td>\n",
       "      <td>NaN</td>\n",
       "    </tr>\n",
       "    <tr>\n",
       "      <th>13</th>\n",
       "      <td>2017-01</td>\n",
       "      <td>2017-03</td>\n",
       "      <td>2</td>\n",
       "      <td>NaN</td>\n",
       "    </tr>\n",
       "    <tr>\n",
       "      <th>14</th>\n",
       "      <td>2017-01</td>\n",
       "      <td>2017-04</td>\n",
       "      <td>1</td>\n",
       "      <td>NaN</td>\n",
       "    </tr>\n",
       "    <tr>\n",
       "      <th>15</th>\n",
       "      <td>2017-01</td>\n",
       "      <td>2017-05</td>\n",
       "      <td>3</td>\n",
       "      <td>NaN</td>\n",
       "    </tr>\n",
       "    <tr>\n",
       "      <th>16</th>\n",
       "      <td>2017-01</td>\n",
       "      <td>2017-06</td>\n",
       "      <td>1</td>\n",
       "      <td>NaN</td>\n",
       "    </tr>\n",
       "    <tr>\n",
       "      <th>17</th>\n",
       "      <td>2017-01</td>\n",
       "      <td>2017-07</td>\n",
       "      <td>3</td>\n",
       "      <td>20.0</td>\n",
       "    </tr>\n",
       "    <tr>\n",
       "      <th>18</th>\n",
       "      <td>2017-01</td>\n",
       "      <td>2017-08</td>\n",
       "      <td>1</td>\n",
       "      <td>6.0</td>\n",
       "    </tr>\n",
       "    <tr>\n",
       "      <th>19</th>\n",
       "      <td>2017-01</td>\n",
       "      <td>2017-09</td>\n",
       "      <td>1</td>\n",
       "      <td>NaN</td>\n",
       "    </tr>\n",
       "    <tr>\n",
       "      <th>20</th>\n",
       "      <td>2017-01</td>\n",
       "      <td>2017-11</td>\n",
       "      <td>3</td>\n",
       "      <td>NaN</td>\n",
       "    </tr>\n",
       "    <tr>\n",
       "      <th>21</th>\n",
       "      <td>2017-01</td>\n",
       "      <td>2017-12</td>\n",
       "      <td>1</td>\n",
       "      <td>0.0</td>\n",
       "    </tr>\n",
       "    <tr>\n",
       "      <th>22</th>\n",
       "      <td>2017-01</td>\n",
       "      <td>2018-01</td>\n",
       "      <td>5</td>\n",
       "      <td>0.0</td>\n",
       "    </tr>\n",
       "    <tr>\n",
       "      <th>23</th>\n",
       "      <td>2017-01</td>\n",
       "      <td>2018-02</td>\n",
       "      <td>3</td>\n",
       "      <td>0.0</td>\n",
       "    </tr>\n",
       "    <tr>\n",
       "      <th>24</th>\n",
       "      <td>2017-01</td>\n",
       "      <td>2018-03</td>\n",
       "      <td>1</td>\n",
       "      <td>NaN</td>\n",
       "    </tr>\n",
       "    <tr>\n",
       "      <th>25</th>\n",
       "      <td>2017-01</td>\n",
       "      <td>2018-04</td>\n",
       "      <td>1</td>\n",
       "      <td>NaN</td>\n",
       "    </tr>\n",
       "    <tr>\n",
       "      <th>26</th>\n",
       "      <td>2017-01</td>\n",
       "      <td>2018-05</td>\n",
       "      <td>2</td>\n",
       "      <td>NaN</td>\n",
       "    </tr>\n",
       "    <tr>\n",
       "      <th>27</th>\n",
       "      <td>2017-01</td>\n",
       "      <td>2018-06</td>\n",
       "      <td>3</td>\n",
       "      <td>NaN</td>\n",
       "    </tr>\n",
       "    <tr>\n",
       "      <th>28</th>\n",
       "      <td>2017-01</td>\n",
       "      <td>2018-08</td>\n",
       "      <td>1</td>\n",
       "      <td>NaN</td>\n",
       "    </tr>\n",
       "  </tbody>\n",
       "</table>\n",
       "</div>"
      ],
      "text/plain": [
       "     cohort order_months  n_customers  period_number\n",
       "11  2017-01      2017-01           77            0.0\n",
       "12  2017-01      2017-02            3            NaN\n",
       "13  2017-01      2017-03            2            NaN\n",
       "14  2017-01      2017-04            1            NaN\n",
       "15  2017-01      2017-05            3            NaN\n",
       "16  2017-01      2017-06            1            NaN\n",
       "17  2017-01      2017-07            3           20.0\n",
       "18  2017-01      2017-08            1            6.0\n",
       "19  2017-01      2017-09            1            NaN\n",
       "20  2017-01      2017-11            3            NaN\n",
       "21  2017-01      2017-12            1            0.0\n",
       "22  2017-01      2018-01            5            0.0\n",
       "23  2017-01      2018-02            3            0.0\n",
       "24  2017-01      2018-03            1            NaN\n",
       "25  2017-01      2018-04            1            NaN\n",
       "26  2017-01      2018-05            2            NaN\n",
       "27  2017-01      2018-06            3            NaN\n",
       "28  2017-01      2018-08            1            NaN"
      ]
     },
     "execution_count": 34,
     "metadata": {},
     "output_type": "execute_result"
    }
   ],
   "source": [
    "df_cohort[df_cohort['cohort'] == '2017-01']"
   ]
  },
  {
   "cell_type": "markdown",
   "id": "fec1e6e7",
   "metadata": {},
   "source": [
    "Pivot the DataFrame using the methode : `DataFrame.pivot_table` (hint : use `'cohort'` as `index`, `'period_number'` as columns, and `'n_customers'` as `values`)"
   ]
  },
  {
   "cell_type": "code",
   "execution_count": 35,
   "id": "d273c874",
   "metadata": {},
   "outputs": [],
   "source": [
    "df_pivot = df_cohort.pivot_table(index='cohort',values='n_customers',columns='period_number')"
   ]
  },
  {
   "cell_type": "markdown",
   "id": "fdf4935b",
   "metadata": {},
   "source": [
    "Now divide all the values (except your column 0) by the column 0 and name this new DataFrame `retention_matrix`"
   ]
  },
  {
   "cell_type": "code",
   "execution_count": 36,
   "id": "940f0007",
   "metadata": {},
   "outputs": [
    {
     "data": {
      "text/html": [
       "<div>\n",
       "<style scoped>\n",
       "    .dataframe tbody tr th:only-of-type {\n",
       "        vertical-align: middle;\n",
       "    }\n",
       "\n",
       "    .dataframe tbody tr th {\n",
       "        vertical-align: top;\n",
       "    }\n",
       "\n",
       "    .dataframe thead th {\n",
       "        text-align: right;\n",
       "    }\n",
       "</style>\n",
       "<table border=\"1\" class=\"dataframe\">\n",
       "  <thead>\n",
       "    <tr style=\"text-align: right;\">\n",
       "      <th>period_number</th>\n",
       "      <th>0.0</th>\n",
       "      <th>1.0</th>\n",
       "      <th>5.0</th>\n",
       "      <th>6.0</th>\n",
       "      <th>20.0</th>\n",
       "    </tr>\n",
       "    <tr>\n",
       "      <th>cohort</th>\n",
       "      <th></th>\n",
       "      <th></th>\n",
       "      <th></th>\n",
       "      <th></th>\n",
       "      <th></th>\n",
       "    </tr>\n",
       "  </thead>\n",
       "  <tbody>\n",
       "    <tr>\n",
       "      <th>2016-10</th>\n",
       "      <td>NaN</td>\n",
       "      <td>NaN</td>\n",
       "      <td>NaN</td>\n",
       "      <td>NaN</td>\n",
       "      <td>NaN</td>\n",
       "    </tr>\n",
       "    <tr>\n",
       "      <th>2016-12</th>\n",
       "      <td>1.0</td>\n",
       "      <td>NaN</td>\n",
       "      <td>NaN</td>\n",
       "      <td>NaN</td>\n",
       "      <td>NaN</td>\n",
       "    </tr>\n",
       "    <tr>\n",
       "      <th>2017-01</th>\n",
       "      <td>1.0</td>\n",
       "      <td>NaN</td>\n",
       "      <td>NaN</td>\n",
       "      <td>0.046512</td>\n",
       "      <td>0.139535</td>\n",
       "    </tr>\n",
       "    <tr>\n",
       "      <th>2017-03</th>\n",
       "      <td>1.0</td>\n",
       "      <td>NaN</td>\n",
       "      <td>NaN</td>\n",
       "      <td>NaN</td>\n",
       "      <td>NaN</td>\n",
       "    </tr>\n",
       "    <tr>\n",
       "      <th>2017-04</th>\n",
       "      <td>1.0</td>\n",
       "      <td>0.181818</td>\n",
       "      <td>NaN</td>\n",
       "      <td>NaN</td>\n",
       "      <td>NaN</td>\n",
       "    </tr>\n",
       "    <tr>\n",
       "      <th>2017-05</th>\n",
       "      <td>1.0</td>\n",
       "      <td>NaN</td>\n",
       "      <td>NaN</td>\n",
       "      <td>NaN</td>\n",
       "      <td>NaN</td>\n",
       "    </tr>\n",
       "    <tr>\n",
       "      <th>2017-06</th>\n",
       "      <td>1.0</td>\n",
       "      <td>NaN</td>\n",
       "      <td>NaN</td>\n",
       "      <td>NaN</td>\n",
       "      <td>NaN</td>\n",
       "    </tr>\n",
       "    <tr>\n",
       "      <th>2017-07</th>\n",
       "      <td>1.0</td>\n",
       "      <td>NaN</td>\n",
       "      <td>NaN</td>\n",
       "      <td>NaN</td>\n",
       "      <td>NaN</td>\n",
       "    </tr>\n",
       "    <tr>\n",
       "      <th>2017-08</th>\n",
       "      <td>1.0</td>\n",
       "      <td>NaN</td>\n",
       "      <td>NaN</td>\n",
       "      <td>NaN</td>\n",
       "      <td>NaN</td>\n",
       "    </tr>\n",
       "    <tr>\n",
       "      <th>2017-09</th>\n",
       "      <td>1.0</td>\n",
       "      <td>NaN</td>\n",
       "      <td>NaN</td>\n",
       "      <td>NaN</td>\n",
       "      <td>NaN</td>\n",
       "    </tr>\n",
       "    <tr>\n",
       "      <th>2017-10</th>\n",
       "      <td>NaN</td>\n",
       "      <td>NaN</td>\n",
       "      <td>NaN</td>\n",
       "      <td>NaN</td>\n",
       "      <td>NaN</td>\n",
       "    </tr>\n",
       "    <tr>\n",
       "      <th>2017-11</th>\n",
       "      <td>1.0</td>\n",
       "      <td>NaN</td>\n",
       "      <td>NaN</td>\n",
       "      <td>NaN</td>\n",
       "      <td>NaN</td>\n",
       "    </tr>\n",
       "    <tr>\n",
       "      <th>2017-12</th>\n",
       "      <td>1.0</td>\n",
       "      <td>NaN</td>\n",
       "      <td>NaN</td>\n",
       "      <td>NaN</td>\n",
       "      <td>NaN</td>\n",
       "    </tr>\n",
       "    <tr>\n",
       "      <th>2018-01</th>\n",
       "      <td>1.0</td>\n",
       "      <td>NaN</td>\n",
       "      <td>NaN</td>\n",
       "      <td>NaN</td>\n",
       "      <td>NaN</td>\n",
       "    </tr>\n",
       "    <tr>\n",
       "      <th>2018-02</th>\n",
       "      <td>NaN</td>\n",
       "      <td>NaN</td>\n",
       "      <td>NaN</td>\n",
       "      <td>NaN</td>\n",
       "      <td>NaN</td>\n",
       "    </tr>\n",
       "    <tr>\n",
       "      <th>2018-03</th>\n",
       "      <td>1.0</td>\n",
       "      <td>NaN</td>\n",
       "      <td>NaN</td>\n",
       "      <td>NaN</td>\n",
       "      <td>NaN</td>\n",
       "    </tr>\n",
       "    <tr>\n",
       "      <th>2018-04</th>\n",
       "      <td>1.0</td>\n",
       "      <td>NaN</td>\n",
       "      <td>NaN</td>\n",
       "      <td>NaN</td>\n",
       "      <td>NaN</td>\n",
       "    </tr>\n",
       "    <tr>\n",
       "      <th>2018-05</th>\n",
       "      <td>1.0</td>\n",
       "      <td>NaN</td>\n",
       "      <td>NaN</td>\n",
       "      <td>NaN</td>\n",
       "      <td>NaN</td>\n",
       "    </tr>\n",
       "  </tbody>\n",
       "</table>\n",
       "</div>"
      ],
      "text/plain": [
       "period_number  0.0       1.0   5.0       6.0       20.0\n",
       "cohort                                                 \n",
       "2016-10         NaN       NaN   NaN       NaN       NaN\n",
       "2016-12         1.0       NaN   NaN       NaN       NaN\n",
       "2017-01         1.0       NaN   NaN  0.046512  0.139535\n",
       "2017-03         1.0       NaN   NaN       NaN       NaN\n",
       "2017-04         1.0  0.181818   NaN       NaN       NaN\n",
       "2017-05         1.0       NaN   NaN       NaN       NaN\n",
       "2017-06         1.0       NaN   NaN       NaN       NaN\n",
       "2017-07         1.0       NaN   NaN       NaN       NaN\n",
       "2017-08         1.0       NaN   NaN       NaN       NaN\n",
       "2017-09         1.0       NaN   NaN       NaN       NaN\n",
       "2017-10         NaN       NaN   NaN       NaN       NaN\n",
       "2017-11         1.0       NaN   NaN       NaN       NaN\n",
       "2017-12         1.0       NaN   NaN       NaN       NaN\n",
       "2018-01         1.0       NaN   NaN       NaN       NaN\n",
       "2018-02         NaN       NaN   NaN       NaN       NaN\n",
       "2018-03         1.0       NaN   NaN       NaN       NaN\n",
       "2018-04         1.0       NaN   NaN       NaN       NaN\n",
       "2018-05         1.0       NaN   NaN       NaN       NaN"
      ]
     },
     "execution_count": 36,
     "metadata": {},
     "output_type": "execute_result"
    }
   ],
   "source": [
    "cohort_size = df_pivot.iloc[:,0]\n",
    "retention_matrix = df_pivot.divide(cohort_size, axis = 0)\n",
    "retention_matrix"
   ]
  },
  {
   "cell_type": "markdown",
   "id": "cb7a4322",
   "metadata": {},
   "source": [
    "Plot your `retention matrix` using the code below : "
   ]
  },
  {
   "cell_type": "code",
   "execution_count": 37,
   "id": "d8607a36",
   "metadata": {
    "ExecuteTime": {
     "end_time": "2021-10-03T11:53:03.187978Z",
     "start_time": "2021-10-03T11:53:00.110548Z"
    },
    "scrolled": false
   },
   "outputs": [
    {
     "data": {
      "image/png": "[encoded data removed]",
      "text/plain": [
       "<Figure size 864x576 with 3 Axes>"
      ]
     },
     "metadata": {},
     "output_type": "display_data"
    }
   ],
   "source": [
    "\n",
    "with sns.axes_style(\"white\"):\n",
    "    fig, ax = plt.subplots(1, 2, figsize=(12, 8), sharey=True, gridspec_kw={'width_ratios': [1, 11]})\n",
    "    \n",
    "    # retention matrix\n",
    "    sns.heatmap(retention_matrix, \n",
    "                mask=retention_matrix.isnull(), \n",
    "                annot=True, \n",
    "                fmt='.0%', \n",
    "                cmap='RdYlGn', \n",
    "                ax=ax[1])\n",
    "    ax[1].set_title('Monthly Cohorts: User Retention', fontsize=16)\n",
    "    ax[1].set(xlabel='# of periods',\n",
    "              ylabel='')\n",
    "\n",
    "    # cohort size\n",
    "    cohort_size_df = pd.DataFrame(cohort_size).rename(columns={0: 'cohort_size'})\n",
    "    white_cmap = mcolors.ListedColormap(['white'])\n",
    "    sns.heatmap(cohort_size_df, \n",
    "                annot=True, \n",
    "                cbar=False, \n",
    "                fmt='g', \n",
    "                cmap=white_cmap, \n",
    "                ax=ax[0])\n",
    "\n",
    "    fig.tight_layout()\n"
   ]
  },
  {
   "cell_type": "markdown",
   "id": "f84e2c4d",
   "metadata": {},
   "source": [
    "What do you notice? "
   ]
  },
  {
   "cell_type": "markdown",
   "id": "095d8e9e",
   "metadata": {},
   "source": [
    "They buy just once "
   ]
  },
  {
   "cell_type": "markdown",
   "id": "f3bc8b49",
   "metadata": {},
   "source": [
    "How could we have know that before? (hint : Calculate the percentage of customers who have ordered more than once)"
   ]
  },
  {
   "cell_type": "code",
   "execution_count": null,
   "id": "2b0bd39f",
   "metadata": {},
   "outputs": [],
   "source": []
  },
  {
   "cell_type": "markdown",
   "id": "a3111dcd",
   "metadata": {},
   "source": [
    "Here is the code for the analysis of customers who have bought more than once : "
   ]
  },
  {
   "cell_type": "code",
   "execution_count": 38,
   "id": "df3d4035",
   "metadata": {
    "ExecuteTime": {
     "end_time": "2021-10-03T14:08:57.428123Z",
     "start_time": "2021-10-03T14:08:54.180728Z"
    },
    "code_folding": []
   },
   "outputs": [
    {
     "data": {
      "image/png": "[encoded data removed]",
      "text/plain": [
       "<Figure size 864x576 with 3 Axes>"
      ]
     },
     "metadata": {},
     "output_type": "display_data"
    }
   ],
   "source": [
    "#start from your df created doing the RFM segmentation\n",
    "df_c = df[['customer_unique_id', 'order_id',\n",
    "           'order_purchase_timestamp']].drop_duplicates()\n",
    "\n",
    "df_c['order_month'] = df_c['order_purchase_timestamp'].dt.to_period('M')\n",
    "\n",
    "df_more = pd.DataFrame(df_c.groupby('customer_unique_id').size()[\n",
    "                       df_c.groupby('customer_unique_id').size() > 1])\n",
    "\n",
    "df_c = df_c.merge(df_more, how='left', on='customer_unique_id').rename(\n",
    "    columns={0: 'na'})\n",
    "\n",
    "df_c = df_c[df_c['na'].notna()]\n",
    "df_c['cohort'] = df_c.groupby('customer_unique_id')['order_purchase_timestamp'] \\\n",
    "    .transform('min') \\\n",
    "    .dt.to_period('M')\n",
    "\n",
    "df_cohort = df_c.groupby(['cohort', 'order_month']) \\\n",
    "    .agg(n_customers=('customer_unique_id', 'nunique')) \\\n",
    "    .reset_index(drop=False)\n",
    "df_cohort['period_number'] = (\n",
    "    df_cohort.order_month - df_cohort.cohort).apply(attrgetter('n'))\n",
    "cohort_pivot = df_cohort.pivot_table(index='cohort',\n",
    "                                     columns='period_number',\n",
    "                                     values='n_customers')\n",
    "cohort_size = cohort_pivot.iloc[:, 0]\n",
    "retention_matrix = cohort_pivot.divide(cohort_size, axis=0)\n",
    "\n",
    "with sns.axes_style(\"white\"):\n",
    "    fig, ax = plt.subplots(1, 2, figsize=(12, 8), sharey=True, gridspec_kw={\n",
    "                           'width_ratios': [1, 11]})\n",
    "\n",
    "    # retention matrix\n",
    "    sns.heatmap(retention_matrix,\n",
    "                mask=retention_matrix.isnull(),\n",
    "                annot=True,\n",
    "                fmt='.0%',\n",
    "                cmap='RdYlGn',\n",
    "                ax=ax[1])\n",
    "    ax[1].set_title('Monthly Cohorts: User Retention', fontsize=16)\n",
    "    ax[1].set(xlabel='# of periods',\n",
    "              ylabel='')\n",
    "\n",
    "    # cohort size\n",
    "    cohort_size_df = pd.DataFrame(cohort_size).rename(\n",
    "        columns={0: 'cohort_size'})\n",
    "    white_cmap = mcolors.ListedColormap(['white'])\n",
    "    sns.heatmap(cohort_size_df,\n",
    "                annot=True,\n",
    "                cbar=False,\n",
    "                fmt='g',\n",
    "                cmap=white_cmap,\n",
    "                ax=ax[0])\n",
    "\n",
    "    fig.tight_layout()"
   ]
  },
  {
   "cell_type": "code",
   "execution_count": null,
   "id": "daae3e6e",
   "metadata": {},
   "outputs": [],
   "source": []
  }
 ],
 "metadata": {
  "hide_input": false,
  "kernelspec": {
   "display_name": "Python 3",
   "language": "python",
   "name": "python3"
  },
  "language_info": {
   "codemirror_mode": {
    "name": "ipython",
    "version": 3
   },
   "file_extension": ".py",
   "mimetype": "text/x-python",
   "name": "python",
   "nbconvert_exporter": "python",
   "pygments_lexer": "ipython3",
   "version": "3.8.8"
  },
  "toc": {
   "base_numbering": 1,
   "nav_menu": {},
   "number_sections": true,
   "sideBar": true,
   "skip_h1_title": false,
   "title_cell": "Table of Contents",
   "title_sidebar": "Contents",
   "toc_cell": false,
   "toc_position": {},
   "toc_section_display": true,
   "toc_window_display": false
  },
  "varInspector": {
   "cols": {
    "lenName": 16,
    "lenType": 16,
    "lenVar": 40
   },
   "kernels_config": {
    "python": {
     "delete_cmd_postfix": "",
     "delete_cmd_prefix": "del ",
     "library": "var_list.py",
     "varRefreshCmd": "print(var_dic_list())"
    },
    "r": {
     "delete_cmd_postfix": ") ",
     "delete_cmd_prefix": "rm(",
     "library": "var_list.r",
     "varRefreshCmd": "cat(var_dic_list()) "
    }
   },
   "types_to_exclude": [
    "module",
    "function",
    "builtin_function_or_method",
    "instance",
    "_Feature"
   ],
   "window_display": false
  }
 },
 "nbformat": 4,
 "nbformat_minor": 5
}
